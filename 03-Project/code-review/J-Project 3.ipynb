{
 "cells": [
  {
   "cell_type": "markdown",
   "metadata": {
    "focus": false,
    "id": "69b9a648-bcc7-490d-9f9b-ea244d156bd6"
   },
   "source": [
    "# Web Scraping for Indeed.com & Predicting Salaries"
   ]
  },
  {
   "cell_type": "markdown",
   "metadata": {
    "focus": false,
    "id": "34681254-c802-462f-829d-8894d0772d08"
   },
   "source": [
    "In this project, we will practice two major skills: collecting data by scraping a website and then building a binary classifier.\n",
    "\n",
    "We are going to collect salary information on data science jobs in a variety of markets. Then using the location, title and summary of the job we will attempt to predict the salary of the job. For job posting sites, this would be extraordinarily useful. While most listings DO NOT come with salary information (as you will see in this exercise), being to able extrapolate or predict the expected salaries from other listings can help guide negotiations.\n",
    "\n",
    "Normally, we could use regression for this task; however, we will convert this problem into classification and use a random forest regressor, as well as another classifier of your choice; either logistic regression, SVM, or KNN. \n",
    "\n",
    "- **Question**: Why would we want this to be a classification problem?\n",
    "- **Answer**: While more precision may be better, there is a fair amount of natural variance in job salaries - predicting a range be may be useful.\n",
    "\n",
    "Therefore, the first part of the assignment will be focused on scraping Indeed.com. In the second, we'll focus on using listings with salary information to build a model and predict additional salaries."
   ]
  },
  {
   "cell_type": "markdown",
   "metadata": {
    "focus": false,
    "id": "a948d79c-5527-4c0d-ab23-f5d43ce72056"
   },
   "source": [
    "### Scraping job listings from Indeed.com"
   ]
  },
  {
   "cell_type": "markdown",
   "metadata": {
    "focus": true,
    "id": "7203e0c9-e437-4802-a6ad-7dc464f94436"
   },
   "source": [
    "We will be scraping job listings from Indeed.com using BeautifulSoup. Luckily, Indeed.com is a simple text page where we can easily find relevant entries.\n",
    "\n",
    "First, look at the source of an Indeed.com page: (http://www.indeed.com/jobs?q=data+scientist+%2420%2C000&l=New+York&start=10\")\n",
    "\n",
    "Notice, each job listing is underneath a `div` tag with a class name of `result`. We can use BeautifulSoup to extract those. "
   ]
  },
  {
   "cell_type": "markdown",
   "metadata": {},
   "source": [
    "#### Setup a request (using requests) to the URL below. Use BeautifulSoup to parse the page and extract all results (HINT: Look for div tags with class name result)\n",
    "The URL here has many query parameters\n",
    "- q for the job search\n",
    "- This is followed by \"+20,000\" to return results with salaries (or expected salaries >$20,000)\n",
    "- l for a location\n",
    "- start for what result number to start on"
   ]
  },
  {
   "cell_type": "code",
   "execution_count": 2,
   "metadata": {
    "collapsed": true
   },
   "outputs": [],
   "source": [
    "URL = \"http://www.indeed.com/jobs?q=data+scientist+%2420%2C000&l=New+York&start=20\"\n"
   ]
  },
  {
   "cell_type": "code",
   "execution_count": 3,
   "metadata": {
    "collapsed": true
   },
   "outputs": [],
   "source": [
    "import requests\n",
    "import bs4\n",
    "from bs4 import BeautifulSoup\n",
    "import urllib"
   ]
  },
  {
   "cell_type": "code",
   "execution_count": 4,
   "metadata": {
    "collapsed": false
   },
   "outputs": [],
   "source": [
    "html = urllib.urlopen(URL).read()\n",
    "\n",
    "indeed = BeautifulSoup(html, 'html.parser', from_encoding=\"utf-8\")"
   ]
  },
  {
   "cell_type": "code",
   "execution_count": 26,
   "metadata": {
    "collapsed": false
   },
   "outputs": [],
   "source": [
    "URL2 = \"http://www.indeed.com/jobs?q=data+scientist+%2420%2C000&l=Chicago\"\n",
    "\n",
    "html2 = urllib.urlopen(URL2).read()\n",
    "\n",
    "indeed2 = BeautifulSoup(html2, 'html.parser', from_encoding=\"utf-8\")"
   ]
  },
  {
   "cell_type": "code",
   "execution_count": 153,
   "metadata": {
    "collapsed": true
   },
   "outputs": [],
   "source": [
    "\n",
    "URL3 = 'http://www.indeed.com/jobs?q=data+scientist+%2420%2C000&l=Washington%2C+DC&start=0'\n",
    "\n",
    "html3 = urllib.urlopen(URL3).read()\n",
    "\n",
    "indeed3 = BeautifulSoup(html3, 'html.parser', from_encoding=\"utf-8\")"
   ]
  },
  {
   "cell_type": "code",
   "execution_count": 43,
   "metadata": {
    "collapsed": false
   },
   "outputs": [],
   "source": [
    "import pandas as pd\n",
    "#import pandas as pd\n",
    "df = pd.DataFrame(columns=[\"title\",\"location\",\"company\",\"salary\"])"
   ]
  },
  {
   "cell_type": "code",
   "execution_count": 134,
   "metadata": {
    "collapsed": true
   },
   "outputs": [],
   "source": [
    "df4 = pd.DataFrame(columns=[\"title\",\"location\",\"company\",\"salary\"])"
   ]
  },
  {
   "cell_type": "code",
   "execution_count": 44,
   "metadata": {
    "collapsed": false
   },
   "outputs": [],
   "source": [
    "for entry in indeed2.find_all(name = 'div', attrs = {'class':' row result'}):\n",
    "    location = entry.find(name='span',attrs = {'class':'location'}).text\n",
    "    company = entry.find(name='span',attrs = {'class':'company'}).text\n",
    "    title = entry.find(name='h2', attrs = {'class':'jobtitle'}).text\n",
    "    try:\n",
    "        salary = entry.find(name='td', attrs = {'class':'snip'}).find('nobr').renderContents()\n",
    "    except:\n",
    "        salary = 'NA'\n",
    "    #print entry\n",
    "    df.loc[len(df)]=[title, location, company, salary]"
   ]
  },
  {
   "cell_type": "code",
   "execution_count": 94,
   "metadata": {
    "collapsed": true
   },
   "outputs": [],
   "source": [
    "for entry in indeed3.find_all(name = 'div', attrs = {'class':' row result'}):\n",
    "    location = entry.find(name='span',attrs = {'class':'location'}).text\n",
    "    company = entry.find(name='span',attrs = {'class':'company'}).text\n",
    "    title = entry.find(name='h2', attrs = {'class':'jobtitle'}).text\n",
    "    try:        \n",
    "        salary = entry.find(name='td', attrs = {'class':'snip'}).find('nobr').renderContents()\n",
    "    except:\n",
    "        salary = 'NA'\n",
    "    #print entry\n",
    "    df.loc[len(df)]=[title, location, company, salary]\n",
    "    "
   ]
  },
  {
   "cell_type": "code",
   "execution_count": 113,
   "metadata": {
    "collapsed": true
   },
   "outputs": [],
   "source": [
    "df2 = pd.DataFrame(columns=[\"title\",\"location\",\"company\",\"salary\"])"
   ]
  },
  {
   "cell_type": "code",
   "execution_count": 187,
   "metadata": {
    "collapsed": false
   },
   "outputs": [],
   "source": [
    "df2['title'] = df2.title.str.replace(\"\\n\",\"\")"
   ]
  },
  {
   "cell_type": "code",
   "execution_count": 381,
   "metadata": {
    "collapsed": false
   },
   "outputs": [],
   "source": [
    "#defining a function to grab the elements from the scaper (british version). \n",
    "dfbritish = pd.DataFrame(columns=[\"title\",\"location\",\"company\",\"salary\"])\n",
    "\n",
    "def find_all_british(soup_obj):\n",
    "    for entry in soup_obj.find_all(name = 'div', attrs = {'class':' row result'}):\n",
    "        try:\n",
    "            location = entry.find(name='span',attrs = {'class':'location'}).text\n",
    "        except: \n",
    "            location = 'NA'\n",
    "        try:\n",
    "            company = entry.find(name='span',attrs = {'class':'company'}).text\n",
    "        except:\n",
    "            company = 'NA'\n",
    "        try:\n",
    "            title = entry.find(name='h2', attrs = {'class':'jobtitle'}).text\n",
    "        except:\n",
    "            title = 'NA'\n",
    "        try:\n",
    "            salary = entry.find(name='td', attrs = {'class':'snip'}).find('nobr').renderContents()\n",
    "        except:\n",
    "            salary = 'NA'\n",
    "        #add information to the data frame \n",
    "        dfbritish.loc[len(dfbritish)]=[title, location, company, salary]"
   ]
  },
  {
   "cell_type": "code",
   "execution_count": 152,
   "metadata": {
    "collapsed": false
   },
   "outputs": [],
   "source": [
    "#defining a function to grab the elements from the scaper. \n",
    "dfmedium = pd.DataFrame(columns=[\"title\",\"location\",\"company\",\"salary\"])\n",
    "\n",
    "def find_all_medium(soup_obj):\n",
    "    for entry in soup_obj.find_all(name = 'div', attrs = {'class':' row result'}):\n",
    "        try:\n",
    "            location = entry.find(name='span',attrs = {'class':'location'}).text\n",
    "        except: \n",
    "            location = 'NA'\n",
    "        try:\n",
    "            company = entry.find(name='span',attrs = {'class':'company'}).text\n",
    "        except:\n",
    "            company = 'NA'\n",
    "        try:\n",
    "            title = entry.find(name='h2', attrs = {'class':'jobtitle'}).text\n",
    "        except:\n",
    "            title = 'NA'\n",
    "        try:\n",
    "            salary = entry.find(name='td', attrs = {'class':'snip'}).find('nobr').renderContents()\n",
    "        except:\n",
    "            salary = 'NA'\n",
    "        #add information to the data frame \n",
    "        dfmedium.loc[len(dfmedium)]=[title, location, company, salary]"
   ]
  },
  {
   "cell_type": "markdown",
   "metadata": {},
   "source": [
    "Let's look at one result more closely. A single result looks like\n",
    "```JSON\n",
    "<div class=\" row result\" data-jk=\"2480d203f7e97210\" data-tn-component=\"organicJob\" id=\"p_2480d203f7e97210\" itemscope=\"\" itemtype=\"http://schema.org/JobPosting\">\n",
    "<h2 class=\"jobtitle\" id=\"jl_2480d203f7e97210\">\n",
    "<a class=\"turnstileLink\" data-tn-element=\"jobTitle\" onmousedown=\"return rclk(this,jobmap[0],1);\" rel=\"nofollow\" target=\"_blank\" title=\"AVP/Quantitative Analyst\">AVP/Quantitative Analyst</a>\n",
    "</h2>\n",
    "<span class=\"company\" itemprop=\"hiringOrganization\" itemtype=\"http://schema.org/Organization\">\n",
    "<span itemprop=\"name\">\n",
    "<a href=\"/cmp/Alliancebernstein?from=SERP&campaignid=serp-linkcompanyname&fromjk=2480d203f7e97210&jcid=b374f2a780e04789\" target=\"_blank\">\n",
    "    AllianceBernstein</a></span>\n",
    "</span>\n",
    "<tr>\n",
    "<td class=\"snip\">\n",
    "<nobr>$117,500 - $127,500 a year</nobr>\n",
    "<div>\n",
    "<span class=\"summary\" itemprop=\"description\">\n",
    "C onduct quantitative and statistical research as well as portfolio management for various investment portfolios. Collaborate with Quantitative Analysts and</span>\n",
    "</div>\n",
    "</div>\n",
    "</td>\n",
    "</tr>\n",
    "</table>\n",
    "</div>\n",
    "```"
   ]
  },
  {
   "cell_type": "markdown",
   "metadata": {},
   "source": [
    "While this has some more verbose elements removed, we can see that there is some structure to the above:\n",
    "- The salary is available in a nobr element inside of a td element with class='snip.\n",
    "- The title of a job is in a link with class set to jobtitle and a data-tn-element=\"jobTitle.\n",
    "- The location is set in a span with class='location'.\n",
    "- The company is set in a span with class='company'."
   ]
  },
  {
   "cell_type": "markdown",
   "metadata": {},
   "source": [
    "## Write 4 functions to extract each item: location, company, job, and salary.¶\n",
    "Example\n",
    "```python\n",
    "def extract_location_from_result(result):\n",
    "    return result.find ...\n",
    "```\n",
    "\n",
    "##### - Make sure these functions are robust and can handle cases where the data/field may not be available.\n",
    ">- Remember to check if a field is empty or None for attempting to call methods on it\n",
    ">- Remember to use try/except if you anticipate errors.\n",
    "\n",
    "- **Test** the functions on the results above and simple examples"
   ]
  },
  {
   "cell_type": "markdown",
   "metadata": {},
   "source": [
    "Now, to scale up our scraping, we need to accumulate more results. We can do this by examining the URL above.\n",
    "- \"http://www.indeed.com/jobs?q=data+scientist+%2420%2C000&l=New+York&start=10\"\n",
    "\n",
    "There are two query parameters here we can alter to collect more results, the l=New+York and the start=10. The first controls the location of the results (so we can try a different city). The second controls where in the results to start and gives 10 results (thus, we can keep incrementing by 10 to go further in the list).\n",
    "##### Complete the following code to collect results from multiple cities and starting points.\n",
    "- Enter your city below to add it to the search\n",
    "- Remember to convert your salary to U.S. Dollars to match the other cities if the currency is different"
   ]
  },
  {
   "cell_type": "code",
   "execution_count": 376,
   "metadata": {
    "collapsed": false
   },
   "outputs": [],
   "source": [
    "#large cities \n",
    "\n",
    "max_results_per_city = 2000 # Set this to a high-value (5000) to generate more results. \n",
    "# Crawling more results, will also take much longer. First test your code on a small number of results and then expand.\n",
    "\n",
    "large_results = []\n",
    "\n",
    "for city in set(['New+York', 'Chicago', 'San+Francisco', 'Austin', 'Seattle', \n",
    "    'Los+Angeles']):\n",
    "    url_template = \"http://www.indeed.com/jobs?q=data+scientist+%2420%2C000&l=\"+city+\"&start=\"\n",
    "    for start in range(0, max_results_per_city, 10):\n",
    "        # Grab the results from the request (as above)\n",
    "        result = url_template+str(start)\n",
    "        # Append to the full set of results\n",
    "        large_results.append(result)\n",
    "        pass"
   ]
  },
  {
   "cell_type": "code",
   "execution_count": 379,
   "metadata": {
    "collapsed": true
   },
   "outputs": [],
   "source": [
    "max_results_per_city = 1000 # Set this to a high-value (5000) to generate more results. \n",
    "# Crawling more results, will also take much longer. First test your code on a small number of results and then expand.\n",
    "\n",
    "british_results = []\n",
    "\n",
    "for city in set(['London','Birmingham','Manchester','Glasgow']):\n",
    "    url_template = \"http://www.indeed.co.uk/jobs?q=data+scientist+%2420%2C000&l=\"+city+\"&start=\"\n",
    "    for start in range(0, max_results_per_city, 10):\n",
    "        # Grab the results from the request (as above)\n",
    "        result = url_template+str(start)\n",
    "        # Append to the full set of results\n",
    "        british_results.append(result)\n",
    "        pass"
   ]
  },
  {
   "cell_type": "code",
   "execution_count": 155,
   "metadata": {
    "collapsed": true
   },
   "outputs": [],
   "source": [
    "#medium sized cities \n",
    "\n",
    "max_results_per_city = 1000 # Set this to a high-value (5000) to generate more results. \n",
    "# Crawling more results, will also take much longer. First test your code on a small number of results and then expand.\n",
    "\n",
    "medium_results = []\n",
    "\n",
    "\n",
    "for city in set(['Philadelphia', 'Atlanta', 'Dallas', 'Pittsburgh', \n",
    "    'Portland', 'Phoenix', 'Denver', 'Houston', 'Miami', 'Washington%2C+DC']):\n",
    "    url_template = \"http://www.indeed.com/jobs?q=data+scientist+%2420%2C000&l=\"+city+\"&start=\"\n",
    "    for start in range(0, max_results_per_city, 10):\n",
    "        # Grab the results from the request (as above)\n",
    "        result = url_template+str(start)\n",
    "        # Append to the full set of results\n",
    "        medium_results.append(result)\n",
    "        pass\n"
   ]
  },
  {
   "cell_type": "code",
   "execution_count": 377,
   "metadata": {
    "collapsed": false
   },
   "outputs": [],
   "source": [
    "#large_scraper\n",
    "\n",
    "for result in large_results:\n",
    "    url = result \n",
    "    html = urllib.urlopen(url).read()\n",
    "    b = BeautifulSoup(html, 'html.parser', from_encoding=\"utf-8\")\n",
    "    find_all_large(b)"
   ]
  },
  {
   "cell_type": "code",
   "execution_count": 386,
   "metadata": {
    "collapsed": false
   },
   "outputs": [],
   "source": [
    "#british Scraper\n",
    "for result in british_results:\n",
    "    url = result \n",
    "    html = urllib.urlopen(url).read()\n",
    "    b = BeautifulSoup(html, 'html.parser', from_encoding=\"utf-8\")\n",
    "    find_all_british(b)"
   ]
  },
  {
   "cell_type": "code",
   "execution_count": 160,
   "metadata": {
    "collapsed": false
   },
   "outputs": [],
   "source": [
    "#medium_scraper\n",
    "\n",
    "for result in medium_results:\n",
    "    url = result \n",
    "    html = urllib.urlopen(url).read()\n",
    "    b = BeautifulSoup(html, 'html.parser', from_encoding=\"utf-8\")\n",
    "    find_all_medium(b)"
   ]
  },
  {
   "cell_type": "markdown",
   "metadata": {
    "focus": false,
    "id": "20339c09-5032-4e27-91be-286e9b46cd13"
   },
   "source": [
    "#### Use the functions you wrote above to parse out the 4 fields - location, title, company and salary. Create a dataframe from the results with those 4 columns."
   ]
  },
  {
   "cell_type": "markdown",
   "metadata": {
    "focus": false,
    "id": "ff98ce64-78a7-441f-a675-63464e32c834"
   },
   "source": [
    "Lastly, we need to clean up salary data. \n",
    "\n",
    "1. Only a small number of the scraped results have salary information - only these will be used for modeling.\n",
    "1. Some of the salaries are not yearly but hourly or weekly, these will not be useful to us for now\n",
    "1. Some of the entries may be duplicated\n",
    "1. The salaries are given as text and usually with ranges.\n",
    "\n",
    "#### Find the entries with annual salary entries, by filtering the entries without salaries or salaries that are not yearly (filter those that refer to hour or week). Also, remove duplicate entries"
   ]
  },
  {
   "cell_type": "code",
   "execution_count": 197,
   "metadata": {
    "collapsed": true
   },
   "outputs": [],
   "source": [
    "#defining a function to grab certain salaries  \n",
    "\n",
    "def grab_salary(df):\n",
    "    return df[df.salary.str.contains('year') | df.salary.str.contains('month')]\n",
    "    \n",
    "\n",
    "#defining a function to clean columns\n",
    "\n",
    "def clean_company(df):\n",
    "    df['company'] = df.company.str.replace(\"\\n\",\"\")\n",
    "    return df\n",
    "\n",
    "def clean_title(df):\n",
    "    df['title'] = df.title.str.replace(\"\\n\",\"\")\n",
    "    return df\n",
    "\n",
    "\n",
    "def clean_location_text(column):\n",
    "    head, sep, tail = column.partition(',')\n",
    "    return head\n",
    "\n",
    "def clean_location(df):\n",
    "    df['location'] = df['location'].apply(clean_location_text)\n",
    "    return df "
   ]
  },
  {
   "cell_type": "code",
   "execution_count": 391,
   "metadata": {
    "collapsed": false,
    "scrolled": false
   },
   "outputs": [],
   "source": [
    "#cleaning df of large cities \n",
    "\n",
    "dflarge = grab_salary(dflarge)\n",
    "clean_company(dflarge)\n",
    "clean_title(dflarge)\n",
    "clean_location(dflarge)\n",
    "\n",
    "#dflarge.head()"
   ]
  },
  {
   "cell_type": "code",
   "execution_count": 393,
   "metadata": {
    "collapsed": false
   },
   "outputs": [
    {
     "name": "stderr",
     "output_type": "stream",
     "text": [
      "/anaconda/lib/python2.7/site-packages/ipykernel/__main__.py:10: SettingWithCopyWarning: \n",
      "A value is trying to be set on a copy of a slice from a DataFrame.\n",
      "Try using .loc[row_indexer,col_indexer] = value instead\n",
      "\n",
      "See the caveats in the documentation: http://pandas.pydata.org/pandas-docs/stable/indexing.html#indexing-view-versus-copy\n",
      "/anaconda/lib/python2.7/site-packages/ipykernel/__main__.py:14: SettingWithCopyWarning: \n",
      "A value is trying to be set on a copy of a slice from a DataFrame.\n",
      "Try using .loc[row_indexer,col_indexer] = value instead\n",
      "\n",
      "See the caveats in the documentation: http://pandas.pydata.org/pandas-docs/stable/indexing.html#indexing-view-versus-copy\n",
      "/anaconda/lib/python2.7/site-packages/ipykernel/__main__.py:6: SettingWithCopyWarning: \n",
      "A value is trying to be set on a copy of a slice from a DataFrame.\n",
      "Try using .loc[row_indexer,col_indexer] = value instead\n",
      "\n",
      "See the caveats in the documentation: http://pandas.pydata.org/pandas-docs/stable/indexing.html#indexing-view-versus-copy\n"
     ]
    },
    {
     "data": {
      "text/html": [
       "<div>\n",
       "<table border=\"1\" class=\"dataframe\">\n",
       "  <thead>\n",
       "    <tr style=\"text-align: right;\">\n",
       "      <th></th>\n",
       "      <th>title</th>\n",
       "      <th>location</th>\n",
       "      <th>company</th>\n",
       "      <th>salary</th>\n",
       "    </tr>\n",
       "  </thead>\n",
       "  <tbody>\n",
       "    <tr>\n",
       "      <th>1</th>\n",
       "      <td>Data Scientist / Modelling Insight Analyst</td>\n",
       "      <td>Birmingham</td>\n",
       "      <td>Blue Pelican</td>\n",
       "      <td>£35,000 - £45,000 a year</td>\n",
       "    </tr>\n",
       "    <tr>\n",
       "      <th>5</th>\n",
       "      <td>Data Scientist</td>\n",
       "      <td>Birmingham</td>\n",
       "      <td>Churchill Frank</td>\n",
       "      <td>£30,000 - £40,000 a year</td>\n",
       "    </tr>\n",
       "    <tr>\n",
       "      <th>7</th>\n",
       "      <td>Machine Learning Specialist</td>\n",
       "      <td>Coventry</td>\n",
       "      <td>Churchill Frank</td>\n",
       "      <td>£30,000 - £40,000 a year</td>\n",
       "    </tr>\n",
       "    <tr>\n",
       "      <th>10</th>\n",
       "      <td>Head of Data Analytics and Business Intelligen...</td>\n",
       "      <td>Halesowen</td>\n",
       "      <td>In touch games</td>\n",
       "      <td>£80,000 - £100,000 a year</td>\n",
       "    </tr>\n",
       "    <tr>\n",
       "      <th>11</th>\n",
       "      <td>Assay Development Scientist</td>\n",
       "      <td>Birmingham</td>\n",
       "      <td>Taylorollinson</td>\n",
       "      <td>£25,000 - £35,000 a year</td>\n",
       "    </tr>\n",
       "  </tbody>\n",
       "</table>\n",
       "</div>"
      ],
      "text/plain": [
       "                                                title    location  \\\n",
       "1          Data Scientist / Modelling Insight Analyst  Birmingham   \n",
       "5                                      Data Scientist  Birmingham   \n",
       "7                         Machine Learning Specialist    Coventry   \n",
       "10  Head of Data Analytics and Business Intelligen...   Halesowen   \n",
       "11                        Assay Development Scientist  Birmingham   \n",
       "\n",
       "                company                     salary  \n",
       "1          Blue Pelican   £35,000 - £45,000 a year  \n",
       "5       Churchill Frank   £30,000 - £40,000 a year  \n",
       "7       Churchill Frank   £30,000 - £40,000 a year  \n",
       "10       In touch games  £80,000 - £100,000 a year  \n",
       "11       Taylorollinson   £25,000 - £35,000 a year  "
      ]
     },
     "execution_count": 393,
     "metadata": {},
     "output_type": "execute_result"
    }
   ],
   "source": [
    "#cleaning df of british cities \n",
    "\n",
    "dfbritish = grab_salary(dfbritish)\n",
    "clean_company(dfbritish)\n",
    "clean_title(dfbritish)\n",
    "clean_location(dfbritish)\n",
    "\n",
    "dfbritish.head()"
   ]
  },
  {
   "cell_type": "code",
   "execution_count": 304,
   "metadata": {
    "collapsed": false
   },
   "outputs": [
    {
     "name": "stderr",
     "output_type": "stream",
     "text": [
      "/anaconda/lib/python2.7/site-packages/ipykernel/__main__.py:10: SettingWithCopyWarning: \n",
      "A value is trying to be set on a copy of a slice from a DataFrame.\n",
      "Try using .loc[row_indexer,col_indexer] = value instead\n",
      "\n",
      "See the caveats in the documentation: http://pandas.pydata.org/pandas-docs/stable/indexing.html#indexing-view-versus-copy\n",
      "/anaconda/lib/python2.7/site-packages/ipykernel/__main__.py:14: SettingWithCopyWarning: \n",
      "A value is trying to be set on a copy of a slice from a DataFrame.\n",
      "Try using .loc[row_indexer,col_indexer] = value instead\n",
      "\n",
      "See the caveats in the documentation: http://pandas.pydata.org/pandas-docs/stable/indexing.html#indexing-view-versus-copy\n",
      "/anaconda/lib/python2.7/site-packages/ipykernel/__main__.py:6: SettingWithCopyWarning: \n",
      "A value is trying to be set on a copy of a slice from a DataFrame.\n",
      "Try using .loc[row_indexer,col_indexer] = value instead\n",
      "\n",
      "See the caveats in the documentation: http://pandas.pydata.org/pandas-docs/stable/indexing.html#indexing-view-versus-copy\n"
     ]
    },
    {
     "data": {
      "text/html": [
       "<div>\n",
       "<table border=\"1\" class=\"dataframe\">\n",
       "  <thead>\n",
       "    <tr style=\"text-align: right;\">\n",
       "      <th></th>\n",
       "      <th>title</th>\n",
       "      <th>location</th>\n",
       "      <th>company</th>\n",
       "      <th>salary</th>\n",
       "    </tr>\n",
       "  </thead>\n",
       "  <tbody>\n",
       "    <tr>\n",
       "      <th>10</th>\n",
       "      <td>Scientist, Process Development</td>\n",
       "      <td>Houston</td>\n",
       "      <td>iBio CMO</td>\n",
       "      <td>$80,000 a year</td>\n",
       "    </tr>\n",
       "    <tr>\n",
       "      <th>11</th>\n",
       "      <td>Data Scientist</td>\n",
       "      <td>Houston</td>\n",
       "      <td>Digital People</td>\n",
       "      <td>$100,000 - $110,000 a year</td>\n",
       "    </tr>\n",
       "    <tr>\n",
       "      <th>22</th>\n",
       "      <td>Data Scientist</td>\n",
       "      <td>Houston</td>\n",
       "      <td>Rekruiters</td>\n",
       "      <td>$150,000 a year</td>\n",
       "    </tr>\n",
       "    <tr>\n",
       "      <th>40</th>\n",
       "      <td>Senior Research Policy Analyst</td>\n",
       "      <td>Houston</td>\n",
       "      <td>Baylor College of Medicine</td>\n",
       "      <td>$67,000 a year</td>\n",
       "    </tr>\n",
       "    <tr>\n",
       "      <th>56</th>\n",
       "      <td>C++ Software Engineer</td>\n",
       "      <td>Houston</td>\n",
       "      <td>Rekruiters</td>\n",
       "      <td>$250,000 a year</td>\n",
       "    </tr>\n",
       "    <tr>\n",
       "      <th>72</th>\n",
       "      <td>Sr. Bioinformatics Programmer</td>\n",
       "      <td>Houston</td>\n",
       "      <td>Baylor College of Medicine</td>\n",
       "      <td>$70,000 - $91,000 a year</td>\n",
       "    </tr>\n",
       "    <tr>\n",
       "      <th>81</th>\n",
       "      <td>Lead Bioinformatics Programmer</td>\n",
       "      <td>Houston</td>\n",
       "      <td>Baylor College of Medicine</td>\n",
       "      <td>$90,000 a year</td>\n",
       "    </tr>\n",
       "    <tr>\n",
       "      <th>86</th>\n",
       "      <td>Quantitative Risk Analyst</td>\n",
       "      <td>Houston</td>\n",
       "      <td>SearchAccountingJobs</td>\n",
       "      <td>$150,000 - $205,000 a year</td>\n",
       "    </tr>\n",
       "    <tr>\n",
       "      <th>460</th>\n",
       "      <td>Data Analyst/Scientist</td>\n",
       "      <td>Phoenix</td>\n",
       "      <td>CASH1</td>\n",
       "      <td>$75,000 - $125,000 a year</td>\n",
       "    </tr>\n",
       "    <tr>\n",
       "      <th>463</th>\n",
       "      <td>Data Architect</td>\n",
       "      <td>Phoenix</td>\n",
       "      <td>Career Evolutions</td>\n",
       "      <td>$150,000 a year</td>\n",
       "    </tr>\n",
       "    <tr>\n",
       "      <th>472</th>\n",
       "      <td>RESEARCH ANALYST 2 (PRG/PROJ SPCT 2)</td>\n",
       "      <td>Phoenix</td>\n",
       "      <td>State of Arizona</td>\n",
       "      <td>$43,000 - $50,000 a year</td>\n",
       "    </tr>\n",
       "    <tr>\n",
       "      <th>474</th>\n",
       "      <td>JR STATISTICAL ANALYST</td>\n",
       "      <td>Phoenix</td>\n",
       "      <td>State of Arizona</td>\n",
       "      <td>$44,147 a year</td>\n",
       "    </tr>\n",
       "    <tr>\n",
       "      <th>475</th>\n",
       "      <td>RESEARCH ANALYST</td>\n",
       "      <td>Phoenix</td>\n",
       "      <td>Arizona Health Care Cost Containment S...</td>\n",
       "      <td>$43,000 - $50,500 a year</td>\n",
       "    </tr>\n",
       "    <tr>\n",
       "      <th>476</th>\n",
       "      <td>Management Research Analyst</td>\n",
       "      <td>Tempe</td>\n",
       "      <td>Arizona State University</td>\n",
       "      <td>$40,320 - $50,000 a year</td>\n",
       "    </tr>\n",
       "    <tr>\n",
       "      <th>479</th>\n",
       "      <td>Junior Statistical Analyst (Job 2133)</td>\n",
       "      <td>Phoenix</td>\n",
       "      <td>Arizona Supreme Court</td>\n",
       "      <td>$44,147 a year</td>\n",
       "    </tr>\n",
       "    <tr>\n",
       "      <th>487</th>\n",
       "      <td>Competitive Intelligence, Management Research ...</td>\n",
       "      <td>Tempe</td>\n",
       "      <td>Arizona State University</td>\n",
       "      <td>$55,000 - $65,000 a year</td>\n",
       "    </tr>\n",
       "    <tr>\n",
       "      <th>495</th>\n",
       "      <td>Specialist - Space Grant</td>\n",
       "      <td>Tempe</td>\n",
       "      <td>Arizona State University</td>\n",
       "      <td>$20,898 - $30,000 a year</td>\n",
       "    </tr>\n",
       "    <tr>\n",
       "      <th>501</th>\n",
       "      <td>Institutional Research Analyst (Specially Fund...</td>\n",
       "      <td>Phoenix</td>\n",
       "      <td>Maricopa County Community College Dist...</td>\n",
       "      <td>$50,958 - $60,512 a year</td>\n",
       "    </tr>\n",
       "    <tr>\n",
       "      <th>502</th>\n",
       "      <td>Budget &amp; Research Analyst</td>\n",
       "      <td>Goodyear</td>\n",
       "      <td>City of Goodyear, AZ</td>\n",
       "      <td>$63,696 - $94,557 a year</td>\n",
       "    </tr>\n",
       "    <tr>\n",
       "      <th>507</th>\n",
       "      <td>Web Security Research Analyst</td>\n",
       "      <td>Scottsdale</td>\n",
       "      <td>SiteLock</td>\n",
       "      <td>$50,000 - $55,000 a year</td>\n",
       "    </tr>\n",
       "    <tr>\n",
       "      <th>511</th>\n",
       "      <td>Senior Epidemiologist</td>\n",
       "      <td>Phoenix</td>\n",
       "      <td>State of Arizona</td>\n",
       "      <td>$60,000 a year</td>\n",
       "    </tr>\n",
       "    <tr>\n",
       "      <th>512</th>\n",
       "      <td>Quantitative Analyst Manager</td>\n",
       "      <td>Phoenix</td>\n",
       "      <td>SearchBankingJobs</td>\n",
       "      <td>$150,000 - $205,000 a year</td>\n",
       "    </tr>\n",
       "    <tr>\n",
       "      <th>513</th>\n",
       "      <td>Epidemiology Program Manager</td>\n",
       "      <td>Phoenix</td>\n",
       "      <td>State of Arizona</td>\n",
       "      <td>$65,000 a year</td>\n",
       "    </tr>\n",
       "    <tr>\n",
       "      <th>523</th>\n",
       "      <td>ASSISTANT RESEARCH SCIENTIST</td>\n",
       "      <td>Tempe</td>\n",
       "      <td>Arizona State University</td>\n",
       "      <td>$50,000 - $60,000 a year</td>\n",
       "    </tr>\n",
       "    <tr>\n",
       "      <th>527</th>\n",
       "      <td>ASSISTANT RESEARCH SCIENTIST</td>\n",
       "      <td>Tempe</td>\n",
       "      <td>Arizona State University</td>\n",
       "      <td>$50,000 - $60,000 a year</td>\n",
       "    </tr>\n",
       "    <tr>\n",
       "      <th>531</th>\n",
       "      <td>ASSISTANT RESEARCH SCIENTIST</td>\n",
       "      <td>Tempe</td>\n",
       "      <td>Arizona State University</td>\n",
       "      <td>$50,000 - $60,000 a year</td>\n",
       "    </tr>\n",
       "    <tr>\n",
       "      <th>535</th>\n",
       "      <td>ASSISTANT RESEARCH SCIENTIST</td>\n",
       "      <td>Tempe</td>\n",
       "      <td>Arizona State University</td>\n",
       "      <td>$50,000 - $60,000 a year</td>\n",
       "    </tr>\n",
       "    <tr>\n",
       "      <th>539</th>\n",
       "      <td>ASSISTANT RESEARCH SCIENTIST</td>\n",
       "      <td>Tempe</td>\n",
       "      <td>Arizona State University</td>\n",
       "      <td>$50,000 - $60,000 a year</td>\n",
       "    </tr>\n",
       "    <tr>\n",
       "      <th>543</th>\n",
       "      <td>ASSISTANT RESEARCH SCIENTIST</td>\n",
       "      <td>Tempe</td>\n",
       "      <td>Arizona State University</td>\n",
       "      <td>$50,000 - $60,000 a year</td>\n",
       "    </tr>\n",
       "    <tr>\n",
       "      <th>547</th>\n",
       "      <td>ASSISTANT RESEARCH SCIENTIST</td>\n",
       "      <td>Tempe</td>\n",
       "      <td>Arizona State University</td>\n",
       "      <td>$50,000 - $60,000 a year</td>\n",
       "    </tr>\n",
       "    <tr>\n",
       "      <th>...</th>\n",
       "      <td>...</td>\n",
       "      <td>...</td>\n",
       "      <td>...</td>\n",
       "      <td>...</td>\n",
       "    </tr>\n",
       "    <tr>\n",
       "      <th>5185</th>\n",
       "      <td>Data Scientist</td>\n",
       "      <td>Washington</td>\n",
       "      <td>Central Intelligence Agency</td>\n",
       "      <td>$62,338 - $160,300 a year</td>\n",
       "    </tr>\n",
       "    <tr>\n",
       "      <th>5190</th>\n",
       "      <td>Data Scientist</td>\n",
       "      <td>Washington</td>\n",
       "      <td>Central Intelligence Agency</td>\n",
       "      <td>$62,338 - $160,300 a year</td>\n",
       "    </tr>\n",
       "    <tr>\n",
       "      <th>5214</th>\n",
       "      <td>Data Scientist</td>\n",
       "      <td>Washington</td>\n",
       "      <td>Spectrum Careers</td>\n",
       "      <td>$130,000 a year</td>\n",
       "    </tr>\n",
       "    <tr>\n",
       "      <th>5219</th>\n",
       "      <td>Data Scientist</td>\n",
       "      <td>Washington</td>\n",
       "      <td>Spectrum Careers</td>\n",
       "      <td>$130,000 a year</td>\n",
       "    </tr>\n",
       "    <tr>\n",
       "      <th>5224</th>\n",
       "      <td>Data Scientist</td>\n",
       "      <td>Fort George G Meade</td>\n",
       "      <td>National Security Agency</td>\n",
       "      <td>$65,572 - $84,611 a year</td>\n",
       "    </tr>\n",
       "    <tr>\n",
       "      <th>5238</th>\n",
       "      <td>Research Statistician</td>\n",
       "      <td>Washington</td>\n",
       "      <td>U.S. Department of Labor</td>\n",
       "      <td>$77,490 - $119,794 a year</td>\n",
       "    </tr>\n",
       "    <tr>\n",
       "      <th>5273</th>\n",
       "      <td>Research Data Analyst with Security Clearance</td>\n",
       "      <td>Washington</td>\n",
       "      <td>Project Enhancement Corp</td>\n",
       "      <td>$70,000 - $80,000 a year</td>\n",
       "    </tr>\n",
       "    <tr>\n",
       "      <th>5290</th>\n",
       "      <td>Spectral Research Scientist</td>\n",
       "      <td>Alexandria</td>\n",
       "      <td>TULKORP.</td>\n",
       "      <td>$95,000 a year</td>\n",
       "    </tr>\n",
       "    <tr>\n",
       "      <th>5298</th>\n",
       "      <td>Senior Data Scientist</td>\n",
       "      <td>Washington</td>\n",
       "      <td>Smith Hanley Associates</td>\n",
       "      <td>$140,000 - $180,000 a year</td>\n",
       "    </tr>\n",
       "    <tr>\n",
       "      <th>5324</th>\n",
       "      <td>Senior Data Scientist</td>\n",
       "      <td>Washington</td>\n",
       "      <td>Smith Hanley Associates</td>\n",
       "      <td>$140,000 - $180,000 a year</td>\n",
       "    </tr>\n",
       "    <tr>\n",
       "      <th>5326</th>\n",
       "      <td>Forensic Scientist Supervisor (Microbiologist)...</td>\n",
       "      <td>Washington</td>\n",
       "      <td>Dept of Forensic Sciences</td>\n",
       "      <td>$99,659 - $139,522 a year</td>\n",
       "    </tr>\n",
       "    <tr>\n",
       "      <th>5330</th>\n",
       "      <td>Senior Software Data Engineer</td>\n",
       "      <td>Ashburn</td>\n",
       "      <td>Solebrity, Inc.</td>\n",
       "      <td>$125,000 - $170,000 a year</td>\n",
       "    </tr>\n",
       "    <tr>\n",
       "      <th>5336</th>\n",
       "      <td>Research Analyst</td>\n",
       "      <td>Washington</td>\n",
       "      <td>American Foreign Service Association</td>\n",
       "      <td>$65,000 a year</td>\n",
       "    </tr>\n",
       "    <tr>\n",
       "      <th>5338</th>\n",
       "      <td>Senior Software Data Engineer</td>\n",
       "      <td>Ashburn</td>\n",
       "      <td>Solebrity, Inc.</td>\n",
       "      <td>$125,000 - $170,000 a year</td>\n",
       "    </tr>\n",
       "    <tr>\n",
       "      <th>5373</th>\n",
       "      <td>Research Analyst</td>\n",
       "      <td>Washington</td>\n",
       "      <td>American Foreign Service Association</td>\n",
       "      <td>$65,000 a year</td>\n",
       "    </tr>\n",
       "    <tr>\n",
       "      <th>5462</th>\n",
       "      <td>Data Scientist:Veteran+Military Connected</td>\n",
       "      <td>McLean</td>\n",
       "      <td>Veteran Staffing Network of Easter Seals</td>\n",
       "      <td>$150,000 a year</td>\n",
       "    </tr>\n",
       "    <tr>\n",
       "      <th>5469</th>\n",
       "      <td>Cryptanalytic Computer Network Operations Deve...</td>\n",
       "      <td>Fort George G Meade</td>\n",
       "      <td>National Security Agency</td>\n",
       "      <td>$67,906 - $84,611 a year</td>\n",
       "    </tr>\n",
       "    <tr>\n",
       "      <th>5588</th>\n",
       "      <td>Sr. Market Risk Data Scientist</td>\n",
       "      <td>Washington</td>\n",
       "      <td>All-In Analytics</td>\n",
       "      <td>$100,000 - $115,000 a year</td>\n",
       "    </tr>\n",
       "    <tr>\n",
       "      <th>5602</th>\n",
       "      <td>Supervisory Statistician</td>\n",
       "      <td>Washington</td>\n",
       "      <td>Department of Health</td>\n",
       "      <td>$110,621 - $154,869 a year</td>\n",
       "    </tr>\n",
       "    <tr>\n",
       "      <th>5619</th>\n",
       "      <td>Big Data Engineer</td>\n",
       "      <td>Reston</td>\n",
       "      <td>Jobspring Partners</td>\n",
       "      <td>$130,000 a year</td>\n",
       "    </tr>\n",
       "    <tr>\n",
       "      <th>5643</th>\n",
       "      <td>Forensic Scientist (Crime Scene)</td>\n",
       "      <td>Washington</td>\n",
       "      <td>Dept of Forensic Sciences</td>\n",
       "      <td>$61,491 - $79,275 a year</td>\n",
       "    </tr>\n",
       "    <tr>\n",
       "      <th>5743</th>\n",
       "      <td>FS Supervisor (Virology) - Unit Manager</td>\n",
       "      <td>Washington</td>\n",
       "      <td>Dept of Forensic Sciences</td>\n",
       "      <td>$99,659 - $139,522 a year</td>\n",
       "    </tr>\n",
       "    <tr>\n",
       "      <th>5754</th>\n",
       "      <td>Overhead Persistant Infrared Scientist - 1</td>\n",
       "      <td>Alexandria</td>\n",
       "      <td>TULKORP.</td>\n",
       "      <td>$89,000 a year</td>\n",
       "    </tr>\n",
       "    <tr>\n",
       "      <th>5793</th>\n",
       "      <td>Open Source Officer</td>\n",
       "      <td>Washington</td>\n",
       "      <td>Central Intelligence Agency</td>\n",
       "      <td>$51,603 - $100,736 a year</td>\n",
       "    </tr>\n",
       "    <tr>\n",
       "      <th>5837</th>\n",
       "      <td>Applications Developer</td>\n",
       "      <td>Washington</td>\n",
       "      <td>Central Intelligence Agency</td>\n",
       "      <td>$58,776 - $113,650 a year</td>\n",
       "    </tr>\n",
       "    <tr>\n",
       "      <th>5866</th>\n",
       "      <td>Biochemistry Lab Assistant</td>\n",
       "      <td>Gaithersburg</td>\n",
       "      <td>Sirnaomics,Inc</td>\n",
       "      <td>$32,000 a year</td>\n",
       "    </tr>\n",
       "    <tr>\n",
       "      <th>5868</th>\n",
       "      <td>Earned Value Management &amp; Cost Research Analys...</td>\n",
       "      <td>Fort George G Meade</td>\n",
       "      <td>National Security Agency</td>\n",
       "      <td>$92,145 - $141,555 a year</td>\n",
       "    </tr>\n",
       "    <tr>\n",
       "      <th>5877</th>\n",
       "      <td>General Engineer/Operations Research Analyst (...</td>\n",
       "      <td>Arlington</td>\n",
       "      <td>Transportation Security Administration</td>\n",
       "      <td>$75,202 - $142,203 a year</td>\n",
       "    </tr>\n",
       "    <tr>\n",
       "      <th>5881</th>\n",
       "      <td>Biochemistry Lab Assistant</td>\n",
       "      <td>Gaithersburg</td>\n",
       "      <td>Sirnaomics,Inc</td>\n",
       "      <td>$32,000 a year</td>\n",
       "    </tr>\n",
       "    <tr>\n",
       "      <th>5953</th>\n",
       "      <td>Data Scientist - TS/SCI Clearance</td>\n",
       "      <td>Alexandria</td>\n",
       "      <td>Selby Jennings</td>\n",
       "      <td>$125,000 - $175,000 a year</td>\n",
       "    </tr>\n",
       "  </tbody>\n",
       "</table>\n",
       "<p>249 rows × 4 columns</p>\n",
       "</div>"
      ],
      "text/plain": [
       "                                                  title             location  \\\n",
       "10                       Scientist, Process Development              Houston   \n",
       "11                                       Data Scientist              Houston   \n",
       "22                                       Data Scientist              Houston   \n",
       "40                       Senior Research Policy Analyst              Houston   \n",
       "56                                C++ Software Engineer              Houston   \n",
       "72                        Sr. Bioinformatics Programmer              Houston   \n",
       "81                       Lead Bioinformatics Programmer              Houston   \n",
       "86                            Quantitative Risk Analyst              Houston   \n",
       "460                              Data Analyst/Scientist              Phoenix   \n",
       "463                                      Data Architect              Phoenix   \n",
       "472                RESEARCH ANALYST 2 (PRG/PROJ SPCT 2)              Phoenix   \n",
       "474                              JR STATISTICAL ANALYST              Phoenix   \n",
       "475                                    RESEARCH ANALYST              Phoenix   \n",
       "476                         Management Research Analyst                Tempe   \n",
       "479               Junior Statistical Analyst (Job 2133)              Phoenix   \n",
       "487   Competitive Intelligence, Management Research ...                Tempe   \n",
       "495                            Specialist - Space Grant                Tempe   \n",
       "501   Institutional Research Analyst (Specially Fund...              Phoenix   \n",
       "502                           Budget & Research Analyst             Goodyear   \n",
       "507                       Web Security Research Analyst           Scottsdale   \n",
       "511                               Senior Epidemiologist              Phoenix   \n",
       "512                        Quantitative Analyst Manager              Phoenix   \n",
       "513                        Epidemiology Program Manager              Phoenix   \n",
       "523                        ASSISTANT RESEARCH SCIENTIST                Tempe   \n",
       "527                        ASSISTANT RESEARCH SCIENTIST                Tempe   \n",
       "531                        ASSISTANT RESEARCH SCIENTIST                Tempe   \n",
       "535                        ASSISTANT RESEARCH SCIENTIST                Tempe   \n",
       "539                        ASSISTANT RESEARCH SCIENTIST                Tempe   \n",
       "543                        ASSISTANT RESEARCH SCIENTIST                Tempe   \n",
       "547                        ASSISTANT RESEARCH SCIENTIST                Tempe   \n",
       "...                                                 ...                  ...   \n",
       "5185                                     Data Scientist           Washington   \n",
       "5190                                     Data Scientist           Washington   \n",
       "5214                                     Data Scientist           Washington   \n",
       "5219                                     Data Scientist           Washington   \n",
       "5224                                     Data Scientist  Fort George G Meade   \n",
       "5238                              Research Statistician           Washington   \n",
       "5273      Research Data Analyst with Security Clearance           Washington   \n",
       "5290                        Spectral Research Scientist           Alexandria   \n",
       "5298                              Senior Data Scientist           Washington   \n",
       "5324                              Senior Data Scientist           Washington   \n",
       "5326  Forensic Scientist Supervisor (Microbiologist)...           Washington   \n",
       "5330                      Senior Software Data Engineer              Ashburn   \n",
       "5336                                   Research Analyst           Washington   \n",
       "5338                      Senior Software Data Engineer              Ashburn   \n",
       "5373                                   Research Analyst           Washington   \n",
       "5462          Data Scientist:Veteran+Military Connected               McLean   \n",
       "5469  Cryptanalytic Computer Network Operations Deve...  Fort George G Meade   \n",
       "5588                     Sr. Market Risk Data Scientist           Washington   \n",
       "5602                           Supervisory Statistician           Washington   \n",
       "5619                                  Big Data Engineer               Reston   \n",
       "5643                   Forensic Scientist (Crime Scene)           Washington   \n",
       "5743            FS Supervisor (Virology) - Unit Manager           Washington   \n",
       "5754         Overhead Persistant Infrared Scientist - 1           Alexandria   \n",
       "5793                                Open Source Officer           Washington   \n",
       "5837                             Applications Developer           Washington   \n",
       "5866                         Biochemistry Lab Assistant         Gaithersburg   \n",
       "5868  Earned Value Management & Cost Research Analys...  Fort George G Meade   \n",
       "5877  General Engineer/Operations Research Analyst (...            Arlington   \n",
       "5881                         Biochemistry Lab Assistant         Gaithersburg   \n",
       "5953                  Data Scientist - TS/SCI Clearance           Alexandria   \n",
       "\n",
       "                                                company  \\\n",
       "10                                             iBio CMO   \n",
       "11                                       Digital People   \n",
       "22                                           Rekruiters   \n",
       "40                           Baylor College of Medicine   \n",
       "56                                           Rekruiters   \n",
       "72                           Baylor College of Medicine   \n",
       "81                           Baylor College of Medicine   \n",
       "86                                 SearchAccountingJobs   \n",
       "460                                               CASH1   \n",
       "463                                   Career Evolutions   \n",
       "472                                    State of Arizona   \n",
       "474                                    State of Arizona   \n",
       "475           Arizona Health Care Cost Containment S...   \n",
       "476                            Arizona State University   \n",
       "479                               Arizona Supreme Court   \n",
       "487                            Arizona State University   \n",
       "495                            Arizona State University   \n",
       "501           Maricopa County Community College Dist...   \n",
       "502                                City of Goodyear, AZ   \n",
       "507                                            SiteLock   \n",
       "511                                    State of Arizona   \n",
       "512                                   SearchBankingJobs   \n",
       "513                                    State of Arizona   \n",
       "523                            Arizona State University   \n",
       "527                            Arizona State University   \n",
       "531                            Arizona State University   \n",
       "535                            Arizona State University   \n",
       "539                            Arizona State University   \n",
       "543                            Arizona State University   \n",
       "547                            Arizona State University   \n",
       "...                                                 ...   \n",
       "5185                        Central Intelligence Agency   \n",
       "5190                        Central Intelligence Agency   \n",
       "5214                                   Spectrum Careers   \n",
       "5219                                   Spectrum Careers   \n",
       "5224                           National Security Agency   \n",
       "5238                           U.S. Department of Labor   \n",
       "5273                           Project Enhancement Corp   \n",
       "5290                                           TULKORP.   \n",
       "5298                            Smith Hanley Associates   \n",
       "5324                            Smith Hanley Associates   \n",
       "5326                          Dept of Forensic Sciences   \n",
       "5330                                    Solebrity, Inc.   \n",
       "5336               American Foreign Service Association   \n",
       "5338                                    Solebrity, Inc.   \n",
       "5373               American Foreign Service Association   \n",
       "5462           Veteran Staffing Network of Easter Seals   \n",
       "5469                           National Security Agency   \n",
       "5588                                   All-In Analytics   \n",
       "5602                               Department of Health   \n",
       "5619                                 Jobspring Partners   \n",
       "5643                          Dept of Forensic Sciences   \n",
       "5743                          Dept of Forensic Sciences   \n",
       "5754                                           TULKORP.   \n",
       "5793                        Central Intelligence Agency   \n",
       "5837                        Central Intelligence Agency   \n",
       "5866                                     Sirnaomics,Inc   \n",
       "5868                           National Security Agency   \n",
       "5877             Transportation Security Administration   \n",
       "5881                                     Sirnaomics,Inc   \n",
       "5953                                     Selby Jennings   \n",
       "\n",
       "                          salary  \n",
       "10                $80,000 a year  \n",
       "11    $100,000 - $110,000 a year  \n",
       "22               $150,000 a year  \n",
       "40                $67,000 a year  \n",
       "56               $250,000 a year  \n",
       "72      $70,000 - $91,000 a year  \n",
       "81                $90,000 a year  \n",
       "86    $150,000 - $205,000 a year  \n",
       "460    $75,000 - $125,000 a year  \n",
       "463              $150,000 a year  \n",
       "472     $43,000 - $50,000 a year  \n",
       "474               $44,147 a year  \n",
       "475     $43,000 - $50,500 a year  \n",
       "476     $40,320 - $50,000 a year  \n",
       "479               $44,147 a year  \n",
       "487     $55,000 - $65,000 a year  \n",
       "495     $20,898 - $30,000 a year  \n",
       "501     $50,958 - $60,512 a year  \n",
       "502     $63,696 - $94,557 a year  \n",
       "507     $50,000 - $55,000 a year  \n",
       "511               $60,000 a year  \n",
       "512   $150,000 - $205,000 a year  \n",
       "513               $65,000 a year  \n",
       "523     $50,000 - $60,000 a year  \n",
       "527     $50,000 - $60,000 a year  \n",
       "531     $50,000 - $60,000 a year  \n",
       "535     $50,000 - $60,000 a year  \n",
       "539     $50,000 - $60,000 a year  \n",
       "543     $50,000 - $60,000 a year  \n",
       "547     $50,000 - $60,000 a year  \n",
       "...                          ...  \n",
       "5185   $62,338 - $160,300 a year  \n",
       "5190   $62,338 - $160,300 a year  \n",
       "5214             $130,000 a year  \n",
       "5219             $130,000 a year  \n",
       "5224    $65,572 - $84,611 a year  \n",
       "5238   $77,490 - $119,794 a year  \n",
       "5273    $70,000 - $80,000 a year  \n",
       "5290              $95,000 a year  \n",
       "5298  $140,000 - $180,000 a year  \n",
       "5324  $140,000 - $180,000 a year  \n",
       "5326   $99,659 - $139,522 a year  \n",
       "5330  $125,000 - $170,000 a year  \n",
       "5336              $65,000 a year  \n",
       "5338  $125,000 - $170,000 a year  \n",
       "5373              $65,000 a year  \n",
       "5462             $150,000 a year  \n",
       "5469    $67,906 - $84,611 a year  \n",
       "5588  $100,000 - $115,000 a year  \n",
       "5602  $110,621 - $154,869 a year  \n",
       "5619             $130,000 a year  \n",
       "5643    $61,491 - $79,275 a year  \n",
       "5743   $99,659 - $139,522 a year  \n",
       "5754              $89,000 a year  \n",
       "5793   $51,603 - $100,736 a year  \n",
       "5837   $58,776 - $113,650 a year  \n",
       "5866              $32,000 a year  \n",
       "5868   $92,145 - $141,555 a year  \n",
       "5877   $75,202 - $142,203 a year  \n",
       "5881              $32,000 a year  \n",
       "5953  $125,000 - $175,000 a year  \n",
       "\n",
       "[249 rows x 4 columns]"
      ]
     },
     "execution_count": 304,
     "metadata": {},
     "output_type": "execute_result"
    }
   ],
   "source": [
    "dfmedium = grab_salary(dfmedium)\n",
    "clean_company(dfmedium)\n",
    "clean_title(dfmedium)\n",
    "clean_location(dfmedium)\n",
    "#dfmedium"
   ]
  },
  {
   "cell_type": "code",
   "execution_count": 392,
   "metadata": {
    "collapsed": false
   },
   "outputs": [],
   "source": [
    "#dropping duplicates\n",
    "\n",
    "dflarge = dflarge.drop_duplicates(keep='first')"
   ]
  },
  {
   "cell_type": "code",
   "execution_count": 394,
   "metadata": {
    "collapsed": true
   },
   "outputs": [],
   "source": [
    "dfbritish = dfbritish.drop_duplicates(keep='first')"
   ]
  },
  {
   "cell_type": "code",
   "execution_count": 305,
   "metadata": {
    "collapsed": true
   },
   "outputs": [],
   "source": [
    "dfmedium = dfmedium.drop_duplicates(keep='first')"
   ]
  },
  {
   "cell_type": "code",
   "execution_count": 269,
   "metadata": {
    "collapsed": false,
    "focus": false,
    "id": "58533e57-f86b-494a-b841-e7b59c6229c6"
   },
   "outputs": [],
   "source": [
    "## YOUR CODE HERE\n",
    "\n",
    "def convert_salary(column):\n",
    "    if '−' in column:\n",
    "        head, sep, tail = column.partition('−')\n",
    "        match = re.search(r'[\\d,]+', head)\n",
    "        if match:\n",
    "            head = match.group()\n",
    "            head = float(head.replace(',',''))\n",
    "        match = re.search(r'[\\d,]+', tail)\n",
    "        if match:\n",
    "            tail = match.group()\n",
    "            tail = float(tail.replace(',',''))\n",
    "        return (head + tail)/2\n",
    "    else:\n",
    "        match = re.search(r'[\\d,]+', column)\n",
    "        return float(match.group().replace(',',''))\n"
   ]
  },
  {
   "cell_type": "code",
   "execution_count": 395,
   "metadata": {
    "collapsed": true
   },
   "outputs": [],
   "source": [
    "def clean_salary(df):\n",
    "    df['salary'] = df['salary'].apply(convert_salary)\n",
    "    return df\n",
    "\n",
    "def convert_month(column):\n",
    "    if column <= 25000:\n",
    "        return (column * 12)\n",
    "    else:\n",
    "        return column\n",
    "    \n",
    "def convert_month_brit(column):\n",
    "    if column <= 15000:\n",
    "        return (column * 12)\n",
    "    else:\n",
    "        return column\n",
    "    \n",
    "def apply_brit_conversion(df):\n",
    "    df['salary'] = df['salary'].apply(convert_month_brit)\n",
    "    return df\n",
    "\n",
    "def apply_m_conversion(df):\n",
    "    df['salary'] = df['salary'].apply(convert_month)\n",
    "    return df "
   ]
  },
  {
   "cell_type": "code",
   "execution_count": 396,
   "metadata": {
    "collapsed": false
   },
   "outputs": [
    {
     "name": "stderr",
     "output_type": "stream",
     "text": [
      "/anaconda/lib/python2.7/site-packages/ipykernel/__main__.py:2: SettingWithCopyWarning: \n",
      "A value is trying to be set on a copy of a slice from a DataFrame.\n",
      "Try using .loc[row_indexer,col_indexer] = value instead\n",
      "\n",
      "See the caveats in the documentation: http://pandas.pydata.org/pandas-docs/stable/indexing.html#indexing-view-versus-copy\n",
      "  from ipykernel import kernelapp as app\n"
     ]
    },
    {
     "data": {
      "text/html": [
       "<div>\n",
       "<table border=\"1\" class=\"dataframe\">\n",
       "  <thead>\n",
       "    <tr style=\"text-align: right;\">\n",
       "      <th></th>\n",
       "      <th>title</th>\n",
       "      <th>location</th>\n",
       "      <th>company</th>\n",
       "      <th>salary</th>\n",
       "    </tr>\n",
       "  </thead>\n",
       "  <tbody>\n",
       "    <tr>\n",
       "      <th>10</th>\n",
       "      <td>Senior Quantitative Analyst</td>\n",
       "      <td>Chicago</td>\n",
       "      <td>Beall Research</td>\n",
       "      <td>60000.0</td>\n",
       "    </tr>\n",
       "    <tr>\n",
       "      <th>11</th>\n",
       "      <td>Data Scientist -Fitness/Wellness Firm</td>\n",
       "      <td>Chicago</td>\n",
       "      <td>Hirewell</td>\n",
       "      <td>120000.0</td>\n",
       "    </tr>\n",
       "  </tbody>\n",
       "</table>\n",
       "</div>"
      ],
      "text/plain": [
       "                                    title location             company  \\\n",
       "10            Senior Quantitative Analyst  Chicago      Beall Research   \n",
       "11  Data Scientist -Fitness/Wellness Firm  Chicago            Hirewell   \n",
       "\n",
       "      salary  \n",
       "10   60000.0  \n",
       "11  120000.0  "
      ]
     },
     "execution_count": 396,
     "metadata": {},
     "output_type": "execute_result"
    }
   ],
   "source": [
    "#cleaning salary \n",
    "\n",
    "clean_salary(dflarge)\n",
    "dflarge.head(2)"
   ]
  },
  {
   "cell_type": "code",
   "execution_count": 398,
   "metadata": {
    "collapsed": false
   },
   "outputs": [],
   "source": [
    "clean_salary(dfbritish)"
   ]
  },
  {
   "cell_type": "code",
   "execution_count": 400,
   "metadata": {
    "collapsed": false
   },
   "outputs": [],
   "source": [
    "apply_m_conversion(dflarge)\n",
    "apply_brit_conversion(dfbritish)"
   ]
  },
  {
   "cell_type": "code",
   "execution_count": 402,
   "metadata": {
    "collapsed": true
   },
   "outputs": [],
   "source": [
    "#conversion rate of pound to dollar \n",
    "#dfbritish['salary'] = dfbritish['salary'] * 1.25"
   ]
  },
  {
   "cell_type": "code",
   "execution_count": 349,
   "metadata": {
    "collapsed": false
   },
   "outputs": [],
   "source": [
    "#applying conversion \n",
    "apply_m_conversion(dfmedium)"
   ]
  },
  {
   "cell_type": "markdown",
   "metadata": {
    "focus": false,
    "id": "7d4bc860-b214-4f75-9cd0-b234830b1ec2"
   },
   "source": [
    "#### Write a function that takes a salary string and converts it to a number, averaging a salary range if necessary"
   ]
  },
  {
   "cell_type": "markdown",
   "metadata": {
    "collapsed": false,
    "focus": false,
    "id": "43e71edd-210e-42b1-9336-70a931f048af"
   },
   "source": [
    "### Save your results as a CSV"
   ]
  },
  {
   "cell_type": "code",
   "execution_count": 312,
   "metadata": {
    "collapsed": true,
    "focus": false,
    "id": "783fd153-28ac-47ab-bfca-27e7c1de95b4"
   },
   "outputs": [],
   "source": [
    "# Export to csv\n",
    "\n",
    "dfmediumtest.to_csv('mediumcities_updated.csv', index=False)\n"
   ]
  },
  {
   "cell_type": "markdown",
   "metadata": {
    "focus": false,
    "id": "04563b69-f7b6-466f-9d65-fc62c9ddee6a"
   },
   "source": [
    "## Predicting salaries using Random Forests + Another Classifier"
   ]
  },
  {
   "cell_type": "markdown",
   "metadata": {
    "focus": false,
    "id": "243e949e-2742-40af-872e-fec475fd306c"
   },
   "source": [
    "#### Load in the the data of scraped salaries"
   ]
  },
  {
   "cell_type": "code",
   "execution_count": 409,
   "metadata": {
    "collapsed": false,
    "focus": false,
    "id": "588f9845-6143-4bcc-bfd1-85d45b79303d"
   },
   "outputs": [],
   "source": [
    "## YOUR CODE HERE\n",
    "\n",
    "medium2 = pd.read_csv('mediumcities_updated.csv')\n",
    "#model"
   ]
  },
  {
   "cell_type": "code",
   "execution_count": 410,
   "metadata": {
    "collapsed": true
   },
   "outputs": [],
   "source": [
    "#combining dataframes \n",
    "\n",
    "data = pd.concat([medium2, dflarge, dfbritish])"
   ]
  },
  {
   "cell_type": "markdown",
   "metadata": {
    "focus": false,
    "id": "c7631f51-07f2-4c79-a093-3e9bc7849a48"
   },
   "source": [
    "#### We want to predict a binary variable - whether the salary was low or high. Compute the median salary and create a new binary variable that is true when the salary is high (above the median)\n",
    "\n",
    "We could also perform Linear Regression (or any regression) to predict the salary value here. Instead, we are going to convert this into a _binary_ classification problem, by predicting two classes, HIGH vs LOW salary.\n",
    "\n",
    "While performing regression may be better, performing classification may help remove some of the noise of the extreme salaries. We don't have to choice the `median` as the splitting point - we could also split on the 75th percentile or any other reasonable breaking point.\n",
    "\n",
    "In fact, the ideal scenario may be to predict many levels of salaries, "
   ]
  },
  {
   "cell_type": "code",
   "execution_count": 414,
   "metadata": {
    "collapsed": false,
    "focus": false,
    "id": "c20d2498-151c-44c3-a453-3a333c79a0ac"
   },
   "outputs": [],
   "source": [
    "## YOUR CODE HERE\n",
    "\n",
    "median = data.salary.median()\n",
    "#77490\n",
    "\n",
    "def median_col(column):\n",
    "    if column <= median:\n",
    "        return 'low'\n",
    "    else:\n",
    "        return 'high'"
   ]
  },
  {
   "cell_type": "code",
   "execution_count": 416,
   "metadata": {
    "collapsed": false
   },
   "outputs": [],
   "source": [
    "data['salary_binary'] = data['salary'].apply(median_col)\n",
    "#model"
   ]
  },
  {
   "cell_type": "markdown",
   "metadata": {
    "focus": false,
    "id": "a7afb2c0-d41e-4779-8216-91cd8dd4473f"
   },
   "source": [
    "#### Thought experiment: What is the baseline accuracy for this model?"
   ]
  },
  {
   "cell_type": "markdown",
   "metadata": {
    "collapsed": true,
    "focus": false,
    "id": "87a17d3d-b7f4-4747-9f75-f9af1d18a174"
   },
   "source": [
    "## YOUR CODE HERE\n",
    "\n",
    "basline accuracy for this model should be 50% - as a random guesser should be able to classify half of the salaries correctly "
   ]
  },
  {
   "cell_type": "markdown",
   "metadata": {
    "focus": false,
    "id": "4fb29de2-5b98-474c-a4ad-5170b72b9aea"
   },
   "source": [
    "#### Create a Random Forest model to predict High/Low salary using statsmodel. Start by ONLY using the location as a feature. "
   ]
  },
  {
   "cell_type": "code",
   "execution_count": 417,
   "metadata": {
    "collapsed": false,
    "focus": false,
    "id": "ddbc6159-6854-4ca7-857f-bfecdaf6d9c2"
   },
   "outputs": [],
   "source": [
    "## YOUR CODE HERE\n",
    "\n",
    "#X = model[model.drop('acceptability', axis =1)]\n",
    "X = pd.get_dummies(data['location'])\n",
    "y = data['salary_binary']"
   ]
  },
  {
   "cell_type": "code",
   "execution_count": 339,
   "metadata": {
    "collapsed": false
   },
   "outputs": [],
   "source": [
    "from sklearn.cross_validation import cross_val_score, StratifiedKFold, train_test_split\n",
    "from sklearn.metrics import classification_report, confusion_matrix, accuracy_score\n"
   ]
  },
  {
   "cell_type": "code",
   "execution_count": 418,
   "metadata": {
    "collapsed": false
   },
   "outputs": [
    {
     "data": {
      "text/plain": [
       "RandomForestClassifier(bootstrap=True, class_weight=None, criterion='gini',\n",
       "            max_depth=None, max_features='auto', max_leaf_nodes=None,\n",
       "            min_impurity_split=1e-07, min_samples_leaf=1,\n",
       "            min_samples_split=2, min_weight_fraction_leaf=0.0,\n",
       "            n_estimators=10, n_jobs=1, oob_score=False, random_state=None,\n",
       "            verbose=0, warm_start=False)"
      ]
     },
     "execution_count": 418,
     "metadata": {},
     "output_type": "execute_result"
    }
   ],
   "source": [
    "#instatiating a model \n",
    "\n",
    "from sklearn.ensemble import RandomForestClassifier\n",
    "\n",
    "rf_loc = RandomForestClassifier()\n",
    "\n",
    "rf_loc.fit(X,y)\n"
   ]
  },
  {
   "cell_type": "code",
   "execution_count": 419,
   "metadata": {
    "collapsed": true
   },
   "outputs": [],
   "source": [
    "cv = StratifiedKFold(y, n_folds=5, shuffle=True)"
   ]
  },
  {
   "cell_type": "code",
   "execution_count": 420,
   "metadata": {
    "collapsed": false
   },
   "outputs": [
    {
     "data": {
      "text/plain": [
       "0.65711725550435218"
      ]
     },
     "execution_count": 420,
     "metadata": {},
     "output_type": "execute_result"
    }
   ],
   "source": [
    "y_pred = rf_loc.predict(X)\n",
    "scores = cross_val_score(rf_loc, X, y, cv=cv)\n",
    "scores.mean()"
   ]
  },
  {
   "cell_type": "code",
   "execution_count": 421,
   "metadata": {
    "collapsed": false
   },
   "outputs": [
    {
     "name": "stdout",
     "output_type": "stream",
     "text": [
      "      high  low\n",
      "high   183  129\n",
      "low     38  274\n"
     ]
    }
   ],
   "source": [
    "conmat_1 = confusion_matrix(y, y_pred, labels=rf_loc.classes_)\n",
    "conmat_1 = pd.DataFrame(conmat_1, columns=rf_loc.classes_, index=rf_loc.classes_)\n",
    "print(conmat_1)"
   ]
  },
  {
   "cell_type": "markdown",
   "metadata": {
    "focus": false,
    "id": "0ef04f32-419c-4bf2-baf7-48201f03df89"
   },
   "source": [
    "#### Create a few new variables in your dataframe to represent interesting features of a job title.\n",
    "- For example, create a feature that represents whether 'Senior' is in the title \n",
    "- or whether 'Manager' is in the title. \n",
    "- Then build a new Random Forest with these features. Do they add any value? \n"
   ]
  },
  {
   "cell_type": "code",
   "execution_count": 423,
   "metadata": {
    "collapsed": false
   },
   "outputs": [],
   "source": [
    "data['Manager'] = data['title'].str.contains('Manager')"
   ]
  },
  {
   "cell_type": "code",
   "execution_count": 424,
   "metadata": {
    "collapsed": true
   },
   "outputs": [],
   "source": [
    "data['Senior'] = data['title'].str.contains('Senior')"
   ]
  },
  {
   "cell_type": "code",
   "execution_count": 348,
   "metadata": {
    "collapsed": false
   },
   "outputs": [],
   "source": [
    "#medium.title.str.contains('Manager')"
   ]
  },
  {
   "cell_type": "code",
   "execution_count": 359,
   "metadata": {
    "collapsed": false
   },
   "outputs": [],
   "source": [
    "#medium['Manager'] = medium['title'].apply(manager)"
   ]
  },
  {
   "cell_type": "code",
   "execution_count": 427,
   "metadata": {
    "collapsed": false
   },
   "outputs": [
    {
     "data": {
      "text/html": [
       "<div>\n",
       "<table border=\"1\" class=\"dataframe\">\n",
       "  <thead>\n",
       "    <tr style=\"text-align: right;\">\n",
       "      <th></th>\n",
       "      <th>title</th>\n",
       "      <th>location</th>\n",
       "      <th>company</th>\n",
       "      <th>salary</th>\n",
       "      <th>salary_binary</th>\n",
       "      <th>Manager</th>\n",
       "      <th>Senior</th>\n",
       "      <th>salary_num</th>\n",
       "    </tr>\n",
       "  </thead>\n",
       "  <tbody>\n",
       "    <tr>\n",
       "      <th>0</th>\n",
       "      <td>Scientist, Process Development</td>\n",
       "      <td>Houston</td>\n",
       "      <td>iBio CMO</td>\n",
       "      <td>80000.0</td>\n",
       "      <td>high</td>\n",
       "      <td>False</td>\n",
       "      <td>False</td>\n",
       "      <td>1</td>\n",
       "    </tr>\n",
       "  </tbody>\n",
       "</table>\n",
       "</div>"
      ],
      "text/plain": [
       "                            title location       company   salary  \\\n",
       "0  Scientist, Process Development  Houston      iBio CMO  80000.0   \n",
       "\n",
       "  salary_binary Manager Senior  salary_num  \n",
       "0          high   False  False           1  "
      ]
     },
     "execution_count": 427,
     "metadata": {},
     "output_type": "execute_result"
    }
   ],
   "source": [
    "data.head(1)"
   ]
  },
  {
   "cell_type": "code",
   "execution_count": 425,
   "metadata": {
    "collapsed": false
   },
   "outputs": [],
   "source": [
    "salary_dict = {'high':1,'low':0}\n",
    "data['salary_num'] = data['salary_binary'].apply(lambda x: salary_dict[x])"
   ]
  },
  {
   "cell_type": "code",
   "execution_count": 461,
   "metadata": {
    "collapsed": false
   },
   "outputs": [
    {
     "data": {
      "text/html": [
       "<div>\n",
       "<table border=\"1\" class=\"dataframe\">\n",
       "  <thead>\n",
       "    <tr style=\"text-align: right;\">\n",
       "      <th></th>\n",
       "      <th>title</th>\n",
       "      <th>location</th>\n",
       "      <th>company</th>\n",
       "      <th>salary</th>\n",
       "      <th>salary_binary</th>\n",
       "      <th>Manager_x</th>\n",
       "      <th>Senior_x</th>\n",
       "      <th>salary_num</th>\n",
       "      <th>data_scientist_x</th>\n",
       "      <th>Manager_y</th>\n",
       "      <th>...</th>\n",
       "      <th>location_Warrington</th>\n",
       "      <th>location_Warwick</th>\n",
       "      <th>location_Warwick CV34</th>\n",
       "      <th>location_Washington</th>\n",
       "      <th>location_West Chester</th>\n",
       "      <th>location_West London</th>\n",
       "      <th>location_Westminster</th>\n",
       "      <th>ypred</th>\n",
       "      <th>ypredreg</th>\n",
       "      <th>reg_residuals</th>\n",
       "    </tr>\n",
       "  </thead>\n",
       "  <tbody>\n",
       "    <tr>\n",
       "      <th>0</th>\n",
       "      <td>Scientist, Process Development</td>\n",
       "      <td>Houston</td>\n",
       "      <td>iBio CMO</td>\n",
       "      <td>80000.0</td>\n",
       "      <td>high</td>\n",
       "      <td>False</td>\n",
       "      <td>False</td>\n",
       "      <td>1</td>\n",
       "      <td>True</td>\n",
       "      <td>False</td>\n",
       "      <td>...</td>\n",
       "      <td>0.0</td>\n",
       "      <td>0.0</td>\n",
       "      <td>0.0</td>\n",
       "      <td>0.0</td>\n",
       "      <td>0.0</td>\n",
       "      <td>0.0</td>\n",
       "      <td>0.0</td>\n",
       "      <td>111933.333333</td>\n",
       "      <td>111933.333333</td>\n",
       "      <td>-31933.333333</td>\n",
       "    </tr>\n",
       "  </tbody>\n",
       "</table>\n",
       "<p>1 rows × 124 columns</p>\n",
       "</div>"
      ],
      "text/plain": [
       "                            title location       company   salary  \\\n",
       "0  Scientist, Process Development  Houston      iBio CMO  80000.0   \n",
       "\n",
       "  salary_binary Manager_x Senior_x  salary_num data_scientist_x Manager_y  \\\n",
       "0          high     False    False           1             True     False   \n",
       "\n",
       "       ...       location_Warrington location_Warwick  location_Warwick CV34  \\\n",
       "0      ...                       0.0              0.0                    0.0   \n",
       "\n",
       "   location_Washington  location_West Chester  location_West London  \\\n",
       "0                  0.0                    0.0                   0.0   \n",
       "\n",
       "   location_Westminster          ypred       ypredreg  reg_residuals  \n",
       "0                   0.0  111933.333333  111933.333333  -31933.333333  \n",
       "\n",
       "[1 rows x 124 columns]"
      ]
     },
     "execution_count": 461,
     "metadata": {},
     "output_type": "execute_result"
    }
   ],
   "source": [
    "data.head(1)"
   ]
  },
  {
   "cell_type": "code",
   "execution_count": 463,
   "metadata": {
    "collapsed": false,
    "scrolled": true
   },
   "outputs": [
    {
     "name": "stdout",
     "output_type": "stream",
     "text": [
      "Optimization terminated successfully.\n",
      "         Current function value: 0.683927\n",
      "         Iterations 4\n"
     ]
    },
    {
     "data": {
      "text/html": [
       "<table class=\"simpletable\">\n",
       "<caption>Logit Regression Results</caption>\n",
       "<tr>\n",
       "  <th>Dep. Variable:</th>    <td>salary_num</td>    <th>  No. Observations:  </th>  <td>   678</td> \n",
       "</tr>\n",
       "<tr>\n",
       "  <th>Model:</th>               <td>Logit</td>      <th>  Df Residuals:      </th>  <td>   674</td> \n",
       "</tr>\n",
       "<tr>\n",
       "  <th>Method:</th>               <td>MLE</td>       <th>  Df Model:          </th>  <td>     3</td> \n",
       "</tr>\n",
       "<tr>\n",
       "  <th>Date:</th>          <td>Fri, 06 Jan 2017</td> <th>  Pseudo R-squ.:     </th>  <td>0.01328</td>\n",
       "</tr>\n",
       "<tr>\n",
       "  <th>Time:</th>              <td>09:24:42</td>     <th>  Log-Likelihood:    </th> <td> -463.70</td>\n",
       "</tr>\n",
       "<tr>\n",
       "  <th>converged:</th>           <td>True</td>       <th>  LL-Null:           </th> <td> -469.94</td>\n",
       "</tr>\n",
       "<tr>\n",
       "  <th> </th>                      <td> </td>        <th>  LLR p-value:       </th> <td>0.005910</td>\n",
       "</tr>\n",
       "</table>\n",
       "<table class=\"simpletable\">\n",
       "<tr>\n",
       "              <td></td>                <th>coef</th>     <th>std err</th>      <th>z</th>      <th>P>|z|</th> <th>[95.0% Conf. Int.]</th> \n",
       "</tr>\n",
       "<tr>\n",
       "  <th>Intercept</th>                <td>   -0.2016</td> <td>    0.103</td> <td>   -1.954</td> <td> 0.051</td> <td>   -0.404     0.001</td>\n",
       "</tr>\n",
       "<tr>\n",
       "  <th>Manager_x[T.True]</th>        <td>    0.0982</td> <td>    0.357</td> <td>    0.275</td> <td> 0.784</td> <td>   -0.602     0.799</td>\n",
       "</tr>\n",
       "<tr>\n",
       "  <th>Senior_x[T.True]</th>         <td>    0.6213</td> <td>    0.237</td> <td>    2.618</td> <td> 0.009</td> <td>    0.156     1.086</td>\n",
       "</tr>\n",
       "<tr>\n",
       "  <th>data_scientist_x[T.True]</th> <td>    0.3736</td> <td>    0.164</td> <td>    2.273</td> <td> 0.023</td> <td>    0.051     0.696</td>\n",
       "</tr>\n",
       "</table>"
      ],
      "text/plain": [
       "<class 'statsmodels.iolib.summary.Summary'>\n",
       "\"\"\"\n",
       "                           Logit Regression Results                           \n",
       "==============================================================================\n",
       "Dep. Variable:             salary_num   No. Observations:                  678\n",
       "Model:                          Logit   Df Residuals:                      674\n",
       "Method:                           MLE   Df Model:                            3\n",
       "Date:                Fri, 06 Jan 2017   Pseudo R-squ.:                 0.01328\n",
       "Time:                        09:24:42   Log-Likelihood:                -463.70\n",
       "converged:                       True   LL-Null:                       -469.94\n",
       "                                        LLR p-value:                  0.005910\n",
       "============================================================================================\n",
       "                               coef    std err          z      P>|z|      [95.0% Conf. Int.]\n",
       "--------------------------------------------------------------------------------------------\n",
       "Intercept                   -0.2016      0.103     -1.954      0.051        -0.404     0.001\n",
       "Manager_x[T.True]            0.0982      0.357      0.275      0.784        -0.602     0.799\n",
       "Senior_x[T.True]             0.6213      0.237      2.618      0.009         0.156     1.086\n",
       "data_scientist_x[T.True]     0.3736      0.164      2.273      0.023         0.051     0.696\n",
       "============================================================================================\n",
       "\"\"\""
      ]
     },
     "execution_count": 463,
     "metadata": {},
     "output_type": "execute_result"
    }
   ],
   "source": [
    "#logistic regression with stats models \n",
    "\n",
    "import statsmodels.formula.api as sm\n",
    "\n",
    "smlogit1 = sm.logit(\"salary_num ~ Manager_x + Senior_x + data_scientist_x\", data=data).fit()\n",
    "smlogit1.summary()"
   ]
  },
  {
   "cell_type": "code",
   "execution_count": 467,
   "metadata": {
    "collapsed": false
   },
   "outputs": [
    {
     "data": {
      "text/plain": [
       "1.1031833268560338"
      ]
     },
     "execution_count": 467,
     "metadata": {},
     "output_type": "execute_result"
    }
   ],
   "source": [
    "e**.0982\n",
    "\n",
    "#so if manager is in the title it is about ~10% more likely to be above the median salary"
   ]
  },
  {
   "cell_type": "code",
   "execution_count": 465,
   "metadata": {
    "collapsed": false
   },
   "outputs": [
    {
     "data": {
      "text/plain": [
       "1.4290355266895025"
      ]
     },
     "execution_count": 465,
     "metadata": {},
     "output_type": "execute_result"
    }
   ],
   "source": [
    "e = 2.71828\n",
    "\n",
    "e**.357\n",
    "\n",
    "#so if scientist is in the title it is about ~43% more likely to be above the median salary"
   ]
  },
  {
   "cell_type": "code",
   "execution_count": 466,
   "metadata": {
    "collapsed": false
   },
   "outputs": [
    {
     "data": {
      "text/plain": [
       "1.8613454418837991"
      ]
     },
     "execution_count": 466,
     "metadata": {},
     "output_type": "execute_result"
    }
   ],
   "source": [
    "e**.6213\n",
    "\n",
    "#if 'senior' is in the title it is about ~86% more likely to be above the median salary"
   ]
  },
  {
   "cell_type": "code",
   "execution_count": 428,
   "metadata": {
    "collapsed": false
   },
   "outputs": [
    {
     "name": "stdout",
     "output_type": "stream",
     "text": [
      "Optimization terminated successfully.\n",
      "         Current function value: 0.686778\n",
      "         Iterations 4\n"
     ]
    },
    {
     "data": {
      "text/html": [
       "<table class=\"simpletable\">\n",
       "<caption>Logit Regression Results</caption>\n",
       "<tr>\n",
       "  <th>Dep. Variable:</th>    <td>salary_num</td>    <th>  No. Observations:  </th>  <td>   624</td> \n",
       "</tr>\n",
       "<tr>\n",
       "  <th>Model:</th>               <td>Logit</td>      <th>  Df Residuals:      </th>  <td>   621</td> \n",
       "</tr>\n",
       "<tr>\n",
       "  <th>Method:</th>               <td>MLE</td>       <th>  Df Model:          </th>  <td>     2</td> \n",
       "</tr>\n",
       "<tr>\n",
       "  <th>Date:</th>          <td>Fri, 06 Jan 2017</td> <th>  Pseudo R-squ.:     </th> <td>0.009189</td>\n",
       "</tr>\n",
       "<tr>\n",
       "  <th>Time:</th>              <td>08:29:41</td>     <th>  Log-Likelihood:    </th> <td> -428.55</td>\n",
       "</tr>\n",
       "<tr>\n",
       "  <th>converged:</th>           <td>True</td>       <th>  LL-Null:           </th> <td> -432.52</td>\n",
       "</tr>\n",
       "<tr>\n",
       "  <th> </th>                      <td> </td>        <th>  LLR p-value:       </th>  <td>0.01879</td>\n",
       "</tr>\n",
       "</table>\n",
       "<table class=\"simpletable\">\n",
       "<tr>\n",
       "         <td></td>            <th>coef</th>     <th>std err</th>      <th>z</th>      <th>P>|z|</th> <th>[95.0% Conf. Int.]</th> \n",
       "</tr>\n",
       "<tr>\n",
       "  <th>Intercept</th>       <td>   -0.0928</td> <td>    0.088</td> <td>   -1.055</td> <td> 0.291</td> <td>   -0.265     0.080</td>\n",
       "</tr>\n",
       "<tr>\n",
       "  <th>Manager[T.True]</th> <td>    0.1566</td> <td>    0.365</td> <td>    0.428</td> <td> 0.668</td> <td>   -0.560     0.873</td>\n",
       "</tr>\n",
       "<tr>\n",
       "  <th>Senior[T.True]</th>  <td>    0.6866</td> <td>    0.250</td> <td>    2.741</td> <td> 0.006</td> <td>    0.196     1.177</td>\n",
       "</tr>\n",
       "</table>"
      ],
      "text/plain": [
       "<class 'statsmodels.iolib.summary.Summary'>\n",
       "\"\"\"\n",
       "                           Logit Regression Results                           \n",
       "==============================================================================\n",
       "Dep. Variable:             salary_num   No. Observations:                  624\n",
       "Model:                          Logit   Df Residuals:                      621\n",
       "Method:                           MLE   Df Model:                            2\n",
       "Date:                Fri, 06 Jan 2017   Pseudo R-squ.:                0.009189\n",
       "Time:                        08:29:41   Log-Likelihood:                -428.55\n",
       "converged:                       True   LL-Null:                       -432.52\n",
       "                                        LLR p-value:                   0.01879\n",
       "===================================================================================\n",
       "                      coef    std err          z      P>|z|      [95.0% Conf. Int.]\n",
       "-----------------------------------------------------------------------------------\n",
       "Intercept          -0.0928      0.088     -1.055      0.291        -0.265     0.080\n",
       "Manager[T.True]     0.1566      0.365      0.428      0.668        -0.560     0.873\n",
       "Senior[T.True]      0.6866      0.250      2.741      0.006         0.196     1.177\n",
       "===================================================================================\n",
       "\"\"\""
      ]
     },
     "execution_count": 428,
     "metadata": {},
     "output_type": "execute_result"
    }
   ],
   "source": [
    "#logistic regression with stats models \n",
    "\n",
    "import statsmodels.formula.api as sm\n",
    "\n",
    "smlogit1 = sm.logit(\"salary_num ~ Manager + Senior\", data=data).fit()\n",
    "smlogit1.summary()"
   ]
  },
  {
   "cell_type": "markdown",
   "metadata": {
    "focus": false,
    "id": "9c9274ef-c9f5-4d56-b286-ecc8709eff9f"
   },
   "source": [
    "#### Rebuild this model with scikit-learn.\n",
    "- You can either create the dummy features manually or use the `dmatrix` function from `patsy`\n",
    "- Remember to scale the feature variables as well!\n"
   ]
  },
  {
   "cell_type": "code",
   "execution_count": 429,
   "metadata": {
    "collapsed": true
   },
   "outputs": [],
   "source": [
    "#looking to see if scientish helps \n",
    "\n",
    "data['data_scientist'] = data['title'].str.contains('Scientist')\n"
   ]
  },
  {
   "cell_type": "code",
   "execution_count": 430,
   "metadata": {
    "collapsed": false
   },
   "outputs": [
    {
     "data": {
      "text/html": [
       "<div>\n",
       "<table border=\"1\" class=\"dataframe\">\n",
       "  <thead>\n",
       "    <tr style=\"text-align: right;\">\n",
       "      <th></th>\n",
       "      <th>title</th>\n",
       "      <th>location</th>\n",
       "      <th>company</th>\n",
       "      <th>salary</th>\n",
       "      <th>salary_binary</th>\n",
       "      <th>Manager</th>\n",
       "      <th>Senior</th>\n",
       "      <th>salary_num</th>\n",
       "      <th>data_scientist</th>\n",
       "    </tr>\n",
       "  </thead>\n",
       "  <tbody>\n",
       "    <tr>\n",
       "      <th>0</th>\n",
       "      <td>Scientist, Process Development</td>\n",
       "      <td>Houston</td>\n",
       "      <td>iBio CMO</td>\n",
       "      <td>80000.0</td>\n",
       "      <td>high</td>\n",
       "      <td>False</td>\n",
       "      <td>False</td>\n",
       "      <td>1</td>\n",
       "      <td>True</td>\n",
       "    </tr>\n",
       "  </tbody>\n",
       "</table>\n",
       "</div>"
      ],
      "text/plain": [
       "                            title location       company   salary  \\\n",
       "0  Scientist, Process Development  Houston      iBio CMO  80000.0   \n",
       "\n",
       "  salary_binary Manager Senior  salary_num data_scientist  \n",
       "0          high   False  False           1           True  "
      ]
     },
     "execution_count": 430,
     "metadata": {},
     "output_type": "execute_result"
    }
   ],
   "source": [
    "data.head(1)"
   ]
  },
  {
   "cell_type": "code",
   "execution_count": 437,
   "metadata": {
    "collapsed": false
   },
   "outputs": [
    {
     "data": {
      "text/html": [
       "<div>\n",
       "<table border=\"1\" class=\"dataframe\">\n",
       "  <thead>\n",
       "    <tr style=\"text-align: right;\">\n",
       "      <th></th>\n",
       "      <th>title</th>\n",
       "      <th>location</th>\n",
       "      <th>company</th>\n",
       "      <th>salary</th>\n",
       "      <th>salary_binary</th>\n",
       "      <th>Manager_x</th>\n",
       "      <th>Senior_x</th>\n",
       "      <th>salary_num</th>\n",
       "      <th>data_scientist_x</th>\n",
       "      <th>Manager_y</th>\n",
       "      <th>...</th>\n",
       "      <th>location_Swedesboro</th>\n",
       "      <th>location_Teddington</th>\n",
       "      <th>location_Tempe</th>\n",
       "      <th>location_Warrington</th>\n",
       "      <th>location_Warwick</th>\n",
       "      <th>location_Warwick CV34</th>\n",
       "      <th>location_Washington</th>\n",
       "      <th>location_West Chester</th>\n",
       "      <th>location_West London</th>\n",
       "      <th>location_Westminster</th>\n",
       "    </tr>\n",
       "  </thead>\n",
       "  <tbody>\n",
       "    <tr>\n",
       "      <th>0</th>\n",
       "      <td>Scientist, Process Development</td>\n",
       "      <td>Houston</td>\n",
       "      <td>iBio CMO</td>\n",
       "      <td>80000.0</td>\n",
       "      <td>high</td>\n",
       "      <td>False</td>\n",
       "      <td>False</td>\n",
       "      <td>1</td>\n",
       "      <td>True</td>\n",
       "      <td>False</td>\n",
       "      <td>...</td>\n",
       "      <td>0.0</td>\n",
       "      <td>0.0</td>\n",
       "      <td>0.0</td>\n",
       "      <td>0.0</td>\n",
       "      <td>0.0</td>\n",
       "      <td>0.0</td>\n",
       "      <td>0.0</td>\n",
       "      <td>0.0</td>\n",
       "      <td>0.0</td>\n",
       "      <td>0.0</td>\n",
       "    </tr>\n",
       "  </tbody>\n",
       "</table>\n",
       "<p>1 rows × 121 columns</p>\n",
       "</div>"
      ],
      "text/plain": [
       "                            title location       company   salary  \\\n",
       "0  Scientist, Process Development  Houston      iBio CMO  80000.0   \n",
       "\n",
       "  salary_binary Manager_x Senior_x  salary_num data_scientist_x Manager_y  \\\n",
       "0          high     False    False           1             True     False   \n",
       "\n",
       "           ...          location_Swedesboro location_Teddington  \\\n",
       "0          ...                          0.0                 0.0   \n",
       "\n",
       "   location_Tempe  location_Warrington  location_Warwick  \\\n",
       "0             0.0                  0.0               0.0   \n",
       "\n",
       "   location_Warwick CV34  location_Washington  location_West Chester  \\\n",
       "0                    0.0                  0.0                    0.0   \n",
       "\n",
       "   location_West London  location_Westminster  \n",
       "0                   0.0                   0.0  \n",
       "\n",
       "[1 rows x 121 columns]"
      ]
     },
     "execution_count": 437,
     "metadata": {},
     "output_type": "execute_result"
    }
   ],
   "source": [
    "data.head(1)"
   ]
  },
  {
   "cell_type": "code",
   "execution_count": 442,
   "metadata": {
    "collapsed": false
   },
   "outputs": [
    {
     "data": {
      "text/plain": [
       "0.99516129032258061"
      ]
     },
     "execution_count": 442,
     "metadata": {},
     "output_type": "execute_result"
    }
   ],
   "source": [
    "#great score! \n",
    "\n",
    "X2 = data.drop(['salary_binary','location','company','salary','salary','title'], axis = 1)\n",
    "y2 = data['salary_binary']\n",
    "\n",
    "rf2 = RandomForestClassifier()\n",
    "\n",
    "rf2.fit(X2,y2)\n",
    "\n",
    "y_pred2 = rf2.predict(X2)\n",
    "scores2 = cross_val_score(rf2, X2, y2, cv=cv)\n",
    "scores2.mean()\n",
    "\n"
   ]
  },
  {
   "cell_type": "code",
   "execution_count": 443,
   "metadata": {
    "collapsed": false,
    "focus": false,
    "id": "b76f65cd-cd3a-4e91-af55-12880be7b057"
   },
   "outputs": [],
   "source": [
    "## YOUR CODE HERE"
   ]
  },
  {
   "cell_type": "code",
   "execution_count": 435,
   "metadata": {
    "collapsed": true
   },
   "outputs": [],
   "source": [
    "dummies = pd.get_dummies(data[['location','Manager','Senior','data_scientist']], drop_first = True)\n",
    "data = data.merge(dummies, left_index = True, right_index = True,how = 'outer')"
   ]
  },
  {
   "cell_type": "code",
   "execution_count": null,
   "metadata": {
    "collapsed": false
   },
   "outputs": [],
   "source": [
    "#doing very well below....probably a little too well "
   ]
  },
  {
   "cell_type": "code",
   "execution_count": 444,
   "metadata": {
    "collapsed": false
   },
   "outputs": [
    {
     "name": "stdout",
     "output_type": "stream",
     "text": [
      "      high  low\n",
      "high   341    0\n",
      "low      0  337\n"
     ]
    }
   ],
   "source": [
    "conmat_2 = confusion_matrix(y2, y_pred2, labels=rf2.classes_)\n",
    "conmat_2 = pd.DataFrame(conmat_2, columns=rf2.classes_, index=rf2.classes_)\n",
    "print(conmat_2)"
   ]
  },
  {
   "cell_type": "markdown",
   "metadata": {
    "focus": false,
    "id": "9367beff-72ba-4768-a0ba-a50b335de61d"
   },
   "source": [
    "#### Use cross-validation in scikit-learn to evaluate the model above. \n",
    "- Evaluate the accuracy of the model. "
   ]
  },
  {
   "cell_type": "markdown",
   "metadata": {},
   "source": [
    "#### Random Forest Regressor\n",
    "\n",
    "Let's try treating this as a regression problem. \n",
    "\n",
    "- Train a random forest regressor on the regression problem and predict your dependent.\n",
    "- Evaluate the score with a 5-fold cross-validation\n",
    "- Do a scatter plot of the predicted vs actual scores for each of the 5 folds, do they match?"
   ]
  },
  {
   "cell_type": "code",
   "execution_count": 446,
   "metadata": {
    "collapsed": true
   },
   "outputs": [],
   "source": [
    "Xreg = data.drop(['salary_binary','location','company','salary','salary','title'], axis = 1)\n",
    "yreg = data['salary']"
   ]
  },
  {
   "cell_type": "code",
   "execution_count": 447,
   "metadata": {
    "collapsed": false,
    "focus": false,
    "id": "56cc8854-d722-411d-a6c7-e86310710f67"
   },
   "outputs": [
    {
     "data": {
      "text/plain": [
       "RandomForestRegressor(bootstrap=True, criterion='mse', max_depth=None,\n",
       "           max_features='auto', max_leaf_nodes=None,\n",
       "           min_impurity_split=1e-07, min_samples_leaf=1,\n",
       "           min_samples_split=2, min_weight_fraction_leaf=0.0,\n",
       "           n_estimators=10, n_jobs=1, oob_score=False, random_state=None,\n",
       "           verbose=0, warm_start=False)"
      ]
     },
     "execution_count": 447,
     "metadata": {},
     "output_type": "execute_result"
    }
   ],
   "source": [
    "## YOUR CODE HERE\n",
    "\n",
    "from sklearn.ensemble import RandomForestRegressor\n",
    "\n",
    "rfr = RandomForestRegressor()\n",
    "\n",
    "rfr.fit(Xreg,yreg)"
   ]
  },
  {
   "cell_type": "code",
   "execution_count": 448,
   "metadata": {
    "collapsed": false
   },
   "outputs": [
    {
     "data": {
      "text/plain": [
       "array([ 0.54305262,  0.6716066 ,  0.50188886,  0.4738468 ,  0.49695557])"
      ]
     },
     "execution_count": 448,
     "metadata": {},
     "output_type": "execute_result"
    }
   ],
   "source": [
    "y_pred_reg = rfr.predict(Xreg)\n",
    "scoresreg = cross_val_score(rfr, Xreg, yreg, cv=cv)\n",
    "scoresreg"
   ]
  },
  {
   "cell_type": "code",
   "execution_count": 457,
   "metadata": {
    "collapsed": true
   },
   "outputs": [],
   "source": [
    "data['ypredreg'] = y_pred_reg\n",
    "\n",
    "data['reg_residuals'] = data['salary'] - data['ypredreg']\n"
   ]
  },
  {
   "cell_type": "code",
   "execution_count": 455,
   "metadata": {
    "collapsed": true
   },
   "outputs": [],
   "source": [
    "import seaborn as sns\n",
    "%matplotlib inline\n",
    "import matplotlib.pyplot as plt\n"
   ]
  },
  {
   "cell_type": "code",
   "execution_count": 456,
   "metadata": {
    "collapsed": false
   },
   "outputs": [
    {
     "data": {
      "image/png": "[encoded data removed]",
      "text/plain": [
       "<matplotlib.figure.Figure at 0x121d4e7d0>"
      ]
     },
     "metadata": {},
     "output_type": "display_data"
    }
   ],
   "source": [
    "sns.lmplot(x = 'salary', y='ypredreg', fit_reg = False, data = data)\n",
    "plt.show()"
   ]
  },
  {
   "cell_type": "code",
   "execution_count": 459,
   "metadata": {
    "collapsed": false
   },
   "outputs": [
    {
     "data": {
      "image/png": "[encoded data removed]",
      "text/plain": [
       "<matplotlib.figure.Figure at 0x1217273d0>"
      ]
     },
     "metadata": {},
     "output_type": "display_data"
    }
   ],
   "source": [
    "sns.distplot(data['reg_residuals'])\n",
    "plt.show()"
   ]
  },
  {
   "cell_type": "code",
   "execution_count": 468,
   "metadata": {
    "collapsed": false
   },
   "outputs": [
    {
     "data": {
      "image/png": "[encoded data removed]",
      "text/plain": [
       "<matplotlib.figure.Figure at 0x12129e810>"
      ]
     },
     "metadata": {},
     "output_type": "display_data"
    }
   ],
   "source": [
    "sns.lmplot(x = 'salary', y='reg_residuals', fit_reg = False, data = data)\n",
    "plt.show()"
   ]
  },
  {
   "cell_type": "markdown",
   "metadata": {
    "focus": false,
    "id": "fead9b5b-7316-405d-87fd-e144dff0cbeb"
   },
   "source": [
    "#### Continue to incorporate other text features from the title or summary that you believe will predict the salary and examine their coefficients"
   ]
  },
  {
   "cell_type": "markdown",
   "metadata": {
    "focus": false,
    "id": "12d5edeb-a272-43a0-9977-d951f12fedfb"
   },
   "source": [
    "#### Take ~100 scraped entries with salaries. Convert them to use with your model and predict the salary - which entries have the highest predicted salaries?"
   ]
  },
  {
   "cell_type": "markdown",
   "metadata": {
    "focus": false,
    "id": "3be94357-e551-4094-b784-2df039216d33"
   },
   "source": [
    "### BONUS "
   ]
  },
  {
   "cell_type": "markdown",
   "metadata": {
    "focus": false,
    "id": "db045898-1d2d-4af2-8e79-437c4c7546b4"
   },
   "source": [
    "#### Bonus: Use Count Vectorizer from scikit-learn to create features from the text summaries. \n",
    "- Examine using count or binary features in the model\n",
    "- Re-evaluate your models using these. Does this improve the model performance? \n",
    "- What text features are the most valuable? "
   ]
  },
  {
   "cell_type": "code",
   "execution_count": 23,
   "metadata": {
    "collapsed": false,
    "focus": false,
    "id": "4239e458-28bd-4675-8db3-c1d9c02b9854"
   },
   "outputs": [],
   "source": [
    "## YOUR CODE HERE"
   ]
  },
  {
   "cell_type": "code",
   "execution_count": 24,
   "metadata": {
    "collapsed": false,
    "focus": false,
    "id": "fec80936-37bc-4922-89bd-b5d615566c9c"
   },
   "outputs": [],
   "source": [
    "## YOUR CODE HERE"
   ]
  },
  {
   "cell_type": "code",
   "execution_count": null,
   "metadata": {
    "collapsed": true
   },
   "outputs": [],
   "source": []
  }
 ],
 "metadata": {
  "anaconda-cloud": {},
  "kernelspec": {
   "display_name": "Python [default]",
   "language": "python",
   "name": "python2"
  },
  "language_info": {
   "codemirror_mode": {
    "name": "ipython",
    "version": 2
   },
   "file_extension": ".py",
   "mimetype": "text/x-python",
   "name": "python",
   "nbconvert_exporter": "python",
   "pygments_lexer": "ipython2",
   "version": "2.7.12"
  }
 },
 "nbformat": 4,
 "nbformat_minor": 0
}
