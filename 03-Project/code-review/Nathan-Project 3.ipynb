{
 "cells": [
  {
   "cell_type": "markdown",
   "metadata": {},
   "source": [
    "# EVALUATING DATA SCIENTIST JOB POSTINGS"
   ]
  },
  {
   "cell_type": "markdown",
   "metadata": {},
   "source": [
    "PROCESS OF METHODS:\n",
    "\n",
    "SCRAPING\n",
    "- 1: Scrape jobs from Indeed.com.\n",
    "- 2: Scrape job descriptions from root job post.\n",
    "- 3: Scrape employer salary data from Payscale.com.\n",
    "\n",
    "FILTERING\n",
    "- 4: Filter down to job posts that have \"Data Scientist\" in the title.\n",
    "- 5: Get keywords from these \"Data Scientist\" job posts by using TFIDF vectorizer.\n",
    "- 6: Using the TFIDF scores as weights, analyze ALL job posts.\n",
    "- 7: Use the TFIDF scores for each job post to filter to the most \"Data Sciencey\" jobs.\n",
    "- 8: Use the TFIDF score for each keyword in job titles as well.\n",
    "\n",
    "WEIGHTING\n",
    "- 9: Extract salary data from job post text for all \"Data Sciencey\" jobs.\n",
    "- 10: For each company, calculate the percentage increase from the median salary to the \"Data Science\" salary.\n",
    "- TEST: Calculate the percentage increase for keywords in the job titles. (Like Chief, Senior, etc.)\n",
    "\n",
    "ESTIMATING\n",
    "- 11: For job posts without salary data, use the Data Science salary weight to estimate a salary for each job post relative to the company.\n",
    "\n",
    "MODELING\n",
    "- 12: Run all of the features through a Random Forest model to find what most influences a job being above or below the median salary.\n",
    "- 13: Run all of the features through a Logistic Regression model. Compare coefficients to feature importance from Random Forest and also adjust the threshold to minimize False Positives.\n",
    "\n",
    "VISUALIZATIONS\n",
    "- Several visuals to demonstrate what was done."
   ]
  },
  {
   "cell_type": "code",
   "execution_count": 653,
   "metadata": {
    "collapsed": false
   },
   "outputs": [],
   "source": [
    "from bs4 import BeautifulSoup\n",
    "from time import sleep\n",
    "import random\n",
    "import requests\n",
    "import urllib\n",
    "from readability.readability import Document\n",
    "from html_table_parser import parser_functions as parse\n",
    "import re\n",
    "\n",
    "from selenium import webdriver\n",
    "from selenium.webdriver.common.keys import Keys\n",
    "chrome_options = webdriver.ChromeOptions()\n",
    "chrome_options.add_argument(\"--incognito\")\n",
    "\n",
    "import pandas as pd\n",
    "import numpy as np\n",
    "import seaborn as sns\n",
    "import matplotlib.pyplot as plt\n",
    "%matplotlib inline\n",
    "\n",
    "from sklearn.preprocessing import LabelEncoder\n",
    "from sklearn.feature_extraction.text import TfidfVectorizer\n",
    "from sklearn.ensemble import RandomForestClassifier\n",
    "from sklearn.ensemble import RandomForestRegressor\n",
    "from sklearn.cross_validation import train_test_split\n",
    "from sklearn.cross_validation import cross_val_score\n",
    "from sklearn.metrics import accuracy_score, precision_score, confusion_matrix, classification_report\n",
    "from sklearn import svm, linear_model\n",
    "from sklearn.grid_search import GridSearchCV"
   ]
  },
  {
   "cell_type": "markdown",
   "metadata": {},
   "source": [
    "# SCRAPING"
   ]
  },
  {
   "cell_type": "markdown",
   "metadata": {},
   "source": [
    "### 1: Scrape jobs from Indeed.com"
   ]
  },
  {
   "cell_type": "markdown",
   "metadata": {},
   "source": [
    "Below is the indeed scraper that was run to get a dataframe that has title, company name, referral link, salary range/description, and the location of the job posts.\n",
    "\n",
    "```python\n",
    "#Dataframe we will store the collected data.\n",
    "indeed_jobs = pd.DataFrame(columns=[\"title\",\"company\",\"url\", \"srange\", \"location\"])\n",
    "#Locations we're going to search through.\n",
    "locations = ['Washington, DC', 'Herndon, VA','Atlanta, GA', 'New York, NY']\n",
    "#Function to run for the search.\n",
    "for i in locations:    \n",
    "    #open Chrome\n",
    "    driver = webdriver.Chrome(chrome_options=chrome_options)\n",
    "    #navigate to indeed.com\n",
    "    driver.get(\"https://www.indeed.com/\")\n",
    "    # find the search position\n",
    "    elem = driver.find_element_by_name(\"q\")\n",
    "    # type in data scientist\n",
    "    elem.send_keys(\"Data Scientist\")\n",
    "    # find the location position\n",
    "    elem_loc = driver.find_element_by_name(\"l\")\n",
    "    # clear autofilled data\n",
    "    elem_loc.clear()\n",
    "    # type in the next location in my list.\n",
    "    elem_loc.send_keys(i)\n",
    "    # click search\n",
    "    elem.send_keys(Keys.RETURN)\n",
    "    #close the popup that appears.\n",
    "    #driver.find_element_by_xpath(\".//div[@id='prime-popover-x']/button\").click()\n",
    "    #Filter the search results to only have full-time jobs.\n",
    "    driver.find_element_by_link_text('Full-time').click()\n",
    "    #The number of jobs returned from the search. Divide by 10 to get how many times you should click the next button.\n",
    "    end = int(BeautifulSoup(driver.page_source).find('div', {'id':'searchCount'}).text.partition('of ')[-1].replace(',',''))/12     \n",
    "    #Indeed only lets you view the first 1,000 jobs of each search. If more than 1,000 jobs are returned we'll\n",
    "    #adjust the end number to move on after its viewed all that it is allowed.\n",
    "    if end > 100:\n",
    "        end = 100\n",
    "    #Function to return the elements of the search.\n",
    "    for i in xrange(1,end):\n",
    "        soup = BeautifulSoup(driver.page_source,'html.parser', from_encoding=\"utf-8\")\n",
    "        try:\n",
    "            driver.find_element_by_link_text('No, thanks').click()\n",
    "        except:\n",
    "            for entry in soup.find_all('div', {'class':'  row  result'}):\n",
    "                title = entry.find('a').text.encode('utf-8')\n",
    "                company = entry.find('span', {'itemprop':'name'}).text.encode('utf-8')\n",
    "                location = entry.find('span', {'itemprop':'jobLocation'}).text.encode('utf-8')\n",
    "                srange = []\n",
    "                try:\n",
    "                    salary = entry.find('td', {'class':'snip'}).text.encode('utf-8')\n",
    "                    srange.append(salary)\n",
    "                except:\n",
    "                    srange.append(np.nan)\n",
    "                #description = entry.find('span', {'itemprop':'description'}).text\n",
    "                url = \"http://indeed.com\" + entry.find('a').get('href')\n",
    "                indeed_jobs.loc[len(indeed_jobs)]=[title, company, url, srange, location]\n",
    "        sleep(float(round(random.uniform(1.5, 5.9),1))) #sleep before next step.\n",
    "        driver.find_element_by_link_text('Next »').click() #click the next button for search results.\n",
    "        print indeed_jobs.shape\n",
    "    #close the driver.\n",
    "    driver.close()\n",
    "\n",
    "#Remove any duplicated rows.\n",
    "print \"Shape before duplicates removed =\", indeed_jobs.shape\n",
    "indeed_jobs = indeed_jobs.drop_duplicates(['url'])\n",
    "print \"Shape after duplicates removed =\",indeed_jobs.shape\n",
    "\n",
    "#backup the scraped jobs to csv.\n",
    "indeed_jobs.to_csv('data/FULL_TIME_INDEED_SCRAPED_DATA_RAW.csv')\n",
    "```"
   ]
  },
  {
   "cell_type": "markdown",
   "metadata": {},
   "source": [
    "### 2: Scrape job descriptions from root job post."
   ]
  },
  {
   "cell_type": "code",
   "execution_count": 654,
   "metadata": {
    "collapsed": false
   },
   "outputs": [
    {
     "name": "stdout",
     "output_type": "stream",
     "text": [
      "(2132, 5)\n"
     ]
    },
    {
     "data": {
      "text/html": [
       "<div>\n",
       "<table border=\"1\" class=\"dataframe\">\n",
       "  <thead>\n",
       "    <tr style=\"text-align: right;\">\n",
       "      <th></th>\n",
       "      <th>title</th>\n",
       "      <th>company</th>\n",
       "      <th>url</th>\n",
       "      <th>srange</th>\n",
       "      <th>location</th>\n",
       "    </tr>\n",
       "  </thead>\n",
       "  <tbody>\n",
       "    <tr>\n",
       "      <th>0</th>\n",
       "      <td>Forensic Scientist (Crime Scene)</td>\n",
       "      <td>\\n    Dept of Forensic Sciences</td>\n",
       "      <td>http://indeed.com/rc/clk?jk=70192ba18fa061a8&amp;f...</td>\n",
       "      <td>['\\n$61,491 - $79,275 a year\\n\\n\\nAnd knowledg...</td>\n",
       "      <td>Washington, DC</td>\n",
       "    </tr>\n",
       "    <tr>\n",
       "      <th>1</th>\n",
       "      <td>Data Scientist</td>\n",
       "      <td>\\n    Excella Consulting</td>\n",
       "      <td>http://indeed.com/rc/clk?jk=42cb30526e07b4ec&amp;f...</td>\n",
       "      <td>['\\n\\n\\nUsing machine learning and data mining...</td>\n",
       "      <td>Washington, DC 20006 (Foggy Bottom area)</td>\n",
       "    </tr>\n",
       "  </tbody>\n",
       "</table>\n",
       "</div>"
      ],
      "text/plain": [
       "                              title                          company  \\\n",
       "0  Forensic Scientist (Crime Scene)  \\n    Dept of Forensic Sciences   \n",
       "1                    Data Scientist         \\n    Excella Consulting   \n",
       "\n",
       "                                                 url  \\\n",
       "0  http://indeed.com/rc/clk?jk=70192ba18fa061a8&f...   \n",
       "1  http://indeed.com/rc/clk?jk=42cb30526e07b4ec&f...   \n",
       "\n",
       "                                              srange  \\\n",
       "0  ['\\n$61,491 - $79,275 a year\\n\\n\\nAnd knowledg...   \n",
       "1  ['\\n\\n\\nUsing machine learning and data mining...   \n",
       "\n",
       "                                   location  \n",
       "0                            Washington, DC  \n",
       "1  Washington, DC 20006 (Foggy Bottom area)  "
      ]
     },
     "execution_count": 654,
     "metadata": {},
     "output_type": "execute_result"
    }
   ],
   "source": [
    "#Bring in the scraped csv from the above scraper.\n",
    "scraper1_data = pd.read_csv('data/FULL_TIME_INDEED_SCRAPED_DATA_RAW.csv')\n",
    "scraper2 = pd.DataFrame(scraper1_data)\n",
    "scraper2.drop(['Unnamed: 0'], axis=1, inplace=True)\n",
    "print scraper2.shape\n",
    "scraper2.head(2)"
   ]
  },
  {
   "cell_type": "markdown",
   "metadata": {
    "collapsed": false,
    "scrolled": false
   },
   "source": [
    "Below is the scraper that we used to get the job descriptions and resolve any encoding/formatting errors that arose from those descriptions.\n",
    "```python\n",
    "#A function we will use later to strip out the html tags.\n",
    "def striphtml(data):\n",
    "    p = re.compile(r'<.*?>')\n",
    "    return p.sub('', data)\n",
    "#empty list to hold the job descriptions.\n",
    "desc = []\n",
    "for i in scraper2['url']:\n",
    "    try:\n",
    "        html = urllib.urlopen(i).read()\n",
    "        readable = Document(html).summary()\n",
    "        desc.append(str(readable))\n",
    "    except:\n",
    "        desc.append(np.nan)\n",
    "    print len(desc)\n",
    "    #sleep(float(round(random.uniform(2.5, 5.2),1))) #sleep before next step.\n",
    "#set scraped list to a column in our dataframe.\n",
    "scraper2['desc'] = desc\n",
    "#unicode decoding attempt.\n",
    "desc_unicode = []\n",
    "for i in scraper2['desc']:\n",
    "    try:\n",
    "        text = i.encode('utf-8', 'replace')\n",
    "        desc_unicode.append(text)\n",
    "    except:\n",
    "        desc_unicode.append(np.nan)\n",
    "scraper2['desc'] = desc_unicode\n",
    "print scraper2['desc'].isnull().sum()\n",
    "#format all the column values to strings.\n",
    "scraper2['desc'] = [str(job) for job in scraper2['desc']]\n",
    "#strip out the html tags.\n",
    "scraper2['desc'] = [striphtml(job) for job in scraper2['desc']]\n",
    "#remove the formatting annotations.\n",
    "scraper2['desc'] = [i.translate(None, '\\t\\n') for i in scraper2['desc']]\n",
    "scraper2['company'] = [co.translate(None, '\\t\\n') for co in scraper2['company']]\n",
    "#remove any this formatting errors that doesn't seem to go away.\n",
    "scraper2['desc'] = [x.replace('&#13;', ' ') for x in scraper2['desc']]\n",
    "#check again for duplicates.\n",
    "print \"Shape before duplicates removed =\", scraper2.shape\n",
    "scraper2 = scraper2.drop_duplicates(['url'])\n",
    "print \"Shape after duplicates removed =\",scraper2.shape\n",
    "#backup the scraped job descriptions to csv.\n",
    "scraper2.to_csv('data/SCRAPED_JOB_DESCRIPTION_DATA_RAW.csv')\n",
    "```"
   ]
  },
  {
   "cell_type": "markdown",
   "metadata": {},
   "source": [
    "### 3: Scrape salary and benefits data for employer from Payscale.com"
   ]
  },
  {
   "cell_type": "code",
   "execution_count": 655,
   "metadata": {
    "collapsed": false
   },
   "outputs": [
    {
     "name": "stdout",
     "output_type": "stream",
     "text": [
      "(2132, 6)\n"
     ]
    },
    {
     "data": {
      "text/html": [
       "<div>\n",
       "<table border=\"1\" class=\"dataframe\">\n",
       "  <thead>\n",
       "    <tr style=\"text-align: right;\">\n",
       "      <th></th>\n",
       "      <th>title</th>\n",
       "      <th>company</th>\n",
       "      <th>url</th>\n",
       "      <th>srange</th>\n",
       "      <th>location</th>\n",
       "      <th>desc</th>\n",
       "    </tr>\n",
       "  </thead>\n",
       "  <tbody>\n",
       "    <tr>\n",
       "      <th>0</th>\n",
       "      <td>Forensic Scientist (Crime Scene)</td>\n",
       "      <td>Dept of Forensic Sciences</td>\n",
       "      <td>http://indeed.com/rc/clk?jk=70192ba18fa061a8&amp;f...</td>\n",
       "      <td>['\\n$61,491 - $79,275 a year\\n\\n\\nAnd knowledg...</td>\n",
       "      <td>Washington, DC</td>\n",
       "      <td>Forensic Scientist (Crime Scene)CS-401-11Caree...</td>\n",
       "    </tr>\n",
       "    <tr>\n",
       "      <th>1</th>\n",
       "      <td>Data Scientist</td>\n",
       "      <td>Excella Consulting</td>\n",
       "      <td>http://indeed.com/rc/clk?jk=42cb30526e07b4ec&amp;f...</td>\n",
       "      <td>['\\n\\n\\nUsing machine learning and data mining...</td>\n",
       "      <td>Washington, DC 20006 (Foggy Bottom area)</td>\n",
       "      <td>Please Enable Cookies to ContinuePlease enabl...</td>\n",
       "    </tr>\n",
       "  </tbody>\n",
       "</table>\n",
       "</div>"
      ],
      "text/plain": [
       "                              title                        company  \\\n",
       "0  Forensic Scientist (Crime Scene)      Dept of Forensic Sciences   \n",
       "1                    Data Scientist             Excella Consulting   \n",
       "\n",
       "                                                 url  \\\n",
       "0  http://indeed.com/rc/clk?jk=70192ba18fa061a8&f...   \n",
       "1  http://indeed.com/rc/clk?jk=42cb30526e07b4ec&f...   \n",
       "\n",
       "                                              srange  \\\n",
       "0  ['\\n$61,491 - $79,275 a year\\n\\n\\nAnd knowledg...   \n",
       "1  ['\\n\\n\\nUsing machine learning and data mining...   \n",
       "\n",
       "                                   location  \\\n",
       "0                            Washington, DC   \n",
       "1  Washington, DC 20006 (Foggy Bottom area)   \n",
       "\n",
       "                                                desc  \n",
       "0  Forensic Scientist (Crime Scene)CS-401-11Caree...  \n",
       "1   Please Enable Cookies to ContinuePlease enabl...  "
      ]
     },
     "execution_count": 655,
     "metadata": {},
     "output_type": "execute_result"
    }
   ],
   "source": [
    "#Bring in the scraped csv from the above scraper.\n",
    "scraper2_data = pd.read_csv('data/SCRAPED_JOB_DESCRIPTION_DATA_RAW.csv')\n",
    "indeed = pd.DataFrame(scraper2_data)\n",
    "indeed.drop(['Unnamed: 0'], axis=1, inplace=True)\n",
    "print indeed.shape\n",
    "indeed.head(2)"
   ]
  },
  {
   "cell_type": "code",
   "execution_count": 656,
   "metadata": {
    "collapsed": false
   },
   "outputs": [
    {
     "name": "stdout",
     "output_type": "stream",
     "text": [
      "Number of companies = 946\n"
     ]
    },
    {
     "data": {
      "text/html": [
       "<div>\n",
       "<table border=\"1\" class=\"dataframe\">\n",
       "  <thead>\n",
       "    <tr style=\"text-align: right;\">\n",
       "      <th></th>\n",
       "      <th>company</th>\n",
       "      <th>title</th>\n",
       "      <th>url</th>\n",
       "      <th>srange</th>\n",
       "      <th>location</th>\n",
       "      <th>desc</th>\n",
       "    </tr>\n",
       "  </thead>\n",
       "  <tbody>\n",
       "    <tr>\n",
       "      <th>0</th>\n",
       "      <td>1010data</td>\n",
       "      <td>2</td>\n",
       "      <td>2</td>\n",
       "      <td>2</td>\n",
       "      <td>2</td>\n",
       "      <td>2</td>\n",
       "    </tr>\n",
       "    <tr>\n",
       "      <th>1</th>\n",
       "      <td>2U</td>\n",
       "      <td>2</td>\n",
       "      <td>2</td>\n",
       "      <td>2</td>\n",
       "      <td>2</td>\n",
       "      <td>2</td>\n",
       "    </tr>\n",
       "    <tr>\n",
       "      <th>2</th>\n",
       "      <td>3M</td>\n",
       "      <td>1</td>\n",
       "      <td>1</td>\n",
       "      <td>1</td>\n",
       "      <td>1</td>\n",
       "      <td>1</td>\n",
       "    </tr>\n",
       "    <tr>\n",
       "      <th>3</th>\n",
       "      <td>ADP</td>\n",
       "      <td>21</td>\n",
       "      <td>21</td>\n",
       "      <td>21</td>\n",
       "      <td>21</td>\n",
       "      <td>21</td>\n",
       "    </tr>\n",
       "    <tr>\n",
       "      <th>4</th>\n",
       "      <td>AECOM</td>\n",
       "      <td>1</td>\n",
       "      <td>1</td>\n",
       "      <td>1</td>\n",
       "      <td>1</td>\n",
       "      <td>0</td>\n",
       "    </tr>\n",
       "  </tbody>\n",
       "</table>\n",
       "</div>"
      ],
      "text/plain": [
       "            company  title  url  srange  location  desc\n",
       "0          1010data      2    2       2         2     2\n",
       "1                2U      2    2       2         2     2\n",
       "2                3M      1    1       1         1     1\n",
       "3               ADP     21   21      21        21    21\n",
       "4             AECOM      1    1       1         1     0"
      ]
     },
     "execution_count": 656,
     "metadata": {},
     "output_type": "execute_result"
    }
   ],
   "source": [
    "df_company = indeed.groupby('company').count()\n",
    "df_company = df_company.reset_index()\n",
    "print 'Number of companies =', len(df_company['company'])\n",
    "df_company.head()"
   ]
  },
  {
   "cell_type": "markdown",
   "metadata": {
    "collapsed": true
   },
   "source": [
    "Below is the code that was used to scrape company salary data from payscale.com.\n",
    "\n",
    "```python\n",
    "#Empty dataframe to hold our results.\n",
    "ds_salary = pd.DataFrame()\n",
    "for i in df_company['company']:\n",
    "    try:\n",
    "        #open Chrome\n",
    "        driver = webdriver.Chrome(chrome_options=chrome_options)\n",
    "        #navigate to payscale.com\n",
    "        driver.get(\"http://www.payscale.com/research/US/Country=United_States/Salary\")\n",
    "        #find the dropdown nav\n",
    "        driver.find_element_by_xpath(\".//a[@id='rcSearchDropDownBtn']\").click()\n",
    "        #find the employer option in the dropdown\n",
    "        driver.find_element_by_xpath(\".//li[@title='Employers']\").click()\n",
    "        #find the search bar\n",
    "        elem = driver.find_element_by_name('str')\n",
    "        #pass in the company name from the indeed post.\n",
    "        elem.send_keys(i)\n",
    "        #wait two seconds.\n",
    "        sleep(3.0)\n",
    "        #click on the first result from the suggested search options.\n",
    "        driver.find_element_by_xpath(\".//li[@class='ui-menu-item'][1]\").click()\n",
    "        #click on the years of experience tab on that companies page.\n",
    "        driver.find_element_by_link_text('By Years Experience').click()\n",
    "        #wait for the whole page to load.\n",
    "        sleep(5.0)\n",
    "        #soupify the page.\n",
    "        soup = BeautifulSoup(driver.page_source,'html.parser', from_encoding=\"utf-8\")\n",
    "        #find the first table with the salaries by years of experience.\n",
    "        table = soup.find_all('table', {'class':'tlf f11 w600'})[0]\n",
    "        #parse the table into a dataframe.\n",
    "        twodim_table = parse.make2d(table)\n",
    "        df_scrape_test = pd.DataFrame(twodim_table)\n",
    "        #drop the top and bottom rows in the dataframe to remove the header and footer from the html page.\n",
    "        df_scrape_test.drop(0, axis=0, inplace=True)\n",
    "        df_scrape_test = df_scrape_test[:-1]\n",
    "        #remove the number of salaries data from the first column.\n",
    "        df_scrape_test[0] = df_scrape_test[0].apply(lambda x: x.split('year')[0])\n",
    "        #return only the first two columns of the dataframe.\n",
    "        df_scrape_test.set_index(0, inplace=True)\n",
    "        df_scrape_test = df_scrape_test.rename_axis(None)\n",
    "        df_scrape_test.drop([2,3,4,5], axis=1, inplace=True)\n",
    "        df_scrape_test = df_scrape_test.transpose()\n",
    "        #Add in the company name so that you can compare against the data from Indeed.\n",
    "        df_scrape_test['salary_company_source'] = soup.find('h1').text\n",
    "        ds_salary = ds_salary.append(df_scrape_test)\n",
    "    except:\n",
    "        s2 = pd.Series([np.nan, np.nan, np.nan, np.nan, np.nan], index=['1-4 ', '5-9 ', '10-19 ', '20 ', 'Less than 1 '])\n",
    "        ds_salary = ds_salary.append(s2, ignore_index=True)\n",
    "    driver.close()\n",
    "    print \"scraped %d out of %d\" % (len(ds_salary), len(df_company['company']))\n",
    "#since you're running this while you go to bed. Export it as a csv to check in the morning.\n",
    "ds_salary.to_csv('data/PAYSCALE_SCRAPED_COMPANY_SALARY_DATA_RAW.csv')\n",
    "```"
   ]
  },
  {
   "cell_type": "markdown",
   "metadata": {},
   "source": [
    "Below is the code that was used to scrape company benefits data.\n",
    "```python\n",
    "ds_benefits = pd.DataFrame()\n",
    "for i in df_company['company']:\n",
    "    try:\n",
    "        #open Chrome\n",
    "        driver = webdriver.Chrome(chrome_options=chrome_options)\n",
    "        #navigate to payscale.com\n",
    "        driver.get(\"http://www.payscale.com/research/US/Country=United_States/Salary\")\n",
    "        #find the dropdown nav\n",
    "        driver.find_element_by_xpath(\".//a[@id='rcSearchDropDownBtn']\").click()\n",
    "        #find the employer option in the dropdown\n",
    "        driver.find_element_by_xpath(\".//li[@title='Employers']\").click()\n",
    "        #find the search bar\n",
    "        elem = driver.find_element_by_name('str')\n",
    "        #pass in the company name from the indeed post.\n",
    "        elem.send_keys(i)\n",
    "        #wait two seconds.\n",
    "        sleep(3.0)\n",
    "        #click on the first result from the suggested search options.\n",
    "        driver.find_element_by_xpath(\".//li[@class='ui-menu-item'][1]\").click()\n",
    "        #soupify the page.\n",
    "        soup = BeautifulSoup(driver.page_source,'html.parser', from_encoding=\"utf-8\")\n",
    "        #find the first table with the salaries by years of experience.\n",
    "        table = soup.find_all('table', {'class':'table table-condensed no-margin'})[0]\n",
    "        #parse the table into a dataframe.\n",
    "        twodim_table = parse.make2d(table)\n",
    "        df_scrape_test = pd.DataFrame(twodim_table)\n",
    "        #drop the rows and columns we don't need\n",
    "        df_scrape_test = df_scrape_test[[0,1]]\n",
    "        df_scrape_test.drop([0,2,3,4,7,9,10,11,12,13,14,15,16,17], inplace=True)\n",
    "        df_scrape_test = df_scrape_test.transpose()\n",
    "        df_scrape_test.columns = df_scrape_test.loc[0]\n",
    "        df_scrape_test.drop(0, inplace=True)\n",
    "        df_scrape_test['benefits_company_source'] = soup.find('h1').text\n",
    "        ds_benefits = ds_benefits.append(df_scrape_test)\n",
    "    except:\n",
    "        s2 = pd.Series([np.nan, np.nan, np.nan, np.nan], index=['Job Satisfaction', 'Work Stress', 'Job Flexibility', 'Vacation Weeks'])\n",
    "        ds_benefits = ds_benefits.append(s2, ignore_index=True)\n",
    "    driver.close()\n",
    "    print \"scraped %d out of %d\" % (len(ds_benefits), len(df_company['company']))\n",
    "#since you're running this while you go to bed. Export it as a csv to check in the morning.\n",
    "ds_benefits.to_csv('data/PAYSCALE_SCRAPED_BENEFITS_DATA_RAW.csv')\n",
    "```"
   ]
  },
  {
   "cell_type": "markdown",
   "metadata": {
    "collapsed": false
   },
   "source": [
    "Run the scraper tonight.\n",
    "\n",
    "```python\n",
    "median_salary = []\n",
    "for i in df_company['company']:\n",
    "    try:        \n",
    "        #open Chrome\n",
    "        driver = webdriver.Chrome(chrome_options=chrome_options)\n",
    "        #navigate to payscale.com\n",
    "        driver.get(\"http://www.payscale.com/research/US/Country=United_States/Salary\")\n",
    "        #find the dropdown nav\n",
    "        driver.find_element_by_xpath(\".//a[@id='rcSearchDropDownBtn']\").click()\n",
    "        #find the employer option in the dropdown\n",
    "        driver.find_element_by_xpath(\".//li[@title='Employers']\").click()\n",
    "        #find the search bar\n",
    "        elem = driver.find_element_by_name('str')\n",
    "        #pass in the company name from the indeed post.\n",
    "        elem.send_keys(i)\n",
    "        #wait two seconds.\n",
    "        sleep(3.0)\n",
    "        #click on the first result from the suggested search options.\n",
    "        driver.find_element_by_xpath(\".//li[@class='ui-menu-item'][1]\").click()\n",
    "        #click on the by job tab on that companies page.\n",
    "        driver.find_element_by_link_text('By Job').click()\n",
    "        #get the url for the jobs page.\n",
    "        url_source = driver.current_url\n",
    "        #adjust it to have the data_scientist job.\n",
    "        url = url_source[:-6] + 'Job/Data-Scientist'\n",
    "        #Go to that url you just retrieved.\n",
    "        driver.get(url)\n",
    "        #wait for the whole page to load.\n",
    "        sleep(5.0)\n",
    "        #soupify the page.\n",
    "        soup = BeautifulSoup(driver.page_source,'html.parser', from_encoding=\"utf-8\")\n",
    "        #empty list to hold median salary so we can clean up the data.\n",
    "        med_salary = []\n",
    "        #get the median salary from the chart.\n",
    "        med_salary.append(soup.find('div', {'class':'you_label'}).text)\n",
    "        #encode it properly\n",
    "        #med_salary = [job.encode('ascii','ignore') for job in med_salary]\n",
    "        #clean/format the returned text.\n",
    "        for i in med_salary:    \n",
    "            head, sep, tail = i.partition('MEDIAN:')\n",
    "            tail = tail.translate(None, '\\n')\n",
    "            tail = tail.translate(None, ' ')\n",
    "            #append it to the running list.\n",
    "            median_salary.append(tail)\n",
    "    except:\n",
    "        median_salary.append(np.nan)\n",
    "    print median_salary[-1]\n",
    "    driver.close()\n",
    "#Backup the scraper data to a csv.\n",
    "ds_salary.to_csv('data/PAYSCALE_SCRAPED_DATASCIENCE_COMPANY_SALARY_DATA_RAW.csv')\n",
    "```"
   ]
  },
  {
   "cell_type": "code",
   "execution_count": 657,
   "metadata": {
    "collapsed": false
   },
   "outputs": [
    {
     "name": "stdout",
     "output_type": "stream",
     "text": [
      "(946, 6)\n"
     ]
    },
    {
     "data": {
      "text/html": [
       "<div>\n",
       "<table border=\"1\" class=\"dataframe\">\n",
       "  <thead>\n",
       "    <tr style=\"text-align: right;\">\n",
       "      <th></th>\n",
       "      <th>1-4</th>\n",
       "      <th>10-19</th>\n",
       "      <th>20</th>\n",
       "      <th>5-9</th>\n",
       "      <th>Less than 1</th>\n",
       "      <th>salary_company_source</th>\n",
       "    </tr>\n",
       "  </thead>\n",
       "  <tbody>\n",
       "    <tr>\n",
       "      <th>0</th>\n",
       "      <td>NaN</td>\n",
       "      <td>NaN</td>\n",
       "      <td>NaN</td>\n",
       "      <td>NaN</td>\n",
       "      <td>NaN</td>\n",
       "      <td>NaN</td>\n",
       "    </tr>\n",
       "    <tr>\n",
       "      <th>1</th>\n",
       "      <td>NaN</td>\n",
       "      <td>NaN</td>\n",
       "      <td>NaN</td>\n",
       "      <td>NaN</td>\n",
       "      <td>NaN</td>\n",
       "      <td>NaN</td>\n",
       "    </tr>\n",
       "  </tbody>\n",
       "</table>\n",
       "</div>"
      ],
      "text/plain": [
       "  1-4  10-19   20  5-9  Less than 1  salary_company_source\n",
       "0  NaN    NaN  NaN  NaN          NaN                   NaN\n",
       "1  NaN    NaN  NaN  NaN          NaN                   NaN"
      ]
     },
     "execution_count": 657,
     "metadata": {},
     "output_type": "execute_result"
    }
   ],
   "source": [
    "#Bring in the scraped csv from the above scraper.\n",
    "scraper3_data = pd.read_csv('data/PAYSCALE_SCRAPED_COMPANY_SALARY_DATA_RAW.csv')\n",
    "payscale_scraped_a = pd.DataFrame(scraper3_data)\n",
    "payscale_scraped_a.drop(['Unnamed: 0'], axis=1, inplace=True)\n",
    "print payscale_scraped_a.shape\n",
    "payscale_scraped_a.head(2)"
   ]
  },
  {
   "cell_type": "code",
   "execution_count": 658,
   "metadata": {
    "collapsed": false
   },
   "outputs": [
    {
     "name": "stdout",
     "output_type": "stream",
     "text": [
      "(946, 5)\n"
     ]
    },
    {
     "data": {
      "text/html": [
       "<div>\n",
       "<table border=\"1\" class=\"dataframe\">\n",
       "  <thead>\n",
       "    <tr style=\"text-align: right;\">\n",
       "      <th></th>\n",
       "      <th>Job Flexibility</th>\n",
       "      <th>Job Satisfaction</th>\n",
       "      <th>Vacation Weeks</th>\n",
       "      <th>Work Stress</th>\n",
       "      <th>benefits_company_source</th>\n",
       "    </tr>\n",
       "  </thead>\n",
       "  <tbody>\n",
       "    <tr>\n",
       "      <th>0</th>\n",
       "      <td>NaN</td>\n",
       "      <td>NaN</td>\n",
       "      <td>NaN</td>\n",
       "      <td>NaN</td>\n",
       "      <td>NaN</td>\n",
       "    </tr>\n",
       "    <tr>\n",
       "      <th>1</th>\n",
       "      <td>NaN</td>\n",
       "      <td>NaN</td>\n",
       "      <td>NaN</td>\n",
       "      <td>NaN</td>\n",
       "      <td>NaN</td>\n",
       "    </tr>\n",
       "  </tbody>\n",
       "</table>\n",
       "</div>"
      ],
      "text/plain": [
       "  Job Flexibility Job Satisfaction Vacation Weeks Work Stress  \\\n",
       "0             NaN              NaN            NaN         NaN   \n",
       "1             NaN              NaN            NaN         NaN   \n",
       "\n",
       "  benefits_company_source  \n",
       "0                     NaN  \n",
       "1                     NaN  "
      ]
     },
     "execution_count": 658,
     "metadata": {},
     "output_type": "execute_result"
    }
   ],
   "source": [
    "#Bring in the scraped csv from the above scraper.\n",
    "scraper4_data = pd.read_csv('data/PAYSCALE_SCRAPED_BENEFITS_DATA_RAW.csv')\n",
    "payscale_scraped_b = pd.DataFrame(scraper4_data)\n",
    "payscale_scraped_b.drop(['Unnamed: 0'], axis=1, inplace=True)\n",
    "print payscale_scraped_b.shape\n",
    "payscale_scraped_b.head(2)"
   ]
  },
  {
   "cell_type": "code",
   "execution_count": 659,
   "metadata": {
    "collapsed": false
   },
   "outputs": [
    {
     "name": "stdout",
     "output_type": "stream",
     "text": [
      "(946, 11)\n"
     ]
    },
    {
     "data": {
      "text/html": [
       "<div>\n",
       "<table border=\"1\" class=\"dataframe\">\n",
       "  <thead>\n",
       "    <tr style=\"text-align: right;\">\n",
       "      <th></th>\n",
       "      <th>1-4</th>\n",
       "      <th>10-19</th>\n",
       "      <th>20</th>\n",
       "      <th>5-9</th>\n",
       "      <th>Less than 1</th>\n",
       "      <th>salary_company_source</th>\n",
       "      <th>Job Flexibility</th>\n",
       "      <th>Job Satisfaction</th>\n",
       "      <th>Vacation Weeks</th>\n",
       "      <th>Work Stress</th>\n",
       "      <th>benefits_company_source</th>\n",
       "    </tr>\n",
       "  </thead>\n",
       "  <tbody>\n",
       "    <tr>\n",
       "      <th>0</th>\n",
       "      <td>NaN</td>\n",
       "      <td>NaN</td>\n",
       "      <td>NaN</td>\n",
       "      <td>NaN</td>\n",
       "      <td>NaN</td>\n",
       "      <td>NaN</td>\n",
       "      <td>NaN</td>\n",
       "      <td>NaN</td>\n",
       "      <td>NaN</td>\n",
       "      <td>NaN</td>\n",
       "      <td>NaN</td>\n",
       "    </tr>\n",
       "    <tr>\n",
       "      <th>1</th>\n",
       "      <td>NaN</td>\n",
       "      <td>NaN</td>\n",
       "      <td>NaN</td>\n",
       "      <td>NaN</td>\n",
       "      <td>NaN</td>\n",
       "      <td>NaN</td>\n",
       "      <td>NaN</td>\n",
       "      <td>NaN</td>\n",
       "      <td>NaN</td>\n",
       "      <td>NaN</td>\n",
       "      <td>NaN</td>\n",
       "    </tr>\n",
       "  </tbody>\n",
       "</table>\n",
       "</div>"
      ],
      "text/plain": [
       "  1-4  10-19   20  5-9  Less than 1  salary_company_source Job Flexibility  \\\n",
       "0  NaN    NaN  NaN  NaN          NaN                   NaN             NaN   \n",
       "1  NaN    NaN  NaN  NaN          NaN                   NaN             NaN   \n",
       "\n",
       "  Job Satisfaction Vacation Weeks Work Stress benefits_company_source  \n",
       "0              NaN            NaN         NaN                     NaN  \n",
       "1              NaN            NaN         NaN                     NaN  "
      ]
     },
     "execution_count": 659,
     "metadata": {},
     "output_type": "execute_result"
    }
   ],
   "source": [
    "#Concat the two scraped dataframes from Payscale.com\n",
    "df_payscale_scraped = pd.concat([payscale_scraped_a, payscale_scraped_b], axis=1)\n",
    "print df_payscale_scraped.shape\n",
    "df_payscale_scraped.head(2)"
   ]
  },
  {
   "cell_type": "code",
   "execution_count": 660,
   "metadata": {
    "collapsed": false
   },
   "outputs": [
    {
     "data": {
      "text/html": [
       "<div>\n",
       "<table border=\"1\" class=\"dataframe\">\n",
       "  <thead>\n",
       "    <tr style=\"text-align: right;\">\n",
       "      <th></th>\n",
       "      <th>1-4</th>\n",
       "      <th>10-19</th>\n",
       "      <th>20</th>\n",
       "      <th>5-9</th>\n",
       "      <th>Less than 1</th>\n",
       "      <th>salary_company_source</th>\n",
       "      <th>Job Flexibility</th>\n",
       "      <th>Job Satisfaction</th>\n",
       "      <th>Vacation Weeks</th>\n",
       "      <th>Work Stress</th>\n",
       "      <th>benefits_company_source</th>\n",
       "      <th>company</th>\n",
       "      <th>title</th>\n",
       "      <th>url</th>\n",
       "      <th>srange</th>\n",
       "      <th>location</th>\n",
       "      <th>desc</th>\n",
       "    </tr>\n",
       "  </thead>\n",
       "  <tbody>\n",
       "    <tr>\n",
       "      <th>0</th>\n",
       "      <td>NaN</td>\n",
       "      <td>NaN</td>\n",
       "      <td>NaN</td>\n",
       "      <td>NaN</td>\n",
       "      <td>NaN</td>\n",
       "      <td>NaN</td>\n",
       "      <td>NaN</td>\n",
       "      <td>NaN</td>\n",
       "      <td>NaN</td>\n",
       "      <td>NaN</td>\n",
       "      <td>NaN</td>\n",
       "      <td>1010data</td>\n",
       "      <td>2</td>\n",
       "      <td>2</td>\n",
       "      <td>2</td>\n",
       "      <td>2</td>\n",
       "      <td>2</td>\n",
       "    </tr>\n",
       "    <tr>\n",
       "      <th>1</th>\n",
       "      <td>NaN</td>\n",
       "      <td>NaN</td>\n",
       "      <td>NaN</td>\n",
       "      <td>NaN</td>\n",
       "      <td>NaN</td>\n",
       "      <td>NaN</td>\n",
       "      <td>NaN</td>\n",
       "      <td>NaN</td>\n",
       "      <td>NaN</td>\n",
       "      <td>NaN</td>\n",
       "      <td>NaN</td>\n",
       "      <td>2U</td>\n",
       "      <td>2</td>\n",
       "      <td>2</td>\n",
       "      <td>2</td>\n",
       "      <td>2</td>\n",
       "      <td>2</td>\n",
       "    </tr>\n",
       "    <tr>\n",
       "      <th>2</th>\n",
       "      <td>$66,892</td>\n",
       "      <td>$95,353</td>\n",
       "      <td>$108,094</td>\n",
       "      <td>$81,724</td>\n",
       "      <td>$58,687</td>\n",
       "      <td>3M Company</td>\n",
       "      <td>Data Not Available</td>\n",
       "      <td>Extremely satisfied</td>\n",
       "      <td>2.7 Weeks</td>\n",
       "      <td>Stressful</td>\n",
       "      <td>3M Company</td>\n",
       "      <td>3M</td>\n",
       "      <td>1</td>\n",
       "      <td>1</td>\n",
       "      <td>1</td>\n",
       "      <td>1</td>\n",
       "      <td>1</td>\n",
       "    </tr>\n",
       "    <tr>\n",
       "      <th>3</th>\n",
       "      <td>NaN</td>\n",
       "      <td>NaN</td>\n",
       "      <td>NaN</td>\n",
       "      <td>NaN</td>\n",
       "      <td>NaN</td>\n",
       "      <td>NaN</td>\n",
       "      <td>NaN</td>\n",
       "      <td>NaN</td>\n",
       "      <td>NaN</td>\n",
       "      <td>NaN</td>\n",
       "      <td>NaN</td>\n",
       "      <td>ADP</td>\n",
       "      <td>21</td>\n",
       "      <td>21</td>\n",
       "      <td>21</td>\n",
       "      <td>21</td>\n",
       "      <td>21</td>\n",
       "    </tr>\n",
       "    <tr>\n",
       "      <th>4</th>\n",
       "      <td>$59,207</td>\n",
       "      <td>$89,051</td>\n",
       "      <td>$112,775</td>\n",
       "      <td>$70,423</td>\n",
       "      <td>$53,903</td>\n",
       "      <td>Aecom Corporation</td>\n",
       "      <td>NaN</td>\n",
       "      <td>NaN</td>\n",
       "      <td>NaN</td>\n",
       "      <td>NaN</td>\n",
       "      <td>NaN</td>\n",
       "      <td>AECOM</td>\n",
       "      <td>1</td>\n",
       "      <td>1</td>\n",
       "      <td>1</td>\n",
       "      <td>1</td>\n",
       "      <td>0</td>\n",
       "    </tr>\n",
       "  </tbody>\n",
       "</table>\n",
       "</div>"
      ],
      "text/plain": [
       "      1-4    10-19        20      5-9  Less than 1  salary_company_source  \\\n",
       "0      NaN      NaN       NaN      NaN          NaN                   NaN   \n",
       "1      NaN      NaN       NaN      NaN          NaN                   NaN   \n",
       "2  $66,892  $95,353  $108,094  $81,724      $58,687            3M Company   \n",
       "3      NaN      NaN       NaN      NaN          NaN                   NaN   \n",
       "4  $59,207  $89,051  $112,775  $70,423      $53,903     Aecom Corporation   \n",
       "\n",
       "      Job Flexibility     Job Satisfaction Vacation Weeks Work Stress  \\\n",
       "0                 NaN                  NaN            NaN         NaN   \n",
       "1                 NaN                  NaN            NaN         NaN   \n",
       "2  Data Not Available  Extremely satisfied      2.7 Weeks   Stressful   \n",
       "3                 NaN                  NaN            NaN         NaN   \n",
       "4                 NaN                  NaN            NaN         NaN   \n",
       "\n",
       "  benefits_company_source           company  title  url  srange  location  \\\n",
       "0                     NaN          1010data      2    2       2         2   \n",
       "1                     NaN                2U      2    2       2         2   \n",
       "2              3M Company                3M      1    1       1         1   \n",
       "3                     NaN               ADP     21   21      21        21   \n",
       "4                     NaN             AECOM      1    1       1         1   \n",
       "\n",
       "   desc  \n",
       "0     2  \n",
       "1     2  \n",
       "2     1  \n",
       "3    21  \n",
       "4     0  "
      ]
     },
     "execution_count": 660,
     "metadata": {},
     "output_type": "execute_result"
    }
   ],
   "source": [
    "#Add in the two csv's we scraped above to the company dataframe for us to check and make sure we scraped\n",
    "#the right companies when we did the search.\n",
    "#First cleaning up the company source columns so we can better evaluate the search results.\n",
    "df_company_scraped = pd.concat([df_payscale_scraped, df_company], axis=1)\n",
    "df_company_scraped['salary_company_source'] = df_company_scraped['salary_company_source'].str.replace('Average Salary for ', '')\n",
    "df_company_scraped['salary_company_source'] = df_company_scraped['salary_company_source'].str.replace(' Employees', '')\n",
    "df_company_scraped['benefits_company_source'] = df_company_scraped['benefits_company_source'].str.replace('Average Salary for ', '')\n",
    "df_company_scraped['benefits_company_source'] = df_company_scraped['benefits_company_source'].str.replace(' Employees', '')\n",
    "df_company_scraped.head()"
   ]
  },
  {
   "cell_type": "code",
   "execution_count": 661,
   "metadata": {
    "collapsed": true
   },
   "outputs": [],
   "source": [
    "#Export it as a csv to check we got the right companies.\n",
    "df_company_scraped.to_csv('data/PAYSCALE_SCRAPED_DATA_ALL_RAW.csv')"
   ]
  },
  {
   "cell_type": "code",
   "execution_count": 662,
   "metadata": {
    "collapsed": false
   },
   "outputs": [
    {
     "name": "stdout",
     "output_type": "stream",
     "text": [
      "(946, 10)\n"
     ]
    },
    {
     "data": {
      "text/html": [
       "<div>\n",
       "<table border=\"1\" class=\"dataframe\">\n",
       "  <thead>\n",
       "    <tr style=\"text-align: right;\">\n",
       "      <th></th>\n",
       "      <th>company</th>\n",
       "      <th>1-4</th>\n",
       "      <th>10-19</th>\n",
       "      <th>20</th>\n",
       "      <th>5-9</th>\n",
       "      <th>Less than 1</th>\n",
       "      <th>Job Flexibility</th>\n",
       "      <th>Job Satisfaction</th>\n",
       "      <th>Vacation Weeks</th>\n",
       "      <th>Work Stress</th>\n",
       "    </tr>\n",
       "  </thead>\n",
       "  <tbody>\n",
       "    <tr>\n",
       "      <th>0</th>\n",
       "      <td>1010data</td>\n",
       "      <td>NaN</td>\n",
       "      <td>NaN</td>\n",
       "      <td>NaN</td>\n",
       "      <td>$91,233</td>\n",
       "      <td>NaN</td>\n",
       "      <td>NaN</td>\n",
       "      <td>NaN</td>\n",
       "      <td>NaN</td>\n",
       "      <td>NaN</td>\n",
       "    </tr>\n",
       "    <tr>\n",
       "      <th>1</th>\n",
       "      <td>2U</td>\n",
       "      <td>NaN</td>\n",
       "      <td>NaN</td>\n",
       "      <td>NaN</td>\n",
       "      <td>NaN</td>\n",
       "      <td>NaN</td>\n",
       "      <td>NaN</td>\n",
       "      <td>NaN</td>\n",
       "      <td>NaN</td>\n",
       "      <td>NaN</td>\n",
       "    </tr>\n",
       "  </tbody>\n",
       "</table>\n",
       "</div>"
      ],
      "text/plain": [
       "            company  1-4 10-19   20       5-9 Less than 1  Job Flexibility  \\\n",
       "0          1010data  NaN   NaN  NaN  $91,233           NaN             NaN   \n",
       "1                2U  NaN   NaN  NaN       NaN          NaN             NaN   \n",
       "\n",
       "  Job Satisfaction Vacation Weeks Work Stress  \n",
       "0              NaN            NaN         NaN  \n",
       "1              NaN            NaN         NaN  "
      ]
     },
     "execution_count": 662,
     "metadata": {},
     "output_type": "execute_result"
    }
   ],
   "source": [
    "#Bring in the cleaned CSV for companies scraped to join to our original dataframe.\n",
    "payscale_clean = pd.read_csv('data/PAYSCALE_SCRAPED_DATA_ALL_CLEAN.csv')\n",
    "payscale = pd.DataFrame(payscale_clean)\n",
    "payscale.drop(['Unnamed: 0'], axis=1, inplace=True)\n",
    "#Rename the column headers since excel screws them up.\n",
    "payscale.rename(columns={'4-Jan':'1-4', '19-Oct':'10-19', '9-May':'5-9'}, inplace=True)\n",
    "print payscale.shape\n",
    "payscale.head(2)"
   ]
  },
  {
   "cell_type": "code",
   "execution_count": 663,
   "metadata": {
    "collapsed": true
   },
   "outputs": [],
   "source": [
    "#Take the spaces at the begining of the company out so that you can have more accurate data.\n",
    "#company_test['company'] = [i.strip() for i in company_test['company']]"
   ]
  },
  {
   "cell_type": "code",
   "execution_count": 664,
   "metadata": {
    "collapsed": false,
    "scrolled": false
   },
   "outputs": [
    {
     "name": "stdout",
     "output_type": "stream",
     "text": [
      "(2132, 11)\n"
     ]
    },
    {
     "data": {
      "text/html": [
       "<div>\n",
       "<table border=\"1\" class=\"dataframe\">\n",
       "  <thead>\n",
       "    <tr style=\"text-align: right;\">\n",
       "      <th></th>\n",
       "      <th>title</th>\n",
       "      <th>company</th>\n",
       "      <th>url</th>\n",
       "      <th>srange</th>\n",
       "      <th>location</th>\n",
       "      <th>desc</th>\n",
       "      <th>1-4</th>\n",
       "      <th>Job Flexibility</th>\n",
       "      <th>Job Satisfaction</th>\n",
       "      <th>Vacation Weeks</th>\n",
       "      <th>Work Stress</th>\n",
       "    </tr>\n",
       "  </thead>\n",
       "  <tbody>\n",
       "    <tr>\n",
       "      <th>0</th>\n",
       "      <td>Forensic Scientist (Crime Scene)</td>\n",
       "      <td>Dept of Forensic Sciences</td>\n",
       "      <td>http://indeed.com/rc/clk?jk=70192ba18fa061a8&amp;f...</td>\n",
       "      <td>['\\n$61,491 - $79,275 a year\\n\\n\\nAnd knowledg...</td>\n",
       "      <td>Washington, DC</td>\n",
       "      <td>Forensic Scientist (Crime Scene)CS-401-11Caree...</td>\n",
       "      <td>NaN</td>\n",
       "      <td>NaN</td>\n",
       "      <td>NaN</td>\n",
       "      <td>NaN</td>\n",
       "      <td>NaN</td>\n",
       "    </tr>\n",
       "    <tr>\n",
       "      <th>1</th>\n",
       "      <td>Data Scientist</td>\n",
       "      <td>Excella Consulting</td>\n",
       "      <td>http://indeed.com/rc/clk?jk=42cb30526e07b4ec&amp;f...</td>\n",
       "      <td>['\\n\\n\\nUsing machine learning and data mining...</td>\n",
       "      <td>Washington, DC 20006 (Foggy Bottom area)</td>\n",
       "      <td>Please Enable Cookies to ContinuePlease enabl...</td>\n",
       "      <td>NaN</td>\n",
       "      <td>NaN</td>\n",
       "      <td>NaN</td>\n",
       "      <td>NaN</td>\n",
       "      <td>NaN</td>\n",
       "    </tr>\n",
       "    <tr>\n",
       "      <th>2</th>\n",
       "      <td>Data Scientist</td>\n",
       "      <td>Booz Allen Hamilton</td>\n",
       "      <td>http://indeed.com/rc/clk?jk=33f586dafa3deb4c&amp;f...</td>\n",
       "      <td>['\\n\\n\\nApply expertise in advanced analytics,...</td>\n",
       "      <td>Washington, DC</td>\n",
       "      <td>Booz Allen Hamilt...</td>\n",
       "      <td>$64,587</td>\n",
       "      <td>Extremely flexible</td>\n",
       "      <td>Highly satisfied</td>\n",
       "      <td>2.8 Weeks</td>\n",
       "      <td>Stressful</td>\n",
       "    </tr>\n",
       "    <tr>\n",
       "      <th>3</th>\n",
       "      <td>Data Scientist</td>\n",
       "      <td>Vox Media</td>\n",
       "      <td>http://indeed.com/rc/clk?jk=0a9009fd2170cf66&amp;f...</td>\n",
       "      <td>['\\n\\n\\nData Scientists are responsible for de...</td>\n",
       "      <td>Washington, DC</td>\n",
       "      <td>U.S. Equal Opportunity Employment Informatio...</td>\n",
       "      <td>NaN</td>\n",
       "      <td>NaN</td>\n",
       "      <td>NaN</td>\n",
       "      <td>NaN</td>\n",
       "      <td>NaN</td>\n",
       "    </tr>\n",
       "    <tr>\n",
       "      <th>4</th>\n",
       "      <td>Data Scientist/Engineer</td>\n",
       "      <td>ICF International</td>\n",
       "      <td>http://indeed.com/rc/clk?jk=d29754cbfaf00024&amp;f...</td>\n",
       "      <td>['\\n\\n\\nSpecifically, it provides psychologica...</td>\n",
       "      <td>Silver Spring, MD</td>\n",
       "      <td>Copyright 1992-2016 ICF International, Inc. Al...</td>\n",
       "      <td>$55,720</td>\n",
       "      <td>NaN</td>\n",
       "      <td>NaN</td>\n",
       "      <td>NaN</td>\n",
       "      <td>NaN</td>\n",
       "    </tr>\n",
       "  </tbody>\n",
       "</table>\n",
       "</div>"
      ],
      "text/plain": [
       "                              title                        company  \\\n",
       "0  Forensic Scientist (Crime Scene)      Dept of Forensic Sciences   \n",
       "1                    Data Scientist             Excella Consulting   \n",
       "2                    Data Scientist            Booz Allen Hamilton   \n",
       "3                    Data Scientist                      Vox Media   \n",
       "4           Data Scientist/Engineer              ICF International   \n",
       "\n",
       "                                                 url  \\\n",
       "0  http://indeed.com/rc/clk?jk=70192ba18fa061a8&f...   \n",
       "1  http://indeed.com/rc/clk?jk=42cb30526e07b4ec&f...   \n",
       "2  http://indeed.com/rc/clk?jk=33f586dafa3deb4c&f...   \n",
       "3  http://indeed.com/rc/clk?jk=0a9009fd2170cf66&f...   \n",
       "4  http://indeed.com/rc/clk?jk=d29754cbfaf00024&f...   \n",
       "\n",
       "                                              srange  \\\n",
       "0  ['\\n$61,491 - $79,275 a year\\n\\n\\nAnd knowledg...   \n",
       "1  ['\\n\\n\\nUsing machine learning and data mining...   \n",
       "2  ['\\n\\n\\nApply expertise in advanced analytics,...   \n",
       "3  ['\\n\\n\\nData Scientists are responsible for de...   \n",
       "4  ['\\n\\n\\nSpecifically, it provides psychologica...   \n",
       "\n",
       "                                   location  \\\n",
       "0                            Washington, DC   \n",
       "1  Washington, DC 20006 (Foggy Bottom area)   \n",
       "2                            Washington, DC   \n",
       "3                            Washington, DC   \n",
       "4                         Silver Spring, MD   \n",
       "\n",
       "                                                desc       1-4  \\\n",
       "0  Forensic Scientist (Crime Scene)CS-401-11Caree...       NaN   \n",
       "1   Please Enable Cookies to ContinuePlease enabl...       NaN   \n",
       "2                               Booz Allen Hamilt...  $64,587    \n",
       "3    U.S. Equal Opportunity Employment Informatio...       NaN   \n",
       "4  Copyright 1992-2016 ICF International, Inc. Al...  $55,720    \n",
       "\n",
       "      Job Flexibility  Job Satisfaction Vacation Weeks Work Stress  \n",
       "0                 NaN               NaN            NaN         NaN  \n",
       "1                 NaN               NaN            NaN         NaN  \n",
       "2  Extremely flexible  Highly satisfied      2.8 Weeks   Stressful  \n",
       "3                 NaN               NaN            NaN         NaN  \n",
       "4                 NaN               NaN            NaN         NaN  "
      ]
     },
     "execution_count": 664,
     "metadata": {},
     "output_type": "execute_result"
    }
   ],
   "source": [
    "#Merge the two dataframes joining on 'company'. I know from running this before that the pay bracket of 1-4 was\n",
    "#the most accurate for building an estimator for a data_scientists salary so I am going to only import that\n",
    "#column here.\n",
    "df = pd.merge(indeed, payscale[['company', '1-4', 'Job Flexibility', 'Job Satisfaction', 'Vacation Weeks', 'Work Stress']], how='left', on='company', copy=False, sort=False)\n",
    "print df.shape\n",
    "df.head()"
   ]
  },
  {
   "cell_type": "markdown",
   "metadata": {},
   "source": [
    "# FILTERING"
   ]
  },
  {
   "cell_type": "markdown",
   "metadata": {},
   "source": [
    "We know that the median data scientist job salary in Wasington DC is 95,000. However when we scrape all the data scientist jobs posted by Indeed.com we get a median of 75,000. You can interprete that as there are not high paying data scientist jobs available or there are jobs that are not TRULY data scientist jobs being returned by the search. The assumption I chose was the latter because following that route would result in the cleanest data set possible to make a prediction. So below we are going to build a filter to see how many Data Scientist jobs are ACTUALLY being returned by the indeed.com search."
   ]
  },
  {
   "cell_type": "markdown",
   "metadata": {},
   "source": [
    "### 5: Filter jobs to only ones that have \"Data Scientist\" in the title."
   ]
  },
  {
   "cell_type": "code",
   "execution_count": 665,
   "metadata": {
    "collapsed": false
   },
   "outputs": [],
   "source": [
    "#Convert the title column to uppercase so we can search easily.\n",
    "df['title'] = map(lambda x: x.upper(), df['title'])\n",
    "#Convert all the data here to strings to resolve a float error.\n",
    "df['desc'] = df['desc'].astype(str)\n",
    "#Convert the job descriptions to all uppercase words so that we are comparing apples to apples.\n",
    "df['desc'] = map(lambda x: x.upper(), df['desc'])\n",
    "#create a desc length column that we will use later.\n",
    "df['desc_len'] = [len(i) for i in df['desc']]"
   ]
  },
  {
   "cell_type": "code",
   "execution_count": 666,
   "metadata": {
    "collapsed": true
   },
   "outputs": [],
   "source": [
    "ds_in_title = []\n",
    "#Find the job titles that match the parameters below and put the results into a new column.\n",
    "for i in df['title']:\n",
    "    x = 0\n",
    "    if 'DATA SCIENTIST' in i:\n",
    "        x = 1\n",
    "    if x >= 1:\n",
    "        ds_in_title.append(1)\n",
    "    else:\n",
    "        ds_in_title.append(np.nan)\n",
    "#Make a column with a 1 if its a match to the above search.\n",
    "df['ds_in_title'] = ds_in_title"
   ]
  },
  {
   "cell_type": "code",
   "execution_count": 667,
   "metadata": {
    "collapsed": false
   },
   "outputs": [
    {
     "data": {
      "text/plain": [
       "(277, 13)"
      ]
     },
     "execution_count": 667,
     "metadata": {},
     "output_type": "execute_result"
    }
   ],
   "source": [
    "#Now filter this dataframe by only jobs that have data scientist in the title.\n",
    "df1 = df[df['ds_in_title'] >= 1.0]\n",
    "#Filter out job descriptions that are below 800 characters so that we get the best data possible here.\n",
    "df1 = df1[df1['desc_len'] >= 800]\n",
    "df1.shape"
   ]
  },
  {
   "cell_type": "markdown",
   "metadata": {},
   "source": [
    "### 6: Get keywords from these posts by using TFIDF vectorizer."
   ]
  },
  {
   "cell_type": "code",
   "execution_count": 668,
   "metadata": {
    "collapsed": true
   },
   "outputs": [],
   "source": [
    "#Declare the X target as the job descriptions for only jobs with Data Scientist in the title.\n",
    "X = df1['desc']"
   ]
  },
  {
   "cell_type": "code",
   "execution_count": 669,
   "metadata": {
    "collapsed": true
   },
   "outputs": [],
   "source": [
    "#Get the most important keywords across jobs that have data scientist in the title. We'll use these keywords\n",
    "#to find other data science jobs that might not have data scientist in the title.\n",
    "tfidfv = TfidfVectorizer(analyzer='word', ngram_range=(1,2), min_df = 0, stop_words = 'english', max_features=5000)\n",
    "vect_model = tfidfv.fit_transform(X)\n",
    "dense = vect_model.todense()"
   ]
  },
  {
   "cell_type": "code",
   "execution_count": 670,
   "metadata": {
    "collapsed": false,
    "scrolled": false
   },
   "outputs": [
    {
     "data": {
      "text/html": [
       "<div>\n",
       "<table border=\"1\" class=\"dataframe\">\n",
       "  <thead>\n",
       "    <tr style=\"text-align: right;\">\n",
       "      <th></th>\n",
       "      <th>index</th>\n",
       "      <th>mean_tfidf</th>\n",
       "    </tr>\n",
       "  </thead>\n",
       "  <tbody>\n",
       "    <tr>\n",
       "      <th>1117</th>\n",
       "      <td>data</td>\n",
       "      <td>0.125944</td>\n",
       "    </tr>\n",
       "    <tr>\n",
       "      <th>1782</th>\n",
       "      <td>experience</td>\n",
       "      <td>0.055743</td>\n",
       "    </tr>\n",
       "    <tr>\n",
       "      <th>4921</th>\n",
       "      <td>work</td>\n",
       "      <td>0.031810</td>\n",
       "    </tr>\n",
       "    <tr>\n",
       "      <th>311</th>\n",
       "      <td>analytics</td>\n",
       "      <td>0.031547</td>\n",
       "    </tr>\n",
       "    <tr>\n",
       "      <th>273</th>\n",
       "      <td>analysis</td>\n",
       "      <td>0.031239</td>\n",
       "    </tr>\n",
       "    <tr>\n",
       "      <th>622</th>\n",
       "      <td>business</td>\n",
       "      <td>0.029713</td>\n",
       "    </tr>\n",
       "    <tr>\n",
       "      <th>3946</th>\n",
       "      <td>science</td>\n",
       "      <td>0.029436</td>\n",
       "    </tr>\n",
       "    <tr>\n",
       "      <th>4503</th>\n",
       "      <td>team</td>\n",
       "      <td>0.027925</td>\n",
       "    </tr>\n",
       "    <tr>\n",
       "      <th>2635</th>\n",
       "      <td>learning</td>\n",
       "      <td>0.027859</td>\n",
       "    </tr>\n",
       "    <tr>\n",
       "      <th>4144</th>\n",
       "      <td>skills</td>\n",
       "      <td>0.027441</td>\n",
       "    </tr>\n",
       "    <tr>\n",
       "      <th>3066</th>\n",
       "      <td>new</td>\n",
       "      <td>0.027022</td>\n",
       "    </tr>\n",
       "    <tr>\n",
       "      <th>4310</th>\n",
       "      <td>statistical</td>\n",
       "      <td>0.026229</td>\n",
       "    </tr>\n",
       "    <tr>\n",
       "      <th>2752</th>\n",
       "      <td>machine</td>\n",
       "      <td>0.024288</td>\n",
       "    </tr>\n",
       "    <tr>\n",
       "      <th>3972</th>\n",
       "      <td>scientist</td>\n",
       "      <td>0.023858</td>\n",
       "    </tr>\n",
       "    <tr>\n",
       "      <th>82</th>\n",
       "      <td>ability</td>\n",
       "      <td>0.023826</td>\n",
       "    </tr>\n",
       "    <tr>\n",
       "      <th>2753</th>\n",
       "      <td>machine learning</td>\n",
       "      <td>0.023634</td>\n",
       "    </tr>\n",
       "    <tr>\n",
       "      <th>4200</th>\n",
       "      <td>solutions</td>\n",
       "      <td>0.023620</td>\n",
       "    </tr>\n",
       "    <tr>\n",
       "      <th>1166</th>\n",
       "      <td>data scientist</td>\n",
       "      <td>0.023415</td>\n",
       "    </tr>\n",
       "    <tr>\n",
       "      <th>1164</th>\n",
       "      <td>data science</td>\n",
       "      <td>0.021775</td>\n",
       "    </tr>\n",
       "    <tr>\n",
       "      <th>4740</th>\n",
       "      <td>using</td>\n",
       "      <td>0.021517</td>\n",
       "    </tr>\n",
       "  </tbody>\n",
       "</table>\n",
       "</div>"
      ],
      "text/plain": [
       "                 index  mean_tfidf\n",
       "1117              data    0.125944\n",
       "1782        experience    0.055743\n",
       "4921              work    0.031810\n",
       "311          analytics    0.031547\n",
       "273           analysis    0.031239\n",
       "622           business    0.029713\n",
       "3946           science    0.029436\n",
       "4503              team    0.027925\n",
       "2635          learning    0.027859\n",
       "4144            skills    0.027441\n",
       "3066               new    0.027022\n",
       "4310       statistical    0.026229\n",
       "2752           machine    0.024288\n",
       "3972         scientist    0.023858\n",
       "82             ability    0.023826\n",
       "2753  machine learning    0.023634\n",
       "4200         solutions    0.023620\n",
       "1166    data scientist    0.023415\n",
       "1164      data science    0.021775\n",
       "4740             using    0.021517"
      ]
     },
     "execution_count": 670,
     "metadata": {},
     "output_type": "execute_result"
    }
   ],
   "source": [
    "#Below is the list of most important words and their tfidf scores for importance to all the jobs that had\n",
    "#data scientist in the title. We'll use these keyword weights to then get a weighted score for whether or not\n",
    "#a certain job description is likely to be a data scientist job or not.\n",
    "dense_test = pd.DataFrame(dense, columns=[tfidfv.get_feature_names()])\n",
    "dense_test = dense_test.transpose()\n",
    "dense_test['mean_tfidf'] = dense_test.mean(axis=1)\n",
    "dense_test = dense_test[['mean_tfidf']]\n",
    "dense_test = dense_test.reset_index()\n",
    "dense_test = dense_test.sort_values('mean_tfidf', ascending=False)\n",
    "dense_test.head(20)"
   ]
  },
  {
   "cell_type": "markdown",
   "metadata": {},
   "source": [
    "### 7: Using the TFIDF scores as weights analyze ALL job descriptions."
   ]
  },
  {
   "cell_type": "code",
   "execution_count": 671,
   "metadata": {
    "collapsed": false
   },
   "outputs": [
    {
     "data": {
      "text/plain": [
       "(38, 2)"
      ]
     },
     "execution_count": 671,
     "metadata": {},
     "output_type": "execute_result"
    }
   ],
   "source": [
    "#We have 5,000 words in the TFIDF dataframe which is WAY more than we need. So lets filter that to be fewer\n",
    "#keywords so its easier to track.\n",
    "ds_keywords = dense_test[dense_test['mean_tfidf'] > 0.018]\n",
    "ds_keywords.shape"
   ]
  },
  {
   "cell_type": "code",
   "execution_count": 672,
   "metadata": {
    "collapsed": false
   },
   "outputs": [
    {
     "data": {
      "text/html": [
       "<div>\n",
       "<table border=\"1\" class=\"dataframe\">\n",
       "  <thead>\n",
       "    <tr style=\"text-align: right;\">\n",
       "      <th></th>\n",
       "      <th>DATA</th>\n",
       "      <th>EXPERIENCE</th>\n",
       "      <th>WORK</th>\n",
       "      <th>ANALYTICS</th>\n",
       "      <th>ANALYSIS</th>\n",
       "      <th>BUSINESS</th>\n",
       "      <th>SCIENCE</th>\n",
       "      <th>TEAM</th>\n",
       "      <th>LEARNING</th>\n",
       "      <th>SKILLS</th>\n",
       "      <th>...</th>\n",
       "      <th>MODELS</th>\n",
       "      <th>INCLUDING</th>\n",
       "      <th>TECHNOLOGY</th>\n",
       "      <th>JOB</th>\n",
       "      <th>ALGORITHMS</th>\n",
       "      <th>PROBLEMS</th>\n",
       "      <th>STRONG</th>\n",
       "      <th>LARGE</th>\n",
       "      <th>KNOWLEDGE</th>\n",
       "      <th>METHODS</th>\n",
       "    </tr>\n",
       "  </thead>\n",
       "  <tbody>\n",
       "    <tr>\n",
       "      <th>1</th>\n",
       "      <td>0.125944</td>\n",
       "      <td>0.0557435</td>\n",
       "      <td>0.0318102</td>\n",
       "      <td>0.0315467</td>\n",
       "      <td>0.0312387</td>\n",
       "      <td>0.0297132</td>\n",
       "      <td>0.0294358</td>\n",
       "      <td>0.0279249</td>\n",
       "      <td>0.0278588</td>\n",
       "      <td>0.0274412</td>\n",
       "      <td>...</td>\n",
       "      <td>0.0201235</td>\n",
       "      <td>0.0199092</td>\n",
       "      <td>0.0195241</td>\n",
       "      <td>0.0194687</td>\n",
       "      <td>0.01901</td>\n",
       "      <td>0.0188275</td>\n",
       "      <td>0.0187724</td>\n",
       "      <td>0.0187513</td>\n",
       "      <td>0.0182813</td>\n",
       "      <td>0.0181009</td>\n",
       "    </tr>\n",
       "  </tbody>\n",
       "</table>\n",
       "<p>1 rows × 38 columns</p>\n",
       "</div>"
      ],
      "text/plain": [
       "       DATA EXPERIENCE       WORK  ANALYTICS   ANALYSIS   BUSINESS    SCIENCE  \\\n",
       "1  0.125944  0.0557435  0.0318102  0.0315467  0.0312387  0.0297132  0.0294358   \n",
       "\n",
       "        TEAM   LEARNING     SKILLS    ...         MODELS  INCLUDING  \\\n",
       "1  0.0279249  0.0278588  0.0274412    ...      0.0201235  0.0199092   \n",
       "\n",
       "  TECHNOLOGY        JOB ALGORITHMS   PROBLEMS     STRONG      LARGE  \\\n",
       "1  0.0195241  0.0194687    0.01901  0.0188275  0.0187724  0.0187513   \n",
       "\n",
       "   KNOWLEDGE    METHODS  \n",
       "1  0.0182813  0.0181009  \n",
       "\n",
       "[1 rows x 38 columns]"
      ]
     },
     "execution_count": 672,
     "metadata": {},
     "output_type": "execute_result"
    }
   ],
   "source": [
    "#Now lets format this dataframe into something that we can use to search through all our job descriptions.\n",
    "ds_key_test = ds_keywords.transpose()\n",
    "ds_key_test.columns = ds_key_test.iloc[0]\n",
    "ds_key_test = ds_key_test.reset_index()\n",
    "ds_key_test.drop(0, inplace=True)\n",
    "ds_key_test.drop('index', axis=1, inplace=True)\n",
    "ds_key_test.columns.name = None\n",
    "ds_key_test.columns = map(lambda x: x.upper(), ds_key_test.columns)\n",
    "ds_key_test"
   ]
  },
  {
   "cell_type": "code",
   "execution_count": 673,
   "metadata": {
    "collapsed": true
   },
   "outputs": [],
   "source": [
    "#Split up the strings of each job description so we can search through every word.\n",
    "df['desc_test'] = df['desc'].str.split()"
   ]
  },
  {
   "cell_type": "code",
   "execution_count": 674,
   "metadata": {
    "collapsed": false
   },
   "outputs": [
    {
     "name": "stderr",
     "output_type": "stream",
     "text": [
      "/Users/nathanhall/anaconda/lib/python2.7/site-packages/ipykernel/__main__.py:7: UnicodeWarning: Unicode equal comparison failed to convert both arguments to Unicode - interpreting them as being unequal\n"
     ]
    }
   ],
   "source": [
    "#All that work for this sweet little search engine filtering thingy.\n",
    "df_test = pd.DataFrame(columns=ds_key_test.columns)\n",
    "for x in df['desc_test']:\n",
    "    tl = []\n",
    "    try:\n",
    "        for i in ds_key_test.columns:\n",
    "            if i in x:\n",
    "                tl.append(ds_key_test[i].loc[1])\n",
    "            else:\n",
    "                tl.append(np.nan)\n",
    "    except:\n",
    "        tl.append(np.nan)\n",
    "    append_test = dict(zip(list(ds_key_test.columns), tl))\n",
    "    df_test = df_test.append(append_test, ignore_index=True)"
   ]
  },
  {
   "cell_type": "markdown",
   "metadata": {},
   "source": [
    "### 8: Sum the TFIDF scores for each post and filter to the most \"Data Sciency\" jobs."
   ]
  },
  {
   "cell_type": "code",
   "execution_count": 675,
   "metadata": {
    "collapsed": false
   },
   "outputs": [
    {
     "data": {
      "text/plain": [
       "(2132, 39)"
      ]
     },
     "execution_count": 675,
     "metadata": {},
     "output_type": "execute_result"
    }
   ],
   "source": [
    "#Take the above resulting dataframe and sum up each job descprtion \"Data Sciency\" score.\n",
    "df_test['likelihood'] = df_test.sum(axis=1)\n",
    "df_test.shape"
   ]
  },
  {
   "cell_type": "code",
   "execution_count": 676,
   "metadata": {
    "collapsed": true
   },
   "outputs": [],
   "source": [
    "#Repeat the keyword analysis on the resulting job titles.\n",
    "#Declare the X target as the titles for the jobs that were returned from our data scientist filter.\n",
    "X2 = df['title']"
   ]
  },
  {
   "cell_type": "code",
   "execution_count": 677,
   "metadata": {
    "collapsed": true
   },
   "outputs": [],
   "source": [
    "#Get the most important keywords for these titles. This will serve as a better measure of the titles\n",
    "#than the VERY many types that are in that column already.\n",
    "tfidfv2 = TfidfVectorizer(analyzer='word', ngram_range=(1,2), min_df = 0, stop_words = 'english', max_features=5000)\n",
    "vect_model2 = tfidfv2.fit_transform(X2)\n",
    "dense2 = vect_model2.todense()"
   ]
  },
  {
   "cell_type": "code",
   "execution_count": 678,
   "metadata": {
    "collapsed": false
   },
   "outputs": [
    {
     "data": {
      "text/html": [
       "<div>\n",
       "<table border=\"1\" class=\"dataframe\">\n",
       "  <thead>\n",
       "    <tr style=\"text-align: right;\">\n",
       "      <th></th>\n",
       "      <th>index</th>\n",
       "      <th>mean_tfidf</th>\n",
       "    </tr>\n",
       "  </thead>\n",
       "  <tbody>\n",
       "    <tr>\n",
       "      <th>3343</th>\n",
       "      <td>scientist</td>\n",
       "      <td>0.082106</td>\n",
       "    </tr>\n",
       "    <tr>\n",
       "      <th>992</th>\n",
       "      <td>data</td>\n",
       "      <td>0.077585</td>\n",
       "    </tr>\n",
       "    <tr>\n",
       "      <th>1035</th>\n",
       "      <td>data scientist</td>\n",
       "      <td>0.069339</td>\n",
       "    </tr>\n",
       "    <tr>\n",
       "      <th>3119</th>\n",
       "      <td>research</td>\n",
       "      <td>0.049677</td>\n",
       "    </tr>\n",
       "    <tr>\n",
       "      <th>160</th>\n",
       "      <td>analyst</td>\n",
       "      <td>0.049665</td>\n",
       "    </tr>\n",
       "    <tr>\n",
       "      <th>3567</th>\n",
       "      <td>senior</td>\n",
       "      <td>0.034015</td>\n",
       "    </tr>\n",
       "    <tr>\n",
       "      <th>3122</th>\n",
       "      <td>research analyst</td>\n",
       "      <td>0.033665</td>\n",
       "    </tr>\n",
       "    <tr>\n",
       "      <th>1346</th>\n",
       "      <td>engineer</td>\n",
       "      <td>0.029786</td>\n",
       "    </tr>\n",
       "    <tr>\n",
       "      <th>2297</th>\n",
       "      <td>manager</td>\n",
       "      <td>0.017995</td>\n",
       "    </tr>\n",
       "    <tr>\n",
       "      <th>3171</th>\n",
       "      <td>research scientist</td>\n",
       "      <td>0.016047</td>\n",
       "    </tr>\n",
       "    <tr>\n",
       "      <th>433</th>\n",
       "      <td>associate</td>\n",
       "      <td>0.015385</td>\n",
       "    </tr>\n",
       "    <tr>\n",
       "      <th>3586</th>\n",
       "      <td>senior data</td>\n",
       "      <td>0.015095</td>\n",
       "    </tr>\n",
       "    <tr>\n",
       "      <th>3809</th>\n",
       "      <td>sr</td>\n",
       "      <td>0.014920</td>\n",
       "    </tr>\n",
       "    <tr>\n",
       "      <th>3722</th>\n",
       "      <td>software</td>\n",
       "      <td>0.014719</td>\n",
       "    </tr>\n",
       "    <tr>\n",
       "      <th>3024</th>\n",
       "      <td>quantitative</td>\n",
       "      <td>0.012095</td>\n",
       "    </tr>\n",
       "  </tbody>\n",
       "</table>\n",
       "</div>"
      ],
      "text/plain": [
       "                   index  mean_tfidf\n",
       "3343           scientist    0.082106\n",
       "992                 data    0.077585\n",
       "1035      data scientist    0.069339\n",
       "3119            research    0.049677\n",
       "160              analyst    0.049665\n",
       "3567              senior    0.034015\n",
       "3122    research analyst    0.033665\n",
       "1346            engineer    0.029786\n",
       "2297             manager    0.017995\n",
       "3171  research scientist    0.016047\n",
       "433            associate    0.015385\n",
       "3586         senior data    0.015095\n",
       "3809                  sr    0.014920\n",
       "3722            software    0.014719\n",
       "3024        quantitative    0.012095"
      ]
     },
     "execution_count": 678,
     "metadata": {},
     "output_type": "execute_result"
    }
   ],
   "source": [
    "#Below is the list of most important words and their tfidf scores for importance to all the jobs that had\n",
    "#data scientist in the title. We'll use these keyword weights to then get a weighted score for whether or not\n",
    "#a certain job description is likely to be a data scientist job or not.\n",
    "dense_test2 = pd.DataFrame(dense2, columns=[tfidfv2.get_feature_names()])\n",
    "dense_test2 = dense_test2.transpose()\n",
    "dense_test2['mean_tfidf'] = dense_test2.mean(axis=1)\n",
    "dense_test2 = dense_test2[['mean_tfidf']]\n",
    "dense_test2 = dense_test2.reset_index()\n",
    "dense_test2 = dense_test2.sort_values('mean_tfidf', ascending=False)\n",
    "dense_test2.head(15)"
   ]
  },
  {
   "cell_type": "code",
   "execution_count": 679,
   "metadata": {
    "collapsed": false
   },
   "outputs": [
    {
     "data": {
      "text/plain": [
       "(8, 2)"
      ]
     },
     "execution_count": 679,
     "metadata": {},
     "output_type": "execute_result"
    }
   ],
   "source": [
    "#We have 5,000 words in the TFIDF dataframe which is WAY more than we need. So lets filter that to be fewer\n",
    "#keywords so its easier to track. We should be pretty strict on this since there shouldn't be that much\n",
    "#variation.\n",
    "ds_keywords2 = dense_test2[dense_test2['mean_tfidf'] > 0.018]\n",
    "ds_keywords2.shape"
   ]
  },
  {
   "cell_type": "code",
   "execution_count": 680,
   "metadata": {
    "collapsed": false
   },
   "outputs": [
    {
     "data": {
      "text/html": [
       "<div>\n",
       "<table border=\"1\" class=\"dataframe\">\n",
       "  <thead>\n",
       "    <tr style=\"text-align: right;\">\n",
       "      <th></th>\n",
       "      <th>SCIENTIST</th>\n",
       "      <th>DATA</th>\n",
       "      <th>DATA SCIENTIST</th>\n",
       "      <th>RESEARCH</th>\n",
       "      <th>ANALYST</th>\n",
       "      <th>SENIOR</th>\n",
       "      <th>RESEARCH ANALYST</th>\n",
       "      <th>ENGINEER</th>\n",
       "    </tr>\n",
       "  </thead>\n",
       "  <tbody>\n",
       "    <tr>\n",
       "      <th>1</th>\n",
       "      <td>0.0821064</td>\n",
       "      <td>0.0775845</td>\n",
       "      <td>0.0693389</td>\n",
       "      <td>0.049677</td>\n",
       "      <td>0.0496651</td>\n",
       "      <td>0.0340151</td>\n",
       "      <td>0.0336652</td>\n",
       "      <td>0.0297859</td>\n",
       "    </tr>\n",
       "  </tbody>\n",
       "</table>\n",
       "</div>"
      ],
      "text/plain": [
       "   SCIENTIST       DATA DATA SCIENTIST  RESEARCH    ANALYST     SENIOR  \\\n",
       "1  0.0821064  0.0775845      0.0693389  0.049677  0.0496651  0.0340151   \n",
       "\n",
       "  RESEARCH ANALYST   ENGINEER  \n",
       "1        0.0336652  0.0297859  "
      ]
     },
     "execution_count": 680,
     "metadata": {},
     "output_type": "execute_result"
    }
   ],
   "source": [
    "#Now lets format this dataframe into something that we can use to search through all our job titles.\n",
    "ds_key_test2 = ds_keywords2.transpose()\n",
    "ds_key_test2.columns = ds_key_test2.iloc[0]\n",
    "ds_key_test2 = ds_key_test2.reset_index()\n",
    "ds_key_test2.drop(0, inplace=True)\n",
    "ds_key_test2.drop('index', axis=1, inplace=True)\n",
    "ds_key_test2.columns.name = None\n",
    "ds_key_test2.columns = map(lambda x: x.upper(), ds_key_test2.columns)\n",
    "ds_key_test2"
   ]
  },
  {
   "cell_type": "code",
   "execution_count": 681,
   "metadata": {
    "collapsed": true
   },
   "outputs": [],
   "source": [
    "#Split up the strings of each job description so we can search through every word.\n",
    "df['title_test'] = df['title'].str.split()"
   ]
  },
  {
   "cell_type": "code",
   "execution_count": 682,
   "metadata": {
    "collapsed": false
   },
   "outputs": [
    {
     "name": "stderr",
     "output_type": "stream",
     "text": [
      "/Users/nathanhall/anaconda/lib/python2.7/site-packages/ipykernel/__main__.py:7: UnicodeWarning: Unicode equal comparison failed to convert both arguments to Unicode - interpreting them as being unequal\n"
     ]
    }
   ],
   "source": [
    "#All that work for this sweet little search engine filtering thingy.\n",
    "df_test2 = pd.DataFrame(columns=ds_key_test2.columns)\n",
    "for x in df['title_test']:\n",
    "    t2 = []\n",
    "    try:\n",
    "        for i in ds_key_test2.columns:\n",
    "            if i in x:\n",
    "                t2.append(ds_key_test2[i].loc[1])\n",
    "            else:\n",
    "                t2.append(np.nan)\n",
    "    except:\n",
    "        t2.append(np.nan)\n",
    "    append_test2 = dict(zip(list(ds_key_test2.columns), t2))\n",
    "    df_test2 = df_test2.append(append_test2, ignore_index=True)"
   ]
  },
  {
   "cell_type": "code",
   "execution_count": 683,
   "metadata": {
    "collapsed": true
   },
   "outputs": [],
   "source": [
    "#Take the above resulting dataframe and sum up each job title \"Data Sciency\" score.\n",
    "df_test2['likelihood'] = df_test2.sum(axis=1)"
   ]
  },
  {
   "cell_type": "code",
   "execution_count": 684,
   "metadata": {
    "collapsed": false
   },
   "outputs": [],
   "source": [
    "df_test2.columns = [str(col) + '_title' for col in df_test2.columns]"
   ]
  },
  {
   "cell_type": "code",
   "execution_count": 685,
   "metadata": {
    "collapsed": true
   },
   "outputs": [],
   "source": [
    "df_test.columns = [str(col) + '_keyword' for col in df_test.columns]"
   ]
  },
  {
   "cell_type": "code",
   "execution_count": 686,
   "metadata": {
    "collapsed": false
   },
   "outputs": [
    {
     "name": "stdout",
     "output_type": "stream",
     "text": [
      "(2132, 48)\n"
     ]
    }
   ],
   "source": [
    "#Concapt the resulting dataframes together\n",
    "df_keywords = pd.concat([df_test, df_test2], axis=1)\n",
    "print df_keywords.shape"
   ]
  },
  {
   "cell_type": "code",
   "execution_count": 687,
   "metadata": {
    "collapsed": false
   },
   "outputs": [
    {
     "name": "stdout",
     "output_type": "stream",
     "text": [
      "df Shape Before Filter = (2132, 63)\n",
      "df Shape After Filter = (472, 63)\n"
     ]
    },
    {
     "data": {
      "text/html": [
       "<div>\n",
       "<table border=\"1\" class=\"dataframe\">\n",
       "  <thead>\n",
       "    <tr style=\"text-align: right;\">\n",
       "      <th></th>\n",
       "      <th>title</th>\n",
       "      <th>company</th>\n",
       "      <th>url</th>\n",
       "      <th>srange</th>\n",
       "      <th>location</th>\n",
       "      <th>desc</th>\n",
       "      <th>1-4</th>\n",
       "      <th>Job Flexibility</th>\n",
       "      <th>Job Satisfaction</th>\n",
       "      <th>Vacation Weeks</th>\n",
       "      <th>...</th>\n",
       "      <th>likelihood_keyword</th>\n",
       "      <th>SCIENTIST_title</th>\n",
       "      <th>DATA_title</th>\n",
       "      <th>DATA SCIENTIST_title</th>\n",
       "      <th>RESEARCH_title</th>\n",
       "      <th>ANALYST_title</th>\n",
       "      <th>SENIOR_title</th>\n",
       "      <th>RESEARCH ANALYST_title</th>\n",
       "      <th>ENGINEER_title</th>\n",
       "      <th>likelihood_title</th>\n",
       "    </tr>\n",
       "  </thead>\n",
       "  <tbody>\n",
       "    <tr>\n",
       "      <th>1172</th>\n",
       "      <td>STATISTICAL CONSULTANT</td>\n",
       "      <td>Equifax</td>\n",
       "      <td>http://indeed.com/rc/clk?jk=e3db711f65629c93&amp;f...</td>\n",
       "      <td>['\\n\\n\\nManipulate large data sets, integrate ...</td>\n",
       "      <td>Alpharetta, GA</td>\n",
       "      <td>STATISTICAL CONSULTANT   APPLY          JOB ...</td>\n",
       "      <td>$60,404</td>\n",
       "      <td>Data Not Available</td>\n",
       "      <td>Extremely satisfied</td>\n",
       "      <td>2.7 Weeks</td>\n",
       "      <td>...</td>\n",
       "      <td>0.904738</td>\n",
       "      <td>NaN</td>\n",
       "      <td>NaN</td>\n",
       "      <td>NaN</td>\n",
       "      <td>NaN</td>\n",
       "      <td>NaN</td>\n",
       "      <td>NaN</td>\n",
       "      <td>NaN</td>\n",
       "      <td>NaN</td>\n",
       "      <td>0.000000</td>\n",
       "    </tr>\n",
       "    <tr>\n",
       "      <th>2016</th>\n",
       "      <td>BUSINESS ANALYTICS MANAGER</td>\n",
       "      <td>Medidata Solutions</td>\n",
       "      <td>http://indeed.com/rc/clk?jk=eb009ead7e4f2013&amp;f...</td>\n",
       "      <td>['\\n\\n\\nManage data science projects involving...</td>\n",
       "      <td>New York, NY 10003 (Greenwich Village area)</td>\n",
       "      <td>OUR IN...</td>\n",
       "      <td>$52,118</td>\n",
       "      <td>NaN</td>\n",
       "      <td>NaN</td>\n",
       "      <td>NaN</td>\n",
       "      <td>...</td>\n",
       "      <td>0.835336</td>\n",
       "      <td>NaN</td>\n",
       "      <td>NaN</td>\n",
       "      <td>NaN</td>\n",
       "      <td>NaN</td>\n",
       "      <td>NaN</td>\n",
       "      <td>NaN</td>\n",
       "      <td>NaN</td>\n",
       "      <td>NaN</td>\n",
       "      <td>0.000000</td>\n",
       "    </tr>\n",
       "    <tr>\n",
       "      <th>29</th>\n",
       "      <td>DATA SCIENTIST</td>\n",
       "      <td>Ukpeagvik Iñupiat Corporation/Bowhead Fami...</td>\n",
       "      <td>http://indeed.com/rc/clk?jk=65885ab70c3dbd8c&amp;f...</td>\n",
       "      <td>['\\n\\n\\nCrashes, The selected candidate will w...</td>\n",
       "      <td>Washington, DC</td>\n",
       "      <td>TRACKING CODE DTNH22-16-1780-F   JOB CODE...</td>\n",
       "      <td>NaN</td>\n",
       "      <td>NaN</td>\n",
       "      <td>NaN</td>\n",
       "      <td>NaN</td>\n",
       "      <td>...</td>\n",
       "      <td>0.835324</td>\n",
       "      <td>0.082106</td>\n",
       "      <td>0.077585</td>\n",
       "      <td>NaN</td>\n",
       "      <td>NaN</td>\n",
       "      <td>NaN</td>\n",
       "      <td>NaN</td>\n",
       "      <td>NaN</td>\n",
       "      <td>NaN</td>\n",
       "      <td>0.159691</td>\n",
       "    </tr>\n",
       "    <tr>\n",
       "      <th>927</th>\n",
       "      <td>DATA SCIENTIST ( MACHINE LEARNING)</td>\n",
       "      <td>IHS Markit</td>\n",
       "      <td>http://indeed.com/rc/clk?jk=493df6b925152ae3&amp;f...</td>\n",
       "      <td>['\\n\\n\\nMachine learning, data mining, quantit...</td>\n",
       "      <td>Washington, DC</td>\n",
       "      <td>ABOUT IHS MARKIT  IHS MARKIT HARNESSES DEEP SO...</td>\n",
       "      <td>NaN</td>\n",
       "      <td>NaN</td>\n",
       "      <td>NaN</td>\n",
       "      <td>NaN</td>\n",
       "      <td>...</td>\n",
       "      <td>0.828642</td>\n",
       "      <td>0.082106</td>\n",
       "      <td>0.077585</td>\n",
       "      <td>NaN</td>\n",
       "      <td>NaN</td>\n",
       "      <td>NaN</td>\n",
       "      <td>NaN</td>\n",
       "      <td>NaN</td>\n",
       "      <td>NaN</td>\n",
       "      <td>0.159691</td>\n",
       "    </tr>\n",
       "    <tr>\n",
       "      <th>1072</th>\n",
       "      <td>DATA SCIENTIST</td>\n",
       "      <td>Cotiviti</td>\n",
       "      <td>http://indeed.com/rc/clk?jk=c95e60155151f4e2&amp;f...</td>\n",
       "      <td>['\\n\\n\\nThis is a pioneering data scientist wh...</td>\n",
       "      <td>Atlanta, GA</td>\n",
       "      <td>REQUISITION NUMBER 16-0948   TITLE DATA S...</td>\n",
       "      <td>NaN</td>\n",
       "      <td>NaN</td>\n",
       "      <td>NaN</td>\n",
       "      <td>NaN</td>\n",
       "      <td>...</td>\n",
       "      <td>0.818920</td>\n",
       "      <td>0.082106</td>\n",
       "      <td>0.077585</td>\n",
       "      <td>NaN</td>\n",
       "      <td>NaN</td>\n",
       "      <td>NaN</td>\n",
       "      <td>NaN</td>\n",
       "      <td>NaN</td>\n",
       "      <td>NaN</td>\n",
       "      <td>0.159691</td>\n",
       "    </tr>\n",
       "  </tbody>\n",
       "</table>\n",
       "<p>5 rows × 63 columns</p>\n",
       "</div>"
      ],
      "text/plain": [
       "                                   title  \\\n",
       "1172              STATISTICAL CONSULTANT   \n",
       "2016          BUSINESS ANALYTICS MANAGER   \n",
       "29                        DATA SCIENTIST   \n",
       "927   DATA SCIENTIST ( MACHINE LEARNING)   \n",
       "1072                      DATA SCIENTIST   \n",
       "\n",
       "                                                company  \\\n",
       "1172                                            Equifax   \n",
       "2016                                 Medidata Solutions   \n",
       "29        Ukpeagvik Iñupiat Corporation/Bowhead Fami...   \n",
       "927                                          IHS Markit   \n",
       "1072                                           Cotiviti   \n",
       "\n",
       "                                                    url  \\\n",
       "1172  http://indeed.com/rc/clk?jk=e3db711f65629c93&f...   \n",
       "2016  http://indeed.com/rc/clk?jk=eb009ead7e4f2013&f...   \n",
       "29    http://indeed.com/rc/clk?jk=65885ab70c3dbd8c&f...   \n",
       "927   http://indeed.com/rc/clk?jk=493df6b925152ae3&f...   \n",
       "1072  http://indeed.com/rc/clk?jk=c95e60155151f4e2&f...   \n",
       "\n",
       "                                                 srange  \\\n",
       "1172  ['\\n\\n\\nManipulate large data sets, integrate ...   \n",
       "2016  ['\\n\\n\\nManage data science projects involving...   \n",
       "29    ['\\n\\n\\nCrashes, The selected candidate will w...   \n",
       "927   ['\\n\\n\\nMachine learning, data mining, quantit...   \n",
       "1072  ['\\n\\n\\nThis is a pioneering data scientist wh...   \n",
       "\n",
       "                                         location  \\\n",
       "1172                               Alpharetta, GA   \n",
       "2016  New York, NY 10003 (Greenwich Village area)   \n",
       "29                                 Washington, DC   \n",
       "927                                Washington, DC   \n",
       "1072                                  Atlanta, GA   \n",
       "\n",
       "                                                   desc       1-4  \\\n",
       "1172    STATISTICAL CONSULTANT   APPLY          JOB ...  $60,404    \n",
       "2016                                          OUR IN...  $52,118    \n",
       "29         TRACKING CODE DTNH22-16-1780-F   JOB CODE...       NaN   \n",
       "927   ABOUT IHS MARKIT  IHS MARKIT HARNESSES DEEP SO...       NaN   \n",
       "1072       REQUISITION NUMBER 16-0948   TITLE DATA S...       NaN   \n",
       "\n",
       "         Job Flexibility     Job Satisfaction Vacation Weeks  \\\n",
       "1172  Data Not Available  Extremely satisfied      2.7 Weeks   \n",
       "2016                 NaN                  NaN            NaN   \n",
       "29                   NaN                  NaN            NaN   \n",
       "927                  NaN                  NaN            NaN   \n",
       "1072                 NaN                  NaN            NaN   \n",
       "\n",
       "            ...        likelihood_keyword  SCIENTIST_title  DATA_title  \\\n",
       "1172        ...                  0.904738              NaN         NaN   \n",
       "2016        ...                  0.835336              NaN         NaN   \n",
       "29          ...                  0.835324         0.082106    0.077585   \n",
       "927         ...                  0.828642         0.082106    0.077585   \n",
       "1072        ...                  0.818920         0.082106    0.077585   \n",
       "\n",
       "     DATA SCIENTIST_title RESEARCH_title  ANALYST_title  SENIOR_title  \\\n",
       "1172                  NaN            NaN            NaN           NaN   \n",
       "2016                  NaN            NaN            NaN           NaN   \n",
       "29                    NaN            NaN            NaN           NaN   \n",
       "927                   NaN            NaN            NaN           NaN   \n",
       "1072                  NaN            NaN            NaN           NaN   \n",
       "\n",
       "      RESEARCH ANALYST_title  ENGINEER_title  likelihood_title  \n",
       "1172                     NaN             NaN          0.000000  \n",
       "2016                     NaN             NaN          0.000000  \n",
       "29                       NaN             NaN          0.159691  \n",
       "927                      NaN             NaN          0.159691  \n",
       "1072                     NaN             NaN          0.159691  \n",
       "\n",
       "[5 rows x 63 columns]"
      ]
     },
     "execution_count": 687,
     "metadata": {},
     "output_type": "execute_result"
    }
   ],
   "source": [
    "#Concat that score to the original dataframe.\n",
    "df = pd.concat([df, df_keywords], axis=1)\n",
    "#Create a new dataframe that now filters our results to the most \"Data Sciency\" jobs.\n",
    "print \"df Shape Before Filter =\", df.shape\n",
    "#This threshold should remain near the same to catch the most \"data sciencey\" jobs.\n",
    "df = df[df['likelihood_keyword'] > 0.52]\n",
    "print \"df Shape After Filter =\", df.shape\n",
    "df.sort_values('likelihood_keyword', ascending=False, inplace=True)\n",
    "df.head(5)"
   ]
  },
  {
   "cell_type": "markdown",
   "metadata": {},
   "source": [
    "# WEIGHTING"
   ]
  },
  {
   "cell_type": "markdown",
   "metadata": {},
   "source": [
    "### 9: Extract salary data from job post text for ALL \"Data Sciency\" jobs."
   ]
  },
  {
   "cell_type": "code",
   "execution_count": 688,
   "metadata": {
    "collapsed": false
   },
   "outputs": [],
   "source": [
    "#format the srange column so you can extract the salary data.\n",
    "df['srange'] = df['srange'].str.replace('[', '')\n",
    "df['srange'] = df['srange'].str.replace(']', '')\n",
    "df['srange'] = df['srange'].str.replace(r\"\\\\n\", ' ')\n",
    "\n",
    "#exctract salary data that matches the following formats.\n",
    "df['srange1'] = df['srange'].str.extract('(.\\d\\d,\\d\\d\\d - .\\d\\d,\\d\\d\\d)', expand=True)\n",
    "df['srange2'] = df['srange'].str.extract('(.\\d\\d,\\d\\d\\d - .\\d\\d\\d,\\d\\d\\d)', expand=True)"
   ]
  },
  {
   "cell_type": "code",
   "execution_count": 689,
   "metadata": {
    "collapsed": true
   },
   "outputs": [],
   "source": [
    "#partition the strings in srange1 and srange2\n",
    "low_range1 = []\n",
    "high_range1 = []\n",
    "for i in df['srange1']:\n",
    "    try:\n",
    "        head1, sep1, tail1 = i.partition(' - ')\n",
    "        low_range1.append(head1)\n",
    "        high_range1.append(tail1)\n",
    "    except:\n",
    "        low_range1.append(np.nan)\n",
    "        high_range1.append(np.nan)\n",
    "#Append the data to the dataframe that was extracted from the srange1 column.\n",
    "df['low_srange1'] = low_range1\n",
    "df['high_srange1'] = high_range1\n",
    "#drop the srange column.\n",
    "df.drop('srange1', axis=1, inplace=True)\n",
    "\n",
    "#repeat the above step for srange2\n",
    "low_range2 = []\n",
    "high_range2 = []\n",
    "for i in df['srange2']:\n",
    "    try:\n",
    "        head2, sep2, tail2 = i.partition(' - ')\n",
    "        low_range2.append(head2)\n",
    "        high_range2.append(tail2)\n",
    "    except:\n",
    "        low_range2.append(np.nan)\n",
    "        high_range2.append(np.nan)\n",
    "#Append the data to the dataframe that was extracted from the srange1 column.\n",
    "df['low_srange2'] = low_range2\n",
    "df['high_srange2'] = high_range2\n",
    "#drop the srange2 column.\n",
    "df.drop('srange2', axis=1, inplace=True)\n",
    "\n",
    "#drop the srange column since we now have the data we need from it.\n",
    "df.drop('srange', axis=1, inplace=True)"
   ]
  },
  {
   "cell_type": "code",
   "execution_count": 690,
   "metadata": {
    "collapsed": false
   },
   "outputs": [],
   "source": [
    "#exctract salary data that matches the format for a 6 figure job from each job description.\n",
    "df['extract_test_high'] = df['desc'].str.extract('(\\d\\d\\d,\\d\\d\\d\\.\\d\\d)', expand=True)\n",
    "#extract salary data that matches the format for a 5 figure job.\n",
    "df['extract_test'] = df['desc'].str.extract('(\\d\\d,\\d\\d\\d\\.\\d\\d)', expand=True)\n",
    "#for comparison... extract the salary data that does not have decimal places but is five figures.\n",
    "df['extract_test1'] = df['desc'].str.extract('(\\d\\d,\\d\\d\\d)', expand=True)"
   ]
  },
  {
   "cell_type": "code",
   "execution_count": 691,
   "metadata": {
    "collapsed": false
   },
   "outputs": [],
   "source": [
    "#To accomplish this we need to reformat some columns.\n",
    "format_cols = ['low_srange1', '1-4', 'high_srange1', 'low_srange2', 'high_srange2', 'extract_test_high', 'extract_test', 'extract_test1']\n",
    "#Format all dollar value rows so that they can be converted to floats.\n",
    "for i in df[format_cols]:\n",
    "    df[i] = df[i].astype(str)\n",
    "    df[i] = df[i].str.replace(',', '')\n",
    "    df[i] = df[i].str.replace('$', '')\n",
    "    df[i] = df[i].astype(float)"
   ]
  },
  {
   "cell_type": "code",
   "execution_count": 692,
   "metadata": {
    "collapsed": true
   },
   "outputs": [],
   "source": [
    "#Account for error values that may have been extracted. All our salary estimates should be over the median starting\n",
    "#salary of an employee AT LEAST!\n",
    "df[df[format_cols] < 45000.0] = np.nan\n",
    "df[df[format_cols] > 140000.0] = np.nan"
   ]
  },
  {
   "cell_type": "markdown",
   "metadata": {},
   "source": [
    "### 10: Calculate the percentage increase over the median salary at each company."
   ]
  },
  {
   "cell_type": "code",
   "execution_count": 693,
   "metadata": {
    "collapsed": false
   },
   "outputs": [],
   "source": [
    "#We will also take the high and low range salary estimate from the post and average it together so that we're\n",
    "#working with only one number.\n",
    "df['post_estimate'] = df[['low_srange1', 'high_srange1', 'low_srange2', 'high_srange2', 'extract_test_high', 'extract_test', 'extract_test1']].mean(axis=1)\n",
    "#drop all those srange columns now.\n",
    "df.drop(['low_srange1', 'high_srange1', 'low_srange2', 'high_srange2', 'extract_test_high', 'extract_test', 'extract_test1'], axis=1, inplace=True)"
   ]
  },
  {
   "cell_type": "code",
   "execution_count": 694,
   "metadata": {
    "collapsed": false
   },
   "outputs": [
    {
     "data": {
      "text/plain": [
       "50000.000000     8\n",
       "74000.000000     4\n",
       "75000.000000     3\n",
       "90000.000000     3\n",
       "112946.666667    2\n",
       "100000.000000    2\n",
       "45000.000000     1\n",
       "80000.000000     1\n",
       "96366.500000     1\n",
       "62000.000000     1\n",
       "125000.000000    1\n",
       "94411.600000     1\n",
       "140000.000000    1\n",
       "58000.000000     1\n",
       "76000.000000     1\n",
       "93159.333333     1\n",
       "67419.000000     1\n",
       "62338.000000     1\n",
       "100306.500000    1\n",
       "Name: post_estimate, dtype: int64"
      ]
     },
     "execution_count": 694,
     "metadata": {},
     "output_type": "execute_result"
    }
   ],
   "source": [
    "df['post_estimate'].value_counts()"
   ]
  },
  {
   "cell_type": "code",
   "execution_count": 695,
   "metadata": {
    "collapsed": false
   },
   "outputs": [
    {
     "name": "stdout",
     "output_type": "stream",
     "text": [
      "(10, 63)\n"
     ]
    }
   ],
   "source": [
    "#Now we'll take the post_estimate and known data science salaries at that company and create an initial estimate.\n",
    "#df['initial_estimate'] = df[['post_estimate', 'data_scientist_salary']].mean(axis=1)\n",
    "#Now we're going to make a dataframe of only the data we can make our first two estimates off of.\n",
    "df2 = df[['post_estimate']].dropna(thresh=1)\n",
    "df2 = df2.join(df, lsuffix='_left', rsuffix='_right')\n",
    "df2.drop(['post_estimate_left'], axis=1, inplace=True)\n",
    "#Filter the dataframe to only have values from the 1-4 column. This will return just the posts that have BOTH\n",
    "#1-4 year company data and the job post specific salary data.\n",
    "df2 = df2[df2['1-4'] > 0]\n",
    "print df2.shape"
   ]
  },
  {
   "cell_type": "code",
   "execution_count": 696,
   "metadata": {
    "collapsed": false
   },
   "outputs": [],
   "source": [
    "#Now we'll use these job postings to calculate a percentage increase over a standard job at each of these companies.\n",
    "df2['weight'] = (df2['post_estimate_right']/df2['1-4'])"
   ]
  },
  {
   "cell_type": "code",
   "execution_count": 697,
   "metadata": {
    "collapsed": false
   },
   "outputs": [
    {
     "data": {
      "text/plain": [
       "1.2451427181054453"
      ]
     },
     "execution_count": 697,
     "metadata": {},
     "output_type": "execute_result"
    }
   ],
   "source": [
    "#Average percentage increase over just normal year data that a data scientist salary should be making.\n",
    "ds_generic_weight = df2['weight'].mean()\n",
    "ds_generic_weight"
   ]
  },
  {
   "cell_type": "code",
   "execution_count": 698,
   "metadata": {
    "collapsed": false
   },
   "outputs": [
    {
     "data": {
      "text/html": [
       "<div>\n",
       "<table border=\"1\" class=\"dataframe\">\n",
       "  <thead>\n",
       "    <tr style=\"text-align: right;\">\n",
       "      <th></th>\n",
       "      <th>company</th>\n",
       "      <th>weight</th>\n",
       "    </tr>\n",
       "  </thead>\n",
       "  <tbody>\n",
       "    <tr>\n",
       "      <th>0</th>\n",
       "      <td>BAE Systems</td>\n",
       "      <td>1.418797</td>\n",
       "    </tr>\n",
       "    <tr>\n",
       "      <th>1</th>\n",
       "      <td>Centers for Disease Control and Preven...</td>\n",
       "      <td>1.661176</td>\n",
       "    </tr>\n",
       "    <tr>\n",
       "      <th>2</th>\n",
       "      <td>Central Intelligence Agency</td>\n",
       "      <td>1.023344</td>\n",
       "    </tr>\n",
       "    <tr>\n",
       "      <th>3</th>\n",
       "      <td>FactSet Research Systems</td>\n",
       "      <td>0.741228</td>\n",
       "    </tr>\n",
       "    <tr>\n",
       "      <th>4</th>\n",
       "      <td>Mars</td>\n",
       "      <td>1.127447</td>\n",
       "    </tr>\n",
       "    <tr>\n",
       "      <th>5</th>\n",
       "      <td>Teva Pharmaceuticals</td>\n",
       "      <td>0.828382</td>\n",
       "    </tr>\n",
       "    <tr>\n",
       "      <th>6</th>\n",
       "      <td>U.S. Department of Labor</td>\n",
       "      <td>1.686012</td>\n",
       "    </tr>\n",
       "  </tbody>\n",
       "</table>\n",
       "</div>"
      ],
      "text/plain": [
       "                                             company    weight\n",
       "0                                        BAE Systems  1.418797\n",
       "1          Centers for Disease Control and Preven...  1.661176\n",
       "2                        Central Intelligence Agency  1.023344\n",
       "3                           FactSet Research Systems  0.741228\n",
       "4                                               Mars  1.127447\n",
       "5                               Teva Pharmaceuticals  0.828382\n",
       "6                           U.S. Department of Labor  1.686012"
      ]
     },
     "execution_count": 698,
     "metadata": {},
     "output_type": "execute_result"
    }
   ],
   "source": [
    "#now the same thing but for each company.\n",
    "df3 = df2.groupby('company').mean()\n",
    "df3 = df3.reset_index()\n",
    "df4 = df3[['company', 'weight']]\n",
    "df4"
   ]
  },
  {
   "cell_type": "code",
   "execution_count": 699,
   "metadata": {
    "collapsed": true
   },
   "outputs": [],
   "source": [
    "#Make a dictionary mapping function for the above companies.\n",
    "weight_dict = df4.set_index('company').to_dict()['weight']"
   ]
  },
  {
   "cell_type": "markdown",
   "metadata": {},
   "source": [
    "# ESTIMATING"
   ]
  },
  {
   "cell_type": "markdown",
   "metadata": {},
   "source": [
    "You'll notice that above if we only used jobs that had salaries we'd have 49 out of every 560. That is why I built a salary estimator. With the salary data that is available for these companies if I use a weighted measure to estimate the salary of a data scientist then I will be able to keep posts that either have a salary range posted, a median data scientist salary posted, OR a median salary for a 1-4 year employee posted."
   ]
  },
  {
   "cell_type": "markdown",
   "metadata": {},
   "source": [
    "### 11: For jobs without a salary in the post use the Data Science salary weight to estimate a salary for each company."
   ]
  },
  {
   "cell_type": "code",
   "execution_count": 700,
   "metadata": {
    "collapsed": false
   },
   "outputs": [],
   "source": [
    "#Add a column of company weights we calclated earlier to the dataframe.\n",
    "df['co_weight'] = df['company'].map(weight_dict)\n",
    "#Fill all the unknown weights for companies with the average increase of 25%.\n",
    "df['co_weight'] = df['co_weight'].fillna(ds_generic_weight)"
   ]
  },
  {
   "cell_type": "code",
   "execution_count": 701,
   "metadata": {
    "collapsed": false
   },
   "outputs": [],
   "source": [
    "#Now calculate a weighted salary estimate for each of the \"Data Sciency\" jobs we have in our dataframe.\n",
    "df['weighted_estimate'] = df['co_weight']*df['1-4']"
   ]
  },
  {
   "cell_type": "code",
   "execution_count": 702,
   "metadata": {
    "collapsed": true
   },
   "outputs": [],
   "source": [
    "#Now for the FINAL estimate we will average together the data that we have available to us.\n",
    "df['estimate'] = df[['post_estimate', 'weighted_estimate']].mean(axis=1)"
   ]
  },
  {
   "cell_type": "code",
   "execution_count": 703,
   "metadata": {
    "collapsed": false
   },
   "outputs": [
    {
     "name": "stdout",
     "output_type": "stream",
     "text": [
      "df shape before estimate = (472, 66)\n",
      "df shape after estimate = (219, 66)\n"
     ]
    },
    {
     "data": {
      "text/html": [
       "<div>\n",
       "<table border=\"1\" class=\"dataframe\">\n",
       "  <thead>\n",
       "    <tr style=\"text-align: right;\">\n",
       "      <th></th>\n",
       "      <th>title</th>\n",
       "      <th>company</th>\n",
       "      <th>url</th>\n",
       "      <th>location</th>\n",
       "      <th>desc</th>\n",
       "      <th>1-4</th>\n",
       "      <th>Job Flexibility</th>\n",
       "      <th>Job Satisfaction</th>\n",
       "      <th>Vacation Weeks</th>\n",
       "      <th>Work Stress</th>\n",
       "      <th>...</th>\n",
       "      <th>RESEARCH_title</th>\n",
       "      <th>ANALYST_title</th>\n",
       "      <th>SENIOR_title</th>\n",
       "      <th>RESEARCH ANALYST_title</th>\n",
       "      <th>ENGINEER_title</th>\n",
       "      <th>likelihood_title</th>\n",
       "      <th>post_estimate</th>\n",
       "      <th>co_weight</th>\n",
       "      <th>weighted_estimate</th>\n",
       "      <th>estimate</th>\n",
       "    </tr>\n",
       "  </thead>\n",
       "  <tbody>\n",
       "    <tr>\n",
       "      <th>1172</th>\n",
       "      <td>STATISTICAL CONSULTANT</td>\n",
       "      <td>Equifax</td>\n",
       "      <td>http://indeed.com/rc/clk?jk=e3db711f65629c93&amp;f...</td>\n",
       "      <td>Alpharetta, GA</td>\n",
       "      <td>STATISTICAL CONSULTANT   APPLY          JOB ...</td>\n",
       "      <td>60404.0</td>\n",
       "      <td>Data Not Available</td>\n",
       "      <td>Extremely satisfied</td>\n",
       "      <td>2.7 Weeks</td>\n",
       "      <td>Stressful</td>\n",
       "      <td>...</td>\n",
       "      <td>NaN</td>\n",
       "      <td>NaN</td>\n",
       "      <td>NaN</td>\n",
       "      <td>NaN</td>\n",
       "      <td>NaN</td>\n",
       "      <td>0.000000</td>\n",
       "      <td>NaN</td>\n",
       "      <td>1.245143</td>\n",
       "      <td>75211.600744</td>\n",
       "      <td>75211.600744</td>\n",
       "    </tr>\n",
       "    <tr>\n",
       "      <th>2016</th>\n",
       "      <td>BUSINESS ANALYTICS MANAGER</td>\n",
       "      <td>Medidata Solutions</td>\n",
       "      <td>http://indeed.com/rc/clk?jk=eb009ead7e4f2013&amp;f...</td>\n",
       "      <td>New York, NY 10003 (Greenwich Village area)</td>\n",
       "      <td>OUR IN...</td>\n",
       "      <td>52118.0</td>\n",
       "      <td>NaN</td>\n",
       "      <td>NaN</td>\n",
       "      <td>NaN</td>\n",
       "      <td>NaN</td>\n",
       "      <td>...</td>\n",
       "      <td>NaN</td>\n",
       "      <td>NaN</td>\n",
       "      <td>NaN</td>\n",
       "      <td>NaN</td>\n",
       "      <td>NaN</td>\n",
       "      <td>0.000000</td>\n",
       "      <td>NaN</td>\n",
       "      <td>1.245143</td>\n",
       "      <td>64894.348182</td>\n",
       "      <td>64894.348182</td>\n",
       "    </tr>\n",
       "    <tr>\n",
       "      <th>927</th>\n",
       "      <td>DATA SCIENTIST ( MACHINE LEARNING)</td>\n",
       "      <td>IHS Markit</td>\n",
       "      <td>http://indeed.com/rc/clk?jk=493df6b925152ae3&amp;f...</td>\n",
       "      <td>Washington, DC</td>\n",
       "      <td>ABOUT IHS MARKIT  IHS MARKIT HARNESSES DEEP SO...</td>\n",
       "      <td>NaN</td>\n",
       "      <td>NaN</td>\n",
       "      <td>NaN</td>\n",
       "      <td>NaN</td>\n",
       "      <td>NaN</td>\n",
       "      <td>...</td>\n",
       "      <td>NaN</td>\n",
       "      <td>NaN</td>\n",
       "      <td>NaN</td>\n",
       "      <td>NaN</td>\n",
       "      <td>NaN</td>\n",
       "      <td>0.159691</td>\n",
       "      <td>50000.0</td>\n",
       "      <td>1.245143</td>\n",
       "      <td>NaN</td>\n",
       "      <td>50000.000000</td>\n",
       "    </tr>\n",
       "    <tr>\n",
       "      <th>1496</th>\n",
       "      <td>CHIEF DATA SCIENTIST</td>\n",
       "      <td>S&amp;P GLOBAL</td>\n",
       "      <td>http://indeed.com/rc/clk?jk=307ac18e77a35c8a&amp;f...</td>\n",
       "      <td>New York, NY 10002 (Lower East Side area)</td>\n",
       "      <td>POSITION DESCRIPTION  ...</td>\n",
       "      <td>67348.0</td>\n",
       "      <td>NaN</td>\n",
       "      <td>NaN</td>\n",
       "      <td>NaN</td>\n",
       "      <td>NaN</td>\n",
       "      <td>...</td>\n",
       "      <td>NaN</td>\n",
       "      <td>NaN</td>\n",
       "      <td>NaN</td>\n",
       "      <td>NaN</td>\n",
       "      <td>NaN</td>\n",
       "      <td>0.159691</td>\n",
       "      <td>NaN</td>\n",
       "      <td>1.245143</td>\n",
       "      <td>83857.871779</td>\n",
       "      <td>83857.871779</td>\n",
       "    </tr>\n",
       "    <tr>\n",
       "      <th>1355</th>\n",
       "      <td>PRINCIPAL DATA SCIENTIST</td>\n",
       "      <td>Aetna</td>\n",
       "      <td>http://indeed.com/rc/clk?jk=6a7a681f17bfde42&amp;f...</td>\n",
       "      <td>New York, NY 10016 (Gramercy area)</td>\n",
       "      <td>POSITION SUMMARY THE PRINCIPAL SCIENTIST PROVI...</td>\n",
       "      <td>55214.0</td>\n",
       "      <td>Data Not Available</td>\n",
       "      <td>Extremely satisfied</td>\n",
       "      <td>3.0 Weeks</td>\n",
       "      <td>Highly stressful</td>\n",
       "      <td>...</td>\n",
       "      <td>NaN</td>\n",
       "      <td>NaN</td>\n",
       "      <td>NaN</td>\n",
       "      <td>NaN</td>\n",
       "      <td>NaN</td>\n",
       "      <td>0.159691</td>\n",
       "      <td>NaN</td>\n",
       "      <td>1.245143</td>\n",
       "      <td>68749.310037</td>\n",
       "      <td>68749.310037</td>\n",
       "    </tr>\n",
       "  </tbody>\n",
       "</table>\n",
       "<p>5 rows × 66 columns</p>\n",
       "</div>"
      ],
      "text/plain": [
       "                                   title                     company  \\\n",
       "1172              STATISTICAL CONSULTANT                     Equifax   \n",
       "2016          BUSINESS ANALYTICS MANAGER          Medidata Solutions   \n",
       "927   DATA SCIENTIST ( MACHINE LEARNING)                  IHS Markit   \n",
       "1496                CHIEF DATA SCIENTIST                  S&P GLOBAL   \n",
       "1355            PRINCIPAL DATA SCIENTIST                       Aetna   \n",
       "\n",
       "                                                    url  \\\n",
       "1172  http://indeed.com/rc/clk?jk=e3db711f65629c93&f...   \n",
       "2016  http://indeed.com/rc/clk?jk=eb009ead7e4f2013&f...   \n",
       "927   http://indeed.com/rc/clk?jk=493df6b925152ae3&f...   \n",
       "1496  http://indeed.com/rc/clk?jk=307ac18e77a35c8a&f...   \n",
       "1355  http://indeed.com/rc/clk?jk=6a7a681f17bfde42&f...   \n",
       "\n",
       "                                         location  \\\n",
       "1172                               Alpharetta, GA   \n",
       "2016  New York, NY 10003 (Greenwich Village area)   \n",
       "927                                Washington, DC   \n",
       "1496    New York, NY 10002 (Lower East Side area)   \n",
       "1355           New York, NY 10016 (Gramercy area)   \n",
       "\n",
       "                                                   desc      1-4  \\\n",
       "1172    STATISTICAL CONSULTANT   APPLY          JOB ...  60404.0   \n",
       "2016                                          OUR IN...  52118.0   \n",
       "927   ABOUT IHS MARKIT  IHS MARKIT HARNESSES DEEP SO...      NaN   \n",
       "1496                          POSITION DESCRIPTION  ...  67348.0   \n",
       "1355  POSITION SUMMARY THE PRINCIPAL SCIENTIST PROVI...  55214.0   \n",
       "\n",
       "         Job Flexibility     Job Satisfaction Vacation Weeks  \\\n",
       "1172  Data Not Available  Extremely satisfied      2.7 Weeks   \n",
       "2016                 NaN                  NaN            NaN   \n",
       "927                  NaN                  NaN            NaN   \n",
       "1496                 NaN                  NaN            NaN   \n",
       "1355  Data Not Available  Extremely satisfied      3.0 Weeks   \n",
       "\n",
       "           Work Stress      ...       RESEARCH_title  ANALYST_title  \\\n",
       "1172         Stressful      ...                  NaN            NaN   \n",
       "2016               NaN      ...                  NaN            NaN   \n",
       "927                NaN      ...                  NaN            NaN   \n",
       "1496               NaN      ...                  NaN            NaN   \n",
       "1355  Highly stressful      ...                  NaN            NaN   \n",
       "\n",
       "     SENIOR_title RESEARCH ANALYST_title  ENGINEER_title  likelihood_title  \\\n",
       "1172          NaN                    NaN             NaN          0.000000   \n",
       "2016          NaN                    NaN             NaN          0.000000   \n",
       "927           NaN                    NaN             NaN          0.159691   \n",
       "1496          NaN                    NaN             NaN          0.159691   \n",
       "1355          NaN                    NaN             NaN          0.159691   \n",
       "\n",
       "      post_estimate  co_weight  weighted_estimate      estimate  \n",
       "1172            NaN   1.245143       75211.600744  75211.600744  \n",
       "2016            NaN   1.245143       64894.348182  64894.348182  \n",
       "927         50000.0   1.245143                NaN  50000.000000  \n",
       "1496            NaN   1.245143       83857.871779  83857.871779  \n",
       "1355            NaN   1.245143       68749.310037  68749.310037  \n",
       "\n",
       "[5 rows x 66 columns]"
      ]
     },
     "execution_count": 703,
     "metadata": {},
     "output_type": "execute_result"
    }
   ],
   "source": [
    "#Before we move on to modeling though we need to drop the jobs in our dataframe that did not end up with an estimate.\n",
    "print \"df shape before estimate =\", df.shape\n",
    "df = df[df['estimate'] > 0]\n",
    "print \"df shape after estimate =\", df.shape\n",
    "df.head()"
   ]
  },
  {
   "cell_type": "code",
   "execution_count": 704,
   "metadata": {
    "collapsed": true
   },
   "outputs": [],
   "source": [
    "#Predict against the estimate."
   ]
  },
  {
   "cell_type": "code",
   "execution_count": 706,
   "metadata": {
    "collapsed": true
   },
   "outputs": [],
   "source": [
    "df_regressor = df"
   ]
  },
  {
   "cell_type": "code",
   "execution_count": 707,
   "metadata": {
    "collapsed": false
   },
   "outputs": [],
   "source": [
    "target2 = df_regressor['estimate']"
   ]
  },
  {
   "cell_type": "code",
   "execution_count": 708,
   "metadata": {
    "collapsed": false
   },
   "outputs": [
    {
     "data": {
      "text/plain": [
       "Index([u'title', u'company', u'url', u'location', u'desc', u'1-4',\n",
       "       u'Job Flexibility', u'Job Satisfaction', u'Vacation Weeks',\n",
       "       u'Work Stress', u'desc_len', u'ds_in_title', u'desc_test',\n",
       "       u'title_test', u'DATA_keyword', u'EXPERIENCE_keyword', u'WORK_keyword',\n",
       "       u'ANALYTICS_keyword', u'ANALYSIS_keyword', u'BUSINESS_keyword',\n",
       "       u'SCIENCE_keyword', u'TEAM_keyword', u'LEARNING_keyword',\n",
       "       u'SKILLS_keyword', u'NEW_keyword', u'STATISTICAL_keyword',\n",
       "       u'MACHINE_keyword', u'SCIENTIST_keyword', u'ABILITY_keyword',\n",
       "       u'MACHINE LEARNING_keyword', u'SOLUTIONS_keyword',\n",
       "       u'DATA SCIENTIST_keyword', u'DATA SCIENCE_keyword', u'USING_keyword',\n",
       "       u'RESEARCH_keyword', u'YEARS_keyword', u'TOOLS_keyword',\n",
       "       u'INFORMATION_keyword', u'DEVELOPMENT_keyword', u'TECHNICAL_keyword',\n",
       "       u'COMPANY_keyword', u'WORKING_keyword', u'MODELS_keyword',\n",
       "       u'INCLUDING_keyword', u'TECHNOLOGY_keyword', u'JOB_keyword',\n",
       "       u'ALGORITHMS_keyword', u'PROBLEMS_keyword', u'STRONG_keyword',\n",
       "       u'LARGE_keyword', u'KNOWLEDGE_keyword', u'METHODS_keyword',\n",
       "       u'likelihood_keyword', u'SCIENTIST_title', u'DATA_title',\n",
       "       u'DATA SCIENTIST_title', u'RESEARCH_title', u'ANALYST_title',\n",
       "       u'SENIOR_title', u'RESEARCH ANALYST_title', u'ENGINEER_title',\n",
       "       u'likelihood_title', u'post_estimate', u'co_weight',\n",
       "       u'weighted_estimate', u'estimate'],\n",
       "      dtype='object')"
      ]
     },
     "execution_count": 708,
     "metadata": {},
     "output_type": "execute_result"
    }
   ],
   "source": [
    "df_regressor.columns"
   ]
  },
  {
   "cell_type": "code",
   "execution_count": 709,
   "metadata": {
    "collapsed": true
   },
   "outputs": [],
   "source": [
    "df_regressor.drop(['1-4', 'post_estimate','weighted_estimate', 'estimate'], axis=1, inplace=True )"
   ]
  },
  {
   "cell_type": "code",
   "execution_count": 710,
   "metadata": {
    "collapsed": false
   },
   "outputs": [
    {
     "name": "stderr",
     "output_type": "stream",
     "text": [
      "/Users/nathanhall/anaconda/lib/python2.7/site-packages/numpy/lib/arraysetops.py:200: FutureWarning: numpy not_equal will not check object identity in the future. The comparison did not return the same result as suggested by the identity (`is`)) and will change.\n",
      "  flag = np.concatenate(([True], aux[1:] != aux[:-1]))\n"
     ]
    }
   ],
   "source": [
    "## ALTERNATIVE ESTIMATING\n",
    "le = LabelEncoder()\n",
    "X2 = df_regressor.apply(LabelEncoder().fit_transform)\n",
    "y2 = le.fit_transform(target2)"
   ]
  },
  {
   "cell_type": "code",
   "execution_count": 711,
   "metadata": {
    "collapsed": true
   },
   "outputs": [],
   "source": [
    "#Get a train and teset dataset for the above variables to put into random forest.\n",
    "X2_train, X2_test, y2_train, y2_test = train_test_split(X2, y2, test_size=.33, random_state=99)"
   ]
  },
  {
   "cell_type": "code",
   "execution_count": 712,
   "metadata": {
    "collapsed": false
   },
   "outputs": [
    {
     "name": "stdout",
     "output_type": "stream",
     "text": [
      "RandomForest Cross_Val Score:\t0.179160728784\n",
      "Train/Test RandomForest Score:\t-0.205902706264\n"
     ]
    }
   ],
   "source": [
    "#Run Random Forest on the data.\n",
    "rf2 = RandomForestRegressor()\n",
    "rf2_model = rf2.fit(X2_train, y2_train)\n",
    "y2_pred = rf2.predict(X2_test)\n",
    "\n",
    "print \"RandomForest Cross_Val Score:\\t\", cross_val_score(rf2, X2_train, y2_train, cv=5).mean()\n",
    "print \"Train/Test RandomForest Score:\\t\", rf2.score(X2_test, y2_test)"
   ]
  },
  {
   "cell_type": "code",
   "execution_count": 721,
   "metadata": {
    "collapsed": false
   },
   "outputs": [
    {
     "data": {
      "text/plain": [
       "(73, 62)"
      ]
     },
     "execution_count": 721,
     "metadata": {},
     "output_type": "execute_result"
    }
   ],
   "source": [
    "X2_test.shape"
   ]
  },
  {
   "cell_type": "code",
   "execution_count": 720,
   "metadata": {
    "collapsed": false
   },
   "outputs": [
    {
     "data": {
      "text/plain": [
       "73"
      ]
     },
     "execution_count": 720,
     "metadata": {},
     "output_type": "execute_result"
    }
   ],
   "source": [
    "len(y2_pred)"
   ]
  },
  {
   "cell_type": "code",
   "execution_count": 724,
   "metadata": {
    "collapsed": false
   },
   "outputs": [
    {
     "name": "stderr",
     "output_type": "stream",
     "text": [
      "/Users/nathanhall/anaconda/lib/python2.7/site-packages/ipykernel/__main__.py:1: SettingWithCopyWarning: \n",
      "A value is trying to be set on a copy of a slice from a DataFrame.\n",
      "Try using .loc[row_indexer,col_indexer] = value instead\n",
      "\n",
      "See the caveats in the documentation: http://pandas.pydata.org/pandas-docs/stable/indexing.html#indexing-view-versus-copy\n",
      "  if __name__ == '__main__':\n",
      "/Users/nathanhall/anaconda/lib/python2.7/site-packages/ipykernel/__main__.py:2: SettingWithCopyWarning: \n",
      "A value is trying to be set on a copy of a slice from a DataFrame.\n",
      "Try using .loc[row_indexer,col_indexer] = value instead\n",
      "\n",
      "See the caveats in the documentation: http://pandas.pydata.org/pandas-docs/stable/indexing.html#indexing-view-versus-copy\n",
      "  from ipykernel import kernelapp as app\n"
     ]
    }
   ],
   "source": [
    "X2_test['estimate'] = y2_test\n",
    "X2_test['predicted'] = y2_pred"
   ]
  },
  {
   "cell_type": "markdown",
   "metadata": {},
   "source": [
    "# MODELING"
   ]
  },
  {
   "cell_type": "markdown",
   "metadata": {},
   "source": [
    "### 12a. Format dataframe features into dummy variables."
   ]
  },
  {
   "cell_type": "code",
   "execution_count": 541,
   "metadata": {
    "collapsed": false
   },
   "outputs": [],
   "source": [
    "df_keywords.drop(['likelihood_keyword', 'likelihood_title'], axis=1, inplace=True)"
   ]
  },
  {
   "cell_type": "code",
   "execution_count": 542,
   "metadata": {
    "collapsed": false
   },
   "outputs": [],
   "source": [
    "#Get the keywords for each job post as a dummy variable.\n",
    "for x in df_keywords.columns:\n",
    "    i_list = []\n",
    "    for i in df[x]:\n",
    "        if i > 0:\n",
    "            i_list.append(1)\n",
    "        else:\n",
    "            i_list.append(np.nan)\n",
    "    df[x] = i_list"
   ]
  },
  {
   "cell_type": "code",
   "execution_count": 543,
   "metadata": {
    "collapsed": true
   },
   "outputs": [],
   "source": [
    "model_dummies = pd.get_dummies(df[['ds_in_title', 'Job Flexibility', 'Job Satisfaction', 'Work Stress']], drop_first=True)"
   ]
  },
  {
   "cell_type": "code",
   "execution_count": 544,
   "metadata": {
    "collapsed": false
   },
   "outputs": [],
   "source": [
    "#Lets make a dataframe with all the things we think might be interesting to pass into a random forest model.\n",
    "df_model = pd.concat([df, model_dummies], axis=1)"
   ]
  },
  {
   "cell_type": "code",
   "execution_count": 545,
   "metadata": {
    "collapsed": false
   },
   "outputs": [
    {
     "name": "stdout",
     "output_type": "stream",
     "text": [
      "Shape of the model dataframe = (219, 56)\n"
     ]
    }
   ],
   "source": [
    "#Label each job post as being above or below the median to create our target.\n",
    "target = [1 if x else 0 for x in df_model['estimate'] >= 85000]\n",
    "#Dropping estimate from the model since that would be giving too much information to the random forest model.\n",
    "df_model.drop(['estimate', '1-4', 'post_estimate', 'co_weight', 'weighted_estimate', 'title', 'company', 'url', 'location', 'desc', 'desc_test','title_test', 'Job Flexibility', 'Job Satisfaction', 'ds_in_title', 'Work Stress', 'Vacation Weeks', 'COMPANY', 'WORK', 'NEW', 'SKILLS'], axis=1, inplace=True)\n",
    "print \"Shape of the model dataframe =\",df_model.shape"
   ]
  },
  {
   "cell_type": "code",
   "execution_count": 546,
   "metadata": {
    "collapsed": true
   },
   "outputs": [],
   "source": [
    "#Make a dataset for logistic regression.\n",
    "from sklearn.preprocessing import StandardScaler"
   ]
  },
  {
   "cell_type": "code",
   "execution_count": 547,
   "metadata": {
    "collapsed": true
   },
   "outputs": [],
   "source": [
    "log_model = df_model"
   ]
  },
  {
   "cell_type": "code",
   "execution_count": 548,
   "metadata": {
    "collapsed": false
   },
   "outputs": [],
   "source": [
    "log_model['target'] = target"
   ]
  },
  {
   "cell_type": "code",
   "execution_count": 549,
   "metadata": {
    "collapsed": false
   },
   "outputs": [
    {
     "data": {
      "text/html": [
       "<div>\n",
       "<table border=\"1\" class=\"dataframe\">\n",
       "  <thead>\n",
       "    <tr style=\"text-align: right;\">\n",
       "      <th></th>\n",
       "      <th>desc_len</th>\n",
       "      <th>DATA_keyword</th>\n",
       "      <th>EXPERIENCE_keyword</th>\n",
       "      <th>WORK_keyword</th>\n",
       "      <th>ANALYTICS_keyword</th>\n",
       "      <th>ANALYSIS_keyword</th>\n",
       "      <th>BUSINESS_keyword</th>\n",
       "      <th>SCIENCE_keyword</th>\n",
       "      <th>TEAM_keyword</th>\n",
       "      <th>LEARNING_keyword</th>\n",
       "      <th>...</th>\n",
       "      <th>ENGINEER_title</th>\n",
       "      <th>likelihood_title</th>\n",
       "      <th>Job Flexibility_Extremely flexible</th>\n",
       "      <th>Job Flexibility_Highly flexible</th>\n",
       "      <th>Job Satisfaction_Highly satisfied</th>\n",
       "      <th>Job Satisfaction_Satisfied</th>\n",
       "      <th>Work Stress_Highly stressful</th>\n",
       "      <th>Work Stress_Somewhat stressful</th>\n",
       "      <th>Work Stress_Stressful</th>\n",
       "      <th>target</th>\n",
       "    </tr>\n",
       "  </thead>\n",
       "  <tbody>\n",
       "    <tr>\n",
       "      <th>1172</th>\n",
       "      <td>4637</td>\n",
       "      <td>1</td>\n",
       "      <td>1.0</td>\n",
       "      <td>1.0</td>\n",
       "      <td>1.0</td>\n",
       "      <td>1.0</td>\n",
       "      <td>1.0</td>\n",
       "      <td>1.0</td>\n",
       "      <td>1.0</td>\n",
       "      <td>1.0</td>\n",
       "      <td>...</td>\n",
       "      <td>0.0</td>\n",
       "      <td>0.000000</td>\n",
       "      <td>0.0</td>\n",
       "      <td>0.0</td>\n",
       "      <td>0.0</td>\n",
       "      <td>0.0</td>\n",
       "      <td>0.0</td>\n",
       "      <td>0.0</td>\n",
       "      <td>1.0</td>\n",
       "      <td>0</td>\n",
       "    </tr>\n",
       "    <tr>\n",
       "      <th>2016</th>\n",
       "      <td>6052</td>\n",
       "      <td>1</td>\n",
       "      <td>1.0</td>\n",
       "      <td>1.0</td>\n",
       "      <td>1.0</td>\n",
       "      <td>1.0</td>\n",
       "      <td>1.0</td>\n",
       "      <td>1.0</td>\n",
       "      <td>1.0</td>\n",
       "      <td>0.0</td>\n",
       "      <td>...</td>\n",
       "      <td>0.0</td>\n",
       "      <td>0.000000</td>\n",
       "      <td>0.0</td>\n",
       "      <td>0.0</td>\n",
       "      <td>0.0</td>\n",
       "      <td>0.0</td>\n",
       "      <td>0.0</td>\n",
       "      <td>0.0</td>\n",
       "      <td>0.0</td>\n",
       "      <td>0</td>\n",
       "    </tr>\n",
       "    <tr>\n",
       "      <th>927</th>\n",
       "      <td>7079</td>\n",
       "      <td>1</td>\n",
       "      <td>1.0</td>\n",
       "      <td>1.0</td>\n",
       "      <td>1.0</td>\n",
       "      <td>1.0</td>\n",
       "      <td>1.0</td>\n",
       "      <td>1.0</td>\n",
       "      <td>1.0</td>\n",
       "      <td>1.0</td>\n",
       "      <td>...</td>\n",
       "      <td>0.0</td>\n",
       "      <td>0.159691</td>\n",
       "      <td>0.0</td>\n",
       "      <td>0.0</td>\n",
       "      <td>0.0</td>\n",
       "      <td>0.0</td>\n",
       "      <td>0.0</td>\n",
       "      <td>0.0</td>\n",
       "      <td>0.0</td>\n",
       "      <td>0</td>\n",
       "    </tr>\n",
       "    <tr>\n",
       "      <th>1496</th>\n",
       "      <td>6500</td>\n",
       "      <td>1</td>\n",
       "      <td>1.0</td>\n",
       "      <td>1.0</td>\n",
       "      <td>1.0</td>\n",
       "      <td>1.0</td>\n",
       "      <td>1.0</td>\n",
       "      <td>1.0</td>\n",
       "      <td>1.0</td>\n",
       "      <td>1.0</td>\n",
       "      <td>...</td>\n",
       "      <td>0.0</td>\n",
       "      <td>0.159691</td>\n",
       "      <td>0.0</td>\n",
       "      <td>0.0</td>\n",
       "      <td>0.0</td>\n",
       "      <td>0.0</td>\n",
       "      <td>0.0</td>\n",
       "      <td>0.0</td>\n",
       "      <td>0.0</td>\n",
       "      <td>0</td>\n",
       "    </tr>\n",
       "    <tr>\n",
       "      <th>1355</th>\n",
       "      <td>4835</td>\n",
       "      <td>1</td>\n",
       "      <td>1.0</td>\n",
       "      <td>0.0</td>\n",
       "      <td>1.0</td>\n",
       "      <td>0.0</td>\n",
       "      <td>1.0</td>\n",
       "      <td>0.0</td>\n",
       "      <td>1.0</td>\n",
       "      <td>0.0</td>\n",
       "      <td>...</td>\n",
       "      <td>0.0</td>\n",
       "      <td>0.159691</td>\n",
       "      <td>0.0</td>\n",
       "      <td>0.0</td>\n",
       "      <td>0.0</td>\n",
       "      <td>0.0</td>\n",
       "      <td>1.0</td>\n",
       "      <td>0.0</td>\n",
       "      <td>0.0</td>\n",
       "      <td>0</td>\n",
       "    </tr>\n",
       "  </tbody>\n",
       "</table>\n",
       "<p>5 rows × 57 columns</p>\n",
       "</div>"
      ],
      "text/plain": [
       "      desc_len  DATA_keyword  EXPERIENCE_keyword  WORK_keyword  \\\n",
       "1172      4637             1                 1.0           1.0   \n",
       "2016      6052             1                 1.0           1.0   \n",
       "927       7079             1                 1.0           1.0   \n",
       "1496      6500             1                 1.0           1.0   \n",
       "1355      4835             1                 1.0           0.0   \n",
       "\n",
       "      ANALYTICS_keyword  ANALYSIS_keyword  BUSINESS_keyword  SCIENCE_keyword  \\\n",
       "1172                1.0               1.0               1.0              1.0   \n",
       "2016                1.0               1.0               1.0              1.0   \n",
       "927                 1.0               1.0               1.0              1.0   \n",
       "1496                1.0               1.0               1.0              1.0   \n",
       "1355                1.0               0.0               1.0              0.0   \n",
       "\n",
       "      TEAM_keyword  LEARNING_keyword   ...    ENGINEER_title  \\\n",
       "1172           1.0               1.0   ...               0.0   \n",
       "2016           1.0               0.0   ...               0.0   \n",
       "927            1.0               1.0   ...               0.0   \n",
       "1496           1.0               1.0   ...               0.0   \n",
       "1355           1.0               0.0   ...               0.0   \n",
       "\n",
       "      likelihood_title  Job Flexibility_Extremely flexible  \\\n",
       "1172          0.000000                                 0.0   \n",
       "2016          0.000000                                 0.0   \n",
       "927           0.159691                                 0.0   \n",
       "1496          0.159691                                 0.0   \n",
       "1355          0.159691                                 0.0   \n",
       "\n",
       "      Job Flexibility_Highly flexible  Job Satisfaction_Highly satisfied  \\\n",
       "1172                              0.0                                0.0   \n",
       "2016                              0.0                                0.0   \n",
       "927                               0.0                                0.0   \n",
       "1496                              0.0                                0.0   \n",
       "1355                              0.0                                0.0   \n",
       "\n",
       "      Job Satisfaction_Satisfied  Work Stress_Highly stressful  \\\n",
       "1172                         0.0                           0.0   \n",
       "2016                         0.0                           0.0   \n",
       "927                          0.0                           0.0   \n",
       "1496                         0.0                           0.0   \n",
       "1355                         0.0                           1.0   \n",
       "\n",
       "      Work Stress_Somewhat stressful  Work Stress_Stressful  target  \n",
       "1172                             0.0                    1.0       0  \n",
       "2016                             0.0                    0.0       0  \n",
       "927                              0.0                    0.0       0  \n",
       "1496                             0.0                    0.0       0  \n",
       "1355                             0.0                    0.0       0  \n",
       "\n",
       "[5 rows x 57 columns]"
      ]
     },
     "execution_count": 549,
     "metadata": {},
     "output_type": "execute_result"
    }
   ],
   "source": [
    "log_model = log_model.fillna(0.0)\n",
    "log_model.head()"
   ]
  },
  {
   "cell_type": "code",
   "execution_count": 550,
   "metadata": {
    "collapsed": false
   },
   "outputs": [],
   "source": [
    "scaler = StandardScaler()\n",
    "log_model1 = scaler.fit_transform(log_model1)"
   ]
  },
  {
   "cell_type": "code",
   "execution_count": 551,
   "metadata": {
    "collapsed": false
   },
   "outputs": [],
   "source": [
    "log_model1 = log_model.drop(['target', 'desc_len'], axis=1)"
   ]
  },
  {
   "cell_type": "code",
   "execution_count": 552,
   "metadata": {
    "collapsed": true
   },
   "outputs": [],
   "source": [
    "X1 = log_model1\n",
    "y1 = log_model['target']"
   ]
  },
  {
   "cell_type": "code",
   "execution_count": 553,
   "metadata": {
    "collapsed": true
   },
   "outputs": [],
   "source": [
    "#Get a train and teset dataset for the above variables to put into random forest.\n",
    "X1_train, X1_test, y1_train, y1_test = train_test_split(X1, y1, test_size=.33, random_state=99)"
   ]
  },
  {
   "cell_type": "markdown",
   "metadata": {},
   "source": [
    "### 12: Run all of our features through a Random Forest model to find what most influences a job being above or below the median salary."
   ]
  },
  {
   "cell_type": "code",
   "execution_count": 554,
   "metadata": {
    "collapsed": true
   },
   "outputs": [],
   "source": [
    "df_model.drop('target', axis=1, inplace=True)"
   ]
  },
  {
   "cell_type": "code",
   "execution_count": 555,
   "metadata": {
    "collapsed": false
   },
   "outputs": [],
   "source": [
    "le = LabelEncoder()\n",
    "X = df_model.apply(LabelEncoder().fit_transform)\n",
    "y = le.fit_transform(target)"
   ]
  },
  {
   "cell_type": "code",
   "execution_count": 556,
   "metadata": {
    "collapsed": false
   },
   "outputs": [],
   "source": [
    "#Get a train and teset dataset for the above variables to put into random forest.\n",
    "X_train, X_test, y_train, y_test = train_test_split(X, y, test_size=.33, random_state=99)"
   ]
  },
  {
   "cell_type": "code",
   "execution_count": 557,
   "metadata": {
    "collapsed": false
   },
   "outputs": [
    {
     "name": "stdout",
     "output_type": "stream",
     "text": [
      "Best score = 0.684931506849\n",
      "{'max_features': 'log2', 'criterion': 'entropy', 'max_depth': None, 'class_weight': 'balanced'}\n"
     ]
    }
   ],
   "source": [
    "#Grid_search on the data above to find the best parameters to pass to Random Forest\n",
    "rf_grid = RandomForestClassifier(random_state=99, n_jobs=50)\n",
    "\n",
    "#Parameter dictionary of settings options for the model we're passing grid search.\n",
    "param_grid = {\n",
    "    'criterion': ['gini', 'entropy'],\n",
    "    'max_depth' : [None,2,5,8],\n",
    "    'max_features' : ['auto', 'sqrt', 'log2'],\n",
    "    'class_weight' : ['balanced', None]\n",
    "}\n",
    "\n",
    "#Instantiate grid search.\n",
    "grid = GridSearchCV(rf_grid, param_grid, cv=5, scoring='accuracy')\n",
    "\n",
    "#Fit the grid search to X, and y.\n",
    "grid.fit(X_train, y_train)\n",
    "\n",
    "#Store the best parameters in a variable.\n",
    "params = grid.best_params_\n",
    "print \"Best score =\", grid.best_score_\n",
    "print params"
   ]
  },
  {
   "cell_type": "code",
   "execution_count": 558,
   "metadata": {
    "collapsed": false
   },
   "outputs": [
    {
     "name": "stdout",
     "output_type": "stream",
     "text": [
      "RandomForest Cross_Val Score:\t0.684827586207\n",
      "Train/Test RandomForest Score:\t0.58904109589\n"
     ]
    }
   ],
   "source": [
    "#Run Random Forest on the data.\n",
    "rf = RandomForestClassifier(**params)\n",
    "rf_model = rf.fit(X_train, y_train)\n",
    "y_pred = rf.predict(X_test)\n",
    "\n",
    "print \"RandomForest Cross_Val Score:\\t\", cross_val_score(rf, X_train, y_train, cv=5).mean()\n",
    "print \"Train/Test RandomForest Score:\\t\", rf.score(X_test, y_test)"
   ]
  },
  {
   "cell_type": "code",
   "execution_count": 559,
   "metadata": {
    "collapsed": false
   },
   "outputs": [
    {
     "name": "stdout",
     "output_type": "stream",
     "text": [
      "TP = 36\n",
      "FP = 20\n",
      "TN = 7\n",
      "FN = 10\n",
      "             precision    recall  f1-score   support\n",
      "\n",
      "          0       0.64      0.78      0.71        46\n",
      "          1       0.41      0.26      0.32        27\n",
      "\n",
      "avg / total       0.56      0.59      0.56        73\n",
      "\n"
     ]
    }
   ],
   "source": [
    "#CONFUSION MATRIX FOR LOGISTIC REGRESSION\n",
    "confusion = np.array(confusion_matrix(y_test, y_pred))\n",
    "\n",
    "# calculate true positives, the number of 1s correctly predicted to be 1\n",
    "print \"TP =\", confusion[0,0]\n",
    "# calculate false positives, the number of 0s incorrectly predicted to be 1\n",
    "print \"FP =\", confusion[1,0]\n",
    "# calculate true negatives, the number of 0s correctly predicted to be 0\n",
    "print \"TN =\", confusion[1,1]\n",
    "# calculate false negatives, the number of 1s incorrectly predicted to be 0\n",
    "print \"FN =\", confusion[0,1]\n",
    "# print out the classification report as well.\n",
    "print classification_report(y_test, y_pred)"
   ]
  },
  {
   "cell_type": "code",
   "execution_count": 560,
   "metadata": {
    "collapsed": false
   },
   "outputs": [],
   "source": [
    "df_features = pd.DataFrame(columns=['Features', 'Importance (Gini Index)'])\n",
    "df_features['Features'] = df_model.columns\n",
    "df_features['Importance (Gini Index)'] = rf.feature_importances_\n",
    "df_features.sort_values('Importance (Gini Index)', ascending=False, inplace=True)"
   ]
  },
  {
   "cell_type": "code",
   "execution_count": 561,
   "metadata": {
    "collapsed": false
   },
   "outputs": [
    {
     "name": "stdout",
     "output_type": "stream",
     "text": [
      "Best score = 0.602739726027\n",
      "{'Cs': 5, 'multi_class': 'ovr', 'cv': 5, 'scoring': 'accuracy'}\n"
     ]
    }
   ],
   "source": [
    "#Grid_search on the data above to find the best parameters to pass to Logistic Regression\n",
    "log_grid = linear_model.LogisticRegressionCV(random_state=99, n_jobs=-1, solver='newton-cg', penalty='l2')\n",
    "\n",
    "#Parameter dictionary of settings options for the model we're passing grid search.\n",
    "param_grid1 = {\n",
    "    'Cs': [1,2,5,7,9],\n",
    "    'cv' : [2,5],\n",
    "    'scoring' : ['accuracy', 'r2'],\n",
    "    'multi_class' : ['ovr', 'multinomial']\n",
    "}\n",
    "#Scoring to try = roc_auc, f1, precision, and accuracy\n",
    "\n",
    "#Instantiate grid search.\n",
    "grid1 = GridSearchCV(log_grid, param_grid1, cv=3, scoring='accuracy')\n",
    "\n",
    "#Fit the grid search to X, and y.\n",
    "grid1.fit(X1_train, y1_train)\n",
    "\n",
    "#Store the best parameters in a variable.\n",
    "params1 = grid1.best_params_\n",
    "print \"Best score =\", grid1.best_score_\n",
    "print params1"
   ]
  },
  {
   "cell_type": "code",
   "execution_count": 562,
   "metadata": {
    "collapsed": false
   },
   "outputs": [
    {
     "name": "stdout",
     "output_type": "stream",
     "text": [
      "----------------\n",
      "LOGISTIC REGRESSION CV ACCURACY SCORE\n",
      "0.65724137931\n",
      "----------------\n",
      "LOGISTIC REGRESSION R2 SCORE\n",
      "-0.41568627451\n",
      "------------------\n",
      "LOGISTIC REGRESSION CONFUSION MATRIX\n",
      "TP = 34\n",
      "FP = 17\n",
      "TN = 10\n",
      "FN = 12\n"
     ]
    }
   ],
   "source": [
    "#def logistic_vs_svm(X_train, X_test, y_train, y_test):\n",
    "# Looking at logistic regression compared to our target to see what a baseline accuracy would be.\n",
    "logistic = linear_model.LogisticRegressionCV(**params1)\n",
    "logistic.fit(X1_train, y1_train)\n",
    "print \"----------------\"\n",
    "print \"LOGISTIC REGRESSION CV ACCURACY SCORE\"\n",
    "print cross_val_score(logistic, X1_train, y1_train, cv=5, scoring='accuracy').mean()\n",
    "#Show the r2 score as well.\n",
    "print \"----------------\"\n",
    "print \"LOGISTIC REGRESSION R2 SCORE\"\n",
    "print cross_val_score(logistic, X1_train, y1_train, cv=5, scoring='r2').mean()\n",
    "#Logistic confusion matrix\n",
    "y1_pred = logistic.predict(X1_test)\n",
    "#CONFUSION MATRIX FOR LOGISTIC REGRESSION CV\n",
    "confusion = np.array(confusion_matrix(y1_test, y1_pred))\n",
    "# calculate true positives, the number of 1s correctly predicted to be 1\n",
    "print \"------------------\"\n",
    "print \"LOGISTIC REGRESSION CONFUSION MATRIX\"\n",
    "print \"TP =\", confusion[0,0]\n",
    "# calculate false positives, the number of 0s incorrectly predicted to be 1\n",
    "print \"FP =\", confusion[1,0]\n",
    "# calculate true negatives, the number of 0s correctly predicted to be 0\n",
    "print \"TN =\", confusion[1,1]\n",
    "# calculate false negatives, the number of 1s incorrectly predicted to be 0\n",
    "print \"FN =\", confusion[0,1]"
   ]
  },
  {
   "cell_type": "code",
   "execution_count": 563,
   "metadata": {
    "collapsed": false
   },
   "outputs": [
    {
     "data": {
      "text/plain": [
       "0    132\n",
       "1     87\n",
       "Name: target, dtype: int64"
      ]
     },
     "execution_count": 563,
     "metadata": {},
     "output_type": "execute_result"
    }
   ],
   "source": [
    "df_model['target'] = target\n",
    "df_model['target'].value_counts()"
   ]
  },
  {
   "cell_type": "code",
   "execution_count": 564,
   "metadata": {
    "collapsed": false
   },
   "outputs": [
    {
     "name": "stdout",
     "output_type": "stream",
     "text": [
      "55\n"
     ]
    }
   ],
   "source": [
    "logistic_coef = []\n",
    "for i in logistic.coef_.tolist():\n",
    "    for j in i:\n",
    "        logistic_coef.append(j)\n",
    "print len(logistic_coef)"
   ]
  },
  {
   "cell_type": "code",
   "execution_count": 565,
   "metadata": {
    "collapsed": false
   },
   "outputs": [],
   "source": [
    "log_features = pd.DataFrame(columns=['Features', 'Importance (coef)'])\n",
    "log_features['Features'] = X1_train.columns\n",
    "log_features['Importance (coef)'] = logistic_coef\n",
    "log_features.sort_values('Importance (coef)', ascending=False, inplace=True)"
   ]
  },
  {
   "cell_type": "code",
   "execution_count": 566,
   "metadata": {
    "collapsed": false
   },
   "outputs": [
    {
     "data": {
      "text/html": [
       "<div>\n",
       "<table border=\"1\" class=\"dataframe\">\n",
       "  <thead>\n",
       "    <tr style=\"text-align: right;\">\n",
       "      <th></th>\n",
       "      <th>Features</th>\n",
       "      <th>Importance (coef)</th>\n",
       "    </tr>\n",
       "  </thead>\n",
       "  <tbody>\n",
       "    <tr>\n",
       "      <th>53</th>\n",
       "      <td>Work Stress_Somewhat stressful</td>\n",
       "      <td>30.475260</td>\n",
       "    </tr>\n",
       "    <tr>\n",
       "      <th>0</th>\n",
       "      <td>DATA_keyword</td>\n",
       "      <td>26.847726</td>\n",
       "    </tr>\n",
       "    <tr>\n",
       "      <th>43</th>\n",
       "      <td>ANALYST_title</td>\n",
       "      <td>23.199324</td>\n",
       "    </tr>\n",
       "    <tr>\n",
       "      <th>33</th>\n",
       "      <td>PROBLEMS_keyword</td>\n",
       "      <td>21.660053</td>\n",
       "    </tr>\n",
       "    <tr>\n",
       "      <th>13</th>\n",
       "      <td>SCIENTIST_keyword</td>\n",
       "      <td>18.722064</td>\n",
       "    </tr>\n",
       "  </tbody>\n",
       "</table>\n",
       "</div>"
      ],
      "text/plain": [
       "                          Features  Importance (coef)\n",
       "53  Work Stress_Somewhat stressful          30.475260\n",
       "0                     DATA_keyword          26.847726\n",
       "43                   ANALYST_title          23.199324\n",
       "33                PROBLEMS_keyword          21.660053\n",
       "13               SCIENTIST_keyword          18.722064"
      ]
     },
     "execution_count": 566,
     "metadata": {},
     "output_type": "execute_result"
    }
   ],
   "source": [
    "#log_features.drop('Importance (Gini Index)', axis=1, inplace=True)\n",
    "#log_features.drop(0, inplace=True)\n",
    "log_features.head()"
   ]
  },
  {
   "cell_type": "markdown",
   "metadata": {},
   "source": [
    "###### Starting accuracy\n",
    "169/(169+45) == 0.789\n",
    "\n",
    "We have an increase in accuracy here of about 8%."
   ]
  },
  {
   "cell_type": "markdown",
   "metadata": {},
   "source": [
    "# VISUALIZATIONS"
   ]
  },
  {
   "cell_type": "code",
   "execution_count": 567,
   "metadata": {
    "collapsed": false
   },
   "outputs": [
    {
     "data": {
      "text/plain": [
       "(219, 66)"
      ]
     },
     "execution_count": 567,
     "metadata": {},
     "output_type": "execute_result"
    }
   ],
   "source": [
    "#Number of jobs we analyzed and got salary data for.\n",
    "df = df[df['estimate'] > 0]\n",
    "df.shape"
   ]
  },
  {
   "cell_type": "code",
   "execution_count": 568,
   "metadata": {
    "collapsed": false
   },
   "outputs": [
    {
     "data": {
      "text/plain": [
       "76353.39661694401"
      ]
     },
     "execution_count": 568,
     "metadata": {},
     "output_type": "execute_result"
    }
   ],
   "source": [
    "#Median salary of our data.\n",
    "df.estimate.median()"
   ]
  },
  {
   "cell_type": "code",
   "execution_count": 569,
   "metadata": {
    "collapsed": false
   },
   "outputs": [
    {
     "data": {
      "text/plain": [
       "array([[<matplotlib.axes._subplots.AxesSubplot object at 0x13ac7e710>]], dtype=object)"
      ]
     },
     "execution_count": 569,
     "metadata": {},
     "output_type": "execute_result"
    },
    {
     "data": {
      "image/png": "[encoded data removed]",
      "text/plain": [
       "<matplotlib.figure.Figure at 0x12d607fd0>"
      ]
     },
     "metadata": {},
     "output_type": "display_data"
    }
   ],
   "source": [
    "#Plot it on a histogram.\n",
    "df.hist(column='estimate')"
   ]
  },
  {
   "cell_type": "code",
   "execution_count": 570,
   "metadata": {
    "collapsed": false,
    "scrolled": false
   },
   "outputs": [
    {
     "data": {
      "text/plain": [
       "<matplotlib.axes._subplots.AxesSubplot at 0x133659750>"
      ]
     },
     "execution_count": 570,
     "metadata": {},
     "output_type": "execute_result"
    },
    {
     "data": {
      "image/png": "[encoded data removed]",
      "text/plain": [
       "<matplotlib.figure.Figure at 0x1337be910>"
      ]
     },
     "metadata": {},
     "output_type": "display_data"
    }
   ],
   "source": [
    "#Sort the dataframe so that we can have a better output\n",
    "df.sort_values('estimate', ascending=False, inplace=True)\n",
    "#Look at the best companies.\n",
    "f, ax = plt.subplots(figsize=(8, 40))\n",
    "sns.barplot(x='estimate', y=\"company\", data=df)"
   ]
  },
  {
   "cell_type": "code",
   "execution_count": 571,
   "metadata": {
    "collapsed": false
   },
   "outputs": [
    {
     "data": {
      "text/plain": [
       "<matplotlib.axes._subplots.AxesSubplot at 0x1331c3b90>"
      ]
     },
     "execution_count": 571,
     "metadata": {},
     "output_type": "execute_result"
    },
    {
     "data": {
      "image/png": "[encoded data removed]",
      "text/plain": [
       "<matplotlib.figure.Figure at 0x128ddbe10>"
      ]
     },
     "metadata": {},
     "output_type": "display_data"
    }
   ],
   "source": [
    "#Look at the most important features.\n",
    "f, ax = plt.subplots(figsize=(8, 12))\n",
    "sns.barplot(x='Importance (coef)', y='Features', data=log_features)"
   ]
  },
  {
   "cell_type": "markdown",
   "metadata": {},
   "source": [
    "# Do a scatter plot of \"likelihood keywords+titles\" against salary estimate."
   ]
  },
  {
   "cell_type": "code",
   "execution_count": 572,
   "metadata": {
    "collapsed": false,
    "scrolled": false
   },
   "outputs": [
    {
     "data": {
      "text/plain": [
       "<matplotlib.axes._subplots.AxesSubplot at 0x128c0eb90>"
      ]
     },
     "execution_count": 572,
     "metadata": {},
     "output_type": "execute_result"
    },
    {
     "data": {
      "image/png": "[encoded data removed]",
      "text/plain": [
       "<matplotlib.figure.Figure at 0x128d20c90>"
      ]
     },
     "metadata": {},
     "output_type": "display_data"
    }
   ],
   "source": [
    "#Look at the most important features.\n",
    "f, ax = plt.subplots(figsize=(8, 12))\n",
    "sns.barplot(x='Importance (Gini Index)', y='Features', data=df_features.iloc[0:23])"
   ]
  },
  {
   "cell_type": "code",
   "execution_count": 573,
   "metadata": {
    "collapsed": false,
    "scrolled": true
   },
   "outputs": [
    {
     "data": {
      "text/html": [
       "<div>\n",
       "<table border=\"1\" class=\"dataframe\">\n",
       "  <thead>\n",
       "    <tr style=\"text-align: right;\">\n",
       "      <th></th>\n",
       "      <th>Features</th>\n",
       "      <th>Importance (Gini Index)</th>\n",
       "    </tr>\n",
       "  </thead>\n",
       "  <tbody>\n",
       "    <tr>\n",
       "      <th>18</th>\n",
       "      <td>DATA SCIENTIST_keyword</td>\n",
       "      <td>0.049955</td>\n",
       "    </tr>\n",
       "    <tr>\n",
       "      <th>12</th>\n",
       "      <td>STATISTICAL_keyword</td>\n",
       "      <td>0.049172</td>\n",
       "    </tr>\n",
       "    <tr>\n",
       "      <th>47</th>\n",
       "      <td>ENGINEER_title</td>\n",
       "      <td>0.043087</td>\n",
       "    </tr>\n",
       "    <tr>\n",
       "      <th>45</th>\n",
       "      <td>SENIOR_title</td>\n",
       "      <td>0.038337</td>\n",
       "    </tr>\n",
       "    <tr>\n",
       "      <th>48</th>\n",
       "      <td>likelihood_title</td>\n",
       "      <td>0.038186</td>\n",
       "    </tr>\n",
       "    <tr>\n",
       "      <th>7</th>\n",
       "      <td>SCIENCE_keyword</td>\n",
       "      <td>0.036519</td>\n",
       "    </tr>\n",
       "    <tr>\n",
       "      <th>28</th>\n",
       "      <td>WORKING_keyword</td>\n",
       "      <td>0.035016</td>\n",
       "    </tr>\n",
       "    <tr>\n",
       "      <th>27</th>\n",
       "      <td>COMPANY_keyword</td>\n",
       "      <td>0.034195</td>\n",
       "    </tr>\n",
       "    <tr>\n",
       "      <th>33</th>\n",
       "      <td>ALGORITHMS_keyword</td>\n",
       "      <td>0.032109</td>\n",
       "    </tr>\n",
       "    <tr>\n",
       "      <th>4</th>\n",
       "      <td>ANALYTICS_keyword</td>\n",
       "      <td>0.030765</td>\n",
       "    </tr>\n",
       "    <tr>\n",
       "      <th>46</th>\n",
       "      <td>RESEARCH ANALYST_title</td>\n",
       "      <td>0.029616</td>\n",
       "    </tr>\n",
       "    <tr>\n",
       "      <th>34</th>\n",
       "      <td>PROBLEMS_keyword</td>\n",
       "      <td>0.029420</td>\n",
       "    </tr>\n",
       "    <tr>\n",
       "      <th>22</th>\n",
       "      <td>YEARS_keyword</td>\n",
       "      <td>0.028194</td>\n",
       "    </tr>\n",
       "    <tr>\n",
       "      <th>26</th>\n",
       "      <td>TECHNICAL_keyword</td>\n",
       "      <td>0.028128</td>\n",
       "    </tr>\n",
       "    <tr>\n",
       "      <th>41</th>\n",
       "      <td>DATA_title</td>\n",
       "      <td>0.025736</td>\n",
       "    </tr>\n",
       "    <tr>\n",
       "      <th>9</th>\n",
       "      <td>LEARNING_keyword</td>\n",
       "      <td>0.023099</td>\n",
       "    </tr>\n",
       "    <tr>\n",
       "      <th>53</th>\n",
       "      <td>Work Stress_Highly stressful</td>\n",
       "      <td>0.021466</td>\n",
       "    </tr>\n",
       "    <tr>\n",
       "      <th>13</th>\n",
       "      <td>MACHINE_keyword</td>\n",
       "      <td>0.020744</td>\n",
       "    </tr>\n",
       "    <tr>\n",
       "      <th>44</th>\n",
       "      <td>ANALYST_title</td>\n",
       "      <td>0.020652</td>\n",
       "    </tr>\n",
       "    <tr>\n",
       "      <th>36</th>\n",
       "      <td>LARGE_keyword</td>\n",
       "      <td>0.020500</td>\n",
       "    </tr>\n",
       "    <tr>\n",
       "      <th>43</th>\n",
       "      <td>RESEARCH_title</td>\n",
       "      <td>0.020026</td>\n",
       "    </tr>\n",
       "    <tr>\n",
       "      <th>10</th>\n",
       "      <td>SKILLS_keyword</td>\n",
       "      <td>0.018685</td>\n",
       "    </tr>\n",
       "    <tr>\n",
       "      <th>14</th>\n",
       "      <td>SCIENTIST_keyword</td>\n",
       "      <td>0.018643</td>\n",
       "    </tr>\n",
       "    <tr>\n",
       "      <th>35</th>\n",
       "      <td>STRONG_keyword</td>\n",
       "      <td>0.018581</td>\n",
       "    </tr>\n",
       "    <tr>\n",
       "      <th>0</th>\n",
       "      <td>desc_len</td>\n",
       "      <td>0.017105</td>\n",
       "    </tr>\n",
       "    <tr>\n",
       "      <th>39</th>\n",
       "      <td>likelihood_keyword</td>\n",
       "      <td>0.017065</td>\n",
       "    </tr>\n",
       "    <tr>\n",
       "      <th>25</th>\n",
       "      <td>DEVELOPMENT_keyword</td>\n",
       "      <td>0.016854</td>\n",
       "    </tr>\n",
       "    <tr>\n",
       "      <th>29</th>\n",
       "      <td>MODELS_keyword</td>\n",
       "      <td>0.016477</td>\n",
       "    </tr>\n",
       "    <tr>\n",
       "      <th>42</th>\n",
       "      <td>DATA SCIENTIST_title</td>\n",
       "      <td>0.016293</td>\n",
       "    </tr>\n",
       "    <tr>\n",
       "      <th>16</th>\n",
       "      <td>MACHINE LEARNING_keyword</td>\n",
       "      <td>0.015944</td>\n",
       "    </tr>\n",
       "    <tr>\n",
       "      <th>8</th>\n",
       "      <td>TEAM_keyword</td>\n",
       "      <td>0.015683</td>\n",
       "    </tr>\n",
       "    <tr>\n",
       "      <th>19</th>\n",
       "      <td>DATA SCIENCE_keyword</td>\n",
       "      <td>0.015024</td>\n",
       "    </tr>\n",
       "    <tr>\n",
       "      <th>21</th>\n",
       "      <td>RESEARCH_keyword</td>\n",
       "      <td>0.014750</td>\n",
       "    </tr>\n",
       "    <tr>\n",
       "      <th>23</th>\n",
       "      <td>TOOLS_keyword</td>\n",
       "      <td>0.012869</td>\n",
       "    </tr>\n",
       "    <tr>\n",
       "      <th>11</th>\n",
       "      <td>NEW_keyword</td>\n",
       "      <td>0.012513</td>\n",
       "    </tr>\n",
       "    <tr>\n",
       "      <th>24</th>\n",
       "      <td>INFORMATION_keyword</td>\n",
       "      <td>0.012495</td>\n",
       "    </tr>\n",
       "    <tr>\n",
       "      <th>30</th>\n",
       "      <td>INCLUDING_keyword</td>\n",
       "      <td>0.011906</td>\n",
       "    </tr>\n",
       "    <tr>\n",
       "      <th>40</th>\n",
       "      <td>SCIENTIST_title</td>\n",
       "      <td>0.011582</td>\n",
       "    </tr>\n",
       "    <tr>\n",
       "      <th>37</th>\n",
       "      <td>KNOWLEDGE_keyword</td>\n",
       "      <td>0.011511</td>\n",
       "    </tr>\n",
       "    <tr>\n",
       "      <th>17</th>\n",
       "      <td>SOLUTIONS_keyword</td>\n",
       "      <td>0.010887</td>\n",
       "    </tr>\n",
       "    <tr>\n",
       "      <th>15</th>\n",
       "      <td>ABILITY_keyword</td>\n",
       "      <td>0.009985</td>\n",
       "    </tr>\n",
       "    <tr>\n",
       "      <th>38</th>\n",
       "      <td>METHODS_keyword</td>\n",
       "      <td>0.008828</td>\n",
       "    </tr>\n",
       "    <tr>\n",
       "      <th>31</th>\n",
       "      <td>TECHNOLOGY_keyword</td>\n",
       "      <td>0.006824</td>\n",
       "    </tr>\n",
       "    <tr>\n",
       "      <th>6</th>\n",
       "      <td>BUSINESS_keyword</td>\n",
       "      <td>0.006701</td>\n",
       "    </tr>\n",
       "    <tr>\n",
       "      <th>51</th>\n",
       "      <td>Job Satisfaction_Highly satisfied</td>\n",
       "      <td>0.006249</td>\n",
       "    </tr>\n",
       "    <tr>\n",
       "      <th>20</th>\n",
       "      <td>USING_keyword</td>\n",
       "      <td>0.005854</td>\n",
       "    </tr>\n",
       "    <tr>\n",
       "      <th>32</th>\n",
       "      <td>JOB_keyword</td>\n",
       "      <td>0.005231</td>\n",
       "    </tr>\n",
       "    <tr>\n",
       "      <th>55</th>\n",
       "      <td>Work Stress_Stressful</td>\n",
       "      <td>0.003666</td>\n",
       "    </tr>\n",
       "    <tr>\n",
       "      <th>5</th>\n",
       "      <td>ANALYSIS_keyword</td>\n",
       "      <td>0.003363</td>\n",
       "    </tr>\n",
       "    <tr>\n",
       "      <th>2</th>\n",
       "      <td>EXPERIENCE_keyword</td>\n",
       "      <td>0.002129</td>\n",
       "    </tr>\n",
       "  </tbody>\n",
       "</table>\n",
       "</div>"
      ],
      "text/plain": [
       "                             Features  Importance (Gini Index)\n",
       "18             DATA SCIENTIST_keyword                 0.049955\n",
       "12                STATISTICAL_keyword                 0.049172\n",
       "47                     ENGINEER_title                 0.043087\n",
       "45                       SENIOR_title                 0.038337\n",
       "48                   likelihood_title                 0.038186\n",
       "7                     SCIENCE_keyword                 0.036519\n",
       "28                    WORKING_keyword                 0.035016\n",
       "27                    COMPANY_keyword                 0.034195\n",
       "33                 ALGORITHMS_keyword                 0.032109\n",
       "4                   ANALYTICS_keyword                 0.030765\n",
       "46             RESEARCH ANALYST_title                 0.029616\n",
       "34                   PROBLEMS_keyword                 0.029420\n",
       "22                      YEARS_keyword                 0.028194\n",
       "26                  TECHNICAL_keyword                 0.028128\n",
       "41                         DATA_title                 0.025736\n",
       "9                    LEARNING_keyword                 0.023099\n",
       "53       Work Stress_Highly stressful                 0.021466\n",
       "13                    MACHINE_keyword                 0.020744\n",
       "44                      ANALYST_title                 0.020652\n",
       "36                      LARGE_keyword                 0.020500\n",
       "43                     RESEARCH_title                 0.020026\n",
       "10                     SKILLS_keyword                 0.018685\n",
       "14                  SCIENTIST_keyword                 0.018643\n",
       "35                     STRONG_keyword                 0.018581\n",
       "0                            desc_len                 0.017105\n",
       "39                 likelihood_keyword                 0.017065\n",
       "25                DEVELOPMENT_keyword                 0.016854\n",
       "29                     MODELS_keyword                 0.016477\n",
       "42               DATA SCIENTIST_title                 0.016293\n",
       "16           MACHINE LEARNING_keyword                 0.015944\n",
       "8                        TEAM_keyword                 0.015683\n",
       "19               DATA SCIENCE_keyword                 0.015024\n",
       "21                   RESEARCH_keyword                 0.014750\n",
       "23                      TOOLS_keyword                 0.012869\n",
       "11                        NEW_keyword                 0.012513\n",
       "24                INFORMATION_keyword                 0.012495\n",
       "30                  INCLUDING_keyword                 0.011906\n",
       "40                    SCIENTIST_title                 0.011582\n",
       "37                  KNOWLEDGE_keyword                 0.011511\n",
       "17                  SOLUTIONS_keyword                 0.010887\n",
       "15                    ABILITY_keyword                 0.009985\n",
       "38                    METHODS_keyword                 0.008828\n",
       "31                 TECHNOLOGY_keyword                 0.006824\n",
       "6                    BUSINESS_keyword                 0.006701\n",
       "51  Job Satisfaction_Highly satisfied                 0.006249\n",
       "20                      USING_keyword                 0.005854\n",
       "32                        JOB_keyword                 0.005231\n",
       "55              Work Stress_Stressful                 0.003666\n",
       "5                    ANALYSIS_keyword                 0.003363\n",
       "2                  EXPERIENCE_keyword                 0.002129"
      ]
     },
     "execution_count": 573,
     "metadata": {},
     "output_type": "execute_result"
    }
   ],
   "source": [
    "df_features.iloc[0:50]"
   ]
  },
  {
   "cell_type": "code",
   "execution_count": 574,
   "metadata": {
    "collapsed": true
   },
   "outputs": [],
   "source": [
    "df['ds_ratio'] = df['estimate']/df['likelihood_keyword']"
   ]
  },
  {
   "cell_type": "code",
   "execution_count": 575,
   "metadata": {
    "collapsed": true
   },
   "outputs": [],
   "source": [
    "df['ds_in_title'] = df['ds_in_title'].fillna(0.0)"
   ]
  },
  {
   "cell_type": "code",
   "execution_count": 576,
   "metadata": {
    "collapsed": true
   },
   "outputs": [],
   "source": [
    "df['target'] = [1.0 if x else 0.0 for x in df['estimate'] >= 85000]"
   ]
  },
  {
   "cell_type": "code",
   "execution_count": 577,
   "metadata": {
    "collapsed": false
   },
   "outputs": [
    {
     "data": {
      "text/plain": [
       "Index([u'title', u'company', u'url', u'location', u'desc', u'1-4',\n",
       "       u'Job Flexibility', u'Job Satisfaction', u'Vacation Weeks',\n",
       "       u'Work Stress', u'desc_len', u'ds_in_title', u'desc_test',\n",
       "       u'title_test', u'DATA_keyword', u'EXPERIENCE_keyword', u'WORK_keyword',\n",
       "       u'ANALYTICS_keyword', u'ANALYSIS_keyword', u'BUSINESS_keyword',\n",
       "       u'SCIENCE_keyword', u'TEAM_keyword', u'LEARNING_keyword',\n",
       "       u'SKILLS_keyword', u'NEW_keyword', u'STATISTICAL_keyword',\n",
       "       u'MACHINE_keyword', u'SCIENTIST_keyword', u'ABILITY_keyword',\n",
       "       u'MACHINE LEARNING_keyword', u'SOLUTIONS_keyword',\n",
       "       u'DATA SCIENTIST_keyword', u'DATA SCIENCE_keyword', u'USING_keyword',\n",
       "       u'RESEARCH_keyword', u'YEARS_keyword', u'TOOLS_keyword',\n",
       "       u'INFORMATION_keyword', u'DEVELOPMENT_keyword', u'TECHNICAL_keyword',\n",
       "       u'COMPANY_keyword', u'WORKING_keyword', u'MODELS_keyword',\n",
       "       u'INCLUDING_keyword', u'TECHNOLOGY_keyword', u'JOB_keyword',\n",
       "       u'ALGORITHMS_keyword', u'PROBLEMS_keyword', u'STRONG_keyword',\n",
       "       u'LARGE_keyword', u'KNOWLEDGE_keyword', u'METHODS_keyword',\n",
       "       u'likelihood_keyword', u'SCIENTIST_title', u'DATA_title',\n",
       "       u'DATA SCIENTIST_title', u'RESEARCH_title', u'ANALYST_title',\n",
       "       u'SENIOR_title', u'RESEARCH ANALYST_title', u'ENGINEER_title',\n",
       "       u'likelihood_title', u'post_estimate', u'co_weight',\n",
       "       u'weighted_estimate', u'estimate', u'ds_ratio', u'target'],\n",
       "      dtype='object')"
      ]
     },
     "execution_count": 577,
     "metadata": {},
     "output_type": "execute_result"
    }
   ],
   "source": [
    "df.columns"
   ]
  },
  {
   "cell_type": "code",
   "execution_count": 723,
   "metadata": {
    "collapsed": false
   },
   "outputs": [
    {
     "data": {
      "text/plain": [
       "Index([u'title', u'company', u'url', u'location', u'desc', u'Job Flexibility',\n",
       "       u'Job Satisfaction', u'Vacation Weeks', u'Work Stress', u'desc_len',\n",
       "       u'ds_in_title', u'desc_test', u'title_test', u'DATA_keyword',\n",
       "       u'EXPERIENCE_keyword', u'WORK_keyword', u'ANALYTICS_keyword',\n",
       "       u'ANALYSIS_keyword', u'BUSINESS_keyword', u'SCIENCE_keyword',\n",
       "       u'TEAM_keyword', u'LEARNING_keyword', u'SKILLS_keyword', u'NEW_keyword',\n",
       "       u'STATISTICAL_keyword', u'MACHINE_keyword', u'SCIENTIST_keyword',\n",
       "       u'ABILITY_keyword', u'MACHINE LEARNING_keyword', u'SOLUTIONS_keyword',\n",
       "       u'DATA SCIENTIST_keyword', u'DATA SCIENCE_keyword', u'USING_keyword',\n",
       "       u'RESEARCH_keyword', u'YEARS_keyword', u'TOOLS_keyword',\n",
       "       u'INFORMATION_keyword', u'DEVELOPMENT_keyword', u'TECHNICAL_keyword',\n",
       "       u'COMPANY_keyword', u'WORKING_keyword', u'MODELS_keyword',\n",
       "       u'INCLUDING_keyword', u'TECHNOLOGY_keyword', u'JOB_keyword',\n",
       "       u'ALGORITHMS_keyword', u'PROBLEMS_keyword', u'STRONG_keyword',\n",
       "       u'LARGE_keyword', u'KNOWLEDGE_keyword', u'METHODS_keyword',\n",
       "       u'likelihood_keyword', u'SCIENTIST_title', u'DATA_title',\n",
       "       u'DATA SCIENTIST_title', u'RESEARCH_title', u'ANALYST_title',\n",
       "       u'SENIOR_title', u'RESEARCH ANALYST_title', u'ENGINEER_title',\n",
       "       u'likelihood_title', u'co_weight', u'predicted'],\n",
       "      dtype='object')"
      ]
     },
     "execution_count": 723,
     "metadata": {},
     "output_type": "execute_result"
    }
   ],
   "source": [
    "X2_test.columns"
   ]
  },
  {
   "cell_type": "code",
   "execution_count": null,
   "metadata": {
    "collapsed": true
   },
   "outputs": [],
   "source": [
    "X2_test['predicted'] = y2_pred"
   ]
  },
  {
   "cell_type": "code",
   "execution_count": 725,
   "metadata": {
    "collapsed": false
   },
   "outputs": [
    {
     "data": {
      "text/plain": [
       "<matplotlib.text.Text at 0x12e97cd90>"
      ]
     },
     "execution_count": 725,
     "metadata": {},
     "output_type": "execute_result"
    },
    {
     "data": {
      "image/png": "[encoded data removed]",
      "text/plain": [
       "<matplotlib.figure.Figure at 0x12d335250>"
      ]
     },
     "metadata": {},
     "output_type": "display_data"
    }
   ],
   "source": [
    "#Scatter plot analysis\n",
    "sns.set_context(\"notebook\", font_scale=1.1)\n",
    "sns.set_style(\"ticks\")\n",
    "\n",
    "\n",
    "sns.lmplot('predicted', 'estimate', data=X2_test, fit_reg=False, scatter_kws={\"marker\": \"D\", \"s\": 100})\n",
    "plt.title('Scatter Plot Analysis')\n",
    "plt.xlabel('DS_Likelihood')\n",
    "plt.ylabel('Title_Likelihood')"
   ]
  },
  {
   "cell_type": "code",
   "execution_count": 579,
   "metadata": {
    "collapsed": false
   },
   "outputs": [
    {
     "data": {
      "text/html": [
       "<div>\n",
       "<table border=\"1\" class=\"dataframe\">\n",
       "  <thead>\n",
       "    <tr style=\"text-align: right;\">\n",
       "      <th></th>\n",
       "      <th>company</th>\n",
       "      <th>likelihood_keyword</th>\n",
       "      <th>ds_in_title</th>\n",
       "    </tr>\n",
       "  </thead>\n",
       "  <tbody>\n",
       "    <tr>\n",
       "      <th>262</th>\n",
       "      <td>Smith Hanley Associates</td>\n",
       "      <td>0.611106</td>\n",
       "      <td>1.0</td>\n",
       "    </tr>\n",
       "    <tr>\n",
       "      <th>1256</th>\n",
       "      <td>UCB</td>\n",
       "      <td>0.700532</td>\n",
       "      <td>1.0</td>\n",
       "    </tr>\n",
       "    <tr>\n",
       "      <th>1336</th>\n",
       "      <td>Facebook</td>\n",
       "      <td>0.616334</td>\n",
       "      <td>1.0</td>\n",
       "    </tr>\n",
       "    <tr>\n",
       "      <th>44</th>\n",
       "      <td>Solebrity, Inc.</td>\n",
       "      <td>0.598436</td>\n",
       "      <td>0.0</td>\n",
       "    </tr>\n",
       "    <tr>\n",
       "      <th>765</th>\n",
       "      <td>Dovel Technologies</td>\n",
       "      <td>0.616292</td>\n",
       "      <td>0.0</td>\n",
       "    </tr>\n",
       "    <tr>\n",
       "      <th>510</th>\n",
       "      <td>Dept of Forensic Sciences</td>\n",
       "      <td>0.671009</td>\n",
       "      <td>0.0</td>\n",
       "    </tr>\n",
       "    <tr>\n",
       "      <th>475</th>\n",
       "      <td>Dept of Forensic Sciences</td>\n",
       "      <td>0.651485</td>\n",
       "      <td>0.0</td>\n",
       "    </tr>\n",
       "    <tr>\n",
       "      <th>688</th>\n",
       "      <td>The Aerospace Corporation</td>\n",
       "      <td>0.637496</td>\n",
       "      <td>0.0</td>\n",
       "    </tr>\n",
       "    <tr>\n",
       "      <th>1062</th>\n",
       "      <td>The Aerospace Corporation</td>\n",
       "      <td>0.610304</td>\n",
       "      <td>0.0</td>\n",
       "    </tr>\n",
       "    <tr>\n",
       "      <th>994</th>\n",
       "      <td>The Aerospace Corporation</td>\n",
       "      <td>0.526587</td>\n",
       "      <td>0.0</td>\n",
       "    </tr>\n",
       "    <tr>\n",
       "      <th>55</th>\n",
       "      <td>The Aerospace Corporation</td>\n",
       "      <td>0.660001</td>\n",
       "      <td>1.0</td>\n",
       "    </tr>\n",
       "    <tr>\n",
       "      <th>533</th>\n",
       "      <td>Exponent</td>\n",
       "      <td>0.537793</td>\n",
       "      <td>0.0</td>\n",
       "    </tr>\n",
       "    <tr>\n",
       "      <th>697</th>\n",
       "      <td>Exponent</td>\n",
       "      <td>0.536683</td>\n",
       "      <td>0.0</td>\n",
       "    </tr>\n",
       "    <tr>\n",
       "      <th>2024</th>\n",
       "      <td>Celgene</td>\n",
       "      <td>0.603297</td>\n",
       "      <td>0.0</td>\n",
       "    </tr>\n",
       "    <tr>\n",
       "      <th>2101</th>\n",
       "      <td>Celgene</td>\n",
       "      <td>0.570444</td>\n",
       "      <td>0.0</td>\n",
       "    </tr>\n",
       "    <tr>\n",
       "      <th>1882</th>\n",
       "      <td>Celgene Corporation</td>\n",
       "      <td>0.658505</td>\n",
       "      <td>1.0</td>\n",
       "    </tr>\n",
       "    <tr>\n",
       "      <th>1562</th>\n",
       "      <td>Celgene</td>\n",
       "      <td>0.547107</td>\n",
       "      <td>1.0</td>\n",
       "    </tr>\n",
       "    <tr>\n",
       "      <th>2015</th>\n",
       "      <td>Celgene Corporation</td>\n",
       "      <td>0.633491</td>\n",
       "      <td>1.0</td>\n",
       "    </tr>\n",
       "    <tr>\n",
       "      <th>2091</th>\n",
       "      <td>Celgene Corporation</td>\n",
       "      <td>0.603297</td>\n",
       "      <td>0.0</td>\n",
       "    </tr>\n",
       "    <tr>\n",
       "      <th>1679</th>\n",
       "      <td>Celgene</td>\n",
       "      <td>0.648625</td>\n",
       "      <td>0.0</td>\n",
       "    </tr>\n",
       "    <tr>\n",
       "      <th>1808</th>\n",
       "      <td>Celgene</td>\n",
       "      <td>0.658505</td>\n",
       "      <td>1.0</td>\n",
       "    </tr>\n",
       "    <tr>\n",
       "      <th>2119</th>\n",
       "      <td>Celgene Corporation</td>\n",
       "      <td>0.522608</td>\n",
       "      <td>0.0</td>\n",
       "    </tr>\n",
       "    <tr>\n",
       "      <th>951</th>\n",
       "      <td>Bloomberg BNA</td>\n",
       "      <td>0.563972</td>\n",
       "      <td>0.0</td>\n",
       "    </tr>\n",
       "    <tr>\n",
       "      <th>1933</th>\n",
       "      <td>Genzyme</td>\n",
       "      <td>0.530128</td>\n",
       "      <td>0.0</td>\n",
       "    </tr>\n",
       "    <tr>\n",
       "      <th>27</th>\n",
       "      <td>Department of Health</td>\n",
       "      <td>0.558110</td>\n",
       "      <td>0.0</td>\n",
       "    </tr>\n",
       "    <tr>\n",
       "      <th>1385</th>\n",
       "      <td>Scienaptic Systems Inc</td>\n",
       "      <td>0.674084</td>\n",
       "      <td>0.0</td>\n",
       "    </tr>\n",
       "    <tr>\n",
       "      <th>1890</th>\n",
       "      <td>Driversiti</td>\n",
       "      <td>0.576417</td>\n",
       "      <td>0.0</td>\n",
       "    </tr>\n",
       "    <tr>\n",
       "      <th>1922</th>\n",
       "      <td>OppenheimerFunds</td>\n",
       "      <td>0.630253</td>\n",
       "      <td>0.0</td>\n",
       "    </tr>\n",
       "    <tr>\n",
       "      <th>1269</th>\n",
       "      <td>McKinsey &amp; Company</td>\n",
       "      <td>0.721504</td>\n",
       "      <td>0.0</td>\n",
       "    </tr>\n",
       "    <tr>\n",
       "      <th>1068</th>\n",
       "      <td>Centers for Disease Control and Preven...</td>\n",
       "      <td>0.530710</td>\n",
       "      <td>0.0</td>\n",
       "    </tr>\n",
       "    <tr>\n",
       "      <th>...</th>\n",
       "      <td>...</td>\n",
       "      <td>...</td>\n",
       "      <td>...</td>\n",
       "    </tr>\n",
       "    <tr>\n",
       "      <th>71</th>\n",
       "      <td>Teaching Strategies, LLC</td>\n",
       "      <td>0.636353</td>\n",
       "      <td>1.0</td>\n",
       "    </tr>\n",
       "    <tr>\n",
       "      <th>107</th>\n",
       "      <td>Truth Initiative</td>\n",
       "      <td>0.712770</td>\n",
       "      <td>1.0</td>\n",
       "    </tr>\n",
       "    <tr>\n",
       "      <th>1596</th>\n",
       "      <td>New York Life Insurance Co</td>\n",
       "      <td>0.684175</td>\n",
       "      <td>0.0</td>\n",
       "    </tr>\n",
       "    <tr>\n",
       "      <th>1340</th>\n",
       "      <td>New York Life Insurance Co</td>\n",
       "      <td>0.565238</td>\n",
       "      <td>1.0</td>\n",
       "    </tr>\n",
       "    <tr>\n",
       "      <th>1554</th>\n",
       "      <td>New York Life Insurance Co</td>\n",
       "      <td>0.707351</td>\n",
       "      <td>0.0</td>\n",
       "    </tr>\n",
       "    <tr>\n",
       "      <th>527</th>\n",
       "      <td>Altamira Technologies Corporation</td>\n",
       "      <td>0.637990</td>\n",
       "      <td>1.0</td>\n",
       "    </tr>\n",
       "    <tr>\n",
       "      <th>56</th>\n",
       "      <td>Altamira Technologies Corporation</td>\n",
       "      <td>0.557730</td>\n",
       "      <td>1.0</td>\n",
       "    </tr>\n",
       "    <tr>\n",
       "      <th>906</th>\n",
       "      <td>Altamira Technologies Corporation</td>\n",
       "      <td>0.617774</td>\n",
       "      <td>1.0</td>\n",
       "    </tr>\n",
       "    <tr>\n",
       "      <th>270</th>\n",
       "      <td>Altamira Technologies Corporation</td>\n",
       "      <td>0.637990</td>\n",
       "      <td>1.0</td>\n",
       "    </tr>\n",
       "    <tr>\n",
       "      <th>752</th>\n",
       "      <td>Conservation International</td>\n",
       "      <td>0.575591</td>\n",
       "      <td>0.0</td>\n",
       "    </tr>\n",
       "    <tr>\n",
       "      <th>92</th>\n",
       "      <td>Altamira Technologies Corporation</td>\n",
       "      <td>0.613087</td>\n",
       "      <td>1.0</td>\n",
       "    </tr>\n",
       "    <tr>\n",
       "      <th>1097</th>\n",
       "      <td>ASSURANT</td>\n",
       "      <td>0.684795</td>\n",
       "      <td>1.0</td>\n",
       "    </tr>\n",
       "    <tr>\n",
       "      <th>509</th>\n",
       "      <td>University of Maryland</td>\n",
       "      <td>0.573420</td>\n",
       "      <td>0.0</td>\n",
       "    </tr>\n",
       "    <tr>\n",
       "      <th>600</th>\n",
       "      <td>OnPoint Consulting, Inc.</td>\n",
       "      <td>0.653654</td>\n",
       "      <td>0.0</td>\n",
       "    </tr>\n",
       "    <tr>\n",
       "      <th>1518</th>\n",
       "      <td>ISO</td>\n",
       "      <td>0.704586</td>\n",
       "      <td>1.0</td>\n",
       "    </tr>\n",
       "    <tr>\n",
       "      <th>1657</th>\n",
       "      <td>ISO</td>\n",
       "      <td>0.642413</td>\n",
       "      <td>0.0</td>\n",
       "    </tr>\n",
       "    <tr>\n",
       "      <th>311</th>\n",
       "      <td>Synchronoss Technologies, Inc.</td>\n",
       "      <td>0.674990</td>\n",
       "      <td>1.0</td>\n",
       "    </tr>\n",
       "    <tr>\n",
       "      <th>469</th>\n",
       "      <td>Meso Scale Diagnostics</td>\n",
       "      <td>0.552441</td>\n",
       "      <td>0.0</td>\n",
       "    </tr>\n",
       "    <tr>\n",
       "      <th>351</th>\n",
       "      <td>Meso Scale Diagnostics</td>\n",
       "      <td>0.594435</td>\n",
       "      <td>0.0</td>\n",
       "    </tr>\n",
       "    <tr>\n",
       "      <th>2031</th>\n",
       "      <td>Teva Pharmaceuticals</td>\n",
       "      <td>0.626989</td>\n",
       "      <td>0.0</td>\n",
       "    </tr>\n",
       "    <tr>\n",
       "      <th>917</th>\n",
       "      <td>United Educators</td>\n",
       "      <td>0.623457</td>\n",
       "      <td>1.0</td>\n",
       "    </tr>\n",
       "    <tr>\n",
       "      <th>2026</th>\n",
       "      <td>RM Dayton Analytics, Ltd. Co.</td>\n",
       "      <td>0.553595</td>\n",
       "      <td>0.0</td>\n",
       "    </tr>\n",
       "    <tr>\n",
       "      <th>314</th>\n",
       "      <td>Veteran Staffing Network of Easter Seals</td>\n",
       "      <td>0.598300</td>\n",
       "      <td>1.0</td>\n",
       "    </tr>\n",
       "    <tr>\n",
       "      <th>1440</th>\n",
       "      <td>Averity</td>\n",
       "      <td>0.594164</td>\n",
       "      <td>1.0</td>\n",
       "    </tr>\n",
       "    <tr>\n",
       "      <th>1546</th>\n",
       "      <td>Selby Jennings</td>\n",
       "      <td>0.584915</td>\n",
       "      <td>1.0</td>\n",
       "    </tr>\n",
       "    <tr>\n",
       "      <th>1754</th>\n",
       "      <td>Harnham</td>\n",
       "      <td>0.624282</td>\n",
       "      <td>1.0</td>\n",
       "    </tr>\n",
       "    <tr>\n",
       "      <th>927</th>\n",
       "      <td>IHS Markit</td>\n",
       "      <td>0.828642</td>\n",
       "      <td>1.0</td>\n",
       "    </tr>\n",
       "    <tr>\n",
       "      <th>1000</th>\n",
       "      <td>The Wallach Search Group</td>\n",
       "      <td>0.685785</td>\n",
       "      <td>0.0</td>\n",
       "    </tr>\n",
       "    <tr>\n",
       "      <th>1809</th>\n",
       "      <td>Harnham</td>\n",
       "      <td>0.665668</td>\n",
       "      <td>1.0</td>\n",
       "    </tr>\n",
       "    <tr>\n",
       "      <th>577</th>\n",
       "      <td>RockHammer Talent Solutions</td>\n",
       "      <td>0.561362</td>\n",
       "      <td>0.0</td>\n",
       "    </tr>\n",
       "  </tbody>\n",
       "</table>\n",
       "<p>219 rows × 3 columns</p>\n",
       "</div>"
      ],
      "text/plain": [
       "                                                company  likelihood_keyword  \\\n",
       "262                             Smith Hanley Associates            0.611106   \n",
       "1256                                                UCB            0.700532   \n",
       "1336                                           Facebook            0.616334   \n",
       "44                                      Solebrity, Inc.            0.598436   \n",
       "765                                  Dovel Technologies            0.616292   \n",
       "510                           Dept of Forensic Sciences            0.671009   \n",
       "475                           Dept of Forensic Sciences            0.651485   \n",
       "688                           The Aerospace Corporation            0.637496   \n",
       "1062                          The Aerospace Corporation            0.610304   \n",
       "994                           The Aerospace Corporation            0.526587   \n",
       "55                            The Aerospace Corporation            0.660001   \n",
       "533                                            Exponent            0.537793   \n",
       "697                                            Exponent            0.536683   \n",
       "2024                                            Celgene            0.603297   \n",
       "2101                                            Celgene            0.570444   \n",
       "1882                                Celgene Corporation            0.658505   \n",
       "1562                                            Celgene            0.547107   \n",
       "2015                                Celgene Corporation            0.633491   \n",
       "2091                                Celgene Corporation            0.603297   \n",
       "1679                                            Celgene            0.648625   \n",
       "1808                                            Celgene            0.658505   \n",
       "2119                                Celgene Corporation            0.522608   \n",
       "951                                       Bloomberg BNA            0.563972   \n",
       "1933                                            Genzyme            0.530128   \n",
       "27                                 Department of Health            0.558110   \n",
       "1385                             Scienaptic Systems Inc            0.674084   \n",
       "1890                                         Driversiti            0.576417   \n",
       "1922                                   OppenheimerFunds            0.630253   \n",
       "1269                                 McKinsey & Company            0.721504   \n",
       "1068          Centers for Disease Control and Preven...            0.530710   \n",
       "...                                                 ...                 ...   \n",
       "71                             Teaching Strategies, LLC            0.636353   \n",
       "107                                    Truth Initiative            0.712770   \n",
       "1596                         New York Life Insurance Co            0.684175   \n",
       "1340                         New York Life Insurance Co            0.565238   \n",
       "1554                         New York Life Insurance Co            0.707351   \n",
       "527                   Altamira Technologies Corporation            0.637990   \n",
       "56                    Altamira Technologies Corporation            0.557730   \n",
       "906                   Altamira Technologies Corporation            0.617774   \n",
       "270                   Altamira Technologies Corporation            0.637990   \n",
       "752                          Conservation International            0.575591   \n",
       "92                    Altamira Technologies Corporation            0.613087   \n",
       "1097                                           ASSURANT            0.684795   \n",
       "509                              University of Maryland            0.573420   \n",
       "600                            OnPoint Consulting, Inc.            0.653654   \n",
       "1518                                                ISO            0.704586   \n",
       "1657                                                ISO            0.642413   \n",
       "311                      Synchronoss Technologies, Inc.            0.674990   \n",
       "469                              Meso Scale Diagnostics            0.552441   \n",
       "351                              Meso Scale Diagnostics            0.594435   \n",
       "2031                               Teva Pharmaceuticals            0.626989   \n",
       "917                                    United Educators            0.623457   \n",
       "2026                      RM Dayton Analytics, Ltd. Co.            0.553595   \n",
       "314            Veteran Staffing Network of Easter Seals            0.598300   \n",
       "1440                                            Averity            0.594164   \n",
       "1546                                     Selby Jennings            0.584915   \n",
       "1754                                            Harnham            0.624282   \n",
       "927                                          IHS Markit            0.828642   \n",
       "1000                           The Wallach Search Group            0.685785   \n",
       "1809                                            Harnham            0.665668   \n",
       "577                         RockHammer Talent Solutions            0.561362   \n",
       "\n",
       "      ds_in_title  \n",
       "262           1.0  \n",
       "1256          1.0  \n",
       "1336          1.0  \n",
       "44            0.0  \n",
       "765           0.0  \n",
       "510           0.0  \n",
       "475           0.0  \n",
       "688           0.0  \n",
       "1062          0.0  \n",
       "994           0.0  \n",
       "55            1.0  \n",
       "533           0.0  \n",
       "697           0.0  \n",
       "2024          0.0  \n",
       "2101          0.0  \n",
       "1882          1.0  \n",
       "1562          1.0  \n",
       "2015          1.0  \n",
       "2091          0.0  \n",
       "1679          0.0  \n",
       "1808          1.0  \n",
       "2119          0.0  \n",
       "951           0.0  \n",
       "1933          0.0  \n",
       "27            0.0  \n",
       "1385          0.0  \n",
       "1890          0.0  \n",
       "1922          0.0  \n",
       "1269          0.0  \n",
       "1068          0.0  \n",
       "...           ...  \n",
       "71            1.0  \n",
       "107           1.0  \n",
       "1596          0.0  \n",
       "1340          1.0  \n",
       "1554          0.0  \n",
       "527           1.0  \n",
       "56            1.0  \n",
       "906           1.0  \n",
       "270           1.0  \n",
       "752           0.0  \n",
       "92            1.0  \n",
       "1097          1.0  \n",
       "509           0.0  \n",
       "600           0.0  \n",
       "1518          1.0  \n",
       "1657          0.0  \n",
       "311           1.0  \n",
       "469           0.0  \n",
       "351           0.0  \n",
       "2031          0.0  \n",
       "917           1.0  \n",
       "2026          0.0  \n",
       "314           1.0  \n",
       "1440          1.0  \n",
       "1546          1.0  \n",
       "1754          1.0  \n",
       "927           1.0  \n",
       "1000          0.0  \n",
       "1809          1.0  \n",
       "577           0.0  \n",
       "\n",
       "[219 rows x 3 columns]"
      ]
     },
     "execution_count": 579,
     "metadata": {},
     "output_type": "execute_result"
    }
   ],
   "source": [
    "df[['company','likelihood_keyword', 'ds_in_title']]"
   ]
  },
  {
   "cell_type": "code",
   "execution_count": null,
   "metadata": {
    "collapsed": true
   },
   "outputs": [],
   "source": []
  },
  {
   "cell_type": "code",
   "execution_count": null,
   "metadata": {
    "collapsed": true
   },
   "outputs": [],
   "source": []
  }
 ],
 "metadata": {
  "anaconda-cloud": {},
  "kernelspec": {
   "display_name": "Python 2",
   "language": "python",
   "name": "python2"
  },
  "language_info": {
   "codemirror_mode": {
    "name": "ipython",
    "version": 2
   },
   "file_extension": ".py",
   "mimetype": "text/x-python",
   "name": "python",
   "nbconvert_exporter": "python",
   "pygments_lexer": "ipython2",
   "version": "2.7.12"
  }
 },
 "nbformat": 4,
 "nbformat_minor": 1
}
