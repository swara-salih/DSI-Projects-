{
 "cells": [
  {
   "cell_type": "markdown",
   "metadata": {},
   "source": [
    "\n",
    "# Getting started\n"
   ]
  },
  {
   "cell_type": "markdown",
   "metadata": {},
   "source": [
    "\"The Iowa State legislature is considering changes in the liquor tax rates and wants a report of current liquor sales by county and projections for the rest of the year.\"\n",
    "Calculate the yearly liquor sales for each score using the provided data. You can add up the transactions for each year, and store sales in 2015 specifically will be used later as your target variable.\n",
    "\n",
    "Use the data from 2015 to make a linear model using as many variables as you find useful to predict the yearly sales of each store. You must use the sales from Jan to March per store as one of your variables.\n",
    "\n",
    "Use your model for 2015 to estimate total sales for each store in 2016, extrapolating from the sales so far for Jan-March of 2016.\n",
    "\n",
    "Report your findings, including any projected increase or decrease in total sales (over the entire state) for the tax committee of the Iowa legislature.\n",
    "\n",
    "Use cross-validation to check how your model predicts to held out data compared to the model metrics on the full dataset.\n",
    "\n",
    "Fit your model(s) using one or both of the regularization tactics covered. Explain whether the regularized or the non-regularized model performed better and what the selected regression(s) are doing.\n"
   ]
  },
  {
   "cell_type": "markdown",
   "metadata": {},
   "source": [
    "## Problem Statement\n",
    "The Iowa State Legislature is considering whether to change liquor tax rates and wants a detailed report of liquor sales by county and projections for the future. There are 99 counties in total, and the transactions take place from  January 1, 2015 to March 31, 2016 (452 days in total). The legislature requires a report of alcohol sales taking place during 2015, and wants predictions of how sales will fare for the rest of 2016, and insight on the most significant factors in determing sales.\n",
    "\n",
    "My task will be to sum up the sales in 2015, showcase where most counties' sale numbers lie, and to indicate how sales are projected to fare in 2016 and beyond. For this task, I will be using Pandas DataFrames to analyze the sales dataset and scikit modeling to determine what factors, including counties, are most significant in determining sales. More specifically, I will be focusing on the sales throughout the first three months of 2015, creating a model to project sales in 2016, and will compare the results of that model to what I actually observe in the first three months of 2016 to see if it is an acceptable model."
   ]
  },
  {
   "cell_type": "code",
   "execution_count": 1,
   "metadata": {
    "collapsed": true
   },
   "outputs": [],
   "source": [
    "# score rubric: https://github.com/ga-students/DC-DSI-3/blob/master/projects/02-project/project-02-rubric.md"
   ]
  },
  {
   "cell_type": "code",
   "execution_count": 2,
   "metadata": {
    "collapsed": false,
    "scrolled": false
   },
   "outputs": [
    {
     "data": {
      "text/html": [
       "<div>\n",
       "<table border=\"1\" class=\"dataframe\">\n",
       "  <thead>\n",
       "    <tr style=\"text-align: right;\">\n",
       "      <th></th>\n",
       "      <th>Date</th>\n",
       "      <th>Store Number</th>\n",
       "      <th>City</th>\n",
       "      <th>Zip Code</th>\n",
       "      <th>County Number</th>\n",
       "      <th>County</th>\n",
       "      <th>Category</th>\n",
       "      <th>Category Name</th>\n",
       "      <th>Vendor Number</th>\n",
       "      <th>Item Number</th>\n",
       "      <th>Item Description</th>\n",
       "      <th>Bottle Volume (ml)</th>\n",
       "      <th>State Bottle Cost</th>\n",
       "      <th>State Bottle Retail</th>\n",
       "      <th>Bottles Sold</th>\n",
       "      <th>Sale (Dollars)</th>\n",
       "      <th>Volume Sold (Liters)</th>\n",
       "      <th>Volume Sold (Gallons)</th>\n",
       "    </tr>\n",
       "  </thead>\n",
       "  <tbody>\n",
       "    <tr>\n",
       "      <th>0</th>\n",
       "      <td>11/4/15</td>\n",
       "      <td>3717</td>\n",
       "      <td>SUMNER</td>\n",
       "      <td>50674</td>\n",
       "      <td>9.0</td>\n",
       "      <td>Bremer</td>\n",
       "      <td>1051100.0</td>\n",
       "      <td>APRICOT BRANDIES</td>\n",
       "      <td>55</td>\n",
       "      <td>54436</td>\n",
       "      <td>Mr. Boston Apricot Brandy</td>\n",
       "      <td>750</td>\n",
       "      <td>$4.50</td>\n",
       "      <td>$6.75</td>\n",
       "      <td>12</td>\n",
       "      <td>$81.00</td>\n",
       "      <td>9.0</td>\n",
       "      <td>2.38</td>\n",
       "    </tr>\n",
       "    <tr>\n",
       "      <th>1</th>\n",
       "      <td>3/2/16</td>\n",
       "      <td>2614</td>\n",
       "      <td>DAVENPORT</td>\n",
       "      <td>52807</td>\n",
       "      <td>82.0</td>\n",
       "      <td>Scott</td>\n",
       "      <td>1011100.0</td>\n",
       "      <td>BLENDED WHISKIES</td>\n",
       "      <td>395</td>\n",
       "      <td>27605</td>\n",
       "      <td>Tin Cup</td>\n",
       "      <td>750</td>\n",
       "      <td>$13.75</td>\n",
       "      <td>$20.63</td>\n",
       "      <td>2</td>\n",
       "      <td>$41.26</td>\n",
       "      <td>1.5</td>\n",
       "      <td>0.40</td>\n",
       "    </tr>\n",
       "    <tr>\n",
       "      <th>2</th>\n",
       "      <td>2/11/16</td>\n",
       "      <td>2106</td>\n",
       "      <td>CEDAR FALLS</td>\n",
       "      <td>50613</td>\n",
       "      <td>7.0</td>\n",
       "      <td>Black Hawk</td>\n",
       "      <td>1011200.0</td>\n",
       "      <td>STRAIGHT BOURBON WHISKIES</td>\n",
       "      <td>65</td>\n",
       "      <td>19067</td>\n",
       "      <td>Jim Beam</td>\n",
       "      <td>1000</td>\n",
       "      <td>$12.59</td>\n",
       "      <td>$18.89</td>\n",
       "      <td>24</td>\n",
       "      <td>$453.36</td>\n",
       "      <td>24.0</td>\n",
       "      <td>6.34</td>\n",
       "    </tr>\n",
       "    <tr>\n",
       "      <th>3</th>\n",
       "      <td>2/3/16</td>\n",
       "      <td>2501</td>\n",
       "      <td>AMES</td>\n",
       "      <td>50010</td>\n",
       "      <td>85.0</td>\n",
       "      <td>Story</td>\n",
       "      <td>1071100.0</td>\n",
       "      <td>AMERICAN COCKTAILS</td>\n",
       "      <td>395</td>\n",
       "      <td>59154</td>\n",
       "      <td>1800 Ultimate Margarita</td>\n",
       "      <td>1750</td>\n",
       "      <td>$9.50</td>\n",
       "      <td>$14.25</td>\n",
       "      <td>6</td>\n",
       "      <td>$85.50</td>\n",
       "      <td>10.5</td>\n",
       "      <td>2.77</td>\n",
       "    </tr>\n",
       "    <tr>\n",
       "      <th>4</th>\n",
       "      <td>8/18/15</td>\n",
       "      <td>3654</td>\n",
       "      <td>BELMOND</td>\n",
       "      <td>50421</td>\n",
       "      <td>99.0</td>\n",
       "      <td>Wright</td>\n",
       "      <td>1031080.0</td>\n",
       "      <td>VODKA 80 PROOF</td>\n",
       "      <td>297</td>\n",
       "      <td>35918</td>\n",
       "      <td>Five O'clock Vodka</td>\n",
       "      <td>1750</td>\n",
       "      <td>$7.20</td>\n",
       "      <td>$10.80</td>\n",
       "      <td>12</td>\n",
       "      <td>$129.60</td>\n",
       "      <td>21.0</td>\n",
       "      <td>5.55</td>\n",
       "    </tr>\n",
       "  </tbody>\n",
       "</table>\n",
       "</div>"
      ],
      "text/plain": [
       "      Date  Store Number         City Zip Code  County Number      County  \\\n",
       "0  11/4/15          3717       SUMNER    50674            9.0      Bremer   \n",
       "1   3/2/16          2614    DAVENPORT    52807           82.0       Scott   \n",
       "2  2/11/16          2106  CEDAR FALLS    50613            7.0  Black Hawk   \n",
       "3   2/3/16          2501         AMES    50010           85.0       Story   \n",
       "4  8/18/15          3654      BELMOND    50421           99.0      Wright   \n",
       "\n",
       "    Category              Category Name  Vendor Number  Item Number  \\\n",
       "0  1051100.0           APRICOT BRANDIES             55        54436   \n",
       "1  1011100.0           BLENDED WHISKIES            395        27605   \n",
       "2  1011200.0  STRAIGHT BOURBON WHISKIES             65        19067   \n",
       "3  1071100.0         AMERICAN COCKTAILS            395        59154   \n",
       "4  1031080.0             VODKA 80 PROOF            297        35918   \n",
       "\n",
       "            Item Description  Bottle Volume (ml) State Bottle Cost  \\\n",
       "0  Mr. Boston Apricot Brandy                 750             $4.50   \n",
       "1                    Tin Cup                 750            $13.75   \n",
       "2                   Jim Beam                1000            $12.59   \n",
       "3    1800 Ultimate Margarita                1750             $9.50   \n",
       "4         Five O'clock Vodka                1750             $7.20   \n",
       "\n",
       "  State Bottle Retail  Bottles Sold Sale (Dollars)  Volume Sold (Liters)  \\\n",
       "0               $6.75            12         $81.00                   9.0   \n",
       "1              $20.63             2         $41.26                   1.5   \n",
       "2              $18.89            24        $453.36                  24.0   \n",
       "3              $14.25             6         $85.50                  10.5   \n",
       "4              $10.80            12        $129.60                  21.0   \n",
       "\n",
       "   Volume Sold (Gallons)  \n",
       "0                   2.38  \n",
       "1                   0.40  \n",
       "2                   6.34  \n",
       "3                   2.77  \n",
       "4                   5.55  "
      ]
     },
     "execution_count": 2,
     "metadata": {},
     "output_type": "execute_result"
    }
   ],
   "source": [
    "import pandas as pd\n",
    "\n",
    "## Load the data into a DataFrame\n",
    "iowadf = pd.read_csv('Iowa_Liquor_sales_sample_10pct (1).csv')\n",
    "\n",
    "## Transform the dates if needed, e.g.\n",
    "#df[\"bDate\"] = pd.to_datetime(df[\"Date\"], format=\"%m-%d-%y\") \n",
    "iowadf.head()"
   ]
  },
  {
   "cell_type": "code",
   "execution_count": 3,
   "metadata": {
    "collapsed": true
   },
   "outputs": [],
   "source": [
    "#Change column names and parse out date values. "
   ]
  },
  {
   "cell_type": "code",
   "execution_count": 4,
   "metadata": {
    "collapsed": true
   },
   "outputs": [],
   "source": [
    "iowadf = iowadf.rename(columns={'Store Number':'store_number', 'County Number':'county_number', 'Category':'category', 'Vendor Number':'vendor_number', 'Item Number':'item_number', 'Bottle Volume (ml)':'bottle_vol_ml', 'Bottles Sold':'bottles_sold', 'Volume Sold (Liters)':'vol_sold_l', 'Volume Sold (Gallons)': 'vol_sold_g'})"
   ]
  },
  {
   "cell_type": "code",
   "execution_count": 5,
   "metadata": {
    "collapsed": true
   },
   "outputs": [],
   "source": [
    "#Still have some columns to rename."
   ]
  },
  {
   "cell_type": "code",
   "execution_count": 6,
   "metadata": {
    "collapsed": true
   },
   "outputs": [],
   "source": [
    "iowadf = iowadf.rename(columns={'Date':'date','City':'city','Zip Code':'zip_code', 'County':'county', 'Category Name':'category_name', 'Item Description':'item_description', 'State Bottle Cost':'state_bottle_cost','State Bottle Retail':'state_bottle_retail','Sale (Dollars)':'sale_dollars'})"
   ]
  },
  {
   "cell_type": "code",
   "execution_count": 7,
   "metadata": {
    "collapsed": false
   },
   "outputs": [
    {
     "data": {
      "text/html": [
       "<div>\n",
       "<table border=\"1\" class=\"dataframe\">\n",
       "  <thead>\n",
       "    <tr style=\"text-align: right;\">\n",
       "      <th></th>\n",
       "      <th>date</th>\n",
       "      <th>store_number</th>\n",
       "      <th>city</th>\n",
       "      <th>zip_code</th>\n",
       "      <th>county_number</th>\n",
       "      <th>county</th>\n",
       "      <th>category</th>\n",
       "      <th>category_name</th>\n",
       "      <th>vendor_number</th>\n",
       "      <th>item_number</th>\n",
       "      <th>item_description</th>\n",
       "      <th>bottle_vol_ml</th>\n",
       "      <th>state_bottle_cost</th>\n",
       "      <th>state_bottle_retail</th>\n",
       "      <th>bottles_sold</th>\n",
       "      <th>sale_dollars</th>\n",
       "      <th>vol_sold_l</th>\n",
       "      <th>vol_sold_g</th>\n",
       "    </tr>\n",
       "  </thead>\n",
       "  <tbody>\n",
       "    <tr>\n",
       "      <th>0</th>\n",
       "      <td>11/4/15</td>\n",
       "      <td>3717</td>\n",
       "      <td>SUMNER</td>\n",
       "      <td>50674</td>\n",
       "      <td>9.0</td>\n",
       "      <td>Bremer</td>\n",
       "      <td>1051100.0</td>\n",
       "      <td>APRICOT BRANDIES</td>\n",
       "      <td>55</td>\n",
       "      <td>54436</td>\n",
       "      <td>Mr. Boston Apricot Brandy</td>\n",
       "      <td>750</td>\n",
       "      <td>$4.50</td>\n",
       "      <td>$6.75</td>\n",
       "      <td>12</td>\n",
       "      <td>$81.00</td>\n",
       "      <td>9.0</td>\n",
       "      <td>2.38</td>\n",
       "    </tr>\n",
       "    <tr>\n",
       "      <th>1</th>\n",
       "      <td>3/2/16</td>\n",
       "      <td>2614</td>\n",
       "      <td>DAVENPORT</td>\n",
       "      <td>52807</td>\n",
       "      <td>82.0</td>\n",
       "      <td>Scott</td>\n",
       "      <td>1011100.0</td>\n",
       "      <td>BLENDED WHISKIES</td>\n",
       "      <td>395</td>\n",
       "      <td>27605</td>\n",
       "      <td>Tin Cup</td>\n",
       "      <td>750</td>\n",
       "      <td>$13.75</td>\n",
       "      <td>$20.63</td>\n",
       "      <td>2</td>\n",
       "      <td>$41.26</td>\n",
       "      <td>1.5</td>\n",
       "      <td>0.40</td>\n",
       "    </tr>\n",
       "    <tr>\n",
       "      <th>2</th>\n",
       "      <td>2/11/16</td>\n",
       "      <td>2106</td>\n",
       "      <td>CEDAR FALLS</td>\n",
       "      <td>50613</td>\n",
       "      <td>7.0</td>\n",
       "      <td>Black Hawk</td>\n",
       "      <td>1011200.0</td>\n",
       "      <td>STRAIGHT BOURBON WHISKIES</td>\n",
       "      <td>65</td>\n",
       "      <td>19067</td>\n",
       "      <td>Jim Beam</td>\n",
       "      <td>1000</td>\n",
       "      <td>$12.59</td>\n",
       "      <td>$18.89</td>\n",
       "      <td>24</td>\n",
       "      <td>$453.36</td>\n",
       "      <td>24.0</td>\n",
       "      <td>6.34</td>\n",
       "    </tr>\n",
       "    <tr>\n",
       "      <th>3</th>\n",
       "      <td>2/3/16</td>\n",
       "      <td>2501</td>\n",
       "      <td>AMES</td>\n",
       "      <td>50010</td>\n",
       "      <td>85.0</td>\n",
       "      <td>Story</td>\n",
       "      <td>1071100.0</td>\n",
       "      <td>AMERICAN COCKTAILS</td>\n",
       "      <td>395</td>\n",
       "      <td>59154</td>\n",
       "      <td>1800 Ultimate Margarita</td>\n",
       "      <td>1750</td>\n",
       "      <td>$9.50</td>\n",
       "      <td>$14.25</td>\n",
       "      <td>6</td>\n",
       "      <td>$85.50</td>\n",
       "      <td>10.5</td>\n",
       "      <td>2.77</td>\n",
       "    </tr>\n",
       "    <tr>\n",
       "      <th>4</th>\n",
       "      <td>8/18/15</td>\n",
       "      <td>3654</td>\n",
       "      <td>BELMOND</td>\n",
       "      <td>50421</td>\n",
       "      <td>99.0</td>\n",
       "      <td>Wright</td>\n",
       "      <td>1031080.0</td>\n",
       "      <td>VODKA 80 PROOF</td>\n",
       "      <td>297</td>\n",
       "      <td>35918</td>\n",
       "      <td>Five O'clock Vodka</td>\n",
       "      <td>1750</td>\n",
       "      <td>$7.20</td>\n",
       "      <td>$10.80</td>\n",
       "      <td>12</td>\n",
       "      <td>$129.60</td>\n",
       "      <td>21.0</td>\n",
       "      <td>5.55</td>\n",
       "    </tr>\n",
       "  </tbody>\n",
       "</table>\n",
       "</div>"
      ],
      "text/plain": [
       "      date  store_number         city zip_code  county_number      county  \\\n",
       "0  11/4/15          3717       SUMNER    50674            9.0      Bremer   \n",
       "1   3/2/16          2614    DAVENPORT    52807           82.0       Scott   \n",
       "2  2/11/16          2106  CEDAR FALLS    50613            7.0  Black Hawk   \n",
       "3   2/3/16          2501         AMES    50010           85.0       Story   \n",
       "4  8/18/15          3654      BELMOND    50421           99.0      Wright   \n",
       "\n",
       "    category              category_name  vendor_number  item_number  \\\n",
       "0  1051100.0           APRICOT BRANDIES             55        54436   \n",
       "1  1011100.0           BLENDED WHISKIES            395        27605   \n",
       "2  1011200.0  STRAIGHT BOURBON WHISKIES             65        19067   \n",
       "3  1071100.0         AMERICAN COCKTAILS            395        59154   \n",
       "4  1031080.0             VODKA 80 PROOF            297        35918   \n",
       "\n",
       "            item_description  bottle_vol_ml state_bottle_cost  \\\n",
       "0  Mr. Boston Apricot Brandy            750             $4.50   \n",
       "1                    Tin Cup            750            $13.75   \n",
       "2                   Jim Beam           1000            $12.59   \n",
       "3    1800 Ultimate Margarita           1750             $9.50   \n",
       "4         Five O'clock Vodka           1750             $7.20   \n",
       "\n",
       "  state_bottle_retail  bottles_sold sale_dollars  vol_sold_l  vol_sold_g  \n",
       "0               $6.75            12       $81.00         9.0        2.38  \n",
       "1              $20.63             2       $41.26         1.5        0.40  \n",
       "2              $18.89            24      $453.36        24.0        6.34  \n",
       "3              $14.25             6       $85.50        10.5        2.77  \n",
       "4              $10.80            12      $129.60        21.0        5.55  "
      ]
     },
     "execution_count": 7,
     "metadata": {},
     "output_type": "execute_result"
    }
   ],
   "source": [
    "iowadf.head()"
   ]
  },
  {
   "cell_type": "code",
   "execution_count": 8,
   "metadata": {
    "collapsed": true
   },
   "outputs": [],
   "source": [
    "#Important variables to consider: city, county,\n",
    "# category name, state bottle cost and retail, bottles sold, \n",
    "# sale dollars, and volumes sold in liters. "
   ]
  },
  {
   "cell_type": "code",
   "execution_count": 9,
   "metadata": {
    "collapsed": false,
    "scrolled": true
   },
   "outputs": [
    {
     "data": {
      "text/plain": [
       "date                    object\n",
       "store_number             int64\n",
       "city                    object\n",
       "zip_code                object\n",
       "county_number          float64\n",
       "county                  object\n",
       "category               float64\n",
       "category_name           object\n",
       "vendor_number            int64\n",
       "item_number              int64\n",
       "item_description        object\n",
       "bottle_vol_ml            int64\n",
       "state_bottle_cost       object\n",
       "state_bottle_retail     object\n",
       "bottles_sold             int64\n",
       "sale_dollars            object\n",
       "vol_sold_l             float64\n",
       "vol_sold_g             float64\n",
       "dtype: object"
      ]
     },
     "execution_count": 9,
     "metadata": {},
     "output_type": "execute_result"
    }
   ],
   "source": [
    "iowadf.dtypes"
   ]
  },
  {
   "cell_type": "code",
   "execution_count": 10,
   "metadata": {
    "collapsed": false,
    "scrolled": true
   },
   "outputs": [],
   "source": [
    "iowadf['sale_dollars'] = (iowadf['sale_dollars'].replace( '[\\$,)]','', regex=True )\n",
    "               .replace( '[(]','-',   regex=True ).astype(float))"
   ]
  },
  {
   "cell_type": "code",
   "execution_count": 11,
   "metadata": {
    "collapsed": false
   },
   "outputs": [],
   "source": [
    "iowadf['state_bottle_cost'] = (iowadf['state_bottle_cost'].replace( '[\\$,)]','', regex=True )\n",
    "               .replace( '[(]','-',   regex=True ).astype(float))"
   ]
  },
  {
   "cell_type": "code",
   "execution_count": 12,
   "metadata": {
    "collapsed": true
   },
   "outputs": [],
   "source": [
    "iowadf['state_bottle_retail'] = (iowadf['state_bottle_retail'].replace( '[\\$,)]','', regex=True )\n",
    "               .replace( '[(]','-',   regex=True ).astype(float))"
   ]
  },
  {
   "cell_type": "code",
   "execution_count": 13,
   "metadata": {
    "collapsed": false,
    "scrolled": true
   },
   "outputs": [
    {
     "data": {
      "text/html": [
       "<div>\n",
       "<table border=\"1\" class=\"dataframe\">\n",
       "  <thead>\n",
       "    <tr style=\"text-align: right;\">\n",
       "      <th></th>\n",
       "      <th>date</th>\n",
       "      <th>store_number</th>\n",
       "      <th>city</th>\n",
       "      <th>zip_code</th>\n",
       "      <th>county_number</th>\n",
       "      <th>county</th>\n",
       "      <th>category</th>\n",
       "      <th>category_name</th>\n",
       "      <th>vendor_number</th>\n",
       "      <th>item_number</th>\n",
       "      <th>item_description</th>\n",
       "      <th>bottle_vol_ml</th>\n",
       "      <th>state_bottle_cost</th>\n",
       "      <th>state_bottle_retail</th>\n",
       "      <th>bottles_sold</th>\n",
       "      <th>sale_dollars</th>\n",
       "      <th>vol_sold_l</th>\n",
       "      <th>vol_sold_g</th>\n",
       "    </tr>\n",
       "  </thead>\n",
       "  <tbody>\n",
       "    <tr>\n",
       "      <th>0</th>\n",
       "      <td>11/4/15</td>\n",
       "      <td>3717</td>\n",
       "      <td>SUMNER</td>\n",
       "      <td>50674</td>\n",
       "      <td>9.0</td>\n",
       "      <td>Bremer</td>\n",
       "      <td>1051100.0</td>\n",
       "      <td>APRICOT BRANDIES</td>\n",
       "      <td>55</td>\n",
       "      <td>54436</td>\n",
       "      <td>Mr. Boston Apricot Brandy</td>\n",
       "      <td>750</td>\n",
       "      <td>4.50</td>\n",
       "      <td>6.75</td>\n",
       "      <td>12</td>\n",
       "      <td>81.00</td>\n",
       "      <td>9.0</td>\n",
       "      <td>2.38</td>\n",
       "    </tr>\n",
       "    <tr>\n",
       "      <th>1</th>\n",
       "      <td>3/2/16</td>\n",
       "      <td>2614</td>\n",
       "      <td>DAVENPORT</td>\n",
       "      <td>52807</td>\n",
       "      <td>82.0</td>\n",
       "      <td>Scott</td>\n",
       "      <td>1011100.0</td>\n",
       "      <td>BLENDED WHISKIES</td>\n",
       "      <td>395</td>\n",
       "      <td>27605</td>\n",
       "      <td>Tin Cup</td>\n",
       "      <td>750</td>\n",
       "      <td>13.75</td>\n",
       "      <td>20.63</td>\n",
       "      <td>2</td>\n",
       "      <td>41.26</td>\n",
       "      <td>1.5</td>\n",
       "      <td>0.40</td>\n",
       "    </tr>\n",
       "    <tr>\n",
       "      <th>2</th>\n",
       "      <td>2/11/16</td>\n",
       "      <td>2106</td>\n",
       "      <td>CEDAR FALLS</td>\n",
       "      <td>50613</td>\n",
       "      <td>7.0</td>\n",
       "      <td>Black Hawk</td>\n",
       "      <td>1011200.0</td>\n",
       "      <td>STRAIGHT BOURBON WHISKIES</td>\n",
       "      <td>65</td>\n",
       "      <td>19067</td>\n",
       "      <td>Jim Beam</td>\n",
       "      <td>1000</td>\n",
       "      <td>12.59</td>\n",
       "      <td>18.89</td>\n",
       "      <td>24</td>\n",
       "      <td>453.36</td>\n",
       "      <td>24.0</td>\n",
       "      <td>6.34</td>\n",
       "    </tr>\n",
       "    <tr>\n",
       "      <th>3</th>\n",
       "      <td>2/3/16</td>\n",
       "      <td>2501</td>\n",
       "      <td>AMES</td>\n",
       "      <td>50010</td>\n",
       "      <td>85.0</td>\n",
       "      <td>Story</td>\n",
       "      <td>1071100.0</td>\n",
       "      <td>AMERICAN COCKTAILS</td>\n",
       "      <td>395</td>\n",
       "      <td>59154</td>\n",
       "      <td>1800 Ultimate Margarita</td>\n",
       "      <td>1750</td>\n",
       "      <td>9.50</td>\n",
       "      <td>14.25</td>\n",
       "      <td>6</td>\n",
       "      <td>85.50</td>\n",
       "      <td>10.5</td>\n",
       "      <td>2.77</td>\n",
       "    </tr>\n",
       "    <tr>\n",
       "      <th>4</th>\n",
       "      <td>8/18/15</td>\n",
       "      <td>3654</td>\n",
       "      <td>BELMOND</td>\n",
       "      <td>50421</td>\n",
       "      <td>99.0</td>\n",
       "      <td>Wright</td>\n",
       "      <td>1031080.0</td>\n",
       "      <td>VODKA 80 PROOF</td>\n",
       "      <td>297</td>\n",
       "      <td>35918</td>\n",
       "      <td>Five O'clock Vodka</td>\n",
       "      <td>1750</td>\n",
       "      <td>7.20</td>\n",
       "      <td>10.80</td>\n",
       "      <td>12</td>\n",
       "      <td>129.60</td>\n",
       "      <td>21.0</td>\n",
       "      <td>5.55</td>\n",
       "    </tr>\n",
       "  </tbody>\n",
       "</table>\n",
       "</div>"
      ],
      "text/plain": [
       "      date  store_number         city zip_code  county_number      county  \\\n",
       "0  11/4/15          3717       SUMNER    50674            9.0      Bremer   \n",
       "1   3/2/16          2614    DAVENPORT    52807           82.0       Scott   \n",
       "2  2/11/16          2106  CEDAR FALLS    50613            7.0  Black Hawk   \n",
       "3   2/3/16          2501         AMES    50010           85.0       Story   \n",
       "4  8/18/15          3654      BELMOND    50421           99.0      Wright   \n",
       "\n",
       "    category              category_name  vendor_number  item_number  \\\n",
       "0  1051100.0           APRICOT BRANDIES             55        54436   \n",
       "1  1011100.0           BLENDED WHISKIES            395        27605   \n",
       "2  1011200.0  STRAIGHT BOURBON WHISKIES             65        19067   \n",
       "3  1071100.0         AMERICAN COCKTAILS            395        59154   \n",
       "4  1031080.0             VODKA 80 PROOF            297        35918   \n",
       "\n",
       "            item_description  bottle_vol_ml  state_bottle_cost  \\\n",
       "0  Mr. Boston Apricot Brandy            750               4.50   \n",
       "1                    Tin Cup            750              13.75   \n",
       "2                   Jim Beam           1000              12.59   \n",
       "3    1800 Ultimate Margarita           1750               9.50   \n",
       "4         Five O'clock Vodka           1750               7.20   \n",
       "\n",
       "   state_bottle_retail  bottles_sold  sale_dollars  vol_sold_l  vol_sold_g  \n",
       "0                 6.75            12         81.00         9.0        2.38  \n",
       "1                20.63             2         41.26         1.5        0.40  \n",
       "2                18.89            24        453.36        24.0        6.34  \n",
       "3                14.25             6         85.50        10.5        2.77  \n",
       "4                10.80            12        129.60        21.0        5.55  "
      ]
     },
     "execution_count": 13,
     "metadata": {},
     "output_type": "execute_result"
    }
   ],
   "source": [
    "iowadf.head()"
   ]
  },
  {
   "cell_type": "code",
   "execution_count": 14,
   "metadata": {
    "collapsed": false
   },
   "outputs": [
    {
     "data": {
      "text/plain": [
       "date                      0\n",
       "store_number              0\n",
       "city                      0\n",
       "zip_code                  0\n",
       "county_number          1077\n",
       "county                 1077\n",
       "category                 68\n",
       "category_name           632\n",
       "vendor_number             0\n",
       "item_number               0\n",
       "item_description          0\n",
       "bottle_vol_ml             0\n",
       "state_bottle_cost         0\n",
       "state_bottle_retail       0\n",
       "bottles_sold              0\n",
       "sale_dollars              0\n",
       "vol_sold_l                0\n",
       "vol_sold_g                0\n",
       "dtype: int64"
      ]
     },
     "execution_count": 14,
     "metadata": {},
     "output_type": "execute_result"
    }
   ],
   "source": [
    "iowadf.isnull().sum()"
   ]
  },
  {
   "cell_type": "code",
   "execution_count": 16,
   "metadata": {
    "collapsed": false,
    "scrolled": false
   },
   "outputs": [
    {
     "data": {
      "text/plain": [
       "date                    object\n",
       "store_number             int64\n",
       "city                    object\n",
       "zip_code                object\n",
       "county_number          float64\n",
       "county                  object\n",
       "category               float64\n",
       "category_name           object\n",
       "vendor_number            int64\n",
       "item_number              int64\n",
       "item_description        object\n",
       "bottle_vol_ml            int64\n",
       "state_bottle_cost      float64\n",
       "state_bottle_retail    float64\n",
       "bottles_sold             int64\n",
       "sale_dollars           float64\n",
       "vol_sold_l             float64\n",
       "vol_sold_g             float64\n",
       "dtype: object"
      ]
     },
     "execution_count": 16,
     "metadata": {},
     "output_type": "execute_result"
    }
   ],
   "source": [
    "iowadf.dtypes"
   ]
  },
  {
   "cell_type": "code",
   "execution_count": 17,
   "metadata": {
    "collapsed": true
   },
   "outputs": [],
   "source": [
    "#Parse the dates. Just use to_datetime. There's a way to specifiy HOW it's converting to date_time. "
   ]
  },
  {
   "cell_type": "code",
   "execution_count": 19,
   "metadata": {
    "collapsed": false,
    "scrolled": true
   },
   "outputs": [],
   "source": [
    "iowadf['date'] = pd.to_datetime(iowadf['date'], format='%m/%d/%y')"
   ]
  },
  {
   "cell_type": "code",
   "execution_count": 20,
   "metadata": {
    "collapsed": false
   },
   "outputs": [],
   "source": [
    "iowadf['year'] = iowadf['date'].dt.year"
   ]
  },
  {
   "cell_type": "code",
   "execution_count": 21,
   "metadata": {
    "collapsed": false
   },
   "outputs": [],
   "source": [
    "iowadf['month'] = iowadf['date'].dt.month"
   ]
  },
  {
   "cell_type": "code",
   "execution_count": 22,
   "metadata": {
    "collapsed": false
   },
   "outputs": [
    {
     "data": {
      "text/html": [
       "<div>\n",
       "<table border=\"1\" class=\"dataframe\">\n",
       "  <thead>\n",
       "    <tr style=\"text-align: right;\">\n",
       "      <th></th>\n",
       "      <th>date</th>\n",
       "      <th>store_number</th>\n",
       "      <th>city</th>\n",
       "      <th>zip_code</th>\n",
       "      <th>county_number</th>\n",
       "      <th>county</th>\n",
       "      <th>category</th>\n",
       "      <th>category_name</th>\n",
       "      <th>vendor_number</th>\n",
       "      <th>item_number</th>\n",
       "      <th>item_description</th>\n",
       "      <th>bottle_vol_ml</th>\n",
       "      <th>state_bottle_cost</th>\n",
       "      <th>state_bottle_retail</th>\n",
       "      <th>bottles_sold</th>\n",
       "      <th>sale_dollars</th>\n",
       "      <th>vol_sold_l</th>\n",
       "      <th>vol_sold_g</th>\n",
       "      <th>year</th>\n",
       "      <th>month</th>\n",
       "    </tr>\n",
       "  </thead>\n",
       "  <tbody>\n",
       "    <tr>\n",
       "      <th>0</th>\n",
       "      <td>2015-11-04</td>\n",
       "      <td>3717</td>\n",
       "      <td>SUMNER</td>\n",
       "      <td>50674</td>\n",
       "      <td>9.0</td>\n",
       "      <td>Bremer</td>\n",
       "      <td>1051100.0</td>\n",
       "      <td>APRICOT BRANDIES</td>\n",
       "      <td>55</td>\n",
       "      <td>54436</td>\n",
       "      <td>Mr. Boston Apricot Brandy</td>\n",
       "      <td>750</td>\n",
       "      <td>4.50</td>\n",
       "      <td>6.75</td>\n",
       "      <td>12</td>\n",
       "      <td>81.00</td>\n",
       "      <td>9.0</td>\n",
       "      <td>2.38</td>\n",
       "      <td>2015</td>\n",
       "      <td>11</td>\n",
       "    </tr>\n",
       "    <tr>\n",
       "      <th>1</th>\n",
       "      <td>2016-03-02</td>\n",
       "      <td>2614</td>\n",
       "      <td>DAVENPORT</td>\n",
       "      <td>52807</td>\n",
       "      <td>82.0</td>\n",
       "      <td>Scott</td>\n",
       "      <td>1011100.0</td>\n",
       "      <td>BLENDED WHISKIES</td>\n",
       "      <td>395</td>\n",
       "      <td>27605</td>\n",
       "      <td>Tin Cup</td>\n",
       "      <td>750</td>\n",
       "      <td>13.75</td>\n",
       "      <td>20.63</td>\n",
       "      <td>2</td>\n",
       "      <td>41.26</td>\n",
       "      <td>1.5</td>\n",
       "      <td>0.40</td>\n",
       "      <td>2016</td>\n",
       "      <td>3</td>\n",
       "    </tr>\n",
       "    <tr>\n",
       "      <th>2</th>\n",
       "      <td>2016-02-11</td>\n",
       "      <td>2106</td>\n",
       "      <td>CEDAR FALLS</td>\n",
       "      <td>50613</td>\n",
       "      <td>7.0</td>\n",
       "      <td>Black Hawk</td>\n",
       "      <td>1011200.0</td>\n",
       "      <td>STRAIGHT BOURBON WHISKIES</td>\n",
       "      <td>65</td>\n",
       "      <td>19067</td>\n",
       "      <td>Jim Beam</td>\n",
       "      <td>1000</td>\n",
       "      <td>12.59</td>\n",
       "      <td>18.89</td>\n",
       "      <td>24</td>\n",
       "      <td>453.36</td>\n",
       "      <td>24.0</td>\n",
       "      <td>6.34</td>\n",
       "      <td>2016</td>\n",
       "      <td>2</td>\n",
       "    </tr>\n",
       "    <tr>\n",
       "      <th>3</th>\n",
       "      <td>2016-02-03</td>\n",
       "      <td>2501</td>\n",
       "      <td>AMES</td>\n",
       "      <td>50010</td>\n",
       "      <td>85.0</td>\n",
       "      <td>Story</td>\n",
       "      <td>1071100.0</td>\n",
       "      <td>AMERICAN COCKTAILS</td>\n",
       "      <td>395</td>\n",
       "      <td>59154</td>\n",
       "      <td>1800 Ultimate Margarita</td>\n",
       "      <td>1750</td>\n",
       "      <td>9.50</td>\n",
       "      <td>14.25</td>\n",
       "      <td>6</td>\n",
       "      <td>85.50</td>\n",
       "      <td>10.5</td>\n",
       "      <td>2.77</td>\n",
       "      <td>2016</td>\n",
       "      <td>2</td>\n",
       "    </tr>\n",
       "    <tr>\n",
       "      <th>4</th>\n",
       "      <td>2015-08-18</td>\n",
       "      <td>3654</td>\n",
       "      <td>BELMOND</td>\n",
       "      <td>50421</td>\n",
       "      <td>99.0</td>\n",
       "      <td>Wright</td>\n",
       "      <td>1031080.0</td>\n",
       "      <td>VODKA 80 PROOF</td>\n",
       "      <td>297</td>\n",
       "      <td>35918</td>\n",
       "      <td>Five O'clock Vodka</td>\n",
       "      <td>1750</td>\n",
       "      <td>7.20</td>\n",
       "      <td>10.80</td>\n",
       "      <td>12</td>\n",
       "      <td>129.60</td>\n",
       "      <td>21.0</td>\n",
       "      <td>5.55</td>\n",
       "      <td>2015</td>\n",
       "      <td>8</td>\n",
       "    </tr>\n",
       "  </tbody>\n",
       "</table>\n",
       "</div>"
      ],
      "text/plain": [
       "        date  store_number         city zip_code  county_number      county  \\\n",
       "0 2015-11-04          3717       SUMNER    50674            9.0      Bremer   \n",
       "1 2016-03-02          2614    DAVENPORT    52807           82.0       Scott   \n",
       "2 2016-02-11          2106  CEDAR FALLS    50613            7.0  Black Hawk   \n",
       "3 2016-02-03          2501         AMES    50010           85.0       Story   \n",
       "4 2015-08-18          3654      BELMOND    50421           99.0      Wright   \n",
       "\n",
       "    category              category_name  vendor_number  item_number  \\\n",
       "0  1051100.0           APRICOT BRANDIES             55        54436   \n",
       "1  1011100.0           BLENDED WHISKIES            395        27605   \n",
       "2  1011200.0  STRAIGHT BOURBON WHISKIES             65        19067   \n",
       "3  1071100.0         AMERICAN COCKTAILS            395        59154   \n",
       "4  1031080.0             VODKA 80 PROOF            297        35918   \n",
       "\n",
       "            item_description  bottle_vol_ml  state_bottle_cost  \\\n",
       "0  Mr. Boston Apricot Brandy            750               4.50   \n",
       "1                    Tin Cup            750              13.75   \n",
       "2                   Jim Beam           1000              12.59   \n",
       "3    1800 Ultimate Margarita           1750               9.50   \n",
       "4         Five O'clock Vodka           1750               7.20   \n",
       "\n",
       "   state_bottle_retail  bottles_sold  sale_dollars  vol_sold_l  vol_sold_g  \\\n",
       "0                 6.75            12         81.00         9.0        2.38   \n",
       "1                20.63             2         41.26         1.5        0.40   \n",
       "2                18.89            24        453.36        24.0        6.34   \n",
       "3                14.25             6         85.50        10.5        2.77   \n",
       "4                10.80            12        129.60        21.0        5.55   \n",
       "\n",
       "   year  month  \n",
       "0  2015     11  \n",
       "1  2016      3  \n",
       "2  2016      2  \n",
       "3  2016      2  \n",
       "4  2015      8  "
      ]
     },
     "execution_count": 22,
     "metadata": {},
     "output_type": "execute_result"
    }
   ],
   "source": [
    "iowadf.head()"
   ]
  },
  {
   "cell_type": "code",
   "execution_count": 23,
   "metadata": {
    "collapsed": true
   },
   "outputs": [],
   "source": [
    "#Check for null values."
   ]
  },
  {
   "cell_type": "code",
   "execution_count": 24,
   "metadata": {
    "collapsed": false,
    "scrolled": false
   },
   "outputs": [
    {
     "data": {
      "text/plain": [
       "date                      0\n",
       "store_number              0\n",
       "city                      0\n",
       "zip_code                  0\n",
       "county_number          1077\n",
       "county                    0\n",
       "category                 68\n",
       "category_name           632\n",
       "vendor_number             0\n",
       "item_number               0\n",
       "item_description          0\n",
       "bottle_vol_ml             0\n",
       "state_bottle_cost         0\n",
       "state_bottle_retail       0\n",
       "bottles_sold              0\n",
       "sale_dollars              0\n",
       "vol_sold_l                0\n",
       "vol_sold_g                0\n",
       "year                      0\n",
       "month                     0\n",
       "dtype: int64"
      ]
     },
     "execution_count": 24,
     "metadata": {},
     "output_type": "execute_result"
    }
   ],
   "source": [
    "pd.isnull(iowadf).sum()"
   ]
  },
  {
   "cell_type": "markdown",
   "metadata": {},
   "source": [
    "We have 1077 missing values for both county and county number, and 632 missing for category name. The latter number of null values shouldn't affect our data mining, but the others could present a problem. I'll need to fill them with something else. "
   ]
  },
  {
   "cell_type": "code",
   "execution_count": 25,
   "metadata": {
    "collapsed": true
   },
   "outputs": [],
   "source": [
    "iowadf['county'].fillna(iowadf['city'], inplace='True')"
   ]
  },
  {
   "cell_type": "markdown",
   "metadata": {},
   "source": [
    "There are 99 counties in total. The ones with the most transactions include Polk (49102), Linn(23511), Scott(16678), \n",
    "Black Hawk (15083), and Johnson (13189). "
   ]
  },
  {
   "cell_type": "code",
   "execution_count": 219,
   "metadata": {
    "collapsed": false,
    "scrolled": true
   },
   "outputs": [],
   "source": [
    "store_comparison = pd.get_dummies(iowadf['store_number'])"
   ]
  },
  {
   "cell_type": "markdown",
   "metadata": {},
   "source": [
    "There are 1400 different stores in total. "
   ]
  },
  {
   "cell_type": "markdown",
   "metadata": {},
   "source": [
    "# Explore the data\n",
    "\n",
    "Perform some exploratory statistical analysis and make some plots, such as histograms of transaction totals, bottles sold, etc.\n",
    "\n",
    "AND \n",
    "\n",
    "# Mine the data\n",
    "\n",
    "Now you are ready to compute the variables you will use for your regression from the data. For example, you may want to compute total sales per store from Jan to March of 2015, mean price per bottle, etc. Refer to the readme for more ideas appropriate to your scenario.\n",
    "\n",
    "Pandas is your friend for this task. Take a look at the operations here for ideas on how to make the best use of pandas and feel free to search for blog and Stack Overflow posts to help you group data by certain variables and compute sums, means, etc. You may find it useful to create a new data frame to house this summary data.\n"
   ]
  },
  {
   "cell_type": "code",
   "execution_count": 220,
   "metadata": {
    "collapsed": true
   },
   "outputs": [],
   "source": [
    "# There are functions within Pandas by which I can find the trends in sales for all counties. \n",
    "# I need to find the TOTAL sales in each county in each year. Focus on bottles_sold, sale_dollars, vol_sold_l, county,\n",
    "# and date."
   ]
  },
  {
   "cell_type": "code",
   "execution_count": 221,
   "metadata": {
    "collapsed": true
   },
   "outputs": [],
   "source": [
    "#There are 452 days in total, from January 1, 2015 to March 31, 2016. "
   ]
  },
  {
   "cell_type": "code",
   "execution_count": 222,
   "metadata": {
    "collapsed": true
   },
   "outputs": [],
   "source": [
    "import seaborn as sns\n",
    "import matplotlib.pyplot as plt"
   ]
  },
  {
   "cell_type": "code",
   "execution_count": 223,
   "metadata": {
    "collapsed": true
   },
   "outputs": [],
   "source": [
    "#Maybe I should make a separate dfs for 2015 and 2016. "
   ]
  },
  {
   "cell_type": "code",
   "execution_count": 224,
   "metadata": {
    "collapsed": false
   },
   "outputs": [],
   "source": [
    "y1_iowadf = iowadf[iowadf.year == 2015]"
   ]
  },
  {
   "cell_type": "code",
   "execution_count": 225,
   "metadata": {
    "collapsed": false,
    "scrolled": true
   },
   "outputs": [
    {
     "data": {
      "text/html": [
       "<div>\n",
       "<table border=\"1\" class=\"dataframe\">\n",
       "  <thead>\n",
       "    <tr style=\"text-align: right;\">\n",
       "      <th></th>\n",
       "      <th>date</th>\n",
       "      <th>store_number</th>\n",
       "      <th>city</th>\n",
       "      <th>zip_code</th>\n",
       "      <th>county_number</th>\n",
       "      <th>county</th>\n",
       "      <th>category</th>\n",
       "      <th>category_name</th>\n",
       "      <th>vendor_number</th>\n",
       "      <th>item_number</th>\n",
       "      <th>item_description</th>\n",
       "      <th>bottle_vol_ml</th>\n",
       "      <th>state_bottle_cost</th>\n",
       "      <th>state_bottle_retail</th>\n",
       "      <th>bottles_sold</th>\n",
       "      <th>sale_dollars</th>\n",
       "      <th>vol_sold_l</th>\n",
       "      <th>vol_sold_g</th>\n",
       "      <th>year</th>\n",
       "      <th>month</th>\n",
       "    </tr>\n",
       "  </thead>\n",
       "  <tbody>\n",
       "    <tr>\n",
       "      <th>0</th>\n",
       "      <td>2015-11-04</td>\n",
       "      <td>3717</td>\n",
       "      <td>SUMNER</td>\n",
       "      <td>50674</td>\n",
       "      <td>9.0</td>\n",
       "      <td>Bremer</td>\n",
       "      <td>1051100.0</td>\n",
       "      <td>APRICOT BRANDIES</td>\n",
       "      <td>55</td>\n",
       "      <td>54436</td>\n",
       "      <td>Mr. Boston Apricot Brandy</td>\n",
       "      <td>750</td>\n",
       "      <td>4.50</td>\n",
       "      <td>6.75</td>\n",
       "      <td>12</td>\n",
       "      <td>81.00</td>\n",
       "      <td>9.00</td>\n",
       "      <td>2.38</td>\n",
       "      <td>2015</td>\n",
       "      <td>11</td>\n",
       "    </tr>\n",
       "    <tr>\n",
       "      <th>4</th>\n",
       "      <td>2015-08-18</td>\n",
       "      <td>3654</td>\n",
       "      <td>BELMOND</td>\n",
       "      <td>50421</td>\n",
       "      <td>99.0</td>\n",
       "      <td>Wright</td>\n",
       "      <td>1031080.0</td>\n",
       "      <td>VODKA 80 PROOF</td>\n",
       "      <td>297</td>\n",
       "      <td>35918</td>\n",
       "      <td>Five O'clock Vodka</td>\n",
       "      <td>1750</td>\n",
       "      <td>7.20</td>\n",
       "      <td>10.80</td>\n",
       "      <td>12</td>\n",
       "      <td>129.60</td>\n",
       "      <td>21.00</td>\n",
       "      <td>5.55</td>\n",
       "      <td>2015</td>\n",
       "      <td>8</td>\n",
       "    </tr>\n",
       "    <tr>\n",
       "      <th>5</th>\n",
       "      <td>2015-04-20</td>\n",
       "      <td>2569</td>\n",
       "      <td>CEDAR RAPIDS</td>\n",
       "      <td>52402</td>\n",
       "      <td>57.0</td>\n",
       "      <td>Linn</td>\n",
       "      <td>1041100.0</td>\n",
       "      <td>AMERICAN DRY GINS</td>\n",
       "      <td>205</td>\n",
       "      <td>31473</td>\n",
       "      <td>New Amsterdam Gin</td>\n",
       "      <td>1750</td>\n",
       "      <td>13.32</td>\n",
       "      <td>19.98</td>\n",
       "      <td>6</td>\n",
       "      <td>119.88</td>\n",
       "      <td>10.50</td>\n",
       "      <td>2.77</td>\n",
       "      <td>2015</td>\n",
       "      <td>4</td>\n",
       "    </tr>\n",
       "    <tr>\n",
       "      <th>6</th>\n",
       "      <td>2015-08-05</td>\n",
       "      <td>2596</td>\n",
       "      <td>OTTUMWA</td>\n",
       "      <td>52501</td>\n",
       "      <td>90.0</td>\n",
       "      <td>Wapello</td>\n",
       "      <td>1051010.0</td>\n",
       "      <td>AMERICAN GRAPE BRANDIES</td>\n",
       "      <td>85</td>\n",
       "      <td>52806</td>\n",
       "      <td>Korbel Brandy</td>\n",
       "      <td>750</td>\n",
       "      <td>6.66</td>\n",
       "      <td>9.99</td>\n",
       "      <td>3</td>\n",
       "      <td>29.97</td>\n",
       "      <td>2.25</td>\n",
       "      <td>0.59</td>\n",
       "      <td>2015</td>\n",
       "      <td>8</td>\n",
       "    </tr>\n",
       "    <tr>\n",
       "      <th>7</th>\n",
       "      <td>2015-06-25</td>\n",
       "      <td>3456</td>\n",
       "      <td>CLEAR LAKE</td>\n",
       "      <td>50428</td>\n",
       "      <td>17.0</td>\n",
       "      <td>Cerro Gordo</td>\n",
       "      <td>1012100.0</td>\n",
       "      <td>CANADIAN WHISKIES</td>\n",
       "      <td>65</td>\n",
       "      <td>10628</td>\n",
       "      <td>Canadian Club Whisky</td>\n",
       "      <td>1750</td>\n",
       "      <td>15.75</td>\n",
       "      <td>23.63</td>\n",
       "      <td>2</td>\n",
       "      <td>47.26</td>\n",
       "      <td>3.50</td>\n",
       "      <td>0.92</td>\n",
       "      <td>2015</td>\n",
       "      <td>6</td>\n",
       "    </tr>\n",
       "  </tbody>\n",
       "</table>\n",
       "</div>"
      ],
      "text/plain": [
       "        date  store_number          city zip_code  county_number       county  \\\n",
       "0 2015-11-04          3717        SUMNER    50674            9.0       Bremer   \n",
       "4 2015-08-18          3654       BELMOND    50421           99.0       Wright   \n",
       "5 2015-04-20          2569  CEDAR RAPIDS    52402           57.0         Linn   \n",
       "6 2015-08-05          2596       OTTUMWA    52501           90.0      Wapello   \n",
       "7 2015-06-25          3456    CLEAR LAKE    50428           17.0  Cerro Gordo   \n",
       "\n",
       "    category            category_name  vendor_number  item_number  \\\n",
       "0  1051100.0         APRICOT BRANDIES             55        54436   \n",
       "4  1031080.0           VODKA 80 PROOF            297        35918   \n",
       "5  1041100.0        AMERICAN DRY GINS            205        31473   \n",
       "6  1051010.0  AMERICAN GRAPE BRANDIES             85        52806   \n",
       "7  1012100.0        CANADIAN WHISKIES             65        10628   \n",
       "\n",
       "            item_description  bottle_vol_ml  state_bottle_cost  \\\n",
       "0  Mr. Boston Apricot Brandy            750               4.50   \n",
       "4         Five O'clock Vodka           1750               7.20   \n",
       "5          New Amsterdam Gin           1750              13.32   \n",
       "6              Korbel Brandy            750               6.66   \n",
       "7       Canadian Club Whisky           1750              15.75   \n",
       "\n",
       "   state_bottle_retail  bottles_sold  sale_dollars  vol_sold_l  vol_sold_g  \\\n",
       "0                 6.75            12         81.00        9.00        2.38   \n",
       "4                10.80            12        129.60       21.00        5.55   \n",
       "5                19.98             6        119.88       10.50        2.77   \n",
       "6                 9.99             3         29.97        2.25        0.59   \n",
       "7                23.63             2         47.26        3.50        0.92   \n",
       "\n",
       "   year  month  \n",
       "0  2015     11  \n",
       "4  2015      8  \n",
       "5  2015      4  \n",
       "6  2015      8  \n",
       "7  2015      6  "
      ]
     },
     "execution_count": 225,
     "metadata": {},
     "output_type": "execute_result"
    }
   ],
   "source": [
    "y1_iowadf.head()"
   ]
  },
  {
   "cell_type": "code",
   "execution_count": 226,
   "metadata": {
    "collapsed": false
   },
   "outputs": [
    {
     "data": {
      "text/plain": [
       "28527245.39000142"
      ]
     },
     "execution_count": 226,
     "metadata": {},
     "output_type": "execute_result"
    }
   ],
   "source": [
    "y1_iowadf.sale_dollars.sum()"
   ]
  },
  {
   "cell_type": "code",
   "execution_count": 227,
   "metadata": {
    "collapsed": false
   },
   "outputs": [
    {
     "data": {
      "text/plain": [
       "130.50333215916913"
      ]
     },
     "execution_count": 227,
     "metadata": {},
     "output_type": "execute_result"
    }
   ],
   "source": [
    "y1_iowadf.sale_dollars.mean()"
   ]
  },
  {
   "cell_type": "code",
   "execution_count": 228,
   "metadata": {
    "collapsed": false
   },
   "outputs": [],
   "source": [
    "y1_iowadf = y1_iowadf.drop(y1_iowadf.columns[[3,6,8,9,18]], axis=1)"
   ]
  },
  {
   "cell_type": "code",
   "execution_count": 229,
   "metadata": {
    "collapsed": false,
    "scrolled": true
   },
   "outputs": [
    {
     "data": {
      "text/html": [
       "<div>\n",
       "<table border=\"1\" class=\"dataframe\">\n",
       "  <thead>\n",
       "    <tr style=\"text-align: right;\">\n",
       "      <th></th>\n",
       "      <th>date</th>\n",
       "      <th>store_number</th>\n",
       "      <th>city</th>\n",
       "      <th>county_number</th>\n",
       "      <th>county</th>\n",
       "      <th>category_name</th>\n",
       "      <th>item_description</th>\n",
       "      <th>bottle_vol_ml</th>\n",
       "      <th>state_bottle_cost</th>\n",
       "      <th>state_bottle_retail</th>\n",
       "      <th>bottles_sold</th>\n",
       "      <th>sale_dollars</th>\n",
       "      <th>vol_sold_l</th>\n",
       "      <th>vol_sold_g</th>\n",
       "      <th>month</th>\n",
       "    </tr>\n",
       "  </thead>\n",
       "  <tbody>\n",
       "    <tr>\n",
       "      <th>0</th>\n",
       "      <td>2015-11-04</td>\n",
       "      <td>3717</td>\n",
       "      <td>SUMNER</td>\n",
       "      <td>9.0</td>\n",
       "      <td>Bremer</td>\n",
       "      <td>APRICOT BRANDIES</td>\n",
       "      <td>Mr. Boston Apricot Brandy</td>\n",
       "      <td>750</td>\n",
       "      <td>4.50</td>\n",
       "      <td>6.75</td>\n",
       "      <td>12</td>\n",
       "      <td>81.00</td>\n",
       "      <td>9.00</td>\n",
       "      <td>2.38</td>\n",
       "      <td>11</td>\n",
       "    </tr>\n",
       "    <tr>\n",
       "      <th>4</th>\n",
       "      <td>2015-08-18</td>\n",
       "      <td>3654</td>\n",
       "      <td>BELMOND</td>\n",
       "      <td>99.0</td>\n",
       "      <td>Wright</td>\n",
       "      <td>VODKA 80 PROOF</td>\n",
       "      <td>Five O'clock Vodka</td>\n",
       "      <td>1750</td>\n",
       "      <td>7.20</td>\n",
       "      <td>10.80</td>\n",
       "      <td>12</td>\n",
       "      <td>129.60</td>\n",
       "      <td>21.00</td>\n",
       "      <td>5.55</td>\n",
       "      <td>8</td>\n",
       "    </tr>\n",
       "    <tr>\n",
       "      <th>5</th>\n",
       "      <td>2015-04-20</td>\n",
       "      <td>2569</td>\n",
       "      <td>CEDAR RAPIDS</td>\n",
       "      <td>57.0</td>\n",
       "      <td>Linn</td>\n",
       "      <td>AMERICAN DRY GINS</td>\n",
       "      <td>New Amsterdam Gin</td>\n",
       "      <td>1750</td>\n",
       "      <td>13.32</td>\n",
       "      <td>19.98</td>\n",
       "      <td>6</td>\n",
       "      <td>119.88</td>\n",
       "      <td>10.50</td>\n",
       "      <td>2.77</td>\n",
       "      <td>4</td>\n",
       "    </tr>\n",
       "    <tr>\n",
       "      <th>6</th>\n",
       "      <td>2015-08-05</td>\n",
       "      <td>2596</td>\n",
       "      <td>OTTUMWA</td>\n",
       "      <td>90.0</td>\n",
       "      <td>Wapello</td>\n",
       "      <td>AMERICAN GRAPE BRANDIES</td>\n",
       "      <td>Korbel Brandy</td>\n",
       "      <td>750</td>\n",
       "      <td>6.66</td>\n",
       "      <td>9.99</td>\n",
       "      <td>3</td>\n",
       "      <td>29.97</td>\n",
       "      <td>2.25</td>\n",
       "      <td>0.59</td>\n",
       "      <td>8</td>\n",
       "    </tr>\n",
       "    <tr>\n",
       "      <th>7</th>\n",
       "      <td>2015-06-25</td>\n",
       "      <td>3456</td>\n",
       "      <td>CLEAR LAKE</td>\n",
       "      <td>17.0</td>\n",
       "      <td>Cerro Gordo</td>\n",
       "      <td>CANADIAN WHISKIES</td>\n",
       "      <td>Canadian Club Whisky</td>\n",
       "      <td>1750</td>\n",
       "      <td>15.75</td>\n",
       "      <td>23.63</td>\n",
       "      <td>2</td>\n",
       "      <td>47.26</td>\n",
       "      <td>3.50</td>\n",
       "      <td>0.92</td>\n",
       "      <td>6</td>\n",
       "    </tr>\n",
       "  </tbody>\n",
       "</table>\n",
       "</div>"
      ],
      "text/plain": [
       "        date  store_number          city  county_number       county  \\\n",
       "0 2015-11-04          3717        SUMNER            9.0       Bremer   \n",
       "4 2015-08-18          3654       BELMOND           99.0       Wright   \n",
       "5 2015-04-20          2569  CEDAR RAPIDS           57.0         Linn   \n",
       "6 2015-08-05          2596       OTTUMWA           90.0      Wapello   \n",
       "7 2015-06-25          3456    CLEAR LAKE           17.0  Cerro Gordo   \n",
       "\n",
       "             category_name           item_description  bottle_vol_ml  \\\n",
       "0         APRICOT BRANDIES  Mr. Boston Apricot Brandy            750   \n",
       "4           VODKA 80 PROOF         Five O'clock Vodka           1750   \n",
       "5        AMERICAN DRY GINS          New Amsterdam Gin           1750   \n",
       "6  AMERICAN GRAPE BRANDIES              Korbel Brandy            750   \n",
       "7        CANADIAN WHISKIES       Canadian Club Whisky           1750   \n",
       "\n",
       "   state_bottle_cost  state_bottle_retail  bottles_sold  sale_dollars  \\\n",
       "0               4.50                 6.75            12         81.00   \n",
       "4               7.20                10.80            12        129.60   \n",
       "5              13.32                19.98             6        119.88   \n",
       "6               6.66                 9.99             3         29.97   \n",
       "7              15.75                23.63             2         47.26   \n",
       "\n",
       "   vol_sold_l  vol_sold_g  month  \n",
       "0        9.00        2.38     11  \n",
       "4       21.00        5.55      8  \n",
       "5       10.50        2.77      4  \n",
       "6        2.25        0.59      8  \n",
       "7        3.50        0.92      6  "
      ]
     },
     "execution_count": 229,
     "metadata": {},
     "output_type": "execute_result"
    }
   ],
   "source": [
    "y1_iowadf.head()"
   ]
  },
  {
   "cell_type": "code",
   "execution_count": 230,
   "metadata": {
    "collapsed": true
   },
   "outputs": [],
   "source": [
    "#Checkpoint. Check for which months do the best. "
   ]
  },
  {
   "cell_type": "code",
   "execution_count": 301,
   "metadata": {
    "collapsed": true
   },
   "outputs": [],
   "source": [
    "y1_county_sum_agg = y1_iowadf.groupby(['county']).sum()"
   ]
  },
  {
   "cell_type": "code",
   "execution_count": 302,
   "metadata": {
    "collapsed": false,
    "scrolled": true
   },
   "outputs": [
    {
     "data": {
      "text/html": [
       "<div>\n",
       "<table border=\"1\" class=\"dataframe\">\n",
       "  <thead>\n",
       "    <tr style=\"text-align: right;\">\n",
       "      <th></th>\n",
       "      <th>store_number</th>\n",
       "      <th>county_number</th>\n",
       "      <th>bottle_vol_ml</th>\n",
       "      <th>state_bottle_cost</th>\n",
       "      <th>state_bottle_retail</th>\n",
       "      <th>bottles_sold</th>\n",
       "      <th>sale_dollars</th>\n",
       "      <th>vol_sold_l</th>\n",
       "      <th>vol_sold_g</th>\n",
       "      <th>month</th>\n",
       "    </tr>\n",
       "    <tr>\n",
       "      <th>county</th>\n",
       "      <th></th>\n",
       "      <th></th>\n",
       "      <th></th>\n",
       "      <th></th>\n",
       "      <th></th>\n",
       "      <th></th>\n",
       "      <th></th>\n",
       "      <th></th>\n",
       "      <th></th>\n",
       "      <th></th>\n",
       "    </tr>\n",
       "  </thead>\n",
       "  <tbody>\n",
       "    <tr>\n",
       "      <th>Adair</th>\n",
       "      <td>1958297</td>\n",
       "      <td>472.0</td>\n",
       "      <td>476750</td>\n",
       "      <td>4281.27</td>\n",
       "      <td>6430.18</td>\n",
       "      <td>3780</td>\n",
       "      <td>43747.18</td>\n",
       "      <td>3510.22</td>\n",
       "      <td>927.11</td>\n",
       "      <td>3212</td>\n",
       "    </tr>\n",
       "    <tr>\n",
       "      <th>Adams</th>\n",
       "      <td>439803</td>\n",
       "      <td>378.0</td>\n",
       "      <td>190650</td>\n",
       "      <td>1924.44</td>\n",
       "      <td>2888.31</td>\n",
       "      <td>754</td>\n",
       "      <td>10245.14</td>\n",
       "      <td>822.28</td>\n",
       "      <td>216.98</td>\n",
       "      <td>1309</td>\n",
       "    </tr>\n",
       "    <tr>\n",
       "      <th>Allamakee</th>\n",
       "      <td>3035297</td>\n",
       "      <td>2496.0</td>\n",
       "      <td>874325</td>\n",
       "      <td>8261.37</td>\n",
       "      <td>12405.30</td>\n",
       "      <td>6020</td>\n",
       "      <td>79918.47</td>\n",
       "      <td>6290.75</td>\n",
       "      <td>1661.77</td>\n",
       "      <td>5914</td>\n",
       "    </tr>\n",
       "    <tr>\n",
       "      <th>Appanoose</th>\n",
       "      <td>2902730</td>\n",
       "      <td>3412.0</td>\n",
       "      <td>813650</td>\n",
       "      <td>8064.97</td>\n",
       "      <td>12112.67</td>\n",
       "      <td>6419</td>\n",
       "      <td>77033.64</td>\n",
       "      <td>6318.42</td>\n",
       "      <td>1669.39</td>\n",
       "      <td>5702</td>\n",
       "    </tr>\n",
       "    <tr>\n",
       "      <th>Audubon</th>\n",
       "      <td>799905</td>\n",
       "      <td>955.0</td>\n",
       "      <td>191075</td>\n",
       "      <td>1636.77</td>\n",
       "      <td>2459.67</td>\n",
       "      <td>1429</td>\n",
       "      <td>16429.26</td>\n",
       "      <td>1448.68</td>\n",
       "      <td>382.82</td>\n",
       "      <td>1205</td>\n",
       "    </tr>\n",
       "  </tbody>\n",
       "</table>\n",
       "</div>"
      ],
      "text/plain": [
       "           store_number  county_number  bottle_vol_ml  state_bottle_cost  \\\n",
       "county                                                                     \n",
       "Adair           1958297          472.0         476750            4281.27   \n",
       "Adams            439803          378.0         190650            1924.44   \n",
       "Allamakee       3035297         2496.0         874325            8261.37   \n",
       "Appanoose       2902730         3412.0         813650            8064.97   \n",
       "Audubon          799905          955.0         191075            1636.77   \n",
       "\n",
       "           state_bottle_retail  bottles_sold  sale_dollars  vol_sold_l  \\\n",
       "county                                                                   \n",
       "Adair                  6430.18          3780      43747.18     3510.22   \n",
       "Adams                  2888.31           754      10245.14      822.28   \n",
       "Allamakee             12405.30          6020      79918.47     6290.75   \n",
       "Appanoose             12112.67          6419      77033.64     6318.42   \n",
       "Audubon                2459.67          1429      16429.26     1448.68   \n",
       "\n",
       "           vol_sold_g  month  \n",
       "county                        \n",
       "Adair          927.11   3212  \n",
       "Adams          216.98   1309  \n",
       "Allamakee     1661.77   5914  \n",
       "Appanoose     1669.39   5702  \n",
       "Audubon        382.82   1205  "
      ]
     },
     "execution_count": 302,
     "metadata": {},
     "output_type": "execute_result"
    }
   ],
   "source": [
    "y1_county_sum_agg.head()"
   ]
  },
  {
   "cell_type": "code",
   "execution_count": 298,
   "metadata": {
    "collapsed": true
   },
   "outputs": [],
   "source": [
    "y1_county_mean_agg = y1_iowadf.groupby(['county']).mean()"
   ]
  },
  {
   "cell_type": "code",
   "execution_count": 306,
   "metadata": {
    "collapsed": true
   },
   "outputs": [],
   "source": [
    "y1_county_mean_agg = y1_county_mean_agg.reset_index()"
   ]
  },
  {
   "cell_type": "code",
   "execution_count": 307,
   "metadata": {
    "collapsed": false
   },
   "outputs": [
    {
     "data": {
      "text/html": [
       "<div>\n",
       "<table border=\"1\" class=\"dataframe\">\n",
       "  <thead>\n",
       "    <tr style=\"text-align: right;\">\n",
       "      <th></th>\n",
       "      <th>county</th>\n",
       "      <th>store_number</th>\n",
       "      <th>county_number</th>\n",
       "      <th>bottle_vol_ml</th>\n",
       "      <th>state_bottle_cost</th>\n",
       "      <th>state_bottle_retail</th>\n",
       "      <th>bottles_sold</th>\n",
       "      <th>sale_dollars</th>\n",
       "      <th>vol_sold_l</th>\n",
       "      <th>vol_sold_g</th>\n",
       "      <th>month</th>\n",
       "    </tr>\n",
       "  </thead>\n",
       "  <tbody>\n",
       "    <tr>\n",
       "      <th>0</th>\n",
       "      <td>Adair</td>\n",
       "      <td>4148.934322</td>\n",
       "      <td>1.0</td>\n",
       "      <td>1010.063559</td>\n",
       "      <td>9.070487</td>\n",
       "      <td>13.623263</td>\n",
       "      <td>8.008475</td>\n",
       "      <td>92.684703</td>\n",
       "      <td>7.436907</td>\n",
       "      <td>1.964216</td>\n",
       "      <td>6.805085</td>\n",
       "    </tr>\n",
       "    <tr>\n",
       "      <th>1</th>\n",
       "      <td>Adams</td>\n",
       "      <td>2327.000000</td>\n",
       "      <td>2.0</td>\n",
       "      <td>1008.730159</td>\n",
       "      <td>10.182222</td>\n",
       "      <td>15.282063</td>\n",
       "      <td>3.989418</td>\n",
       "      <td>54.207090</td>\n",
       "      <td>4.350688</td>\n",
       "      <td>1.148042</td>\n",
       "      <td>6.925926</td>\n",
       "    </tr>\n",
       "    <tr>\n",
       "      <th>2</th>\n",
       "      <td>Allamakee</td>\n",
       "      <td>3648.193510</td>\n",
       "      <td>3.0</td>\n",
       "      <td>1050.871394</td>\n",
       "      <td>9.929531</td>\n",
       "      <td>14.910216</td>\n",
       "      <td>7.235577</td>\n",
       "      <td>96.055853</td>\n",
       "      <td>7.560998</td>\n",
       "      <td>1.997320</td>\n",
       "      <td>7.108173</td>\n",
       "    </tr>\n",
       "    <tr>\n",
       "      <th>3</th>\n",
       "      <td>Appanoose</td>\n",
       "      <td>3402.966002</td>\n",
       "      <td>4.0</td>\n",
       "      <td>953.868699</td>\n",
       "      <td>9.454830</td>\n",
       "      <td>14.200082</td>\n",
       "      <td>7.525205</td>\n",
       "      <td>90.309074</td>\n",
       "      <td>7.407292</td>\n",
       "      <td>1.957081</td>\n",
       "      <td>6.684642</td>\n",
       "    </tr>\n",
       "    <tr>\n",
       "      <th>4</th>\n",
       "      <td>Audubon</td>\n",
       "      <td>4187.984293</td>\n",
       "      <td>5.0</td>\n",
       "      <td>1000.392670</td>\n",
       "      <td>8.569476</td>\n",
       "      <td>12.877853</td>\n",
       "      <td>7.481675</td>\n",
       "      <td>86.017068</td>\n",
       "      <td>7.584712</td>\n",
       "      <td>2.004293</td>\n",
       "      <td>6.308901</td>\n",
       "    </tr>\n",
       "  </tbody>\n",
       "</table>\n",
       "</div>"
      ],
      "text/plain": [
       "      county  store_number  county_number  bottle_vol_ml  state_bottle_cost  \\\n",
       "0      Adair   4148.934322            1.0    1010.063559           9.070487   \n",
       "1      Adams   2327.000000            2.0    1008.730159          10.182222   \n",
       "2  Allamakee   3648.193510            3.0    1050.871394           9.929531   \n",
       "3  Appanoose   3402.966002            4.0     953.868699           9.454830   \n",
       "4    Audubon   4187.984293            5.0    1000.392670           8.569476   \n",
       "\n",
       "   state_bottle_retail  bottles_sold  sale_dollars  vol_sold_l  vol_sold_g  \\\n",
       "0            13.623263      8.008475     92.684703    7.436907    1.964216   \n",
       "1            15.282063      3.989418     54.207090    4.350688    1.148042   \n",
       "2            14.910216      7.235577     96.055853    7.560998    1.997320   \n",
       "3            14.200082      7.525205     90.309074    7.407292    1.957081   \n",
       "4            12.877853      7.481675     86.017068    7.584712    2.004293   \n",
       "\n",
       "      month  \n",
       "0  6.805085  \n",
       "1  6.925926  \n",
       "2  7.108173  \n",
       "3  6.684642  \n",
       "4  6.308901  "
      ]
     },
     "execution_count": 307,
     "metadata": {},
     "output_type": "execute_result"
    }
   ],
   "source": [
    "y1_county_mean_agg.head()"
   ]
  },
  {
   "cell_type": "code",
   "execution_count": 303,
   "metadata": {
    "collapsed": true
   },
   "outputs": [],
   "source": [
    "y1_county_sum_agg = y1_county_sum_agg.reset_index()"
   ]
  },
  {
   "cell_type": "code",
   "execution_count": 304,
   "metadata": {
    "collapsed": false
   },
   "outputs": [],
   "source": [
    "y1_county_sum_agg = y1_county_sum_agg.drop(y1_county_sum_agg.columns[[1,2]], axis=1)"
   ]
  },
  {
   "cell_type": "code",
   "execution_count": 305,
   "metadata": {
    "collapsed": false,
    "scrolled": true
   },
   "outputs": [
    {
     "data": {
      "text/html": [
       "<div>\n",
       "<table border=\"1\" class=\"dataframe\">\n",
       "  <thead>\n",
       "    <tr style=\"text-align: right;\">\n",
       "      <th></th>\n",
       "      <th>county</th>\n",
       "      <th>bottle_vol_ml</th>\n",
       "      <th>state_bottle_cost</th>\n",
       "      <th>state_bottle_retail</th>\n",
       "      <th>bottles_sold</th>\n",
       "      <th>sale_dollars</th>\n",
       "      <th>vol_sold_l</th>\n",
       "      <th>vol_sold_g</th>\n",
       "      <th>month</th>\n",
       "    </tr>\n",
       "  </thead>\n",
       "  <tbody>\n",
       "    <tr>\n",
       "      <th>0</th>\n",
       "      <td>Adair</td>\n",
       "      <td>476750</td>\n",
       "      <td>4281.27</td>\n",
       "      <td>6430.18</td>\n",
       "      <td>3780</td>\n",
       "      <td>43747.18</td>\n",
       "      <td>3510.22</td>\n",
       "      <td>927.11</td>\n",
       "      <td>3212</td>\n",
       "    </tr>\n",
       "    <tr>\n",
       "      <th>1</th>\n",
       "      <td>Adams</td>\n",
       "      <td>190650</td>\n",
       "      <td>1924.44</td>\n",
       "      <td>2888.31</td>\n",
       "      <td>754</td>\n",
       "      <td>10245.14</td>\n",
       "      <td>822.28</td>\n",
       "      <td>216.98</td>\n",
       "      <td>1309</td>\n",
       "    </tr>\n",
       "    <tr>\n",
       "      <th>2</th>\n",
       "      <td>Allamakee</td>\n",
       "      <td>874325</td>\n",
       "      <td>8261.37</td>\n",
       "      <td>12405.30</td>\n",
       "      <td>6020</td>\n",
       "      <td>79918.47</td>\n",
       "      <td>6290.75</td>\n",
       "      <td>1661.77</td>\n",
       "      <td>5914</td>\n",
       "    </tr>\n",
       "    <tr>\n",
       "      <th>3</th>\n",
       "      <td>Appanoose</td>\n",
       "      <td>813650</td>\n",
       "      <td>8064.97</td>\n",
       "      <td>12112.67</td>\n",
       "      <td>6419</td>\n",
       "      <td>77033.64</td>\n",
       "      <td>6318.42</td>\n",
       "      <td>1669.39</td>\n",
       "      <td>5702</td>\n",
       "    </tr>\n",
       "    <tr>\n",
       "      <th>4</th>\n",
       "      <td>Audubon</td>\n",
       "      <td>191075</td>\n",
       "      <td>1636.77</td>\n",
       "      <td>2459.67</td>\n",
       "      <td>1429</td>\n",
       "      <td>16429.26</td>\n",
       "      <td>1448.68</td>\n",
       "      <td>382.82</td>\n",
       "      <td>1205</td>\n",
       "    </tr>\n",
       "  </tbody>\n",
       "</table>\n",
       "</div>"
      ],
      "text/plain": [
       "      county  bottle_vol_ml  state_bottle_cost  state_bottle_retail  \\\n",
       "0      Adair         476750            4281.27              6430.18   \n",
       "1      Adams         190650            1924.44              2888.31   \n",
       "2  Allamakee         874325            8261.37             12405.30   \n",
       "3  Appanoose         813650            8064.97             12112.67   \n",
       "4    Audubon         191075            1636.77              2459.67   \n",
       "\n",
       "   bottles_sold  sale_dollars  vol_sold_l  vol_sold_g  month  \n",
       "0          3780      43747.18     3510.22      927.11   3212  \n",
       "1           754      10245.14      822.28      216.98   1309  \n",
       "2          6020      79918.47     6290.75     1661.77   5914  \n",
       "3          6419      77033.64     6318.42     1669.39   5702  \n",
       "4          1429      16429.26     1448.68      382.82   1205  "
      ]
     },
     "execution_count": 305,
     "metadata": {},
     "output_type": "execute_result"
    }
   ],
   "source": [
    "y1_county_sum_agg.head()"
   ]
  },
  {
   "cell_type": "code",
   "execution_count": 236,
   "metadata": {
    "collapsed": false,
    "scrolled": false
   },
   "outputs": [],
   "source": [
    "#Find a way to make a df for Jan-March 2015\n",
    "y1_jan_iowadf = y1_iowadf[y1_iowadf.month == 1]"
   ]
  },
  {
   "cell_type": "code",
   "execution_count": 237,
   "metadata": {
    "collapsed": true
   },
   "outputs": [],
   "source": [
    "y1_feb_iowadf = y1_iowadf[y1_iowadf.month == 2] "
   ]
  },
  {
   "cell_type": "code",
   "execution_count": 238,
   "metadata": {
    "collapsed": true
   },
   "outputs": [],
   "source": [
    "y1_march_iowadf = y1_iowadf[y1_iowadf.month == 3] "
   ]
  },
  {
   "cell_type": "code",
   "execution_count": 239,
   "metadata": {
    "collapsed": false
   },
   "outputs": [],
   "source": [
    "frames = [y1_jan_iowadf, y1_feb_iowadf, y1_march_iowadf]"
   ]
  },
  {
   "cell_type": "code",
   "execution_count": 240,
   "metadata": {
    "collapsed": false
   },
   "outputs": [],
   "source": [
    "y1_p1_iowadf = pd.concat(frames)"
   ]
  },
  {
   "cell_type": "code",
   "execution_count": 241,
   "metadata": {
    "collapsed": false,
    "scrolled": true
   },
   "outputs": [
    {
     "data": {
      "text/html": [
       "<div>\n",
       "<table border=\"1\" class=\"dataframe\">\n",
       "  <thead>\n",
       "    <tr style=\"text-align: right;\">\n",
       "      <th></th>\n",
       "      <th>date</th>\n",
       "      <th>store_number</th>\n",
       "      <th>city</th>\n",
       "      <th>county_number</th>\n",
       "      <th>county</th>\n",
       "      <th>category_name</th>\n",
       "      <th>item_description</th>\n",
       "      <th>bottle_vol_ml</th>\n",
       "      <th>state_bottle_cost</th>\n",
       "      <th>state_bottle_retail</th>\n",
       "      <th>bottles_sold</th>\n",
       "      <th>sale_dollars</th>\n",
       "      <th>vol_sold_l</th>\n",
       "      <th>vol_sold_g</th>\n",
       "      <th>month</th>\n",
       "    </tr>\n",
       "  </thead>\n",
       "  <tbody>\n",
       "    <tr>\n",
       "      <th>270893</th>\n",
       "      <td>2015-03-18</td>\n",
       "      <td>4105</td>\n",
       "      <td>NEVADA</td>\n",
       "      <td>85.0</td>\n",
       "      <td>Story</td>\n",
       "      <td>AMERICAN AMARETTO</td>\n",
       "      <td>Paramount Amaretto</td>\n",
       "      <td>750</td>\n",
       "      <td>3.38</td>\n",
       "      <td>5.07</td>\n",
       "      <td>12</td>\n",
       "      <td>60.84</td>\n",
       "      <td>9.0</td>\n",
       "      <td>2.38</td>\n",
       "      <td>3</td>\n",
       "    </tr>\n",
       "    <tr>\n",
       "      <th>270903</th>\n",
       "      <td>2015-03-18</td>\n",
       "      <td>2840</td>\n",
       "      <td>BETTENDORF</td>\n",
       "      <td>82.0</td>\n",
       "      <td>Scott</td>\n",
       "      <td>VODKA FLAVORED</td>\n",
       "      <td>Smirnoff Sorbet Light Lemon</td>\n",
       "      <td>750</td>\n",
       "      <td>8.25</td>\n",
       "      <td>12.38</td>\n",
       "      <td>2</td>\n",
       "      <td>24.76</td>\n",
       "      <td>1.5</td>\n",
       "      <td>0.40</td>\n",
       "      <td>3</td>\n",
       "    </tr>\n",
       "    <tr>\n",
       "      <th>270907</th>\n",
       "      <td>2015-03-16</td>\n",
       "      <td>3549</td>\n",
       "      <td>FORT MADISON</td>\n",
       "      <td>56.0</td>\n",
       "      <td>Lee</td>\n",
       "      <td>CANADIAN WHISKIES</td>\n",
       "      <td>Crown Royal Regal Apple</td>\n",
       "      <td>750</td>\n",
       "      <td>15.00</td>\n",
       "      <td>22.50</td>\n",
       "      <td>24</td>\n",
       "      <td>540.00</td>\n",
       "      <td>18.0</td>\n",
       "      <td>4.76</td>\n",
       "      <td>3</td>\n",
       "    </tr>\n",
       "    <tr>\n",
       "      <th>270934</th>\n",
       "      <td>2015-03-18</td>\n",
       "      <td>2623</td>\n",
       "      <td>SIOUX CITY</td>\n",
       "      <td>97.0</td>\n",
       "      <td>Woodbury</td>\n",
       "      <td>BLACKBERRY BRANDIES</td>\n",
       "      <td>Mr. Boston Blackberry Brandy</td>\n",
       "      <td>1750</td>\n",
       "      <td>10.00</td>\n",
       "      <td>15.00</td>\n",
       "      <td>2</td>\n",
       "      <td>30.00</td>\n",
       "      <td>3.5</td>\n",
       "      <td>0.92</td>\n",
       "      <td>3</td>\n",
       "    </tr>\n",
       "    <tr>\n",
       "      <th>270936</th>\n",
       "      <td>2015-03-31</td>\n",
       "      <td>2552</td>\n",
       "      <td>CEDAR RAPIDS</td>\n",
       "      <td>57.0</td>\n",
       "      <td>Linn</td>\n",
       "      <td>TEQUILA</td>\n",
       "      <td>Jose Cuervo Especial Reposado Tequila</td>\n",
       "      <td>750</td>\n",
       "      <td>10.49</td>\n",
       "      <td>15.74</td>\n",
       "      <td>12</td>\n",
       "      <td>188.88</td>\n",
       "      <td>9.0</td>\n",
       "      <td>2.38</td>\n",
       "      <td>3</td>\n",
       "    </tr>\n",
       "  </tbody>\n",
       "</table>\n",
       "</div>"
      ],
      "text/plain": [
       "             date  store_number          city  county_number    county  \\\n",
       "270893 2015-03-18          4105        NEVADA           85.0     Story   \n",
       "270903 2015-03-18          2840    BETTENDORF           82.0     Scott   \n",
       "270907 2015-03-16          3549  FORT MADISON           56.0       Lee   \n",
       "270934 2015-03-18          2623    SIOUX CITY           97.0  Woodbury   \n",
       "270936 2015-03-31          2552  CEDAR RAPIDS           57.0      Linn   \n",
       "\n",
       "              category_name                       item_description  \\\n",
       "270893    AMERICAN AMARETTO                     Paramount Amaretto   \n",
       "270903       VODKA FLAVORED            Smirnoff Sorbet Light Lemon   \n",
       "270907    CANADIAN WHISKIES                Crown Royal Regal Apple   \n",
       "270934  BLACKBERRY BRANDIES           Mr. Boston Blackberry Brandy   \n",
       "270936              TEQUILA  Jose Cuervo Especial Reposado Tequila   \n",
       "\n",
       "        bottle_vol_ml  state_bottle_cost  state_bottle_retail  bottles_sold  \\\n",
       "270893            750               3.38                 5.07            12   \n",
       "270903            750               8.25                12.38             2   \n",
       "270907            750              15.00                22.50            24   \n",
       "270934           1750              10.00                15.00             2   \n",
       "270936            750              10.49                15.74            12   \n",
       "\n",
       "        sale_dollars  vol_sold_l  vol_sold_g  month  \n",
       "270893         60.84         9.0        2.38      3  \n",
       "270903         24.76         1.5        0.40      3  \n",
       "270907        540.00        18.0        4.76      3  \n",
       "270934         30.00         3.5        0.92      3  \n",
       "270936        188.88         9.0        2.38      3  "
      ]
     },
     "execution_count": 241,
     "metadata": {},
     "output_type": "execute_result"
    }
   ],
   "source": [
    "y1_p1_iowadf.tail()"
   ]
  },
  {
   "cell_type": "code",
   "execution_count": 242,
   "metadata": {
    "collapsed": false
   },
   "outputs": [
    {
     "data": {
      "text/plain": [
       "6153795.88999969"
      ]
     },
     "execution_count": 242,
     "metadata": {},
     "output_type": "execute_result"
    }
   ],
   "source": [
    "y1_p1_iowadf.sale_dollars.sum()"
   ]
  },
  {
   "cell_type": "markdown",
   "metadata": {},
   "source": [
    "The total sales in dollars in Jan-March 2015 was approximately $6,153,795.89."
   ]
  },
  {
   "cell_type": "code",
   "execution_count": 243,
   "metadata": {
    "collapsed": false
   },
   "outputs": [],
   "source": [
    "y1_p1_county_sum_agg = y1_p1_iowadf.groupby(['county']).sum()"
   ]
  },
  {
   "cell_type": "code",
   "execution_count": 244,
   "metadata": {
    "collapsed": false,
    "scrolled": true
   },
   "outputs": [
    {
     "data": {
      "text/html": [
       "<div>\n",
       "<table border=\"1\" class=\"dataframe\">\n",
       "  <thead>\n",
       "    <tr style=\"text-align: right;\">\n",
       "      <th></th>\n",
       "      <th>store_number</th>\n",
       "      <th>county_number</th>\n",
       "      <th>bottle_vol_ml</th>\n",
       "      <th>state_bottle_cost</th>\n",
       "      <th>state_bottle_retail</th>\n",
       "      <th>bottles_sold</th>\n",
       "      <th>sale_dollars</th>\n",
       "      <th>vol_sold_l</th>\n",
       "      <th>vol_sold_g</th>\n",
       "      <th>month</th>\n",
       "    </tr>\n",
       "    <tr>\n",
       "      <th>county</th>\n",
       "      <th></th>\n",
       "      <th></th>\n",
       "      <th></th>\n",
       "      <th></th>\n",
       "      <th></th>\n",
       "      <th></th>\n",
       "      <th></th>\n",
       "      <th></th>\n",
       "      <th></th>\n",
       "      <th></th>\n",
       "    </tr>\n",
       "  </thead>\n",
       "  <tbody>\n",
       "    <tr>\n",
       "      <th>Adair</th>\n",
       "      <td>466016</td>\n",
       "      <td>111.0</td>\n",
       "      <td>102575</td>\n",
       "      <td>966.13</td>\n",
       "      <td>1450.08</td>\n",
       "      <td>1075</td>\n",
       "      <td>10222.00</td>\n",
       "      <td>814.54</td>\n",
       "      <td>215.16</td>\n",
       "      <td>224</td>\n",
       "    </tr>\n",
       "    <tr>\n",
       "      <th>Adams</th>\n",
       "      <td>100061</td>\n",
       "      <td>86.0</td>\n",
       "      <td>42475</td>\n",
       "      <td>429.46</td>\n",
       "      <td>644.25</td>\n",
       "      <td>174</td>\n",
       "      <td>2253.60</td>\n",
       "      <td>183.27</td>\n",
       "      <td>48.35</td>\n",
       "      <td>96</td>\n",
       "    </tr>\n",
       "    <tr>\n",
       "      <th>Allamakee</th>\n",
       "      <td>478693</td>\n",
       "      <td>411.0</td>\n",
       "      <td>153450</td>\n",
       "      <td>1336.12</td>\n",
       "      <td>2007.74</td>\n",
       "      <td>1135</td>\n",
       "      <td>14907.98</td>\n",
       "      <td>1244.68</td>\n",
       "      <td>328.77</td>\n",
       "      <td>257</td>\n",
       "    </tr>\n",
       "    <tr>\n",
       "      <th>Appanoose</th>\n",
       "      <td>616869</td>\n",
       "      <td>724.0</td>\n",
       "      <td>172125</td>\n",
       "      <td>1566.11</td>\n",
       "      <td>2352.68</td>\n",
       "      <td>1317</td>\n",
       "      <td>15228.09</td>\n",
       "      <td>1207.15</td>\n",
       "      <td>319.02</td>\n",
       "      <td>360</td>\n",
       "    </tr>\n",
       "    <tr>\n",
       "      <th>Audubon</th>\n",
       "      <td>228627</td>\n",
       "      <td>305.0</td>\n",
       "      <td>62125</td>\n",
       "      <td>529.36</td>\n",
       "      <td>795.86</td>\n",
       "      <td>435</td>\n",
       "      <td>5510.75</td>\n",
       "      <td>557.50</td>\n",
       "      <td>147.35</td>\n",
       "      <td>129</td>\n",
       "    </tr>\n",
       "  </tbody>\n",
       "</table>\n",
       "</div>"
      ],
      "text/plain": [
       "           store_number  county_number  bottle_vol_ml  state_bottle_cost  \\\n",
       "county                                                                     \n",
       "Adair            466016          111.0         102575             966.13   \n",
       "Adams            100061           86.0          42475             429.46   \n",
       "Allamakee        478693          411.0         153450            1336.12   \n",
       "Appanoose        616869          724.0         172125            1566.11   \n",
       "Audubon          228627          305.0          62125             529.36   \n",
       "\n",
       "           state_bottle_retail  bottles_sold  sale_dollars  vol_sold_l  \\\n",
       "county                                                                   \n",
       "Adair                  1450.08          1075      10222.00      814.54   \n",
       "Adams                   644.25           174       2253.60      183.27   \n",
       "Allamakee              2007.74          1135      14907.98     1244.68   \n",
       "Appanoose              2352.68          1317      15228.09     1207.15   \n",
       "Audubon                 795.86           435       5510.75      557.50   \n",
       "\n",
       "           vol_sold_g  month  \n",
       "county                        \n",
       "Adair          215.16    224  \n",
       "Adams           48.35     96  \n",
       "Allamakee      328.77    257  \n",
       "Appanoose      319.02    360  \n",
       "Audubon        147.35    129  "
      ]
     },
     "execution_count": 244,
     "metadata": {},
     "output_type": "execute_result"
    }
   ],
   "source": [
    "y1_p1_county_sum_agg.head()"
   ]
  },
  {
   "cell_type": "code",
   "execution_count": 245,
   "metadata": {
    "collapsed": false,
    "scrolled": true
   },
   "outputs": [],
   "source": [
    "y1_p1_county_sum_agg=y1_p1_county_sum_agg.reset_index()"
   ]
  },
  {
   "cell_type": "code",
   "execution_count": 246,
   "metadata": {
    "collapsed": false,
    "scrolled": true
   },
   "outputs": [
    {
     "data": {
      "text/html": [
       "<div>\n",
       "<table border=\"1\" class=\"dataframe\">\n",
       "  <thead>\n",
       "    <tr style=\"text-align: right;\">\n",
       "      <th></th>\n",
       "      <th>county</th>\n",
       "      <th>store_number</th>\n",
       "      <th>county_number</th>\n",
       "      <th>bottle_vol_ml</th>\n",
       "      <th>state_bottle_cost</th>\n",
       "      <th>state_bottle_retail</th>\n",
       "      <th>bottles_sold</th>\n",
       "      <th>sale_dollars</th>\n",
       "      <th>vol_sold_l</th>\n",
       "      <th>vol_sold_g</th>\n",
       "      <th>month</th>\n",
       "    </tr>\n",
       "  </thead>\n",
       "  <tbody>\n",
       "    <tr>\n",
       "      <th>0</th>\n",
       "      <td>Adair</td>\n",
       "      <td>466016</td>\n",
       "      <td>111.0</td>\n",
       "      <td>102575</td>\n",
       "      <td>966.13</td>\n",
       "      <td>1450.08</td>\n",
       "      <td>1075</td>\n",
       "      <td>10222.00</td>\n",
       "      <td>814.54</td>\n",
       "      <td>215.16</td>\n",
       "      <td>224</td>\n",
       "    </tr>\n",
       "    <tr>\n",
       "      <th>1</th>\n",
       "      <td>Adams</td>\n",
       "      <td>100061</td>\n",
       "      <td>86.0</td>\n",
       "      <td>42475</td>\n",
       "      <td>429.46</td>\n",
       "      <td>644.25</td>\n",
       "      <td>174</td>\n",
       "      <td>2253.60</td>\n",
       "      <td>183.27</td>\n",
       "      <td>48.35</td>\n",
       "      <td>96</td>\n",
       "    </tr>\n",
       "    <tr>\n",
       "      <th>2</th>\n",
       "      <td>Allamakee</td>\n",
       "      <td>478693</td>\n",
       "      <td>411.0</td>\n",
       "      <td>153450</td>\n",
       "      <td>1336.12</td>\n",
       "      <td>2007.74</td>\n",
       "      <td>1135</td>\n",
       "      <td>14907.98</td>\n",
       "      <td>1244.68</td>\n",
       "      <td>328.77</td>\n",
       "      <td>257</td>\n",
       "    </tr>\n",
       "    <tr>\n",
       "      <th>3</th>\n",
       "      <td>Appanoose</td>\n",
       "      <td>616869</td>\n",
       "      <td>724.0</td>\n",
       "      <td>172125</td>\n",
       "      <td>1566.11</td>\n",
       "      <td>2352.68</td>\n",
       "      <td>1317</td>\n",
       "      <td>15228.09</td>\n",
       "      <td>1207.15</td>\n",
       "      <td>319.02</td>\n",
       "      <td>360</td>\n",
       "    </tr>\n",
       "    <tr>\n",
       "      <th>4</th>\n",
       "      <td>Audubon</td>\n",
       "      <td>228627</td>\n",
       "      <td>305.0</td>\n",
       "      <td>62125</td>\n",
       "      <td>529.36</td>\n",
       "      <td>795.86</td>\n",
       "      <td>435</td>\n",
       "      <td>5510.75</td>\n",
       "      <td>557.50</td>\n",
       "      <td>147.35</td>\n",
       "      <td>129</td>\n",
       "    </tr>\n",
       "  </tbody>\n",
       "</table>\n",
       "</div>"
      ],
      "text/plain": [
       "      county  store_number  county_number  bottle_vol_ml  state_bottle_cost  \\\n",
       "0      Adair        466016          111.0         102575             966.13   \n",
       "1      Adams        100061           86.0          42475             429.46   \n",
       "2  Allamakee        478693          411.0         153450            1336.12   \n",
       "3  Appanoose        616869          724.0         172125            1566.11   \n",
       "4    Audubon        228627          305.0          62125             529.36   \n",
       "\n",
       "   state_bottle_retail  bottles_sold  sale_dollars  vol_sold_l  vol_sold_g  \\\n",
       "0              1450.08          1075      10222.00      814.54      215.16   \n",
       "1               644.25           174       2253.60      183.27       48.35   \n",
       "2              2007.74          1135      14907.98     1244.68      328.77   \n",
       "3              2352.68          1317      15228.09     1207.15      319.02   \n",
       "4               795.86           435       5510.75      557.50      147.35   \n",
       "\n",
       "   month  \n",
       "0    224  \n",
       "1     96  \n",
       "2    257  \n",
       "3    360  \n",
       "4    129  "
      ]
     },
     "execution_count": 246,
     "metadata": {},
     "output_type": "execute_result"
    }
   ],
   "source": [
    "y1_p1_county_sum_agg.head()"
   ]
  },
  {
   "cell_type": "code",
   "execution_count": 247,
   "metadata": {
    "collapsed": false
   },
   "outputs": [],
   "source": [
    "y1_p1_county_sum_agg = y1_p1_county_sum_agg.drop(y1_p1_county_sum_agg.columns[[1,2,9,10]], axis=1)"
   ]
  },
  {
   "cell_type": "code",
   "execution_count": 248,
   "metadata": {
    "collapsed": true
   },
   "outputs": [],
   "source": [
    "y1_p1_county_mean_agg = y1_p1_iowadf.groupby(['county']).mean()"
   ]
  },
  {
   "cell_type": "code",
   "execution_count": 249,
   "metadata": {
    "collapsed": false,
    "scrolled": true
   },
   "outputs": [
    {
     "data": {
      "text/html": [
       "<div>\n",
       "<table border=\"1\" class=\"dataframe\">\n",
       "  <thead>\n",
       "    <tr style=\"text-align: right;\">\n",
       "      <th></th>\n",
       "      <th>store_number</th>\n",
       "      <th>county_number</th>\n",
       "      <th>bottle_vol_ml</th>\n",
       "      <th>state_bottle_cost</th>\n",
       "      <th>state_bottle_retail</th>\n",
       "      <th>bottles_sold</th>\n",
       "      <th>sale_dollars</th>\n",
       "      <th>vol_sold_l</th>\n",
       "      <th>vol_sold_g</th>\n",
       "      <th>month</th>\n",
       "    </tr>\n",
       "    <tr>\n",
       "      <th>county</th>\n",
       "      <th></th>\n",
       "      <th></th>\n",
       "      <th></th>\n",
       "      <th></th>\n",
       "      <th></th>\n",
       "      <th></th>\n",
       "      <th></th>\n",
       "      <th></th>\n",
       "      <th></th>\n",
       "      <th></th>\n",
       "    </tr>\n",
       "  </thead>\n",
       "  <tbody>\n",
       "    <tr>\n",
       "      <th>Winnebago</th>\n",
       "      <td>4308.211640</td>\n",
       "      <td>95.0</td>\n",
       "      <td>1020.238095</td>\n",
       "      <td>9.366085</td>\n",
       "      <td>14.068307</td>\n",
       "      <td>6.571429</td>\n",
       "      <td>83.767249</td>\n",
       "      <td>6.739894</td>\n",
       "      <td>1.780794</td>\n",
       "      <td>2.042328</td>\n",
       "    </tr>\n",
       "    <tr>\n",
       "      <th>Winneshiek</th>\n",
       "      <td>4111.560538</td>\n",
       "      <td>96.0</td>\n",
       "      <td>1094.282511</td>\n",
       "      <td>10.114843</td>\n",
       "      <td>15.187534</td>\n",
       "      <td>8.686099</td>\n",
       "      <td>116.879776</td>\n",
       "      <td>9.104529</td>\n",
       "      <td>2.404933</td>\n",
       "      <td>2.008969</td>\n",
       "    </tr>\n",
       "    <tr>\n",
       "      <th>Woodbury</th>\n",
       "      <td>3570.356634</td>\n",
       "      <td>97.0</td>\n",
       "      <td>909.838188</td>\n",
       "      <td>9.902505</td>\n",
       "      <td>14.872026</td>\n",
       "      <td>11.188997</td>\n",
       "      <td>149.359327</td>\n",
       "      <td>10.233586</td>\n",
       "      <td>2.703773</td>\n",
       "      <td>1.971521</td>\n",
       "    </tr>\n",
       "    <tr>\n",
       "      <th>Worth</th>\n",
       "      <td>4189.059701</td>\n",
       "      <td>98.0</td>\n",
       "      <td>1048.507463</td>\n",
       "      <td>8.988657</td>\n",
       "      <td>13.516567</td>\n",
       "      <td>7.194030</td>\n",
       "      <td>90.242537</td>\n",
       "      <td>7.041940</td>\n",
       "      <td>1.859701</td>\n",
       "      <td>2.119403</td>\n",
       "    </tr>\n",
       "    <tr>\n",
       "      <th>Wright</th>\n",
       "      <td>3953.095238</td>\n",
       "      <td>99.0</td>\n",
       "      <td>1014.484127</td>\n",
       "      <td>9.485635</td>\n",
       "      <td>14.239762</td>\n",
       "      <td>8.634921</td>\n",
       "      <td>107.212460</td>\n",
       "      <td>8.435317</td>\n",
       "      <td>2.228254</td>\n",
       "      <td>2.039683</td>\n",
       "    </tr>\n",
       "  </tbody>\n",
       "</table>\n",
       "</div>"
      ],
      "text/plain": [
       "            store_number  county_number  bottle_vol_ml  state_bottle_cost  \\\n",
       "county                                                                      \n",
       "Winnebago    4308.211640           95.0    1020.238095           9.366085   \n",
       "Winneshiek   4111.560538           96.0    1094.282511          10.114843   \n",
       "Woodbury     3570.356634           97.0     909.838188           9.902505   \n",
       "Worth        4189.059701           98.0    1048.507463           8.988657   \n",
       "Wright       3953.095238           99.0    1014.484127           9.485635   \n",
       "\n",
       "            state_bottle_retail  bottles_sold  sale_dollars  vol_sold_l  \\\n",
       "county                                                                    \n",
       "Winnebago             14.068307      6.571429     83.767249    6.739894   \n",
       "Winneshiek            15.187534      8.686099    116.879776    9.104529   \n",
       "Woodbury              14.872026     11.188997    149.359327   10.233586   \n",
       "Worth                 13.516567      7.194030     90.242537    7.041940   \n",
       "Wright                14.239762      8.634921    107.212460    8.435317   \n",
       "\n",
       "            vol_sold_g     month  \n",
       "county                            \n",
       "Winnebago     1.780794  2.042328  \n",
       "Winneshiek    2.404933  2.008969  \n",
       "Woodbury      2.703773  1.971521  \n",
       "Worth         1.859701  2.119403  \n",
       "Wright        2.228254  2.039683  "
      ]
     },
     "execution_count": 249,
     "metadata": {},
     "output_type": "execute_result"
    }
   ],
   "source": [
    "y1_p1_county_mean_agg.tail()"
   ]
  },
  {
   "cell_type": "code",
   "execution_count": 250,
   "metadata": {
    "collapsed": false,
    "scrolled": true
   },
   "outputs": [
    {
     "data": {
      "text/html": [
       "<div>\n",
       "<table border=\"1\" class=\"dataframe\">\n",
       "  <thead>\n",
       "    <tr style=\"text-align: right;\">\n",
       "      <th></th>\n",
       "      <th>county</th>\n",
       "      <th>store_number</th>\n",
       "      <th>county_number</th>\n",
       "      <th>bottle_vol_ml</th>\n",
       "      <th>state_bottle_cost</th>\n",
       "      <th>state_bottle_retail</th>\n",
       "      <th>bottles_sold</th>\n",
       "      <th>sale_dollars</th>\n",
       "      <th>vol_sold_l</th>\n",
       "      <th>vol_sold_g</th>\n",
       "      <th>month</th>\n",
       "    </tr>\n",
       "  </thead>\n",
       "  <tbody>\n",
       "    <tr>\n",
       "      <th>0</th>\n",
       "      <td>Adair</td>\n",
       "      <td>4198.342342</td>\n",
       "      <td>1.0</td>\n",
       "      <td>924.099099</td>\n",
       "      <td>8.703874</td>\n",
       "      <td>13.063784</td>\n",
       "      <td>9.684685</td>\n",
       "      <td>92.090090</td>\n",
       "      <td>7.338198</td>\n",
       "      <td>1.938378</td>\n",
       "      <td>2.018018</td>\n",
       "    </tr>\n",
       "    <tr>\n",
       "      <th>1</th>\n",
       "      <td>Adams</td>\n",
       "      <td>2327.000000</td>\n",
       "      <td>2.0</td>\n",
       "      <td>987.790698</td>\n",
       "      <td>9.987442</td>\n",
       "      <td>14.982558</td>\n",
       "      <td>4.046512</td>\n",
       "      <td>52.409302</td>\n",
       "      <td>4.262093</td>\n",
       "      <td>1.124419</td>\n",
       "      <td>2.232558</td>\n",
       "    </tr>\n",
       "    <tr>\n",
       "      <th>2</th>\n",
       "      <td>Allamakee</td>\n",
       "      <td>3494.109489</td>\n",
       "      <td>3.0</td>\n",
       "      <td>1120.072993</td>\n",
       "      <td>9.752701</td>\n",
       "      <td>14.655036</td>\n",
       "      <td>8.284672</td>\n",
       "      <td>108.817372</td>\n",
       "      <td>9.085255</td>\n",
       "      <td>2.399781</td>\n",
       "      <td>1.875912</td>\n",
       "    </tr>\n",
       "    <tr>\n",
       "      <th>3</th>\n",
       "      <td>Appanoose</td>\n",
       "      <td>3408.116022</td>\n",
       "      <td>4.0</td>\n",
       "      <td>950.966851</td>\n",
       "      <td>8.652541</td>\n",
       "      <td>12.998232</td>\n",
       "      <td>7.276243</td>\n",
       "      <td>84.133094</td>\n",
       "      <td>6.669337</td>\n",
       "      <td>1.762541</td>\n",
       "      <td>1.988950</td>\n",
       "    </tr>\n",
       "    <tr>\n",
       "      <th>4</th>\n",
       "      <td>Audubon</td>\n",
       "      <td>3747.983607</td>\n",
       "      <td>5.0</td>\n",
       "      <td>1018.442623</td>\n",
       "      <td>8.678033</td>\n",
       "      <td>13.046885</td>\n",
       "      <td>7.131148</td>\n",
       "      <td>90.340164</td>\n",
       "      <td>9.139344</td>\n",
       "      <td>2.415574</td>\n",
       "      <td>2.114754</td>\n",
       "    </tr>\n",
       "    <tr>\n",
       "      <th>5</th>\n",
       "      <td>BELMOND</td>\n",
       "      <td>4247.000000</td>\n",
       "      <td>NaN</td>\n",
       "      <td>1171.875000</td>\n",
       "      <td>9.405313</td>\n",
       "      <td>14.133438</td>\n",
       "      <td>5.468750</td>\n",
       "      <td>72.717188</td>\n",
       "      <td>6.585938</td>\n",
       "      <td>1.738438</td>\n",
       "      <td>2.093750</td>\n",
       "    </tr>\n",
       "    <tr>\n",
       "      <th>6</th>\n",
       "      <td>Benton</td>\n",
       "      <td>4207.354167</td>\n",
       "      <td>6.0</td>\n",
       "      <td>1022.265625</td>\n",
       "      <td>8.938906</td>\n",
       "      <td>13.418750</td>\n",
       "      <td>6.354167</td>\n",
       "      <td>77.407656</td>\n",
       "      <td>6.968177</td>\n",
       "      <td>1.840729</td>\n",
       "      <td>2.130208</td>\n",
       "    </tr>\n",
       "    <tr>\n",
       "      <th>7</th>\n",
       "      <td>Black Hawk</td>\n",
       "      <td>3689.318640</td>\n",
       "      <td>7.0</td>\n",
       "      <td>837.149795</td>\n",
       "      <td>9.169032</td>\n",
       "      <td>13.769096</td>\n",
       "      <td>11.087038</td>\n",
       "      <td>127.331744</td>\n",
       "      <td>8.486089</td>\n",
       "      <td>2.242219</td>\n",
       "      <td>2.031005</td>\n",
       "    </tr>\n",
       "    <tr>\n",
       "      <th>8</th>\n",
       "      <td>Boone</td>\n",
       "      <td>3631.625000</td>\n",
       "      <td>8.0</td>\n",
       "      <td>971.301020</td>\n",
       "      <td>9.212423</td>\n",
       "      <td>13.843699</td>\n",
       "      <td>9.035714</td>\n",
       "      <td>117.872117</td>\n",
       "      <td>9.919668</td>\n",
       "      <td>2.620638</td>\n",
       "      <td>1.943878</td>\n",
       "    </tr>\n",
       "    <tr>\n",
       "      <th>9</th>\n",
       "      <td>Bremer</td>\n",
       "      <td>3560.609091</td>\n",
       "      <td>9.0</td>\n",
       "      <td>996.875000</td>\n",
       "      <td>9.781159</td>\n",
       "      <td>14.695614</td>\n",
       "      <td>7.040909</td>\n",
       "      <td>92.764864</td>\n",
       "      <td>7.357909</td>\n",
       "      <td>1.943909</td>\n",
       "      <td>2.090909</td>\n",
       "    </tr>\n",
       "    <tr>\n",
       "      <th>10</th>\n",
       "      <td>Buchanan</td>\n",
       "      <td>4119.819113</td>\n",
       "      <td>10.0</td>\n",
       "      <td>978.327645</td>\n",
       "      <td>9.600239</td>\n",
       "      <td>14.409795</td>\n",
       "      <td>7.767918</td>\n",
       "      <td>102.110307</td>\n",
       "      <td>7.681638</td>\n",
       "      <td>2.029488</td>\n",
       "      <td>2.054608</td>\n",
       "    </tr>\n",
       "    <tr>\n",
       "      <th>11</th>\n",
       "      <td>Buena Vista</td>\n",
       "      <td>2979.551876</td>\n",
       "      <td>11.0</td>\n",
       "      <td>971.633554</td>\n",
       "      <td>10.845408</td>\n",
       "      <td>16.285695</td>\n",
       "      <td>6.154525</td>\n",
       "      <td>91.703179</td>\n",
       "      <td>6.371810</td>\n",
       "      <td>1.683002</td>\n",
       "      <td>1.982340</td>\n",
       "    </tr>\n",
       "    <tr>\n",
       "      <th>12</th>\n",
       "      <td>Butler</td>\n",
       "      <td>4287.239437</td>\n",
       "      <td>12.0</td>\n",
       "      <td>901.056338</td>\n",
       "      <td>7.688028</td>\n",
       "      <td>11.553239</td>\n",
       "      <td>6.450704</td>\n",
       "      <td>66.119296</td>\n",
       "      <td>5.703803</td>\n",
       "      <td>1.506761</td>\n",
       "      <td>2.028169</td>\n",
       "    </tr>\n",
       "    <tr>\n",
       "      <th>13</th>\n",
       "      <td>Calhoun</td>\n",
       "      <td>4530.733333</td>\n",
       "      <td>13.0</td>\n",
       "      <td>995.000000</td>\n",
       "      <td>7.002933</td>\n",
       "      <td>10.523067</td>\n",
       "      <td>6.920000</td>\n",
       "      <td>70.982533</td>\n",
       "      <td>6.798133</td>\n",
       "      <td>1.796400</td>\n",
       "      <td>2.066667</td>\n",
       "    </tr>\n",
       "    <tr>\n",
       "      <th>14</th>\n",
       "      <td>Carroll</td>\n",
       "      <td>3286.239884</td>\n",
       "      <td>14.0</td>\n",
       "      <td>985.765896</td>\n",
       "      <td>9.755000</td>\n",
       "      <td>14.651734</td>\n",
       "      <td>11.002890</td>\n",
       "      <td>167.362283</td>\n",
       "      <td>12.277370</td>\n",
       "      <td>3.243295</td>\n",
       "      <td>1.945087</td>\n",
       "    </tr>\n",
       "    <tr>\n",
       "      <th>15</th>\n",
       "      <td>Cass</td>\n",
       "      <td>3538.009390</td>\n",
       "      <td>15.0</td>\n",
       "      <td>930.633803</td>\n",
       "      <td>9.469249</td>\n",
       "      <td>14.216854</td>\n",
       "      <td>7.483568</td>\n",
       "      <td>97.546667</td>\n",
       "      <td>6.951549</td>\n",
       "      <td>1.837042</td>\n",
       "      <td>2.136150</td>\n",
       "    </tr>\n",
       "    <tr>\n",
       "      <th>16</th>\n",
       "      <td>Cedar</td>\n",
       "      <td>4455.111732</td>\n",
       "      <td>16.0</td>\n",
       "      <td>929.189944</td>\n",
       "      <td>7.454916</td>\n",
       "      <td>11.221732</td>\n",
       "      <td>5.826816</td>\n",
       "      <td>55.428324</td>\n",
       "      <td>5.098603</td>\n",
       "      <td>1.346592</td>\n",
       "      <td>1.927374</td>\n",
       "    </tr>\n",
       "    <tr>\n",
       "      <th>17</th>\n",
       "      <td>Cerro Gordo</td>\n",
       "      <td>3356.127087</td>\n",
       "      <td>17.0</td>\n",
       "      <td>989.703154</td>\n",
       "      <td>9.664332</td>\n",
       "      <td>14.524045</td>\n",
       "      <td>7.965677</td>\n",
       "      <td>103.245946</td>\n",
       "      <td>8.342468</td>\n",
       "      <td>2.203738</td>\n",
       "      <td>1.976809</td>\n",
       "    </tr>\n",
       "    <tr>\n",
       "      <th>18</th>\n",
       "      <td>Cherokee</td>\n",
       "      <td>3530.165877</td>\n",
       "      <td>18.0</td>\n",
       "      <td>1096.208531</td>\n",
       "      <td>9.952654</td>\n",
       "      <td>14.960284</td>\n",
       "      <td>6.000000</td>\n",
       "      <td>72.338341</td>\n",
       "      <td>6.043649</td>\n",
       "      <td>1.596161</td>\n",
       "      <td>2.014218</td>\n",
       "    </tr>\n",
       "    <tr>\n",
       "      <th>19</th>\n",
       "      <td>Chickasaw</td>\n",
       "      <td>4102.094737</td>\n",
       "      <td>19.0</td>\n",
       "      <td>1197.105263</td>\n",
       "      <td>9.355158</td>\n",
       "      <td>14.061158</td>\n",
       "      <td>8.284211</td>\n",
       "      <td>116.643263</td>\n",
       "      <td>10.288947</td>\n",
       "      <td>2.717474</td>\n",
       "      <td>2.042105</td>\n",
       "    </tr>\n",
       "    <tr>\n",
       "      <th>20</th>\n",
       "      <td>Clarke</td>\n",
       "      <td>3160.328358</td>\n",
       "      <td>20.0</td>\n",
       "      <td>986.567164</td>\n",
       "      <td>9.752015</td>\n",
       "      <td>14.635522</td>\n",
       "      <td>5.970149</td>\n",
       "      <td>85.151119</td>\n",
       "      <td>5.873507</td>\n",
       "      <td>1.551716</td>\n",
       "      <td>2.126866</td>\n",
       "    </tr>\n",
       "    <tr>\n",
       "      <th>21</th>\n",
       "      <td>Clay</td>\n",
       "      <td>3169.267267</td>\n",
       "      <td>21.0</td>\n",
       "      <td>991.066066</td>\n",
       "      <td>9.306066</td>\n",
       "      <td>13.970721</td>\n",
       "      <td>7.360360</td>\n",
       "      <td>93.646126</td>\n",
       "      <td>7.236156</td>\n",
       "      <td>1.911562</td>\n",
       "      <td>2.015015</td>\n",
       "    </tr>\n",
       "    <tr>\n",
       "      <th>22</th>\n",
       "      <td>Clayton</td>\n",
       "      <td>3951.390041</td>\n",
       "      <td>22.0</td>\n",
       "      <td>1094.605809</td>\n",
       "      <td>10.833527</td>\n",
       "      <td>16.270456</td>\n",
       "      <td>4.842324</td>\n",
       "      <td>73.912241</td>\n",
       "      <td>5.460000</td>\n",
       "      <td>1.442324</td>\n",
       "      <td>1.995851</td>\n",
       "    </tr>\n",
       "    <tr>\n",
       "      <th>23</th>\n",
       "      <td>Clinton</td>\n",
       "      <td>3479.455639</td>\n",
       "      <td>23.0</td>\n",
       "      <td>921.390977</td>\n",
       "      <td>8.738466</td>\n",
       "      <td>13.126030</td>\n",
       "      <td>9.610526</td>\n",
       "      <td>112.367068</td>\n",
       "      <td>8.945820</td>\n",
       "      <td>2.363398</td>\n",
       "      <td>1.965414</td>\n",
       "    </tr>\n",
       "    <tr>\n",
       "      <th>24</th>\n",
       "      <td>Crawford</td>\n",
       "      <td>3427.371560</td>\n",
       "      <td>24.0</td>\n",
       "      <td>994.151376</td>\n",
       "      <td>10.039404</td>\n",
       "      <td>15.070780</td>\n",
       "      <td>6.908257</td>\n",
       "      <td>96.612844</td>\n",
       "      <td>6.773119</td>\n",
       "      <td>1.789358</td>\n",
       "      <td>2.045872</td>\n",
       "    </tr>\n",
       "    <tr>\n",
       "      <th>25</th>\n",
       "      <td>Dallas</td>\n",
       "      <td>3475.494141</td>\n",
       "      <td>25.0</td>\n",
       "      <td>951.611328</td>\n",
       "      <td>9.294609</td>\n",
       "      <td>13.965215</td>\n",
       "      <td>11.863281</td>\n",
       "      <td>204.904922</td>\n",
       "      <td>12.196738</td>\n",
       "      <td>3.221660</td>\n",
       "      <td>2.128906</td>\n",
       "    </tr>\n",
       "    <tr>\n",
       "      <th>26</th>\n",
       "      <td>Davis</td>\n",
       "      <td>3013.000000</td>\n",
       "      <td>26.0</td>\n",
       "      <td>1135.714286</td>\n",
       "      <td>9.389143</td>\n",
       "      <td>14.110857</td>\n",
       "      <td>5.542857</td>\n",
       "      <td>61.716286</td>\n",
       "      <td>5.585714</td>\n",
       "      <td>1.474857</td>\n",
       "      <td>2.171429</td>\n",
       "    </tr>\n",
       "    <tr>\n",
       "      <th>27</th>\n",
       "      <td>Decatur</td>\n",
       "      <td>4120.294118</td>\n",
       "      <td>27.0</td>\n",
       "      <td>742.647059</td>\n",
       "      <td>6.682941</td>\n",
       "      <td>10.026765</td>\n",
       "      <td>9.264706</td>\n",
       "      <td>91.643235</td>\n",
       "      <td>6.672941</td>\n",
       "      <td>1.764118</td>\n",
       "      <td>1.529412</td>\n",
       "    </tr>\n",
       "    <tr>\n",
       "      <th>28</th>\n",
       "      <td>Delaware</td>\n",
       "      <td>4636.920354</td>\n",
       "      <td>28.0</td>\n",
       "      <td>1092.477876</td>\n",
       "      <td>10.050619</td>\n",
       "      <td>15.099912</td>\n",
       "      <td>10.663717</td>\n",
       "      <td>145.127257</td>\n",
       "      <td>11.026991</td>\n",
       "      <td>2.913186</td>\n",
       "      <td>2.106195</td>\n",
       "    </tr>\n",
       "    <tr>\n",
       "      <th>29</th>\n",
       "      <td>Des Moines</td>\n",
       "      <td>3715.335435</td>\n",
       "      <td>29.0</td>\n",
       "      <td>943.474149</td>\n",
       "      <td>9.624918</td>\n",
       "      <td>14.460151</td>\n",
       "      <td>9.505675</td>\n",
       "      <td>119.663354</td>\n",
       "      <td>8.623846</td>\n",
       "      <td>2.278411</td>\n",
       "      <td>2.071879</td>\n",
       "    </tr>\n",
       "    <tr>\n",
       "      <th>...</th>\n",
       "      <td>...</td>\n",
       "      <td>...</td>\n",
       "      <td>...</td>\n",
       "      <td>...</td>\n",
       "      <td>...</td>\n",
       "      <td>...</td>\n",
       "      <td>...</td>\n",
       "      <td>...</td>\n",
       "      <td>...</td>\n",
       "      <td>...</td>\n",
       "      <td>...</td>\n",
       "    </tr>\n",
       "    <tr>\n",
       "      <th>70</th>\n",
       "      <td>Muscatine</td>\n",
       "      <td>3626.931034</td>\n",
       "      <td>70.0</td>\n",
       "      <td>898.931034</td>\n",
       "      <td>9.043434</td>\n",
       "      <td>13.584786</td>\n",
       "      <td>6.877241</td>\n",
       "      <td>87.139200</td>\n",
       "      <td>6.456993</td>\n",
       "      <td>1.705959</td>\n",
       "      <td>2.045517</td>\n",
       "    </tr>\n",
       "    <tr>\n",
       "      <th>71</th>\n",
       "      <td>O'Brien</td>\n",
       "      <td>3657.647799</td>\n",
       "      <td>71.0</td>\n",
       "      <td>1024.921384</td>\n",
       "      <td>9.059214</td>\n",
       "      <td>13.609214</td>\n",
       "      <td>6.578616</td>\n",
       "      <td>83.777201</td>\n",
       "      <td>7.467484</td>\n",
       "      <td>1.972390</td>\n",
       "      <td>2.028302</td>\n",
       "    </tr>\n",
       "    <tr>\n",
       "      <th>72</th>\n",
       "      <td>Osceola</td>\n",
       "      <td>4763.488889</td>\n",
       "      <td>72.0</td>\n",
       "      <td>1032.777778</td>\n",
       "      <td>10.729111</td>\n",
       "      <td>16.111222</td>\n",
       "      <td>5.744444</td>\n",
       "      <td>80.263111</td>\n",
       "      <td>5.803667</td>\n",
       "      <td>1.532778</td>\n",
       "      <td>2.300000</td>\n",
       "    </tr>\n",
       "    <tr>\n",
       "      <th>73</th>\n",
       "      <td>Page</td>\n",
       "      <td>2833.335793</td>\n",
       "      <td>73.0</td>\n",
       "      <td>992.343173</td>\n",
       "      <td>9.442841</td>\n",
       "      <td>14.183764</td>\n",
       "      <td>7.553506</td>\n",
       "      <td>103.581845</td>\n",
       "      <td>7.303506</td>\n",
       "      <td>1.928930</td>\n",
       "      <td>2.044280</td>\n",
       "    </tr>\n",
       "    <tr>\n",
       "      <th>74</th>\n",
       "      <td>Palo Alto</td>\n",
       "      <td>4149.608108</td>\n",
       "      <td>74.0</td>\n",
       "      <td>1094.819820</td>\n",
       "      <td>10.100541</td>\n",
       "      <td>15.170315</td>\n",
       "      <td>4.914414</td>\n",
       "      <td>68.113964</td>\n",
       "      <td>5.462928</td>\n",
       "      <td>1.442973</td>\n",
       "      <td>1.977477</td>\n",
       "    </tr>\n",
       "    <tr>\n",
       "      <th>75</th>\n",
       "      <td>Plymouth</td>\n",
       "      <td>3539.656863</td>\n",
       "      <td>75.0</td>\n",
       "      <td>951.879085</td>\n",
       "      <td>9.868595</td>\n",
       "      <td>14.818693</td>\n",
       "      <td>7.352941</td>\n",
       "      <td>98.541601</td>\n",
       "      <td>7.518497</td>\n",
       "      <td>1.986634</td>\n",
       "      <td>2.049020</td>\n",
       "    </tr>\n",
       "    <tr>\n",
       "      <th>76</th>\n",
       "      <td>Pocahontas</td>\n",
       "      <td>4306.261682</td>\n",
       "      <td>76.0</td>\n",
       "      <td>1054.906542</td>\n",
       "      <td>8.989439</td>\n",
       "      <td>13.508318</td>\n",
       "      <td>10.065421</td>\n",
       "      <td>132.460561</td>\n",
       "      <td>13.580467</td>\n",
       "      <td>3.587009</td>\n",
       "      <td>1.971963</td>\n",
       "    </tr>\n",
       "    <tr>\n",
       "      <th>77</th>\n",
       "      <td>Polk</td>\n",
       "      <td>3413.304121</td>\n",
       "      <td>77.0</td>\n",
       "      <td>881.456181</td>\n",
       "      <td>10.091472</td>\n",
       "      <td>15.155814</td>\n",
       "      <td>11.329890</td>\n",
       "      <td>148.880985</td>\n",
       "      <td>9.760684</td>\n",
       "      <td>2.578888</td>\n",
       "      <td>2.044319</td>\n",
       "    </tr>\n",
       "    <tr>\n",
       "      <th>78</th>\n",
       "      <td>Pottawattamie</td>\n",
       "      <td>3668.198037</td>\n",
       "      <td>78.0</td>\n",
       "      <td>864.997113</td>\n",
       "      <td>9.279509</td>\n",
       "      <td>13.935676</td>\n",
       "      <td>10.001155</td>\n",
       "      <td>134.382356</td>\n",
       "      <td>8.838828</td>\n",
       "      <td>2.335514</td>\n",
       "      <td>2.054273</td>\n",
       "    </tr>\n",
       "    <tr>\n",
       "      <th>79</th>\n",
       "      <td>Poweshiek</td>\n",
       "      <td>3751.153614</td>\n",
       "      <td>79.0</td>\n",
       "      <td>992.168675</td>\n",
       "      <td>10.779398</td>\n",
       "      <td>16.190512</td>\n",
       "      <td>6.174699</td>\n",
       "      <td>93.990994</td>\n",
       "      <td>6.253223</td>\n",
       "      <td>1.651355</td>\n",
       "      <td>2.066265</td>\n",
       "    </tr>\n",
       "    <tr>\n",
       "      <th>80</th>\n",
       "      <td>Ringgold</td>\n",
       "      <td>3539.192308</td>\n",
       "      <td>80.0</td>\n",
       "      <td>1221.153846</td>\n",
       "      <td>8.292692</td>\n",
       "      <td>12.446923</td>\n",
       "      <td>7.153846</td>\n",
       "      <td>82.794231</td>\n",
       "      <td>8.221154</td>\n",
       "      <td>2.170000</td>\n",
       "      <td>2.000000</td>\n",
       "    </tr>\n",
       "    <tr>\n",
       "      <th>81</th>\n",
       "      <td>Sac</td>\n",
       "      <td>3206.933775</td>\n",
       "      <td>81.0</td>\n",
       "      <td>1092.880795</td>\n",
       "      <td>10.180596</td>\n",
       "      <td>15.291060</td>\n",
       "      <td>5.516556</td>\n",
       "      <td>69.712914</td>\n",
       "      <td>5.695828</td>\n",
       "      <td>1.504040</td>\n",
       "      <td>1.953642</td>\n",
       "    </tr>\n",
       "    <tr>\n",
       "      <th>82</th>\n",
       "      <td>Scott</td>\n",
       "      <td>3657.063265</td>\n",
       "      <td>82.0</td>\n",
       "      <td>847.397959</td>\n",
       "      <td>9.552272</td>\n",
       "      <td>14.345493</td>\n",
       "      <td>11.889116</td>\n",
       "      <td>142.318119</td>\n",
       "      <td>8.926568</td>\n",
       "      <td>2.358650</td>\n",
       "      <td>2.027211</td>\n",
       "    </tr>\n",
       "    <tr>\n",
       "      <th>83</th>\n",
       "      <td>Shelby</td>\n",
       "      <td>3142.534722</td>\n",
       "      <td>83.0</td>\n",
       "      <td>929.340278</td>\n",
       "      <td>9.205347</td>\n",
       "      <td>13.826875</td>\n",
       "      <td>9.083333</td>\n",
       "      <td>126.089236</td>\n",
       "      <td>8.781736</td>\n",
       "      <td>2.320208</td>\n",
       "      <td>2.090278</td>\n",
       "    </tr>\n",
       "    <tr>\n",
       "      <th>84</th>\n",
       "      <td>Sioux</td>\n",
       "      <td>3700.591270</td>\n",
       "      <td>84.0</td>\n",
       "      <td>994.047619</td>\n",
       "      <td>9.621468</td>\n",
       "      <td>14.447500</td>\n",
       "      <td>8.250000</td>\n",
       "      <td>116.095238</td>\n",
       "      <td>8.073889</td>\n",
       "      <td>2.132897</td>\n",
       "      <td>2.079365</td>\n",
       "    </tr>\n",
       "    <tr>\n",
       "      <th>85</th>\n",
       "      <td>Story</td>\n",
       "      <td>3554.138753</td>\n",
       "      <td>85.0</td>\n",
       "      <td>940.403423</td>\n",
       "      <td>10.155972</td>\n",
       "      <td>15.249407</td>\n",
       "      <td>9.007946</td>\n",
       "      <td>124.163625</td>\n",
       "      <td>8.899028</td>\n",
       "      <td>2.351100</td>\n",
       "      <td>1.995721</td>\n",
       "    </tr>\n",
       "    <tr>\n",
       "      <th>86</th>\n",
       "      <td>Tama</td>\n",
       "      <td>4109.120419</td>\n",
       "      <td>86.0</td>\n",
       "      <td>953.926702</td>\n",
       "      <td>9.036597</td>\n",
       "      <td>13.563508</td>\n",
       "      <td>5.958115</td>\n",
       "      <td>67.868691</td>\n",
       "      <td>5.371257</td>\n",
       "      <td>1.418953</td>\n",
       "      <td>2.104712</td>\n",
       "    </tr>\n",
       "    <tr>\n",
       "      <th>87</th>\n",
       "      <td>Taylor</td>\n",
       "      <td>3372.555556</td>\n",
       "      <td>87.0</td>\n",
       "      <td>981.481481</td>\n",
       "      <td>8.877037</td>\n",
       "      <td>13.329074</td>\n",
       "      <td>4.685185</td>\n",
       "      <td>62.030556</td>\n",
       "      <td>4.967593</td>\n",
       "      <td>1.312963</td>\n",
       "      <td>1.888889</td>\n",
       "    </tr>\n",
       "    <tr>\n",
       "      <th>88</th>\n",
       "      <td>Union</td>\n",
       "      <td>3706.022936</td>\n",
       "      <td>88.0</td>\n",
       "      <td>1029.931193</td>\n",
       "      <td>9.925826</td>\n",
       "      <td>14.902752</td>\n",
       "      <td>7.233945</td>\n",
       "      <td>94.521376</td>\n",
       "      <td>7.165229</td>\n",
       "      <td>1.892615</td>\n",
       "      <td>2.100917</td>\n",
       "    </tr>\n",
       "    <tr>\n",
       "      <th>89</th>\n",
       "      <td>Van Buren</td>\n",
       "      <td>4315.037037</td>\n",
       "      <td>89.0</td>\n",
       "      <td>1022.222222</td>\n",
       "      <td>8.682222</td>\n",
       "      <td>13.030185</td>\n",
       "      <td>6.611111</td>\n",
       "      <td>87.125000</td>\n",
       "      <td>6.914259</td>\n",
       "      <td>1.826111</td>\n",
       "      <td>2.092593</td>\n",
       "    </tr>\n",
       "    <tr>\n",
       "      <th>90</th>\n",
       "      <td>Wapello</td>\n",
       "      <td>3211.245928</td>\n",
       "      <td>90.0</td>\n",
       "      <td>870.806189</td>\n",
       "      <td>9.239316</td>\n",
       "      <td>13.877590</td>\n",
       "      <td>6.789902</td>\n",
       "      <td>88.465130</td>\n",
       "      <td>6.282866</td>\n",
       "      <td>1.660130</td>\n",
       "      <td>2.021173</td>\n",
       "    </tr>\n",
       "    <tr>\n",
       "      <th>91</th>\n",
       "      <td>Warren</td>\n",
       "      <td>3445.555094</td>\n",
       "      <td>91.0</td>\n",
       "      <td>1014.812890</td>\n",
       "      <td>9.455218</td>\n",
       "      <td>14.200187</td>\n",
       "      <td>10.172557</td>\n",
       "      <td>134.014990</td>\n",
       "      <td>11.276071</td>\n",
       "      <td>2.978857</td>\n",
       "      <td>2.041580</td>\n",
       "    </tr>\n",
       "    <tr>\n",
       "      <th>92</th>\n",
       "      <td>Washington</td>\n",
       "      <td>3471.709343</td>\n",
       "      <td>92.0</td>\n",
       "      <td>927.508651</td>\n",
       "      <td>9.891938</td>\n",
       "      <td>14.865536</td>\n",
       "      <td>7.702422</td>\n",
       "      <td>98.509654</td>\n",
       "      <td>7.053356</td>\n",
       "      <td>1.863910</td>\n",
       "      <td>2.093426</td>\n",
       "    </tr>\n",
       "    <tr>\n",
       "      <th>93</th>\n",
       "      <td>Wayne</td>\n",
       "      <td>3031.121212</td>\n",
       "      <td>93.0</td>\n",
       "      <td>1242.424242</td>\n",
       "      <td>9.602727</td>\n",
       "      <td>14.454545</td>\n",
       "      <td>6.757576</td>\n",
       "      <td>73.066970</td>\n",
       "      <td>7.318182</td>\n",
       "      <td>1.932727</td>\n",
       "      <td>1.909091</td>\n",
       "    </tr>\n",
       "    <tr>\n",
       "      <th>94</th>\n",
       "      <td>Webster</td>\n",
       "      <td>3509.229965</td>\n",
       "      <td>94.0</td>\n",
       "      <td>965.418118</td>\n",
       "      <td>9.870627</td>\n",
       "      <td>14.830418</td>\n",
       "      <td>10.033101</td>\n",
       "      <td>134.850261</td>\n",
       "      <td>9.415122</td>\n",
       "      <td>2.487282</td>\n",
       "      <td>2.102787</td>\n",
       "    </tr>\n",
       "    <tr>\n",
       "      <th>95</th>\n",
       "      <td>Winnebago</td>\n",
       "      <td>4308.211640</td>\n",
       "      <td>95.0</td>\n",
       "      <td>1020.238095</td>\n",
       "      <td>9.366085</td>\n",
       "      <td>14.068307</td>\n",
       "      <td>6.571429</td>\n",
       "      <td>83.767249</td>\n",
       "      <td>6.739894</td>\n",
       "      <td>1.780794</td>\n",
       "      <td>2.042328</td>\n",
       "    </tr>\n",
       "    <tr>\n",
       "      <th>96</th>\n",
       "      <td>Winneshiek</td>\n",
       "      <td>4111.560538</td>\n",
       "      <td>96.0</td>\n",
       "      <td>1094.282511</td>\n",
       "      <td>10.114843</td>\n",
       "      <td>15.187534</td>\n",
       "      <td>8.686099</td>\n",
       "      <td>116.879776</td>\n",
       "      <td>9.104529</td>\n",
       "      <td>2.404933</td>\n",
       "      <td>2.008969</td>\n",
       "    </tr>\n",
       "    <tr>\n",
       "      <th>97</th>\n",
       "      <td>Woodbury</td>\n",
       "      <td>3570.356634</td>\n",
       "      <td>97.0</td>\n",
       "      <td>909.838188</td>\n",
       "      <td>9.902505</td>\n",
       "      <td>14.872026</td>\n",
       "      <td>11.188997</td>\n",
       "      <td>149.359327</td>\n",
       "      <td>10.233586</td>\n",
       "      <td>2.703773</td>\n",
       "      <td>1.971521</td>\n",
       "    </tr>\n",
       "    <tr>\n",
       "      <th>98</th>\n",
       "      <td>Worth</td>\n",
       "      <td>4189.059701</td>\n",
       "      <td>98.0</td>\n",
       "      <td>1048.507463</td>\n",
       "      <td>8.988657</td>\n",
       "      <td>13.516567</td>\n",
       "      <td>7.194030</td>\n",
       "      <td>90.242537</td>\n",
       "      <td>7.041940</td>\n",
       "      <td>1.859701</td>\n",
       "      <td>2.119403</td>\n",
       "    </tr>\n",
       "    <tr>\n",
       "      <th>99</th>\n",
       "      <td>Wright</td>\n",
       "      <td>3953.095238</td>\n",
       "      <td>99.0</td>\n",
       "      <td>1014.484127</td>\n",
       "      <td>9.485635</td>\n",
       "      <td>14.239762</td>\n",
       "      <td>8.634921</td>\n",
       "      <td>107.212460</td>\n",
       "      <td>8.435317</td>\n",
       "      <td>2.228254</td>\n",
       "      <td>2.039683</td>\n",
       "    </tr>\n",
       "  </tbody>\n",
       "</table>\n",
       "<p>100 rows × 11 columns</p>\n",
       "</div>"
      ],
      "text/plain": [
       "           county  store_number  county_number  bottle_vol_ml  \\\n",
       "0           Adair   4198.342342            1.0     924.099099   \n",
       "1           Adams   2327.000000            2.0     987.790698   \n",
       "2       Allamakee   3494.109489            3.0    1120.072993   \n",
       "3       Appanoose   3408.116022            4.0     950.966851   \n",
       "4         Audubon   3747.983607            5.0    1018.442623   \n",
       "5         BELMOND   4247.000000            NaN    1171.875000   \n",
       "6          Benton   4207.354167            6.0    1022.265625   \n",
       "7      Black Hawk   3689.318640            7.0     837.149795   \n",
       "8           Boone   3631.625000            8.0     971.301020   \n",
       "9          Bremer   3560.609091            9.0     996.875000   \n",
       "10       Buchanan   4119.819113           10.0     978.327645   \n",
       "11    Buena Vista   2979.551876           11.0     971.633554   \n",
       "12         Butler   4287.239437           12.0     901.056338   \n",
       "13        Calhoun   4530.733333           13.0     995.000000   \n",
       "14        Carroll   3286.239884           14.0     985.765896   \n",
       "15           Cass   3538.009390           15.0     930.633803   \n",
       "16          Cedar   4455.111732           16.0     929.189944   \n",
       "17    Cerro Gordo   3356.127087           17.0     989.703154   \n",
       "18       Cherokee   3530.165877           18.0    1096.208531   \n",
       "19      Chickasaw   4102.094737           19.0    1197.105263   \n",
       "20         Clarke   3160.328358           20.0     986.567164   \n",
       "21           Clay   3169.267267           21.0     991.066066   \n",
       "22        Clayton   3951.390041           22.0    1094.605809   \n",
       "23        Clinton   3479.455639           23.0     921.390977   \n",
       "24       Crawford   3427.371560           24.0     994.151376   \n",
       "25         Dallas   3475.494141           25.0     951.611328   \n",
       "26          Davis   3013.000000           26.0    1135.714286   \n",
       "27        Decatur   4120.294118           27.0     742.647059   \n",
       "28       Delaware   4636.920354           28.0    1092.477876   \n",
       "29     Des Moines   3715.335435           29.0     943.474149   \n",
       "..            ...           ...            ...            ...   \n",
       "70      Muscatine   3626.931034           70.0     898.931034   \n",
       "71        O'Brien   3657.647799           71.0    1024.921384   \n",
       "72        Osceola   4763.488889           72.0    1032.777778   \n",
       "73           Page   2833.335793           73.0     992.343173   \n",
       "74      Palo Alto   4149.608108           74.0    1094.819820   \n",
       "75       Plymouth   3539.656863           75.0     951.879085   \n",
       "76     Pocahontas   4306.261682           76.0    1054.906542   \n",
       "77           Polk   3413.304121           77.0     881.456181   \n",
       "78  Pottawattamie   3668.198037           78.0     864.997113   \n",
       "79      Poweshiek   3751.153614           79.0     992.168675   \n",
       "80       Ringgold   3539.192308           80.0    1221.153846   \n",
       "81            Sac   3206.933775           81.0    1092.880795   \n",
       "82          Scott   3657.063265           82.0     847.397959   \n",
       "83         Shelby   3142.534722           83.0     929.340278   \n",
       "84          Sioux   3700.591270           84.0     994.047619   \n",
       "85          Story   3554.138753           85.0     940.403423   \n",
       "86           Tama   4109.120419           86.0     953.926702   \n",
       "87         Taylor   3372.555556           87.0     981.481481   \n",
       "88          Union   3706.022936           88.0    1029.931193   \n",
       "89      Van Buren   4315.037037           89.0    1022.222222   \n",
       "90        Wapello   3211.245928           90.0     870.806189   \n",
       "91         Warren   3445.555094           91.0    1014.812890   \n",
       "92     Washington   3471.709343           92.0     927.508651   \n",
       "93          Wayne   3031.121212           93.0    1242.424242   \n",
       "94        Webster   3509.229965           94.0     965.418118   \n",
       "95      Winnebago   4308.211640           95.0    1020.238095   \n",
       "96     Winneshiek   4111.560538           96.0    1094.282511   \n",
       "97       Woodbury   3570.356634           97.0     909.838188   \n",
       "98          Worth   4189.059701           98.0    1048.507463   \n",
       "99         Wright   3953.095238           99.0    1014.484127   \n",
       "\n",
       "    state_bottle_cost  state_bottle_retail  bottles_sold  sale_dollars  \\\n",
       "0            8.703874            13.063784      9.684685     92.090090   \n",
       "1            9.987442            14.982558      4.046512     52.409302   \n",
       "2            9.752701            14.655036      8.284672    108.817372   \n",
       "3            8.652541            12.998232      7.276243     84.133094   \n",
       "4            8.678033            13.046885      7.131148     90.340164   \n",
       "5            9.405313            14.133438      5.468750     72.717188   \n",
       "6            8.938906            13.418750      6.354167     77.407656   \n",
       "7            9.169032            13.769096     11.087038    127.331744   \n",
       "8            9.212423            13.843699      9.035714    117.872117   \n",
       "9            9.781159            14.695614      7.040909     92.764864   \n",
       "10           9.600239            14.409795      7.767918    102.110307   \n",
       "11          10.845408            16.285695      6.154525     91.703179   \n",
       "12           7.688028            11.553239      6.450704     66.119296   \n",
       "13           7.002933            10.523067      6.920000     70.982533   \n",
       "14           9.755000            14.651734     11.002890    167.362283   \n",
       "15           9.469249            14.216854      7.483568     97.546667   \n",
       "16           7.454916            11.221732      5.826816     55.428324   \n",
       "17           9.664332            14.524045      7.965677    103.245946   \n",
       "18           9.952654            14.960284      6.000000     72.338341   \n",
       "19           9.355158            14.061158      8.284211    116.643263   \n",
       "20           9.752015            14.635522      5.970149     85.151119   \n",
       "21           9.306066            13.970721      7.360360     93.646126   \n",
       "22          10.833527            16.270456      4.842324     73.912241   \n",
       "23           8.738466            13.126030      9.610526    112.367068   \n",
       "24          10.039404            15.070780      6.908257     96.612844   \n",
       "25           9.294609            13.965215     11.863281    204.904922   \n",
       "26           9.389143            14.110857      5.542857     61.716286   \n",
       "27           6.682941            10.026765      9.264706     91.643235   \n",
       "28          10.050619            15.099912     10.663717    145.127257   \n",
       "29           9.624918            14.460151      9.505675    119.663354   \n",
       "..                ...                  ...           ...           ...   \n",
       "70           9.043434            13.584786      6.877241     87.139200   \n",
       "71           9.059214            13.609214      6.578616     83.777201   \n",
       "72          10.729111            16.111222      5.744444     80.263111   \n",
       "73           9.442841            14.183764      7.553506    103.581845   \n",
       "74          10.100541            15.170315      4.914414     68.113964   \n",
       "75           9.868595            14.818693      7.352941     98.541601   \n",
       "76           8.989439            13.508318     10.065421    132.460561   \n",
       "77          10.091472            15.155814     11.329890    148.880985   \n",
       "78           9.279509            13.935676     10.001155    134.382356   \n",
       "79          10.779398            16.190512      6.174699     93.990994   \n",
       "80           8.292692            12.446923      7.153846     82.794231   \n",
       "81          10.180596            15.291060      5.516556     69.712914   \n",
       "82           9.552272            14.345493     11.889116    142.318119   \n",
       "83           9.205347            13.826875      9.083333    126.089236   \n",
       "84           9.621468            14.447500      8.250000    116.095238   \n",
       "85          10.155972            15.249407      9.007946    124.163625   \n",
       "86           9.036597            13.563508      5.958115     67.868691   \n",
       "87           8.877037            13.329074      4.685185     62.030556   \n",
       "88           9.925826            14.902752      7.233945     94.521376   \n",
       "89           8.682222            13.030185      6.611111     87.125000   \n",
       "90           9.239316            13.877590      6.789902     88.465130   \n",
       "91           9.455218            14.200187     10.172557    134.014990   \n",
       "92           9.891938            14.865536      7.702422     98.509654   \n",
       "93           9.602727            14.454545      6.757576     73.066970   \n",
       "94           9.870627            14.830418     10.033101    134.850261   \n",
       "95           9.366085            14.068307      6.571429     83.767249   \n",
       "96          10.114843            15.187534      8.686099    116.879776   \n",
       "97           9.902505            14.872026     11.188997    149.359327   \n",
       "98           8.988657            13.516567      7.194030     90.242537   \n",
       "99           9.485635            14.239762      8.634921    107.212460   \n",
       "\n",
       "    vol_sold_l  vol_sold_g     month  \n",
       "0     7.338198    1.938378  2.018018  \n",
       "1     4.262093    1.124419  2.232558  \n",
       "2     9.085255    2.399781  1.875912  \n",
       "3     6.669337    1.762541  1.988950  \n",
       "4     9.139344    2.415574  2.114754  \n",
       "5     6.585938    1.738438  2.093750  \n",
       "6     6.968177    1.840729  2.130208  \n",
       "7     8.486089    2.242219  2.031005  \n",
       "8     9.919668    2.620638  1.943878  \n",
       "9     7.357909    1.943909  2.090909  \n",
       "10    7.681638    2.029488  2.054608  \n",
       "11    6.371810    1.683002  1.982340  \n",
       "12    5.703803    1.506761  2.028169  \n",
       "13    6.798133    1.796400  2.066667  \n",
       "14   12.277370    3.243295  1.945087  \n",
       "15    6.951549    1.837042  2.136150  \n",
       "16    5.098603    1.346592  1.927374  \n",
       "17    8.342468    2.203738  1.976809  \n",
       "18    6.043649    1.596161  2.014218  \n",
       "19   10.288947    2.717474  2.042105  \n",
       "20    5.873507    1.551716  2.126866  \n",
       "21    7.236156    1.911562  2.015015  \n",
       "22    5.460000    1.442324  1.995851  \n",
       "23    8.945820    2.363398  1.965414  \n",
       "24    6.773119    1.789358  2.045872  \n",
       "25   12.196738    3.221660  2.128906  \n",
       "26    5.585714    1.474857  2.171429  \n",
       "27    6.672941    1.764118  1.529412  \n",
       "28   11.026991    2.913186  2.106195  \n",
       "29    8.623846    2.278411  2.071879  \n",
       "..         ...         ...       ...  \n",
       "70    6.456993    1.705959  2.045517  \n",
       "71    7.467484    1.972390  2.028302  \n",
       "72    5.803667    1.532778  2.300000  \n",
       "73    7.303506    1.928930  2.044280  \n",
       "74    5.462928    1.442973  1.977477  \n",
       "75    7.518497    1.986634  2.049020  \n",
       "76   13.580467    3.587009  1.971963  \n",
       "77    9.760684    2.578888  2.044319  \n",
       "78    8.838828    2.335514  2.054273  \n",
       "79    6.253223    1.651355  2.066265  \n",
       "80    8.221154    2.170000  2.000000  \n",
       "81    5.695828    1.504040  1.953642  \n",
       "82    8.926568    2.358650  2.027211  \n",
       "83    8.781736    2.320208  2.090278  \n",
       "84    8.073889    2.132897  2.079365  \n",
       "85    8.899028    2.351100  1.995721  \n",
       "86    5.371257    1.418953  2.104712  \n",
       "87    4.967593    1.312963  1.888889  \n",
       "88    7.165229    1.892615  2.100917  \n",
       "89    6.914259    1.826111  2.092593  \n",
       "90    6.282866    1.660130  2.021173  \n",
       "91   11.276071    2.978857  2.041580  \n",
       "92    7.053356    1.863910  2.093426  \n",
       "93    7.318182    1.932727  1.909091  \n",
       "94    9.415122    2.487282  2.102787  \n",
       "95    6.739894    1.780794  2.042328  \n",
       "96    9.104529    2.404933  2.008969  \n",
       "97   10.233586    2.703773  1.971521  \n",
       "98    7.041940    1.859701  2.119403  \n",
       "99    8.435317    2.228254  2.039683  \n",
       "\n",
       "[100 rows x 11 columns]"
      ]
     },
     "execution_count": 250,
     "metadata": {},
     "output_type": "execute_result"
    }
   ],
   "source": [
    "y1_p1_county_mean_agg.reset_index()"
   ]
  },
  {
   "cell_type": "code",
   "execution_count": 251,
   "metadata": {
    "collapsed": false
   },
   "outputs": [],
   "source": [
    "y1_p1_county_mean_agg = y1_p1_county_mean_agg.drop(y1_p1_county_mean_agg.columns[[1,2,9]], axis=1)"
   ]
  },
  {
   "cell_type": "code",
   "execution_count": 252,
   "metadata": {
    "collapsed": false,
    "scrolled": true
   },
   "outputs": [
    {
     "data": {
      "text/html": [
       "<div>\n",
       "<table border=\"1\" class=\"dataframe\">\n",
       "  <thead>\n",
       "    <tr style=\"text-align: right;\">\n",
       "      <th></th>\n",
       "      <th>store_number</th>\n",
       "      <th>state_bottle_cost</th>\n",
       "      <th>state_bottle_retail</th>\n",
       "      <th>bottles_sold</th>\n",
       "      <th>sale_dollars</th>\n",
       "      <th>vol_sold_l</th>\n",
       "      <th>vol_sold_g</th>\n",
       "    </tr>\n",
       "    <tr>\n",
       "      <th>county</th>\n",
       "      <th></th>\n",
       "      <th></th>\n",
       "      <th></th>\n",
       "      <th></th>\n",
       "      <th></th>\n",
       "      <th></th>\n",
       "      <th></th>\n",
       "    </tr>\n",
       "  </thead>\n",
       "  <tbody>\n",
       "    <tr>\n",
       "      <th>Adair</th>\n",
       "      <td>4198.342342</td>\n",
       "      <td>8.703874</td>\n",
       "      <td>13.063784</td>\n",
       "      <td>9.684685</td>\n",
       "      <td>92.090090</td>\n",
       "      <td>7.338198</td>\n",
       "      <td>1.938378</td>\n",
       "    </tr>\n",
       "    <tr>\n",
       "      <th>Adams</th>\n",
       "      <td>2327.000000</td>\n",
       "      <td>9.987442</td>\n",
       "      <td>14.982558</td>\n",
       "      <td>4.046512</td>\n",
       "      <td>52.409302</td>\n",
       "      <td>4.262093</td>\n",
       "      <td>1.124419</td>\n",
       "    </tr>\n",
       "    <tr>\n",
       "      <th>Allamakee</th>\n",
       "      <td>3494.109489</td>\n",
       "      <td>9.752701</td>\n",
       "      <td>14.655036</td>\n",
       "      <td>8.284672</td>\n",
       "      <td>108.817372</td>\n",
       "      <td>9.085255</td>\n",
       "      <td>2.399781</td>\n",
       "    </tr>\n",
       "    <tr>\n",
       "      <th>Appanoose</th>\n",
       "      <td>3408.116022</td>\n",
       "      <td>8.652541</td>\n",
       "      <td>12.998232</td>\n",
       "      <td>7.276243</td>\n",
       "      <td>84.133094</td>\n",
       "      <td>6.669337</td>\n",
       "      <td>1.762541</td>\n",
       "    </tr>\n",
       "    <tr>\n",
       "      <th>Audubon</th>\n",
       "      <td>3747.983607</td>\n",
       "      <td>8.678033</td>\n",
       "      <td>13.046885</td>\n",
       "      <td>7.131148</td>\n",
       "      <td>90.340164</td>\n",
       "      <td>9.139344</td>\n",
       "      <td>2.415574</td>\n",
       "    </tr>\n",
       "  </tbody>\n",
       "</table>\n",
       "</div>"
      ],
      "text/plain": [
       "           store_number  state_bottle_cost  state_bottle_retail  bottles_sold  \\\n",
       "county                                                                          \n",
       "Adair       4198.342342           8.703874            13.063784      9.684685   \n",
       "Adams       2327.000000           9.987442            14.982558      4.046512   \n",
       "Allamakee   3494.109489           9.752701            14.655036      8.284672   \n",
       "Appanoose   3408.116022           8.652541            12.998232      7.276243   \n",
       "Audubon     3747.983607           8.678033            13.046885      7.131148   \n",
       "\n",
       "           sale_dollars  vol_sold_l  vol_sold_g  \n",
       "county                                           \n",
       "Adair         92.090090    7.338198    1.938378  \n",
       "Adams         52.409302    4.262093    1.124419  \n",
       "Allamakee    108.817372    9.085255    2.399781  \n",
       "Appanoose     84.133094    6.669337    1.762541  \n",
       "Audubon       90.340164    9.139344    2.415574  "
      ]
     },
     "execution_count": 252,
     "metadata": {},
     "output_type": "execute_result"
    }
   ],
   "source": [
    "y1_p1_county_mean_agg.head()"
   ]
  },
  {
   "cell_type": "code",
   "execution_count": 253,
   "metadata": {
    "collapsed": false
   },
   "outputs": [
    {
     "data": {
      "image/png": "[encoded data removed]",
      "text/plain": [
       "<matplotlib.figure.Figure at 0x122776b50>"
      ]
     },
     "metadata": {},
     "output_type": "display_data"
    }
   ],
   "source": [
    "#Distribution of total sale dollars.\n",
    "total_sales_dist_for_2015_p1 = sns.distplot(y1_p1_county_sum_agg['sale_dollars'], kde=False)\n",
    "plt.show()"
   ]
  },
  {
   "cell_type": "code",
   "execution_count": 254,
   "metadata": {
    "collapsed": false
   },
   "outputs": [
    {
     "data": {
      "image/png": "[encoded data removed]",
      "text/plain": [
       "<matplotlib.figure.Figure at 0x12276b250>"
      ]
     },
     "metadata": {},
     "output_type": "display_data"
    }
   ],
   "source": [
    "#Distribution of mean sale dollars. \n",
    "sales_dist_for_2015_p1 = sns.distplot(y1_p1_county_mean_agg['sale_dollars'], kde=False)\n",
    "plt.show()"
   ]
  },
  {
   "cell_type": "code",
   "execution_count": 255,
   "metadata": {
    "collapsed": false,
    "scrolled": false
   },
   "outputs": [
    {
     "data": {
      "image/png": "[encoded data removed]",
      "text/plain": [
       "<matplotlib.figure.Figure at 0x11e387450>"
      ]
     },
     "metadata": {},
     "output_type": "display_data"
    }
   ],
   "source": [
    "total_retail_dist_for_2015_p1 = sns.distplot(y1_p1_county_sum_agg['state_bottle_retail'], kde=False)\n",
    "plt.show()"
   ]
  },
  {
   "cell_type": "code",
   "execution_count": 256,
   "metadata": {
    "collapsed": false
   },
   "outputs": [
    {
     "data": {
      "image/png": "[encoded data removed]",
      "text/plain": [
       "<matplotlib.figure.Figure at 0x11af5e550>"
      ]
     },
     "metadata": {},
     "output_type": "display_data"
    }
   ],
   "source": [
    "retail_dist_for_2015_p1 = sns.distplot(y1_p1_county_mean_agg['state_bottle_retail'], kde=False)\n",
    "plt.show()"
   ]
  },
  {
   "cell_type": "code",
   "execution_count": 257,
   "metadata": {
    "collapsed": true
   },
   "outputs": [],
   "source": [
    "y2_iowadf = iowadf[iowadf.year == 2016]"
   ]
  },
  {
   "cell_type": "code",
   "execution_count": 258,
   "metadata": {
    "collapsed": false,
    "scrolled": true
   },
   "outputs": [
    {
     "data": {
      "text/html": [
       "<div>\n",
       "<table border=\"1\" class=\"dataframe\">\n",
       "  <thead>\n",
       "    <tr style=\"text-align: right;\">\n",
       "      <th></th>\n",
       "      <th>date</th>\n",
       "      <th>store_number</th>\n",
       "      <th>city</th>\n",
       "      <th>zip_code</th>\n",
       "      <th>county_number</th>\n",
       "      <th>county</th>\n",
       "      <th>category</th>\n",
       "      <th>category_name</th>\n",
       "      <th>vendor_number</th>\n",
       "      <th>item_number</th>\n",
       "      <th>item_description</th>\n",
       "      <th>bottle_vol_ml</th>\n",
       "      <th>state_bottle_cost</th>\n",
       "      <th>state_bottle_retail</th>\n",
       "      <th>bottles_sold</th>\n",
       "      <th>sale_dollars</th>\n",
       "      <th>vol_sold_l</th>\n",
       "      <th>vol_sold_g</th>\n",
       "      <th>year</th>\n",
       "      <th>month</th>\n",
       "    </tr>\n",
       "  </thead>\n",
       "  <tbody>\n",
       "    <tr>\n",
       "      <th>1</th>\n",
       "      <td>2016-03-02</td>\n",
       "      <td>2614</td>\n",
       "      <td>DAVENPORT</td>\n",
       "      <td>52807</td>\n",
       "      <td>82.0</td>\n",
       "      <td>Scott</td>\n",
       "      <td>1011100.0</td>\n",
       "      <td>BLENDED WHISKIES</td>\n",
       "      <td>395</td>\n",
       "      <td>27605</td>\n",
       "      <td>Tin Cup</td>\n",
       "      <td>750</td>\n",
       "      <td>13.75</td>\n",
       "      <td>20.63</td>\n",
       "      <td>2</td>\n",
       "      <td>41.26</td>\n",
       "      <td>1.5</td>\n",
       "      <td>0.40</td>\n",
       "      <td>2016</td>\n",
       "      <td>3</td>\n",
       "    </tr>\n",
       "    <tr>\n",
       "      <th>2</th>\n",
       "      <td>2016-02-11</td>\n",
       "      <td>2106</td>\n",
       "      <td>CEDAR FALLS</td>\n",
       "      <td>50613</td>\n",
       "      <td>7.0</td>\n",
       "      <td>Black Hawk</td>\n",
       "      <td>1011200.0</td>\n",
       "      <td>STRAIGHT BOURBON WHISKIES</td>\n",
       "      <td>65</td>\n",
       "      <td>19067</td>\n",
       "      <td>Jim Beam</td>\n",
       "      <td>1000</td>\n",
       "      <td>12.59</td>\n",
       "      <td>18.89</td>\n",
       "      <td>24</td>\n",
       "      <td>453.36</td>\n",
       "      <td>24.0</td>\n",
       "      <td>6.34</td>\n",
       "      <td>2016</td>\n",
       "      <td>2</td>\n",
       "    </tr>\n",
       "    <tr>\n",
       "      <th>3</th>\n",
       "      <td>2016-02-03</td>\n",
       "      <td>2501</td>\n",
       "      <td>AMES</td>\n",
       "      <td>50010</td>\n",
       "      <td>85.0</td>\n",
       "      <td>Story</td>\n",
       "      <td>1071100.0</td>\n",
       "      <td>AMERICAN COCKTAILS</td>\n",
       "      <td>395</td>\n",
       "      <td>59154</td>\n",
       "      <td>1800 Ultimate Margarita</td>\n",
       "      <td>1750</td>\n",
       "      <td>9.50</td>\n",
       "      <td>14.25</td>\n",
       "      <td>6</td>\n",
       "      <td>85.50</td>\n",
       "      <td>10.5</td>\n",
       "      <td>2.77</td>\n",
       "      <td>2016</td>\n",
       "      <td>2</td>\n",
       "    </tr>\n",
       "    <tr>\n",
       "      <th>8</th>\n",
       "      <td>2016-01-04</td>\n",
       "      <td>4757</td>\n",
       "      <td>BONDURANT</td>\n",
       "      <td>50035</td>\n",
       "      <td>77.0</td>\n",
       "      <td>Polk</td>\n",
       "      <td>1032080.0</td>\n",
       "      <td>IMPORTED VODKA</td>\n",
       "      <td>370</td>\n",
       "      <td>34006</td>\n",
       "      <td>Absolut Swedish Vodka 80 Prf</td>\n",
       "      <td>750</td>\n",
       "      <td>11.49</td>\n",
       "      <td>17.24</td>\n",
       "      <td>4</td>\n",
       "      <td>68.96</td>\n",
       "      <td>3.0</td>\n",
       "      <td>0.79</td>\n",
       "      <td>2016</td>\n",
       "      <td>1</td>\n",
       "    </tr>\n",
       "    <tr>\n",
       "      <th>13</th>\n",
       "      <td>2016-02-29</td>\n",
       "      <td>4673</td>\n",
       "      <td>WEST POINT</td>\n",
       "      <td>52656</td>\n",
       "      <td>56.0</td>\n",
       "      <td>Lee</td>\n",
       "      <td>1081300.0</td>\n",
       "      <td>PEPPERMINT SCHNAPPS</td>\n",
       "      <td>322</td>\n",
       "      <td>75211</td>\n",
       "      <td>Kinky Liqueur</td>\n",
       "      <td>750</td>\n",
       "      <td>10.00</td>\n",
       "      <td>15.00</td>\n",
       "      <td>12</td>\n",
       "      <td>180.00</td>\n",
       "      <td>9.0</td>\n",
       "      <td>2.38</td>\n",
       "      <td>2016</td>\n",
       "      <td>2</td>\n",
       "    </tr>\n",
       "  </tbody>\n",
       "</table>\n",
       "</div>"
      ],
      "text/plain": [
       "         date  store_number         city zip_code  county_number      county  \\\n",
       "1  2016-03-02          2614    DAVENPORT    52807           82.0       Scott   \n",
       "2  2016-02-11          2106  CEDAR FALLS    50613            7.0  Black Hawk   \n",
       "3  2016-02-03          2501         AMES    50010           85.0       Story   \n",
       "8  2016-01-04          4757    BONDURANT    50035           77.0        Polk   \n",
       "13 2016-02-29          4673   WEST POINT    52656           56.0         Lee   \n",
       "\n",
       "     category              category_name  vendor_number  item_number  \\\n",
       "1   1011100.0           BLENDED WHISKIES            395        27605   \n",
       "2   1011200.0  STRAIGHT BOURBON WHISKIES             65        19067   \n",
       "3   1071100.0         AMERICAN COCKTAILS            395        59154   \n",
       "8   1032080.0             IMPORTED VODKA            370        34006   \n",
       "13  1081300.0        PEPPERMINT SCHNAPPS            322        75211   \n",
       "\n",
       "                item_description  bottle_vol_ml  state_bottle_cost  \\\n",
       "1                        Tin Cup            750              13.75   \n",
       "2                       Jim Beam           1000              12.59   \n",
       "3        1800 Ultimate Margarita           1750               9.50   \n",
       "8   Absolut Swedish Vodka 80 Prf            750              11.49   \n",
       "13                 Kinky Liqueur            750              10.00   \n",
       "\n",
       "    state_bottle_retail  bottles_sold  sale_dollars  vol_sold_l  vol_sold_g  \\\n",
       "1                 20.63             2         41.26         1.5        0.40   \n",
       "2                 18.89            24        453.36        24.0        6.34   \n",
       "3                 14.25             6         85.50        10.5        2.77   \n",
       "8                 17.24             4         68.96         3.0        0.79   \n",
       "13                15.00            12        180.00         9.0        2.38   \n",
       "\n",
       "    year  month  \n",
       "1   2016      3  \n",
       "2   2016      2  \n",
       "3   2016      2  \n",
       "8   2016      1  \n",
       "13  2016      2  "
      ]
     },
     "execution_count": 258,
     "metadata": {},
     "output_type": "execute_result"
    }
   ],
   "source": [
    "y2_iowadf.head()"
   ]
  },
  {
   "cell_type": "code",
   "execution_count": 259,
   "metadata": {
    "collapsed": true
   },
   "outputs": [],
   "source": [
    "y2_iowadf = y2_iowadf.drop(y2_iowadf.columns[[0,1,2,3,4,6,7,8,9,17]], axis=1)"
   ]
  },
  {
   "cell_type": "code",
   "execution_count": 260,
   "metadata": {
    "collapsed": false,
    "scrolled": false
   },
   "outputs": [
    {
     "data": {
      "text/html": [
       "<div>\n",
       "<table border=\"1\" class=\"dataframe\">\n",
       "  <thead>\n",
       "    <tr style=\"text-align: right;\">\n",
       "      <th></th>\n",
       "      <th>county</th>\n",
       "      <th>item_description</th>\n",
       "      <th>bottle_vol_ml</th>\n",
       "      <th>state_bottle_cost</th>\n",
       "      <th>state_bottle_retail</th>\n",
       "      <th>bottles_sold</th>\n",
       "      <th>sale_dollars</th>\n",
       "      <th>vol_sold_l</th>\n",
       "      <th>year</th>\n",
       "      <th>month</th>\n",
       "    </tr>\n",
       "  </thead>\n",
       "  <tbody>\n",
       "    <tr>\n",
       "      <th>1</th>\n",
       "      <td>Scott</td>\n",
       "      <td>Tin Cup</td>\n",
       "      <td>750</td>\n",
       "      <td>13.75</td>\n",
       "      <td>20.63</td>\n",
       "      <td>2</td>\n",
       "      <td>41.26</td>\n",
       "      <td>1.5</td>\n",
       "      <td>2016</td>\n",
       "      <td>3</td>\n",
       "    </tr>\n",
       "    <tr>\n",
       "      <th>2</th>\n",
       "      <td>Black Hawk</td>\n",
       "      <td>Jim Beam</td>\n",
       "      <td>1000</td>\n",
       "      <td>12.59</td>\n",
       "      <td>18.89</td>\n",
       "      <td>24</td>\n",
       "      <td>453.36</td>\n",
       "      <td>24.0</td>\n",
       "      <td>2016</td>\n",
       "      <td>2</td>\n",
       "    </tr>\n",
       "    <tr>\n",
       "      <th>3</th>\n",
       "      <td>Story</td>\n",
       "      <td>1800 Ultimate Margarita</td>\n",
       "      <td>1750</td>\n",
       "      <td>9.50</td>\n",
       "      <td>14.25</td>\n",
       "      <td>6</td>\n",
       "      <td>85.50</td>\n",
       "      <td>10.5</td>\n",
       "      <td>2016</td>\n",
       "      <td>2</td>\n",
       "    </tr>\n",
       "    <tr>\n",
       "      <th>8</th>\n",
       "      <td>Polk</td>\n",
       "      <td>Absolut Swedish Vodka 80 Prf</td>\n",
       "      <td>750</td>\n",
       "      <td>11.49</td>\n",
       "      <td>17.24</td>\n",
       "      <td>4</td>\n",
       "      <td>68.96</td>\n",
       "      <td>3.0</td>\n",
       "      <td>2016</td>\n",
       "      <td>1</td>\n",
       "    </tr>\n",
       "    <tr>\n",
       "      <th>13</th>\n",
       "      <td>Lee</td>\n",
       "      <td>Kinky Liqueur</td>\n",
       "      <td>750</td>\n",
       "      <td>10.00</td>\n",
       "      <td>15.00</td>\n",
       "      <td>12</td>\n",
       "      <td>180.00</td>\n",
       "      <td>9.0</td>\n",
       "      <td>2016</td>\n",
       "      <td>2</td>\n",
       "    </tr>\n",
       "  </tbody>\n",
       "</table>\n",
       "</div>"
      ],
      "text/plain": [
       "        county              item_description  bottle_vol_ml  \\\n",
       "1        Scott                       Tin Cup            750   \n",
       "2   Black Hawk                      Jim Beam           1000   \n",
       "3        Story       1800 Ultimate Margarita           1750   \n",
       "8         Polk  Absolut Swedish Vodka 80 Prf            750   \n",
       "13         Lee                 Kinky Liqueur            750   \n",
       "\n",
       "    state_bottle_cost  state_bottle_retail  bottles_sold  sale_dollars  \\\n",
       "1               13.75                20.63             2         41.26   \n",
       "2               12.59                18.89            24        453.36   \n",
       "3                9.50                14.25             6         85.50   \n",
       "8               11.49                17.24             4         68.96   \n",
       "13              10.00                15.00            12        180.00   \n",
       "\n",
       "    vol_sold_l  year  month  \n",
       "1          1.5  2016      3  \n",
       "2         24.0  2016      2  \n",
       "3         10.5  2016      2  \n",
       "8          3.0  2016      1  \n",
       "13         9.0  2016      2  "
      ]
     },
     "execution_count": 260,
     "metadata": {},
     "output_type": "execute_result"
    }
   ],
   "source": [
    "y2_iowadf.head()"
   ]
  },
  {
   "cell_type": "code",
   "execution_count": 261,
   "metadata": {
    "collapsed": true
   },
   "outputs": [],
   "source": [
    "y2_county_sum_agg = y2_iowadf.groupby(['county']).sum()"
   ]
  },
  {
   "cell_type": "code",
   "execution_count": 262,
   "metadata": {
    "collapsed": true
   },
   "outputs": [],
   "source": [
    "y2_county_mean_agg = y2_iowadf.groupby(['county']).mean()"
   ]
  },
  {
   "cell_type": "code",
   "execution_count": 263,
   "metadata": {
    "collapsed": false,
    "scrolled": false
   },
   "outputs": [
    {
     "data": {
      "text/html": [
       "<div>\n",
       "<table border=\"1\" class=\"dataframe\">\n",
       "  <thead>\n",
       "    <tr style=\"text-align: right;\">\n",
       "      <th></th>\n",
       "      <th>bottle_vol_ml</th>\n",
       "      <th>state_bottle_cost</th>\n",
       "      <th>state_bottle_retail</th>\n",
       "      <th>bottles_sold</th>\n",
       "      <th>sale_dollars</th>\n",
       "      <th>vol_sold_l</th>\n",
       "      <th>year</th>\n",
       "      <th>month</th>\n",
       "    </tr>\n",
       "    <tr>\n",
       "      <th>county</th>\n",
       "      <th></th>\n",
       "      <th></th>\n",
       "      <th></th>\n",
       "      <th></th>\n",
       "      <th></th>\n",
       "      <th></th>\n",
       "      <th></th>\n",
       "      <th></th>\n",
       "    </tr>\n",
       "  </thead>\n",
       "  <tbody>\n",
       "    <tr>\n",
       "      <th>ACKLEY</th>\n",
       "      <td>1160.714286</td>\n",
       "      <td>12.937143</td>\n",
       "      <td>19.435714</td>\n",
       "      <td>6.642857</td>\n",
       "      <td>113.125000</td>\n",
       "      <td>7.267857</td>\n",
       "      <td>2016.0</td>\n",
       "      <td>1.642857</td>\n",
       "    </tr>\n",
       "    <tr>\n",
       "      <th>ALTOONA</th>\n",
       "      <td>875.000000</td>\n",
       "      <td>12.141111</td>\n",
       "      <td>18.214444</td>\n",
       "      <td>23.000000</td>\n",
       "      <td>420.926667</td>\n",
       "      <td>20.750000</td>\n",
       "      <td>2016.0</td>\n",
       "      <td>2.888889</td>\n",
       "    </tr>\n",
       "    <tr>\n",
       "      <th>ANAMOSA</th>\n",
       "      <td>1062.755102</td>\n",
       "      <td>11.293469</td>\n",
       "      <td>16.942653</td>\n",
       "      <td>5.714286</td>\n",
       "      <td>86.890204</td>\n",
       "      <td>6.349592</td>\n",
       "      <td>2016.0</td>\n",
       "      <td>3.000000</td>\n",
       "    </tr>\n",
       "    <tr>\n",
       "      <th>ATLANTIC</th>\n",
       "      <td>593.750000</td>\n",
       "      <td>7.260000</td>\n",
       "      <td>10.892500</td>\n",
       "      <td>9.000000</td>\n",
       "      <td>96.405000</td>\n",
       "      <td>5.437500</td>\n",
       "      <td>2016.0</td>\n",
       "      <td>2.500000</td>\n",
       "    </tr>\n",
       "    <tr>\n",
       "      <th>AUDUBON</th>\n",
       "      <td>468.750000</td>\n",
       "      <td>5.215000</td>\n",
       "      <td>7.825000</td>\n",
       "      <td>6.750000</td>\n",
       "      <td>46.672500</td>\n",
       "      <td>3.655000</td>\n",
       "      <td>2016.0</td>\n",
       "      <td>3.000000</td>\n",
       "    </tr>\n",
       "  </tbody>\n",
       "</table>\n",
       "</div>"
      ],
      "text/plain": [
       "          bottle_vol_ml  state_bottle_cost  state_bottle_retail  bottles_sold  \\\n",
       "county                                                                          \n",
       "ACKLEY      1160.714286          12.937143            19.435714      6.642857   \n",
       "ALTOONA      875.000000          12.141111            18.214444     23.000000   \n",
       "ANAMOSA     1062.755102          11.293469            16.942653      5.714286   \n",
       "ATLANTIC     593.750000           7.260000            10.892500      9.000000   \n",
       "AUDUBON      468.750000           5.215000             7.825000      6.750000   \n",
       "\n",
       "          sale_dollars  vol_sold_l    year     month  \n",
       "county                                                \n",
       "ACKLEY      113.125000    7.267857  2016.0  1.642857  \n",
       "ALTOONA     420.926667   20.750000  2016.0  2.888889  \n",
       "ANAMOSA      86.890204    6.349592  2016.0  3.000000  \n",
       "ATLANTIC     96.405000    5.437500  2016.0  2.500000  \n",
       "AUDUBON      46.672500    3.655000  2016.0  3.000000  "
      ]
     },
     "execution_count": 263,
     "metadata": {},
     "output_type": "execute_result"
    }
   ],
   "source": [
    "y2_county_mean_agg.head()"
   ]
  },
  {
   "cell_type": "code",
   "execution_count": 264,
   "metadata": {
    "collapsed": false
   },
   "outputs": [
    {
     "data": {
      "text/html": [
       "<div>\n",
       "<table border=\"1\" class=\"dataframe\">\n",
       "  <thead>\n",
       "    <tr style=\"text-align: right;\">\n",
       "      <th></th>\n",
       "      <th>bottle_vol_ml</th>\n",
       "      <th>state_bottle_cost</th>\n",
       "      <th>state_bottle_retail</th>\n",
       "      <th>bottles_sold</th>\n",
       "      <th>sale_dollars</th>\n",
       "      <th>vol_sold_l</th>\n",
       "      <th>year</th>\n",
       "      <th>month</th>\n",
       "    </tr>\n",
       "    <tr>\n",
       "      <th>county</th>\n",
       "      <th></th>\n",
       "      <th></th>\n",
       "      <th></th>\n",
       "      <th></th>\n",
       "      <th></th>\n",
       "      <th></th>\n",
       "      <th></th>\n",
       "      <th></th>\n",
       "    </tr>\n",
       "  </thead>\n",
       "  <tbody>\n",
       "    <tr>\n",
       "      <th>ACKLEY</th>\n",
       "      <td>16250</td>\n",
       "      <td>181.12</td>\n",
       "      <td>272.10</td>\n",
       "      <td>93</td>\n",
       "      <td>1583.75</td>\n",
       "      <td>101.75</td>\n",
       "      <td>28224</td>\n",
       "      <td>23</td>\n",
       "    </tr>\n",
       "    <tr>\n",
       "      <th>ALTOONA</th>\n",
       "      <td>7875</td>\n",
       "      <td>109.27</td>\n",
       "      <td>163.93</td>\n",
       "      <td>207</td>\n",
       "      <td>3788.34</td>\n",
       "      <td>186.75</td>\n",
       "      <td>18144</td>\n",
       "      <td>26</td>\n",
       "    </tr>\n",
       "    <tr>\n",
       "      <th>ANAMOSA</th>\n",
       "      <td>52075</td>\n",
       "      <td>553.38</td>\n",
       "      <td>830.19</td>\n",
       "      <td>280</td>\n",
       "      <td>4257.62</td>\n",
       "      <td>311.13</td>\n",
       "      <td>98784</td>\n",
       "      <td>147</td>\n",
       "    </tr>\n",
       "    <tr>\n",
       "      <th>ATLANTIC</th>\n",
       "      <td>2375</td>\n",
       "      <td>29.04</td>\n",
       "      <td>43.57</td>\n",
       "      <td>36</td>\n",
       "      <td>385.62</td>\n",
       "      <td>21.75</td>\n",
       "      <td>8064</td>\n",
       "      <td>10</td>\n",
       "    </tr>\n",
       "    <tr>\n",
       "      <th>AUDUBON</th>\n",
       "      <td>1875</td>\n",
       "      <td>20.86</td>\n",
       "      <td>31.30</td>\n",
       "      <td>27</td>\n",
       "      <td>186.69</td>\n",
       "      <td>14.62</td>\n",
       "      <td>8064</td>\n",
       "      <td>12</td>\n",
       "    </tr>\n",
       "  </tbody>\n",
       "</table>\n",
       "</div>"
      ],
      "text/plain": [
       "          bottle_vol_ml  state_bottle_cost  state_bottle_retail  bottles_sold  \\\n",
       "county                                                                          \n",
       "ACKLEY            16250             181.12               272.10            93   \n",
       "ALTOONA            7875             109.27               163.93           207   \n",
       "ANAMOSA           52075             553.38               830.19           280   \n",
       "ATLANTIC           2375              29.04                43.57            36   \n",
       "AUDUBON            1875              20.86                31.30            27   \n",
       "\n",
       "          sale_dollars  vol_sold_l   year  month  \n",
       "county                                            \n",
       "ACKLEY         1583.75      101.75  28224     23  \n",
       "ALTOONA        3788.34      186.75  18144     26  \n",
       "ANAMOSA        4257.62      311.13  98784    147  \n",
       "ATLANTIC        385.62       21.75   8064     10  \n",
       "AUDUBON         186.69       14.62   8064     12  "
      ]
     },
     "execution_count": 264,
     "metadata": {},
     "output_type": "execute_result"
    }
   ],
   "source": [
    "y2_county_sum_agg.head()"
   ]
  },
  {
   "cell_type": "code",
   "execution_count": 265,
   "metadata": {
    "collapsed": true
   },
   "outputs": [],
   "source": [
    "y2_county_mean_agg = y2_county_mean_agg.reset_index()"
   ]
  },
  {
   "cell_type": "code",
   "execution_count": 266,
   "metadata": {
    "collapsed": true
   },
   "outputs": [],
   "source": [
    "y2_county_sum_agg = y2_county_sum_agg.reset_index()"
   ]
  },
  {
   "cell_type": "code",
   "execution_count": 267,
   "metadata": {
    "collapsed": false
   },
   "outputs": [
    {
     "data": {
      "text/html": [
       "<div>\n",
       "<table border=\"1\" class=\"dataframe\">\n",
       "  <thead>\n",
       "    <tr style=\"text-align: right;\">\n",
       "      <th></th>\n",
       "      <th>county</th>\n",
       "      <th>bottle_vol_ml</th>\n",
       "      <th>state_bottle_cost</th>\n",
       "      <th>state_bottle_retail</th>\n",
       "      <th>bottles_sold</th>\n",
       "      <th>sale_dollars</th>\n",
       "      <th>vol_sold_l</th>\n",
       "      <th>year</th>\n",
       "      <th>month</th>\n",
       "    </tr>\n",
       "  </thead>\n",
       "  <tbody>\n",
       "    <tr>\n",
       "      <th>0</th>\n",
       "      <td>ACKLEY</td>\n",
       "      <td>1160.714286</td>\n",
       "      <td>12.937143</td>\n",
       "      <td>19.435714</td>\n",
       "      <td>6.642857</td>\n",
       "      <td>113.125000</td>\n",
       "      <td>7.267857</td>\n",
       "      <td>2016.0</td>\n",
       "      <td>1.642857</td>\n",
       "    </tr>\n",
       "    <tr>\n",
       "      <th>1</th>\n",
       "      <td>ALTOONA</td>\n",
       "      <td>875.000000</td>\n",
       "      <td>12.141111</td>\n",
       "      <td>18.214444</td>\n",
       "      <td>23.000000</td>\n",
       "      <td>420.926667</td>\n",
       "      <td>20.750000</td>\n",
       "      <td>2016.0</td>\n",
       "      <td>2.888889</td>\n",
       "    </tr>\n",
       "    <tr>\n",
       "      <th>2</th>\n",
       "      <td>ANAMOSA</td>\n",
       "      <td>1062.755102</td>\n",
       "      <td>11.293469</td>\n",
       "      <td>16.942653</td>\n",
       "      <td>5.714286</td>\n",
       "      <td>86.890204</td>\n",
       "      <td>6.349592</td>\n",
       "      <td>2016.0</td>\n",
       "      <td>3.000000</td>\n",
       "    </tr>\n",
       "    <tr>\n",
       "      <th>3</th>\n",
       "      <td>ATLANTIC</td>\n",
       "      <td>593.750000</td>\n",
       "      <td>7.260000</td>\n",
       "      <td>10.892500</td>\n",
       "      <td>9.000000</td>\n",
       "      <td>96.405000</td>\n",
       "      <td>5.437500</td>\n",
       "      <td>2016.0</td>\n",
       "      <td>2.500000</td>\n",
       "    </tr>\n",
       "    <tr>\n",
       "      <th>4</th>\n",
       "      <td>AUDUBON</td>\n",
       "      <td>468.750000</td>\n",
       "      <td>5.215000</td>\n",
       "      <td>7.825000</td>\n",
       "      <td>6.750000</td>\n",
       "      <td>46.672500</td>\n",
       "      <td>3.655000</td>\n",
       "      <td>2016.0</td>\n",
       "      <td>3.000000</td>\n",
       "    </tr>\n",
       "  </tbody>\n",
       "</table>\n",
       "</div>"
      ],
      "text/plain": [
       "     county  bottle_vol_ml  state_bottle_cost  state_bottle_retail  \\\n",
       "0    ACKLEY    1160.714286          12.937143            19.435714   \n",
       "1   ALTOONA     875.000000          12.141111            18.214444   \n",
       "2   ANAMOSA    1062.755102          11.293469            16.942653   \n",
       "3  ATLANTIC     593.750000           7.260000            10.892500   \n",
       "4   AUDUBON     468.750000           5.215000             7.825000   \n",
       "\n",
       "   bottles_sold  sale_dollars  vol_sold_l    year     month  \n",
       "0      6.642857    113.125000    7.267857  2016.0  1.642857  \n",
       "1     23.000000    420.926667   20.750000  2016.0  2.888889  \n",
       "2      5.714286     86.890204    6.349592  2016.0  3.000000  \n",
       "3      9.000000     96.405000    5.437500  2016.0  2.500000  \n",
       "4      6.750000     46.672500    3.655000  2016.0  3.000000  "
      ]
     },
     "execution_count": 267,
     "metadata": {},
     "output_type": "execute_result"
    }
   ],
   "source": [
    "y2_county_mean_agg.head()"
   ]
  },
  {
   "cell_type": "code",
   "execution_count": 268,
   "metadata": {
    "collapsed": false,
    "scrolled": true
   },
   "outputs": [
    {
     "data": {
      "text/html": [
       "<div>\n",
       "<table border=\"1\" class=\"dataframe\">\n",
       "  <thead>\n",
       "    <tr style=\"text-align: right;\">\n",
       "      <th></th>\n",
       "      <th>county</th>\n",
       "      <th>bottle_vol_ml</th>\n",
       "      <th>state_bottle_cost</th>\n",
       "      <th>state_bottle_retail</th>\n",
       "      <th>bottles_sold</th>\n",
       "      <th>sale_dollars</th>\n",
       "      <th>vol_sold_l</th>\n",
       "      <th>year</th>\n",
       "      <th>month</th>\n",
       "    </tr>\n",
       "  </thead>\n",
       "  <tbody>\n",
       "    <tr>\n",
       "      <th>0</th>\n",
       "      <td>ACKLEY</td>\n",
       "      <td>16250</td>\n",
       "      <td>181.12</td>\n",
       "      <td>272.10</td>\n",
       "      <td>93</td>\n",
       "      <td>1583.75</td>\n",
       "      <td>101.75</td>\n",
       "      <td>28224</td>\n",
       "      <td>23</td>\n",
       "    </tr>\n",
       "    <tr>\n",
       "      <th>1</th>\n",
       "      <td>ALTOONA</td>\n",
       "      <td>7875</td>\n",
       "      <td>109.27</td>\n",
       "      <td>163.93</td>\n",
       "      <td>207</td>\n",
       "      <td>3788.34</td>\n",
       "      <td>186.75</td>\n",
       "      <td>18144</td>\n",
       "      <td>26</td>\n",
       "    </tr>\n",
       "    <tr>\n",
       "      <th>2</th>\n",
       "      <td>ANAMOSA</td>\n",
       "      <td>52075</td>\n",
       "      <td>553.38</td>\n",
       "      <td>830.19</td>\n",
       "      <td>280</td>\n",
       "      <td>4257.62</td>\n",
       "      <td>311.13</td>\n",
       "      <td>98784</td>\n",
       "      <td>147</td>\n",
       "    </tr>\n",
       "    <tr>\n",
       "      <th>3</th>\n",
       "      <td>ATLANTIC</td>\n",
       "      <td>2375</td>\n",
       "      <td>29.04</td>\n",
       "      <td>43.57</td>\n",
       "      <td>36</td>\n",
       "      <td>385.62</td>\n",
       "      <td>21.75</td>\n",
       "      <td>8064</td>\n",
       "      <td>10</td>\n",
       "    </tr>\n",
       "    <tr>\n",
       "      <th>4</th>\n",
       "      <td>AUDUBON</td>\n",
       "      <td>1875</td>\n",
       "      <td>20.86</td>\n",
       "      <td>31.30</td>\n",
       "      <td>27</td>\n",
       "      <td>186.69</td>\n",
       "      <td>14.62</td>\n",
       "      <td>8064</td>\n",
       "      <td>12</td>\n",
       "    </tr>\n",
       "  </tbody>\n",
       "</table>\n",
       "</div>"
      ],
      "text/plain": [
       "     county  bottle_vol_ml  state_bottle_cost  state_bottle_retail  \\\n",
       "0    ACKLEY          16250             181.12               272.10   \n",
       "1   ALTOONA           7875             109.27               163.93   \n",
       "2   ANAMOSA          52075             553.38               830.19   \n",
       "3  ATLANTIC           2375              29.04                43.57   \n",
       "4   AUDUBON           1875              20.86                31.30   \n",
       "\n",
       "   bottles_sold  sale_dollars  vol_sold_l   year  month  \n",
       "0            93       1583.75      101.75  28224     23  \n",
       "1           207       3788.34      186.75  18144     26  \n",
       "2           280       4257.62      311.13  98784    147  \n",
       "3            36        385.62       21.75   8064     10  \n",
       "4            27        186.69       14.62   8064     12  "
      ]
     },
     "execution_count": 268,
     "metadata": {},
     "output_type": "execute_result"
    }
   ],
   "source": [
    "y2_county_sum_agg.head()"
   ]
  },
  {
   "cell_type": "code",
   "execution_count": 269,
   "metadata": {
    "collapsed": false
   },
   "outputs": [
    {
     "data": {
      "image/png": "[encoded data removed]",
      "text/plain": [
       "<matplotlib.figure.Figure at 0x11e475dd0>"
      ]
     },
     "metadata": {},
     "output_type": "display_data"
    }
   ],
   "source": [
    "sum_sales_dist_2 = sns.distplot(y2_county_sum_agg['sale_dollars'], kde=False)\n",
    "plt.show()"
   ]
  },
  {
   "cell_type": "code",
   "execution_count": 270,
   "metadata": {
    "collapsed": false
   },
   "outputs": [
    {
     "data": {
      "image/png": "[encoded data removed]",
      "text/plain": [
       "<matplotlib.figure.Figure at 0x11e475550>"
      ]
     },
     "metadata": {},
     "output_type": "display_data"
    }
   ],
   "source": [
    "mean_sales_dist_2 = sns.distplot(y2_county_mean_agg['sale_dollars'], kde=False)\n",
    "plt.show()"
   ]
  },
  {
   "cell_type": "code",
   "execution_count": 271,
   "metadata": {
    "collapsed": false,
    "scrolled": false
   },
   "outputs": [
    {
     "data": {
      "image/png": "[encoded data removed]",
      "text/plain": [
       "<matplotlib.figure.Figure at 0x12a090bd0>"
      ]
     },
     "metadata": {},
     "output_type": "display_data"
    }
   ],
   "source": [
    "retail_dist_2 = sns.distplot(y2_county_mean_agg['state_bottle_retail'], kde=False)\n",
    "plt.show()"
   ]
  },
  {
   "cell_type": "code",
   "execution_count": 272,
   "metadata": {
    "collapsed": false
   },
   "outputs": [
    {
     "data": {
      "image/png": "[encoded data removed]",
      "text/plain": [
       "<matplotlib.figure.Figure at 0x12be30b90>"
      ]
     },
     "metadata": {},
     "output_type": "display_data"
    }
   ],
   "source": [
    "vol_sum_dist = sns.distplot(y2_county_sum_agg['vol_sold_l'], kde=False)\n",
    "plt.show()"
   ]
  },
  {
   "cell_type": "code",
   "execution_count": 273,
   "metadata": {
    "collapsed": false,
    "scrolled": false
   },
   "outputs": [
    {
     "data": {
      "image/png": "[encoded data removed]",
      "text/plain": [
       "<matplotlib.figure.Figure at 0x12c304ad0>"
      ]
     },
     "metadata": {},
     "output_type": "display_data"
    }
   ],
   "source": [
    "vol_mean_dist = sns.distplot(y2_county_mean_agg['vol_sold_l'], kde=False)\n",
    "plt.show()"
   ]
  },
  {
   "cell_type": "markdown",
   "metadata": {
    "collapsed": true
   },
   "source": [
    "# Record your findings\n",
    "\n",
    "Be sure to write out any observations from your exploratory analysis."
   ]
  },
  {
   "cell_type": "markdown",
   "metadata": {},
   "source": [
    "The counties with the most transactions in the first three months of 2015 include Polk (9003), Linn (4363), Scott (2940), Black Hawk (2677), Johnson (2381)."
   ]
  },
  {
   "cell_type": "markdown",
   "metadata": {},
   "source": [
    "The counties with the most transactions in the first three months of 2016 include Polk (9554), Linn (4333), Scott (3272), Black Hawk (2965), Johnson (2485)."
   ]
  },
  {
   "cell_type": "markdown",
   "metadata": {},
   "source": [
    "Most counties sold approximately 60,000 or less in total sale dollars, 6,000 bottles sold, and 4,000 liters and from January-March 2015. "
   ]
  },
  {
   "cell_type": "markdown",
   "metadata": {},
   "source": [
    "The total sale of alcohol for all counties in 2015 was approximately $28,527,245. "
   ]
  },
  {
   "cell_type": "markdown",
   "metadata": {},
   "source": [
    "Most counties sold roughly 6,000 or fewer liters of alcohol during 2015. "
   ]
  },
  {
   "cell_type": "markdown",
   "metadata": {},
   "source": [
    "The average number of bottles sold so far per county in 2016 is 4955 bottles."
   ]
  },
  {
   "cell_type": "markdown",
   "metadata": {},
   "source": [
    "Most counties have sold approximately 60,000 dollars worth, 30,000 liters or less of alcohol or less, and 6,000 bottles or less in the first three months of 2016, based on my plotted distributions above."
   ]
  },
  {
   "cell_type": "markdown",
   "metadata": {},
   "source": [
    "Important: Note that Iowa counties in total sold approximately 6,291,870.90 worth of alcohol Jan-March 2016, slightly more than the 6,153,795.89 in Jan-March 2015."
   ]
  },
  {
   "cell_type": "markdown",
   "metadata": {},
   "source": [
    "The most popular categories of liquor are Vodka 80 Proof (35373), Canadian Whiskies (27087), Straight Bourbon Whiskies (15342), Spiced Rum(14631), Vodka Flavored(14001), Tequila (12109),\n",
    "Blended Whiskies (11547), Whiskey Liquer (10902), Imported Vodka (10688), and Puerto Rico & Virgin Islands Rum (10062)"
   ]
  },
  {
   "cell_type": "markdown",
   "metadata": {},
   "source": [
    "The highest selling liquors overall across time, by average sales, include imported ameretto(747.20), Japanese whisky(382.74), 'decanters and specialy packages' (266), Irish Whiskies (227.23), Tennessee Whiskies (225.75), Straight Rye Whiskies (218.63), imported vodka (194.88), spiced rum (186.43), imported grape brandies (173.95), and single malt scotch (167.17)."
   ]
  },
  {
   "cell_type": "markdown",
   "metadata": {},
   "source": [
    "The lowest selling liquors overall across time include anisette (28.13), white creme de menthe(30.39), white creme de cacao (35.47), creme de almond(35.82), American sloe gins (36.65), dark creme de cacao (38.03), rock & rye (38.17), green creme de menthe (38.80), low proof vodka (39.87), and tropical fruit schnapps (40.40). \n"
   ]
  },
  {
   "cell_type": "markdown",
   "metadata": {},
   "source": [
    "The counties with the most transactions include Polk (49012), Linn(23511), Scott(166678), Black Hawk (15083), Johnson(13189), Pottawattamie(9111), Story(8959), Woodbury(8562), \n",
    "Dubuqe (7757), Cerro Gerdo (6374), and Des Moines(4090). "
   ]
  },
  {
   "cell_type": "markdown",
   "metadata": {},
   "source": [
    "The highest selling counties overall across time, by mean sales, include Dallas  (231.18), Carroll (160.48), Polk (158.56), Johnson (158.55), Shelby (153.51), Howard (152.32),  Floyd (149.25), Scott (148.02), Sioux (147.84) and Woodbury (146.36)."
   ]
  },
  {
   "cell_type": "markdown",
   "metadata": {},
   "source": [
    "The lowest selling counties overall across time, by mean sales, include Taylor (50.27), Mitchell (50.94), Adams (53.17), Keokuk (53.34), Monona (54), Harrison(56.30), Louisa (63.44), Jones (65.01), Davis (65.01), and Palo Alto (66.07). "
   ]
  },
  {
   "cell_type": "markdown",
   "metadata": {},
   "source": [
    "The counties with the most transactions AND highest average sales include Polk (48944, 158.28), Johnson (13163, 157.86), Scott (16630, 147.76), Woodbury (8541, 146.30), "
   ]
  },
  {
   "cell_type": "markdown",
   "metadata": {},
   "source": [
    "## Risks & assumptions of data"
   ]
  },
  {
   "cell_type": "markdown",
   "metadata": {},
   "source": [
    "Iowa counties in total sold approximately 6,291,870.90 worth of alcohol Jan-March 2016, slightly more than the 6,153,795.89 in Jan-March 2015. This is approximately a 138,075 difference, which might be more significant for some counties that others (maybe one county accounts for most of this gained amount, or others have lost significant business to others). \n",
    "\n",
    "We had 1077 missing counties, which I filled with cities instead. I don't believe this would affect my data significantly. \n",
    "\n",
    "We have a few outlying counties with overall sales that are exceptionally higher than most other counties. As some of these counties account for a high portion of the state's sales, it wouldn't be prudent to drop them."
   ]
  },
  {
   "cell_type": "markdown",
   "metadata": {},
   "source": [
    "# Refine the data\n",
    "\n",
    "Look for any statistical relationships, correlations, or other relevant properties of the dataset."
   ]
  },
  {
   "cell_type": "markdown",
   "metadata": {},
   "source": [
    "I'm going to use the aggregates for each county to predict which quantifiable features will affect my target variable, sale dollars. "
   ]
  },
  {
   "cell_type": "code",
   "execution_count": 290,
   "metadata": {
    "collapsed": false,
    "scrolled": true
   },
   "outputs": [
    {
     "data": {
      "text/html": [
       "<div>\n",
       "<table border=\"1\" class=\"dataframe\">\n",
       "  <thead>\n",
       "    <tr style=\"text-align: right;\">\n",
       "      <th></th>\n",
       "      <th>county</th>\n",
       "      <th>bottle_vol_ml</th>\n",
       "      <th>state_bottle_cost</th>\n",
       "      <th>state_bottle_retail</th>\n",
       "      <th>bottles_sold</th>\n",
       "      <th>sale_dollars</th>\n",
       "      <th>vol_sold_l</th>\n",
       "    </tr>\n",
       "  </thead>\n",
       "  <tbody>\n",
       "    <tr>\n",
       "      <th>0</th>\n",
       "      <td>Adair</td>\n",
       "      <td>102575</td>\n",
       "      <td>966.13</td>\n",
       "      <td>1450.08</td>\n",
       "      <td>1075</td>\n",
       "      <td>10222.00</td>\n",
       "      <td>814.54</td>\n",
       "    </tr>\n",
       "    <tr>\n",
       "      <th>1</th>\n",
       "      <td>Adams</td>\n",
       "      <td>42475</td>\n",
       "      <td>429.46</td>\n",
       "      <td>644.25</td>\n",
       "      <td>174</td>\n",
       "      <td>2253.60</td>\n",
       "      <td>183.27</td>\n",
       "    </tr>\n",
       "    <tr>\n",
       "      <th>2</th>\n",
       "      <td>Allamakee</td>\n",
       "      <td>153450</td>\n",
       "      <td>1336.12</td>\n",
       "      <td>2007.74</td>\n",
       "      <td>1135</td>\n",
       "      <td>14907.98</td>\n",
       "      <td>1244.68</td>\n",
       "    </tr>\n",
       "    <tr>\n",
       "      <th>3</th>\n",
       "      <td>Appanoose</td>\n",
       "      <td>172125</td>\n",
       "      <td>1566.11</td>\n",
       "      <td>2352.68</td>\n",
       "      <td>1317</td>\n",
       "      <td>15228.09</td>\n",
       "      <td>1207.15</td>\n",
       "    </tr>\n",
       "    <tr>\n",
       "      <th>4</th>\n",
       "      <td>Audubon</td>\n",
       "      <td>62125</td>\n",
       "      <td>529.36</td>\n",
       "      <td>795.86</td>\n",
       "      <td>435</td>\n",
       "      <td>5510.75</td>\n",
       "      <td>557.50</td>\n",
       "    </tr>\n",
       "  </tbody>\n",
       "</table>\n",
       "</div>"
      ],
      "text/plain": [
       "      county  bottle_vol_ml  state_bottle_cost  state_bottle_retail  \\\n",
       "0      Adair         102575             966.13              1450.08   \n",
       "1      Adams          42475             429.46               644.25   \n",
       "2  Allamakee         153450            1336.12              2007.74   \n",
       "3  Appanoose         172125            1566.11              2352.68   \n",
       "4    Audubon          62125             529.36               795.86   \n",
       "\n",
       "   bottles_sold  sale_dollars  vol_sold_l  \n",
       "0          1075      10222.00      814.54  \n",
       "1           174       2253.60      183.27  \n",
       "2          1135      14907.98     1244.68  \n",
       "3          1317      15228.09     1207.15  \n",
       "4           435       5510.75      557.50  "
      ]
     },
     "execution_count": 290,
     "metadata": {},
     "output_type": "execute_result"
    }
   ],
   "source": [
    "y1_p1_county_sum_agg.head()"
   ]
  },
  {
   "cell_type": "code",
   "execution_count": 289,
   "metadata": {
    "collapsed": false
   },
   "outputs": [
    {
     "data": {
      "text/html": [
       "<div>\n",
       "<table border=\"1\" class=\"dataframe\">\n",
       "  <thead>\n",
       "    <tr style=\"text-align: right;\">\n",
       "      <th></th>\n",
       "      <th>county</th>\n",
       "      <th>bottle_vol_ml</th>\n",
       "      <th>state_bottle_cost</th>\n",
       "      <th>state_bottle_retail</th>\n",
       "      <th>bottles_sold</th>\n",
       "      <th>sale_dollars</th>\n",
       "      <th>vol_sold_l</th>\n",
       "      <th>vol_sold_g</th>\n",
       "      <th>month</th>\n",
       "    </tr>\n",
       "  </thead>\n",
       "  <tbody>\n",
       "    <tr>\n",
       "      <th>0</th>\n",
       "      <td>Adair</td>\n",
       "      <td>476750</td>\n",
       "      <td>4281.27</td>\n",
       "      <td>6430.18</td>\n",
       "      <td>3780</td>\n",
       "      <td>43747.18</td>\n",
       "      <td>3510.22</td>\n",
       "      <td>927.11</td>\n",
       "      <td>3212</td>\n",
       "    </tr>\n",
       "    <tr>\n",
       "      <th>1</th>\n",
       "      <td>Adams</td>\n",
       "      <td>190650</td>\n",
       "      <td>1924.44</td>\n",
       "      <td>2888.31</td>\n",
       "      <td>754</td>\n",
       "      <td>10245.14</td>\n",
       "      <td>822.28</td>\n",
       "      <td>216.98</td>\n",
       "      <td>1309</td>\n",
       "    </tr>\n",
       "    <tr>\n",
       "      <th>2</th>\n",
       "      <td>Allamakee</td>\n",
       "      <td>874325</td>\n",
       "      <td>8261.37</td>\n",
       "      <td>12405.30</td>\n",
       "      <td>6020</td>\n",
       "      <td>79918.47</td>\n",
       "      <td>6290.75</td>\n",
       "      <td>1661.77</td>\n",
       "      <td>5914</td>\n",
       "    </tr>\n",
       "    <tr>\n",
       "      <th>3</th>\n",
       "      <td>Appanoose</td>\n",
       "      <td>813650</td>\n",
       "      <td>8064.97</td>\n",
       "      <td>12112.67</td>\n",
       "      <td>6419</td>\n",
       "      <td>77033.64</td>\n",
       "      <td>6318.42</td>\n",
       "      <td>1669.39</td>\n",
       "      <td>5702</td>\n",
       "    </tr>\n",
       "    <tr>\n",
       "      <th>4</th>\n",
       "      <td>Audubon</td>\n",
       "      <td>191075</td>\n",
       "      <td>1636.77</td>\n",
       "      <td>2459.67</td>\n",
       "      <td>1429</td>\n",
       "      <td>16429.26</td>\n",
       "      <td>1448.68</td>\n",
       "      <td>382.82</td>\n",
       "      <td>1205</td>\n",
       "    </tr>\n",
       "  </tbody>\n",
       "</table>\n",
       "</div>"
      ],
      "text/plain": [
       "      county  bottle_vol_ml  state_bottle_cost  state_bottle_retail  \\\n",
       "0      Adair         476750            4281.27              6430.18   \n",
       "1      Adams         190650            1924.44              2888.31   \n",
       "2  Allamakee         874325            8261.37             12405.30   \n",
       "3  Appanoose         813650            8064.97             12112.67   \n",
       "4    Audubon         191075            1636.77              2459.67   \n",
       "\n",
       "   bottles_sold  sale_dollars  vol_sold_l  vol_sold_g  month  \n",
       "0          3780      43747.18     3510.22      927.11   3212  \n",
       "1           754      10245.14      822.28      216.98   1309  \n",
       "2          6020      79918.47     6290.75     1661.77   5914  \n",
       "3          6419      77033.64     6318.42     1669.39   5702  \n",
       "4          1429      16429.26     1448.68      382.82   1205  "
      ]
     },
     "execution_count": 289,
     "metadata": {},
     "output_type": "execute_result"
    }
   ],
   "source": [
    "y1_county_sum_agg.head()"
   ]
  },
  {
   "cell_type": "code",
   "execution_count": null,
   "metadata": {
    "collapsed": false,
    "scrolled": true
   },
   "outputs": [],
   "source": [
    "y2_county_sum_agg = y2_county_sum_agg.drop(y2_county_sum_agg[[3,7,8]], axis=1)"
   ]
  },
  {
   "cell_type": "code",
   "execution_count": null,
   "metadata": {
    "collapsed": false
   },
   "outputs": [],
   "source": [
    "y2_county_sum_agg.head()"
   ]
  },
  {
   "cell_type": "markdown",
   "metadata": {},
   "source": [
    "# Build your models\n",
    "\n",
    "Using scikit-learn or statsmodels, build the necessary models for your scenario. Evaluate model fit."
   ]
  },
  {
   "cell_type": "code",
   "execution_count": 293,
   "metadata": {
    "collapsed": false
   },
   "outputs": [],
   "source": [
    "from sklearn.linear_model import LinearRegression\n",
    "from sklearn import linear_model\n",
    "reg = linear_model.RidgeCV(alphas=[0.1,1,10])\n",
    "lr = LinearRegression()"
   ]
  },
  {
   "cell_type": "code",
   "execution_count": null,
   "metadata": {
    "collapsed": false
   },
   "outputs": [],
   "source": [
    "#Won't use counties as a variable as previous test found their dummies not to be predictive of sales. \n",
    "X = y1_p1_county_sum_agg.drop(['sale_dollars', 'county'], axis=1) \n",
    "y = y1_p1_county_sum_agg['sale_dollars']"
   ]
  },
  {
   "cell_type": "code",
   "execution_count": null,
   "metadata": {
    "collapsed": false
   },
   "outputs": [],
   "source": [
    "reg.fit(X,y)"
   ]
  },
  {
   "cell_type": "code",
   "execution_count": null,
   "metadata": {
    "collapsed": false
   },
   "outputs": [],
   "source": [
    "from sklearn.cross_validation import train_test_split\n",
    "X_train, X_test, y_train, y_test = train_test_split(X,y, train_size = 0.5, random_state = 99 )"
   ]
  },
  {
   "cell_type": "code",
   "execution_count": null,
   "metadata": {
    "collapsed": false
   },
   "outputs": [],
   "source": [
    "lr.fit(X_train, y_train)"
   ]
  },
  {
   "cell_type": "code",
   "execution_count": null,
   "metadata": {
    "collapsed": false,
    "scrolled": true
   },
   "outputs": [],
   "source": [
    "lr.score(X_test, y_test)"
   ]
  },
  {
   "cell_type": "code",
   "execution_count": 292,
   "metadata": {
    "collapsed": true
   },
   "outputs": [],
   "source": [
    "X = y1_county_sum_agg.drop(['sale_dollars','county'], axis=1)\n",
    "y = y1_county_sum_agg['sale_dollars']"
   ]
  },
  {
   "cell_type": "code",
   "execution_count": 294,
   "metadata": {
    "collapsed": false
   },
   "outputs": [
    {
     "data": {
      "text/plain": [
       "RidgeCV(alphas=[0.1, 1, 10], cv=None, fit_intercept=True, gcv_mode=None,\n",
       "    normalize=False, scoring=None, store_cv_values=False)"
      ]
     },
     "execution_count": 294,
     "metadata": {},
     "output_type": "execute_result"
    }
   ],
   "source": [
    "reg.fit(X,y)"
   ]
  },
  {
   "cell_type": "code",
   "execution_count": 295,
   "metadata": {
    "collapsed": true
   },
   "outputs": [],
   "source": [
    "from sklearn.cross_validation import train_test_split\n",
    "X_train, X_test, y_train, y_test = train_test_split(X,y, train_size = 0.5, random_state = 99)"
   ]
  },
  {
   "cell_type": "code",
   "execution_count": 296,
   "metadata": {
    "collapsed": false
   },
   "outputs": [
    {
     "data": {
      "text/plain": [
       "LinearRegression(copy_X=True, fit_intercept=True, n_jobs=1, normalize=False)"
      ]
     },
     "execution_count": 296,
     "metadata": {},
     "output_type": "execute_result"
    }
   ],
   "source": [
    "lr.fit(X_train, y_train)"
   ]
  },
  {
   "cell_type": "code",
   "execution_count": 297,
   "metadata": {
    "collapsed": false
   },
   "outputs": [
    {
     "data": {
      "text/plain": [
       "0.9959782445955635"
      ]
     },
     "execution_count": 297,
     "metadata": {},
     "output_type": "execute_result"
    }
   ],
   "source": [
    "lr.score(X_test, y_test)"
   ]
  },
  {
   "cell_type": "code",
   "execution_count": null,
   "metadata": {
    "collapsed": true
   },
   "outputs": [],
   "source": [
    "#y_pred = model.fit"
   ]
  },
  {
   "cell_type": "code",
   "execution_count": null,
   "metadata": {
    "collapsed": true
   },
   "outputs": [],
   "source": [
    "#checkpoint"
   ]
  },
  {
   "cell_type": "code",
   "execution_count": 218,
   "metadata": {
    "collapsed": false
   },
   "outputs": [],
   "source": [
    "#Check for volume liters sold. \n",
    "X_v = y1_p1_county_sum_agg.drop(['sale_dollars','bottles_sold', 'county'], axis=1)\n",
    "y_v = y1_p1_county_sum_agg['sale_dollars']"
   ]
  },
  {
   "cell_type": "code",
   "execution_count": 219,
   "metadata": {
    "collapsed": true
   },
   "outputs": [],
   "source": [
    "X_train, X_test, y_train, y_test = train_test_split(X_v,y_v, train_size = 0.5, random_state = 99 )"
   ]
  },
  {
   "cell_type": "code",
   "execution_count": 1,
   "metadata": {
    "collapsed": false
   },
   "outputs": [
    {
     "ename": "NameError",
     "evalue": "name 'reg' is not defined",
     "output_type": "error",
     "traceback": [
      "\u001b[0;31m---------------------------------------------------------------------------\u001b[0m",
      "\u001b[0;31mNameError\u001b[0m                                 Traceback (most recent call last)",
      "\u001b[0;32m<ipython-input-1-fcb43b883f38>\u001b[0m in \u001b[0;36m<module>\u001b[0;34m()\u001b[0m\n\u001b[0;32m----> 1\u001b[0;31m \u001b[0mreg\u001b[0m\u001b[0;34m.\u001b[0m\u001b[0mfit\u001b[0m\u001b[0;34m(\u001b[0m\u001b[0mX_v\u001b[0m\u001b[0;34m,\u001b[0m\u001b[0my_v\u001b[0m\u001b[0;34m)\u001b[0m\u001b[0;34m\u001b[0m\u001b[0m\n\u001b[0m",
      "\u001b[0;31mNameError\u001b[0m: name 'reg' is not defined"
     ]
    }
   ],
   "source": [
    "reg.fit(X_v,y_v)"
   ]
  },
  {
   "cell_type": "code",
   "execution_count": 221,
   "metadata": {
    "collapsed": false
   },
   "outputs": [
    {
     "data": {
      "text/plain": [
       "LinearRegression(copy_X=True, fit_intercept=True, n_jobs=1, normalize=False)"
      ]
     },
     "execution_count": 221,
     "metadata": {},
     "output_type": "execute_result"
    }
   ],
   "source": [
    "lr.fit(X_train, y_train)"
   ]
  },
  {
   "cell_type": "code",
   "execution_count": 222,
   "metadata": {
    "collapsed": false
   },
   "outputs": [
    {
     "data": {
      "text/plain": [
       "0.99382709277275405"
      ]
     },
     "execution_count": 222,
     "metadata": {},
     "output_type": "execute_result"
    }
   ],
   "source": [
    "lr.score(X_test, y_test)"
   ]
  },
  {
   "cell_type": "code",
   "execution_count": 118,
   "metadata": {
    "collapsed": true
   },
   "outputs": [],
   "source": [
    "#Volume liters sold is HIGHLY predictive. "
   ]
  },
  {
   "cell_type": "code",
   "execution_count": 119,
   "metadata": {
    "collapsed": false
   },
   "outputs": [],
   "source": [
    "#Check for bottles sold. \n",
    "X_b = y1_test_data.drop(['vol_sold_l','sale_dollars'], axis=1)\n",
    "y_b = y1_test_data['sale_dollars']"
   ]
  },
  {
   "cell_type": "code",
   "execution_count": 120,
   "metadata": {
    "collapsed": true
   },
   "outputs": [],
   "source": [
    "X_train, X_test, y_train, y_test = train_test_split(X_b,y_b, train_size = 0.5, random_state = 99 )"
   ]
  },
  {
   "cell_type": "code",
   "execution_count": 121,
   "metadata": {
    "collapsed": false
   },
   "outputs": [
    {
     "data": {
      "text/plain": [
       "LinearRegression(copy_X=True, fit_intercept=True, n_jobs=1, normalize=False)"
      ]
     },
     "execution_count": 121,
     "metadata": {},
     "output_type": "execute_result"
    }
   ],
   "source": [
    "lr.fit(X_train, y_train)"
   ]
  },
  {
   "cell_type": "code",
   "execution_count": 122,
   "metadata": {
    "collapsed": false
   },
   "outputs": [
    {
     "data": {
      "text/plain": [
       "RidgeCV(alphas=[0.1, 1.0, 10.0], cv=None, fit_intercept=True, gcv_mode=None,\n",
       "    normalize=False, scoring=None, store_cv_values=False)"
      ]
     },
     "execution_count": 122,
     "metadata": {},
     "output_type": "execute_result"
    }
   ],
   "source": [
    "reg.fit(X_b,y_b)"
   ]
  },
  {
   "cell_type": "code",
   "execution_count": 123,
   "metadata": {
    "collapsed": false
   },
   "outputs": [
    {
     "data": {
      "text/plain": [
       "0.81342471921817738"
      ]
     },
     "execution_count": 123,
     "metadata": {},
     "output_type": "execute_result"
    }
   ],
   "source": [
    "lr.score(X_test, y_test)"
   ]
  },
  {
   "cell_type": "code",
   "execution_count": 124,
   "metadata": {
    "collapsed": true
   },
   "outputs": [],
   "source": [
    "# Bottles sold is significantly less predictive than volume liters sold in determining sale numbers\n",
    "# However, this may be simply due to the different measurements and aggregates of these variables. "
   ]
  },
  {
   "cell_type": "code",
   "execution_count": 125,
   "metadata": {
    "collapsed": true
   },
   "outputs": [],
   "source": [
    "#Testing for 2016. "
   ]
  },
  {
   "cell_type": "code",
   "execution_count": 126,
   "metadata": {
    "collapsed": false
   },
   "outputs": [
    {
     "data": {
      "text/html": [
       "<div>\n",
       "<table border=\"1\" class=\"dataframe\">\n",
       "  <thead>\n",
       "    <tr style=\"text-align: right;\">\n",
       "      <th></th>\n",
       "      <th>bottles_sold</th>\n",
       "      <th>sale_dollars</th>\n",
       "      <th>vol_sold_l</th>\n",
       "      <th>county_ACKLEY</th>\n",
       "      <th>county_ALTOONA</th>\n",
       "      <th>county_ANAMOSA</th>\n",
       "      <th>county_ATLANTIC</th>\n",
       "      <th>county_AUDUBON</th>\n",
       "      <th>county_Adair</th>\n",
       "      <th>county_Adams</th>\n",
       "      <th>...</th>\n",
       "      <th>county_Wapello</th>\n",
       "      <th>county_Warren</th>\n",
       "      <th>county_Washington</th>\n",
       "      <th>county_Wayne</th>\n",
       "      <th>county_Webster</th>\n",
       "      <th>county_Winnebago</th>\n",
       "      <th>county_Winneshiek</th>\n",
       "      <th>county_Woodbury</th>\n",
       "      <th>county_Worth</th>\n",
       "      <th>county_Wright</th>\n",
       "    </tr>\n",
       "  </thead>\n",
       "  <tbody>\n",
       "    <tr>\n",
       "      <th>0</th>\n",
       "      <td>93</td>\n",
       "      <td>1583.75</td>\n",
       "      <td>101.75</td>\n",
       "      <td>1.0</td>\n",
       "      <td>0.0</td>\n",
       "      <td>0.0</td>\n",
       "      <td>0.0</td>\n",
       "      <td>0.0</td>\n",
       "      <td>0.0</td>\n",
       "      <td>0.0</td>\n",
       "      <td>...</td>\n",
       "      <td>0.0</td>\n",
       "      <td>0.0</td>\n",
       "      <td>0.0</td>\n",
       "      <td>0.0</td>\n",
       "      <td>0.0</td>\n",
       "      <td>0.0</td>\n",
       "      <td>0.0</td>\n",
       "      <td>0.0</td>\n",
       "      <td>0.0</td>\n",
       "      <td>0.0</td>\n",
       "    </tr>\n",
       "    <tr>\n",
       "      <th>1</th>\n",
       "      <td>207</td>\n",
       "      <td>3788.34</td>\n",
       "      <td>186.75</td>\n",
       "      <td>0.0</td>\n",
       "      <td>1.0</td>\n",
       "      <td>0.0</td>\n",
       "      <td>0.0</td>\n",
       "      <td>0.0</td>\n",
       "      <td>0.0</td>\n",
       "      <td>0.0</td>\n",
       "      <td>...</td>\n",
       "      <td>0.0</td>\n",
       "      <td>0.0</td>\n",
       "      <td>0.0</td>\n",
       "      <td>0.0</td>\n",
       "      <td>0.0</td>\n",
       "      <td>0.0</td>\n",
       "      <td>0.0</td>\n",
       "      <td>0.0</td>\n",
       "      <td>0.0</td>\n",
       "      <td>0.0</td>\n",
       "    </tr>\n",
       "    <tr>\n",
       "      <th>2</th>\n",
       "      <td>280</td>\n",
       "      <td>4257.62</td>\n",
       "      <td>311.13</td>\n",
       "      <td>0.0</td>\n",
       "      <td>0.0</td>\n",
       "      <td>1.0</td>\n",
       "      <td>0.0</td>\n",
       "      <td>0.0</td>\n",
       "      <td>0.0</td>\n",
       "      <td>0.0</td>\n",
       "      <td>...</td>\n",
       "      <td>0.0</td>\n",
       "      <td>0.0</td>\n",
       "      <td>0.0</td>\n",
       "      <td>0.0</td>\n",
       "      <td>0.0</td>\n",
       "      <td>0.0</td>\n",
       "      <td>0.0</td>\n",
       "      <td>0.0</td>\n",
       "      <td>0.0</td>\n",
       "      <td>0.0</td>\n",
       "    </tr>\n",
       "    <tr>\n",
       "      <th>3</th>\n",
       "      <td>36</td>\n",
       "      <td>385.62</td>\n",
       "      <td>21.75</td>\n",
       "      <td>0.0</td>\n",
       "      <td>0.0</td>\n",
       "      <td>0.0</td>\n",
       "      <td>1.0</td>\n",
       "      <td>0.0</td>\n",
       "      <td>0.0</td>\n",
       "      <td>0.0</td>\n",
       "      <td>...</td>\n",
       "      <td>0.0</td>\n",
       "      <td>0.0</td>\n",
       "      <td>0.0</td>\n",
       "      <td>0.0</td>\n",
       "      <td>0.0</td>\n",
       "      <td>0.0</td>\n",
       "      <td>0.0</td>\n",
       "      <td>0.0</td>\n",
       "      <td>0.0</td>\n",
       "      <td>0.0</td>\n",
       "    </tr>\n",
       "    <tr>\n",
       "      <th>4</th>\n",
       "      <td>27</td>\n",
       "      <td>186.69</td>\n",
       "      <td>14.62</td>\n",
       "      <td>0.0</td>\n",
       "      <td>0.0</td>\n",
       "      <td>0.0</td>\n",
       "      <td>0.0</td>\n",
       "      <td>1.0</td>\n",
       "      <td>0.0</td>\n",
       "      <td>0.0</td>\n",
       "      <td>...</td>\n",
       "      <td>0.0</td>\n",
       "      <td>0.0</td>\n",
       "      <td>0.0</td>\n",
       "      <td>0.0</td>\n",
       "      <td>0.0</td>\n",
       "      <td>0.0</td>\n",
       "      <td>0.0</td>\n",
       "      <td>0.0</td>\n",
       "      <td>0.0</td>\n",
       "      <td>0.0</td>\n",
       "    </tr>\n",
       "  </tbody>\n",
       "</table>\n",
       "<p>5 rows × 138 columns</p>\n",
       "</div>"
      ],
      "text/plain": [
       "   bottles_sold  sale_dollars  vol_sold_l  county_ACKLEY  county_ALTOONA  \\\n",
       "0            93       1583.75      101.75            1.0             0.0   \n",
       "1           207       3788.34      186.75            0.0             1.0   \n",
       "2           280       4257.62      311.13            0.0             0.0   \n",
       "3            36        385.62       21.75            0.0             0.0   \n",
       "4            27        186.69       14.62            0.0             0.0   \n",
       "\n",
       "   county_ANAMOSA  county_ATLANTIC  county_AUDUBON  county_Adair  \\\n",
       "0             0.0              0.0             0.0           0.0   \n",
       "1             0.0              0.0             0.0           0.0   \n",
       "2             1.0              0.0             0.0           0.0   \n",
       "3             0.0              1.0             0.0           0.0   \n",
       "4             0.0              0.0             1.0           0.0   \n",
       "\n",
       "   county_Adams      ...        county_Wapello  county_Warren  \\\n",
       "0           0.0      ...                   0.0            0.0   \n",
       "1           0.0      ...                   0.0            0.0   \n",
       "2           0.0      ...                   0.0            0.0   \n",
       "3           0.0      ...                   0.0            0.0   \n",
       "4           0.0      ...                   0.0            0.0   \n",
       "\n",
       "   county_Washington  county_Wayne  county_Webster  county_Winnebago  \\\n",
       "0                0.0           0.0             0.0               0.0   \n",
       "1                0.0           0.0             0.0               0.0   \n",
       "2                0.0           0.0             0.0               0.0   \n",
       "3                0.0           0.0             0.0               0.0   \n",
       "4                0.0           0.0             0.0               0.0   \n",
       "\n",
       "   county_Winneshiek  county_Woodbury  county_Worth  county_Wright  \n",
       "0                0.0              0.0           0.0            0.0  \n",
       "1                0.0              0.0           0.0            0.0  \n",
       "2                0.0              0.0           0.0            0.0  \n",
       "3                0.0              0.0           0.0            0.0  \n",
       "4                0.0              0.0           0.0            0.0  \n",
       "\n",
       "[5 rows x 138 columns]"
      ]
     },
     "execution_count": 126,
     "metadata": {},
     "output_type": "execute_result"
    }
   ],
   "source": [
    "y2_test_data.head()"
   ]
  },
  {
   "cell_type": "code",
   "execution_count": 127,
   "metadata": {
    "collapsed": true
   },
   "outputs": [],
   "source": [
    "#Testing for all variables.\n",
    "X = y2_test_data.drop(['sale_dollars'], axis=1) \n",
    "y = y2_test_data['sale_dollars']"
   ]
  },
  {
   "cell_type": "code",
   "execution_count": 128,
   "metadata": {
    "collapsed": false
   },
   "outputs": [],
   "source": [
    "X_train, X_test, y_train, y_test = train_test_split(X,y, train_size = 0.5, random_state = 99 )"
   ]
  },
  {
   "cell_type": "code",
   "execution_count": 129,
   "metadata": {
    "collapsed": false,
    "scrolled": true
   },
   "outputs": [
    {
     "data": {
      "text/plain": [
       "LinearRegression(copy_X=True, fit_intercept=True, n_jobs=1, normalize=False)"
      ]
     },
     "execution_count": 129,
     "metadata": {},
     "output_type": "execute_result"
    }
   ],
   "source": [
    "lr.fit(X_train, y_train)"
   ]
  },
  {
   "cell_type": "code",
   "execution_count": 130,
   "metadata": {
    "collapsed": false
   },
   "outputs": [
    {
     "data": {
      "text/plain": [
       "RidgeCV(alphas=[0.1, 1.0, 10.0], cv=None, fit_intercept=True, gcv_mode=None,\n",
       "    normalize=False, scoring=None, store_cv_values=False)"
      ]
     },
     "execution_count": 130,
     "metadata": {},
     "output_type": "execute_result"
    }
   ],
   "source": [
    "reg.fit(X,y)"
   ]
  },
  {
   "cell_type": "code",
   "execution_count": 131,
   "metadata": {
    "collapsed": false
   },
   "outputs": [
    {
     "data": {
      "text/plain": [
       "0.72605293409488048"
      ]
     },
     "execution_count": 131,
     "metadata": {},
     "output_type": "execute_result"
    }
   ],
   "source": [
    "lr.score(X_test, y_test)\n",
    "#All variables are less predictive for sales in 2016 than in 2015, at 94 in 2015 to 72 in 2016."
   ]
  },
  {
   "cell_type": "code",
   "execution_count": 132,
   "metadata": {
    "collapsed": false
   },
   "outputs": [],
   "source": [
    "#Test for bottles_sold in year 2.\n",
    "X_b2 = y2_test_data.drop(['sale_dollars','vol_sold_l'], axis=1) \n",
    "y_b2 = y2_test_data['sale_dollars']"
   ]
  },
  {
   "cell_type": "code",
   "execution_count": 133,
   "metadata": {
    "collapsed": true
   },
   "outputs": [],
   "source": [
    "X_train, X_test, y_train, y_test = train_test_split(X_b2,y_b2, train_size = 0.5, random_state = 99 )"
   ]
  },
  {
   "cell_type": "code",
   "execution_count": 134,
   "metadata": {
    "collapsed": false,
    "scrolled": true
   },
   "outputs": [
    {
     "data": {
      "text/plain": [
       "LinearRegression(copy_X=True, fit_intercept=True, n_jobs=1, normalize=False)"
      ]
     },
     "execution_count": 134,
     "metadata": {},
     "output_type": "execute_result"
    }
   ],
   "source": [
    "lr.fit(X_train, y_train)"
   ]
  },
  {
   "cell_type": "code",
   "execution_count": 135,
   "metadata": {
    "collapsed": false
   },
   "outputs": [
    {
     "data": {
      "text/plain": [
       "RidgeCV(alphas=[0.1, 1.0, 10.0], cv=None, fit_intercept=True, gcv_mode=None,\n",
       "    normalize=False, scoring=None, store_cv_values=False)"
      ]
     },
     "execution_count": 135,
     "metadata": {},
     "output_type": "execute_result"
    }
   ],
   "source": [
    "reg.fit(X_b2,y_b2)"
   ]
  },
  {
   "cell_type": "code",
   "execution_count": 136,
   "metadata": {
    "collapsed": false
   },
   "outputs": [
    {
     "data": {
      "text/plain": [
       "0.88653636711703476"
      ]
     },
     "execution_count": 136,
     "metadata": {},
     "output_type": "execute_result"
    }
   ],
   "source": [
    "lr.score(X_test, y_test)\n",
    "#Unlike in 2015, bottles sold is much more highly predictive. "
   ]
  },
  {
   "cell_type": "code",
   "execution_count": 137,
   "metadata": {
    "collapsed": true
   },
   "outputs": [],
   "source": [
    "#Test for volume liters sold.\n",
    "X_v2 = y2_test_data.drop(['sale_dollars','bottles_sold'], axis=1) \n",
    "y_v2 = y2_test_data['sale_dollars']"
   ]
  },
  {
   "cell_type": "code",
   "execution_count": 138,
   "metadata": {
    "collapsed": true
   },
   "outputs": [],
   "source": [
    "X_train, X_test, y_train, y_test = train_test_split(X_v2,y_v2, train_size = 0.5, random_state = 99 )"
   ]
  },
  {
   "cell_type": "code",
   "execution_count": 139,
   "metadata": {
    "collapsed": false
   },
   "outputs": [
    {
     "data": {
      "text/plain": [
       "LinearRegression(copy_X=True, fit_intercept=True, n_jobs=1, normalize=False)"
      ]
     },
     "execution_count": 139,
     "metadata": {},
     "output_type": "execute_result"
    }
   ],
   "source": [
    "lr.fit(X_train, y_train)"
   ]
  },
  {
   "cell_type": "code",
   "execution_count": 140,
   "metadata": {
    "collapsed": false
   },
   "outputs": [
    {
     "data": {
      "text/plain": [
       "RidgeCV(alphas=[0.1, 1.0, 10.0], cv=None, fit_intercept=True, gcv_mode=None,\n",
       "    normalize=False, scoring=None, store_cv_values=False)"
      ]
     },
     "execution_count": 140,
     "metadata": {},
     "output_type": "execute_result"
    }
   ],
   "source": [
    "reg.fit(X_v2,y_v2)"
   ]
  },
  {
   "cell_type": "code",
   "execution_count": 141,
   "metadata": {
    "collapsed": false
   },
   "outputs": [
    {
     "data": {
      "text/plain": [
       "0.46277006020044043"
      ]
     },
     "execution_count": 141,
     "metadata": {},
     "output_type": "execute_result"
    }
   ],
   "source": [
    "lr.score(X_test, y_test)\n",
    "#Interestingly, volumes sold appeares to be far less predictive of sales than for 2015. "
   ]
  },
  {
   "cell_type": "code",
   "execution_count": 142,
   "metadata": {
    "collapsed": true
   },
   "outputs": [],
   "source": [
    "#Testing just for counties. \n",
    "X = y2_test_data.drop(['sale_dollars','bottles_sold', 'vol_sold_l'], axis=1) \n",
    "y = y2_test_data['sale_dollars']"
   ]
  },
  {
   "cell_type": "code",
   "execution_count": 143,
   "metadata": {
    "collapsed": true
   },
   "outputs": [],
   "source": [
    "X_train, X_test, y_train, y_test = train_test_split(X,y, train_size = 0.5, random_state = 99 )"
   ]
  },
  {
   "cell_type": "code",
   "execution_count": 144,
   "metadata": {
    "collapsed": false,
    "scrolled": true
   },
   "outputs": [
    {
     "data": {
      "text/plain": [
       "LinearRegression(copy_X=True, fit_intercept=True, n_jobs=1, normalize=False)"
      ]
     },
     "execution_count": 144,
     "metadata": {},
     "output_type": "execute_result"
    }
   ],
   "source": [
    "lr.fit(X_train, y_train)"
   ]
  },
  {
   "cell_type": "code",
   "execution_count": 145,
   "metadata": {
    "collapsed": false
   },
   "outputs": [
    {
     "data": {
      "text/plain": [
       "RidgeCV(alphas=[0.1, 1.0, 10.0], cv=None, fit_intercept=True, gcv_mode=None,\n",
       "    normalize=False, scoring=None, store_cv_values=False)"
      ]
     },
     "execution_count": 145,
     "metadata": {},
     "output_type": "execute_result"
    }
   ],
   "source": [
    "reg.fit(X,y)"
   ]
  },
  {
   "cell_type": "code",
   "execution_count": 146,
   "metadata": {
    "collapsed": false
   },
   "outputs": [
    {
     "data": {
      "text/plain": [
       "-0.0021123882801834526"
      ]
     },
     "execution_count": 146,
     "metadata": {},
     "output_type": "execute_result"
    }
   ],
   "source": [
    "lr.score(X_test, y_test)\n",
    "#As expected, counties are not correlated with sales. "
   ]
  },
  {
   "cell_type": "markdown",
   "metadata": {},
   "source": [
    "# Plot your results\n",
    "\n",
    "Again make sure that you record any valuable information. For example, in the tax scenario, did you find the sales from the first three months of the year to be a good predictor of the total sales for the year? Plot the predictions versus the true values and discuss the successes and limitations of your models"
   ]
  },
  {
   "cell_type": "code",
   "execution_count": 147,
   "metadata": {
    "collapsed": false
   },
   "outputs": [
    {
     "data": {
      "image/png": "[encoded data removed]",
      "text/plain": [
       "<matplotlib.figure.Figure at 0x11ac85bd0>"
      ]
     },
     "metadata": {},
     "output_type": "display_data"
    }
   ],
   "source": [
    "#Plotting predictions vs. true values based on volumes sold for 2015. \n",
    "predictions = lr.predict(X)\n",
    "plt.scatter(y, predictions)\n",
    "plt.ylabel(\"Predictions\")\n",
    "plt.xlabel(\"True Values\")\n",
    "plt.show()"
   ]
  },
  {
   "cell_type": "code",
   "execution_count": 149,
   "metadata": {
    "collapsed": false,
    "scrolled": true
   },
   "outputs": [
    {
     "ename": "ValueError",
     "evalue": "shapes (5,136) and (135,) not aligned: 136 (dim 1) != 135 (dim 0)",
     "output_type": "error",
     "traceback": [
      "\u001b[0;31m---------------------------------------------------------------------------\u001b[0m",
      "\u001b[0;31mValueError\u001b[0m                                Traceback (most recent call last)",
      "\u001b[0;32m<ipython-input-149-729005e73ed8>\u001b[0m in \u001b[0;36m<module>\u001b[0;34m()\u001b[0m\n\u001b[1;32m      1\u001b[0m \u001b[0;31m# Ran\u001b[0m\u001b[0;34m\u001b[0m\u001b[0;34m\u001b[0m\u001b[0m\n\u001b[1;32m      2\u001b[0m \u001b[0;31m# Plotting for volumes sold in 2016.\u001b[0m\u001b[0;34m\u001b[0m\u001b[0;34m\u001b[0m\u001b[0m\n\u001b[0;32m----> 3\u001b[0;31m \u001b[0mpredictions\u001b[0m \u001b[0;34m=\u001b[0m \u001b[0mlr\u001b[0m\u001b[0;34m.\u001b[0m\u001b[0mpredict\u001b[0m\u001b[0;34m(\u001b[0m\u001b[0mX_v2\u001b[0m\u001b[0;34m)\u001b[0m\u001b[0;34m\u001b[0m\u001b[0m\n\u001b[0m\u001b[1;32m      4\u001b[0m \u001b[0mplt\u001b[0m\u001b[0;34m.\u001b[0m\u001b[0mscatter\u001b[0m\u001b[0;34m(\u001b[0m\u001b[0my_v2\u001b[0m\u001b[0;34m,\u001b[0m \u001b[0mpredictions\u001b[0m\u001b[0;34m)\u001b[0m\u001b[0;34m\u001b[0m\u001b[0m\n\u001b[1;32m      5\u001b[0m \u001b[0mplt\u001b[0m\u001b[0;34m.\u001b[0m\u001b[0mylabel\u001b[0m\u001b[0;34m(\u001b[0m\u001b[0;34m\"Predictions\"\u001b[0m\u001b[0;34m)\u001b[0m\u001b[0;34m\u001b[0m\u001b[0m\n",
      "\u001b[0;32m/Applications/anaconda/lib/python2.7/site-packages/sklearn/linear_model/base.pyc\u001b[0m in \u001b[0;36mpredict\u001b[0;34m(self, X)\u001b[0m\n\u001b[1;32m    198\u001b[0m             \u001b[0mReturns\u001b[0m \u001b[0mpredicted\u001b[0m \u001b[0mvalues\u001b[0m\u001b[0;34m.\u001b[0m\u001b[0;34m\u001b[0m\u001b[0m\n\u001b[1;32m    199\u001b[0m         \"\"\"\n\u001b[0;32m--> 200\u001b[0;31m         \u001b[0;32mreturn\u001b[0m \u001b[0mself\u001b[0m\u001b[0;34m.\u001b[0m\u001b[0m_decision_function\u001b[0m\u001b[0;34m(\u001b[0m\u001b[0mX\u001b[0m\u001b[0;34m)\u001b[0m\u001b[0;34m\u001b[0m\u001b[0m\n\u001b[0m\u001b[1;32m    201\u001b[0m \u001b[0;34m\u001b[0m\u001b[0m\n\u001b[1;32m    202\u001b[0m     \u001b[0m_center_data\u001b[0m \u001b[0;34m=\u001b[0m \u001b[0mstaticmethod\u001b[0m\u001b[0;34m(\u001b[0m\u001b[0mcenter_data\u001b[0m\u001b[0;34m)\u001b[0m\u001b[0;34m\u001b[0m\u001b[0m\n",
      "\u001b[0;32m/Applications/anaconda/lib/python2.7/site-packages/sklearn/linear_model/base.pyc\u001b[0m in \u001b[0;36m_decision_function\u001b[0;34m(self, X)\u001b[0m\n\u001b[1;32m    183\u001b[0m         \u001b[0mX\u001b[0m \u001b[0;34m=\u001b[0m \u001b[0mcheck_array\u001b[0m\u001b[0;34m(\u001b[0m\u001b[0mX\u001b[0m\u001b[0;34m,\u001b[0m \u001b[0maccept_sparse\u001b[0m\u001b[0;34m=\u001b[0m\u001b[0;34m[\u001b[0m\u001b[0;34m'csr'\u001b[0m\u001b[0;34m,\u001b[0m \u001b[0;34m'csc'\u001b[0m\u001b[0;34m,\u001b[0m \u001b[0;34m'coo'\u001b[0m\u001b[0;34m]\u001b[0m\u001b[0;34m)\u001b[0m\u001b[0;34m\u001b[0m\u001b[0m\n\u001b[1;32m    184\u001b[0m         return safe_sparse_dot(X, self.coef_.T,\n\u001b[0;32m--> 185\u001b[0;31m                                dense_output=True) + self.intercept_\n\u001b[0m\u001b[1;32m    186\u001b[0m \u001b[0;34m\u001b[0m\u001b[0m\n\u001b[1;32m    187\u001b[0m     \u001b[0;32mdef\u001b[0m \u001b[0mpredict\u001b[0m\u001b[0;34m(\u001b[0m\u001b[0mself\u001b[0m\u001b[0;34m,\u001b[0m \u001b[0mX\u001b[0m\u001b[0;34m)\u001b[0m\u001b[0;34m:\u001b[0m\u001b[0;34m\u001b[0m\u001b[0m\n",
      "\u001b[0;32m/Applications/anaconda/lib/python2.7/site-packages/sklearn/utils/extmath.pyc\u001b[0m in \u001b[0;36msafe_sparse_dot\u001b[0;34m(a, b, dense_output)\u001b[0m\n\u001b[1;32m    182\u001b[0m         \u001b[0;32mreturn\u001b[0m \u001b[0mret\u001b[0m\u001b[0;34m\u001b[0m\u001b[0m\n\u001b[1;32m    183\u001b[0m     \u001b[0;32melse\u001b[0m\u001b[0;34m:\u001b[0m\u001b[0;34m\u001b[0m\u001b[0m\n\u001b[0;32m--> 184\u001b[0;31m         \u001b[0;32mreturn\u001b[0m \u001b[0mfast_dot\u001b[0m\u001b[0;34m(\u001b[0m\u001b[0ma\u001b[0m\u001b[0;34m,\u001b[0m \u001b[0mb\u001b[0m\u001b[0;34m)\u001b[0m\u001b[0;34m\u001b[0m\u001b[0m\n\u001b[0m\u001b[1;32m    185\u001b[0m \u001b[0;34m\u001b[0m\u001b[0m\n\u001b[1;32m    186\u001b[0m \u001b[0;34m\u001b[0m\u001b[0m\n",
      "\u001b[0;31mValueError\u001b[0m: shapes (5,136) and (135,) not aligned: 136 (dim 1) != 135 (dim 0)"
     ]
    }
   ],
   "source": [
    "# Ran \n",
    "# Plotting for volumes sold in 2016. \n",
    "predictions = lr.predict(X_v2)\n",
    "plt.scatter(y_v2, predictions)\n",
    "plt.ylabel(\"Predictions\")\n",
    "plt.xlabel(\"True Values\")\n",
    "plt.show()"
   ]
  },
  {
   "cell_type": "code",
   "execution_count": null,
   "metadata": {
    "collapsed": true
   },
   "outputs": [],
   "source": [
    "#Plotting for bottles sold in 2015. "
   ]
  },
  {
   "cell_type": "code",
   "execution_count": null,
   "metadata": {
    "collapsed": false,
    "scrolled": true
   },
   "outputs": [],
   "source": [
    "predictions = lr.predict(X_b)\n",
    "plt.scatter(y_b, predictions)\n",
    "plt.ylabel(\"Predictions\")\n",
    "plt.xlabel(\"True Values\")\n",
    "plt.show()"
   ]
  },
  {
   "cell_type": "code",
   "execution_count": null,
   "metadata": {
    "collapsed": false
   },
   "outputs": [],
   "source": [
    "#Plotting for bottles sold in 2016. \n",
    "predictions = lr.predict(X_v2)\n",
    "plt.scatter(y_v2, predictions)\n",
    "plt.ylabel(\"Predictions\")\n",
    "plt.xlabel(\"True Values\")\n",
    "plt.show()"
   ]
  },
  {
   "cell_type": "code",
   "execution_count": null,
   "metadata": {
    "collapsed": true
   },
   "outputs": [],
   "source": []
  },
  {
   "cell_type": "markdown",
   "metadata": {},
   "source": [
    "# Present the Results\n",
    "\n",
    "Present your conclusions and results. If you have more than one interesting model feel free to include more than one along with a discussion. Use your work in this notebook to prepare your write-up."
   ]
  },
  {
   "cell_type": "code",
   "execution_count": null,
   "metadata": {
    "collapsed": true
   },
   "outputs": [],
   "source": []
  }
 ],
 "metadata": {
  "anaconda-cloud": {},
  "kernelspec": {
   "display_name": "Python [default]",
   "language": "python",
   "name": "python2"
  },
  "language_info": {
   "codemirror_mode": {
    "name": "ipython",
    "version": 2
   },
   "file_extension": ".py",
   "mimetype": "text/x-python",
   "name": "python",
   "nbconvert_exporter": "python",
   "pygments_lexer": "ipython2",
   "version": "2.7.12"
  }
 },
 "nbformat": 4,
 "nbformat_minor": 1
}
